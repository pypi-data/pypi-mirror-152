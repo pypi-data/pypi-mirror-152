{
 "cells": [
  {
   "cell_type": "markdown",
   "metadata": {
    "nbsphinx": "hidden"
   },
   "source": [
    "![CoSAppLogo](images/cosapp.svg) **CoSApp** tutorials:"
   ]
  },
  {
   "cell_type": "markdown",
   "metadata": {},
   "source": [
    "# Design Methods\n",
    "\n",
    "## What is a design method?!\n",
    "\n",
    "Design methods allow component designers to identify, from expert knowledge, the different ways users can design a component from functional requirements. \n",
    "\n",
    "### Declaring a design method in a system\n",
    "\n",
    "Design methods are declared at `System` setup, using `System.add_design_method`.\n",
    "This class method takes the name of the design method as single argument; it will create a new entry in an internal dictionary of `MathematicalProblem` objects, mapped to their names.\n",
    "\n",
    "Such objects bear unknowns and equations, declared with methods `add_unkown` and `add_equation`:\n",
    "\n",
    "```python\n",
    "class MySystem(System):\n",
    "\n",
    "    def setup(self):\n",
    "        self.add_inward('x', 1.0)\n",
    "        self.add_outward('y', 0.0)\n",
    "\n",
    "        design = self.add_design_method('design_x')     # create problem `design`, and store it with key 'design_x'\n",
    "        design.add_unknown('x').add_equation('y == 0')  # define problem by declaring unknowns and equations\n",
    "\n",
    "    def compute(self):\n",
    "        self.y = self.x**2 - 3\n",
    "```\n",
    "\n",
    "In practice, design methods are mathematical problems that can be activated on demand.\n",
    "\n",
    "## Example\n"
   ]
  },
  {
   "cell_type": "code",
   "execution_count": null,
   "metadata": {},
   "outputs": [],
   "source": [
    "from cosapp.base import System, Port\n",
    "\n",
    "class XPort(Port):\n",
    "    def setup(self):\n",
    "        self.add_variable(\"x\", 1.0)\n",
    "\n",
    "class MultiplyWithDesignMethod(System):\n",
    "\n",
    "    def setup(self):\n",
    "        self.add_input(XPort, 'p_in', {'x': 1.})\n",
    "        self.add_output(XPort, 'p_out', {'x': 1.})\n",
    "\n",
    "        self.add_inward('K1', 5.)\n",
    "        \n",
    "        # off-design constraints\n",
    "        self.add_inward('expected_output', 1.0)\n",
    "        self.add_unknown('p_in.x').add_equation('p_out.x == expected_output')\n",
    "\n",
    "        # design methods\n",
    "        self.add_inward('dx_design', 10.)        \n",
    "        self.add_design_method('dx').add_unknown('K1').add_equation('p_out.x - p_in.x == dx_design') \n",
    "\n",
    "    def compute(self):\n",
    "        self.p_out.x = self.p_in.x * self.K1\n"
   ]
  },
  {
   "cell_type": "markdown",
   "metadata": {},
   "source": [
    "Class `MultiplyWithDesignMethod` defines two types of mathematical problems, through `add_unknown` and `add_equation`:\n",
    "\n",
    "1. Unknowns and equations declared directly on the system (that is `self.add_unknown` and `self.add_equation` in system setup) are always enforced, for all instances of the class. They are referred to as the **off-design problem** of the class. Composite systems automatically collect the off-design problems of their sub-systems.\n",
    "\n",
    "2. Unknowns and equations declared within a design method define a **design problem**, which may or may not be activated.\n",
    "\n",
    "### Solving the off-design problem"
   ]
  },
  {
   "cell_type": "code",
   "execution_count": null,
   "metadata": {},
   "outputs": [],
   "source": [
    "from cosapp.drivers import NonLinearSolver, RunSingleCase\n",
    "\n",
    "m = MultiplyWithDesignMethod('m')\n",
    "# Add solver\n",
    "solver = m.add_driver(NonLinearSolver('solver', tol=1e-12))\n",
    "\n",
    "m.K1 = 5\n",
    "m.expected_output = 7.5\n",
    "m.run_drivers()\n",
    "\n",
    "print(\"Off-design problem:\", solver.problem, sep=\"\\n\")\n",
    "\n",
    "print(\n",
    "    \"Off-design result:\",\n",
    "    f\"m.K1 = {m.K1}\",\n",
    "    f\"m.p_in.x = {m.p_in.x}\",\n",
    "    f\"m.p_out.x = {m.p_out.x}\",\n",
    "    sep=\"\\n  \",\n",
    ")"
   ]
  },
  {
   "cell_type": "markdown",
   "metadata": {},
   "source": [
    "### Activating a design method\n",
    "\n",
    "Design methods are activated by *extending* an existing mathematical problem with the predefined design method.\n",
    "In the example below, a single-point design case is created using design method `'dx'` of the system of interest."
   ]
  },
  {
   "cell_type": "code",
   "execution_count": null,
   "metadata": {},
   "outputs": [],
   "source": [
    "from cosapp.drivers import NonLinearSolver, RunSingleCase\n",
    "\n",
    "m = MultiplyWithDesignMethod('m')\n",
    "\n",
    "solver = m.add_driver(NonLinearSolver('solver', tol=1e-12))\n",
    "\n",
    "# Add design point\n",
    "case = solver.add_child(RunSingleCase('case'))\n",
    "\n",
    "# Define case conditions\n",
    "case.set_values({\n",
    "    'expected_output': 7.5,\n",
    "    'dx_design': 5.0,\n",
    "})\n",
    "\n",
    "case.design.extend(m.design_methods['dx'])  # activate design method 'dx' of system `m`\n",
    "\n",
    "m.run_drivers()\n",
    "\n",
    "print(\"Design problem:\", solver.problem, sep=\"\\n\")\n",
    "\n",
    "print(\n",
    "    \"Design result:\",\n",
    "    f\"m.K1 = {m.K1}\",\n",
    "    f\"m.p_in.x = {m.p_in.x}\",\n",
    "    f\"m.p_out.x = {m.p_out.x}\",\n",
    "    sep=\"\\n  \",\n",
    ")"
   ]
  },
  {
   "cell_type": "markdown",
   "metadata": {},
   "source": [
    "### Promoting sub-system design methods at parent level\n",
    "\n",
    "Composite systems can take advantage of design methods defined for their sub-systems, and thus construct composite design methods.\n",
    "```python\n",
    "class CompositeSystem(System):\n",
    "\n",
    "    def setup(self):\n",
    "        a = self.add_child(ComponentA('a'))\n",
    "        b = self.add_child(ComponentB('b'))\n",
    "\n",
    "        design = self.add_design_method('design')\n",
    "        design.extend(a.design_methods['design_this'])\n",
    "        design.extend(b.design_methods['design_that'])\n",
    "```"
   ]
  },
  {
   "cell_type": "markdown",
   "metadata": {},
   "source": [
    "\n",
    "**Congrats!** You are now ready to update your `System` into a design model with **CoSApp**!"
   ]
  },
  {
   "cell_type": "code",
   "execution_count": null,
   "metadata": {},
   "outputs": [],
   "source": []
  }
 ],
 "metadata": {
  "kernelspec": {
   "display_name": "Python 3",
   "language": "python",
   "name": "python3"
  },
  "language_info": {
   "codemirror_mode": {
    "name": "ipython",
    "version": 3
   },
   "file_extension": ".py",
   "mimetype": "text/x-python",
   "name": "python",
   "nbconvert_exporter": "python",
   "pygments_lexer": "ipython3",
   "version": "3.7.9"
  }
 },
 "nbformat": 4,
 "nbformat_minor": 4
}
