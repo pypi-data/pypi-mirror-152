{
 "cells": [
  {
   "cell_type": "code",
   "execution_count": 10,
   "metadata": {
    "pycharm": {
     "name": "#%%\n"
    }
   },
   "outputs": [],
   "source": [
    "import os\n",
    "import sys\n",
    "import json\n",
    "import numpy as np\n",
    "\n",
    "sys.path.append('..')\n",
    "import fake_lightgbm as lgb\n",
    "\n",
    "_ = np.seterr(all='raise')"
   ]
  },
  {
   "cell_type": "code",
   "execution_count": 11,
   "metadata": {
    "pycharm": {
     "name": "#%%\n"
    }
   },
   "outputs": [
    {
     "name": "stdout",
     "output_type": "stream",
     "text": [
      "{\n",
      "\"ts\": 1622637967.6218433,\n",
      "\"uid\": 147757848,\n",
      "\"number\": \"00000125\",\n",
      "\"type\": \"out\",\n",
      "\"traffic\": {\n",
      "  \"about\": [0, 0, 0, 0, 0, 0, 0, 0, 0, 0, 0, 0, 0, 0, 0, 0, 0, 0, 0, 0, 0, 0, 0, 0],\n",
      "  \"services\": [0, 0, 0, 0, 0, 0, 0, 0, 0, 0, 0, 0, 0, 0, 0, 0, 0, 0, 0, 0, 0, 0, 0, 0],\n",
      "  \"contacts\": [0, 0, 0, 0, 0, 0, 0, 0, 0, 0, 0, 0, 0, 0, 0, 0, 0, 0, 0, 0, 0, 0, 0, 0],\n",
      "  \"roaming\": [0, 0, 0, 0, 0, 0, 0, 0, 0, 0, 0, 0, 0, 0, 0, 0, 0, 0, 0, 0, 0, 0, 0, 0],\n",
      "  \"tariffs\": [14, 0, 0, 0, 0, 0, 0, 0, 0, 0, 0, 0, 0, 0, 0, 0, 0, 0, 0, 0, 0, 0, 0, 0],\n",
      "  \"simcards\": [0, 0, 0, 0, 0, 0, 0, 0, 0, 0, 0, 0, 0, 0, 0, 0, 0, 0, 0, 0, 0, 0, 0, 0],\n",
      "  \"balance\": [0, 0, 0, 0, 0, 0, 0, 0, 0, 0, 0, 0, 0, 0, 0, 0, 0, 0, 0, 0, 0, 0, 0, 0],\n",
      "  \"internet\": [0, 0, 0, 0, 0, 0, 0, 0, 0, 0, 0, 0, 0, 0, 0, 0, 0, 0, 0, 0, 0, 0, 0, 0],\n",
      "  \"messaging\": [0, 0, 0, 1, 1, 1, 0, 0, 0, 0, 0, 0, 0, 0, 3, 0, 0, 0, 0, 0, 0, 0, 0, 0],\n",
      "  \"support\": [0, 0, 0, 0, 0, 0, 0, 0, 0, 0, 0, 0, 0, 0, 0, 0, 0, 0, 0, 0, 0, 0, 0, 0]},\n",
      "\"balance\": null,\n",
      "\"roaming\": null\n",
      "}\n"
     ]
    }
   ],
   "source": [
    "# load samples\n",
    "\n",
    "samp_dir = './samples'\n",
    "filenames = [f for f in os.listdir(samp_dir) if os.path.isfile(f'{samp_dir}/{f}')]\n",
    "samples = []\n",
    "for filename in filenames:\n",
    "    with open(f'{samp_dir}/{filename}') as fp:\n",
    "        samples.append(fp.read())\n",
    "        \n",
    "print(samples[0])"
   ]
  },
  {
   "cell_type": "code",
   "execution_count": 12,
   "metadata": {
    "pycharm": {
     "name": "#%%\n"
    }
   },
   "outputs": [],
   "source": [
    "# load model\n",
    "\n",
    "bst = lgb.Booster(model_file='../model.txt')  # init model\n",
    "\n",
    "classes = [\"about\", \"services\", \"contacts\", \"roaming\", \"tariffs\",\n",
    "           \"simcards\", \"balance\", \"internet\", \"messaging\", \"support\"]"
   ]
  },
  {
   "cell_type": "code",
   "execution_count": 13,
   "metadata": {
    "pycharm": {
     "name": "#%%\n"
    }
   },
   "outputs": [],
   "source": [
    "# simple inference code\n",
    "\n",
    "reference_results = []\n",
    "\n",
    "for sample in samples:\n",
    "    # 1. extract feature from json message\n",
    "    mes = json.loads(sample)\n",
    "    features = np.array([mes['traffic'][cls] for cls in classes]).flatten()\n",
    "    \n",
    "    # 2. make prediction\n",
    "    pred_vals = bst.predict([features, ])[0]\n",
    "    try:\n",
    "        scores = pred_vals/pred_vals.sum()\n",
    "    except:\n",
    "        pass\n",
    "    reason = classes[scores.argmax()]\n",
    "    \n",
    "    scores_dict = {cls: round(scores[i], 2) for i, cls in enumerate(classes)}\n",
    "    res = dict(ts=mes['ts'], uid=mes['uid'], number=mes['number'], classes=scores_dict, reason=reason)\n",
    "    reference_results.append(json.dumps(res, indent=2))"
   ]
  },
  {
   "cell_type": "code",
   "execution_count": null,
   "metadata": {
    "pycharm": {
     "name": "#%%\n"
    }
   },
   "outputs": [],
   "source": []
  },
  {
   "cell_type": "code",
   "execution_count": 14,
   "metadata": {
    "pycharm": {
     "name": "#%%\n"
    }
   },
   "outputs": [
    {
     "name": "stdout",
     "output_type": "stream",
     "text": [
      "{\n",
      "  \"ts\": 1622637967.6218433,\n",
      "  \"uid\": 147757848,\n",
      "  \"number\": \"00000125\",\n",
      "  \"classes\": {\n",
      "    \"about\": 0.0,\n",
      "    \"services\": 0.0,\n",
      "    \"contacts\": 0.0,\n",
      "    \"roaming\": 0.0,\n",
      "    \"tariffs\": 0.84,\n",
      "    \"simcards\": 0.0,\n",
      "    \"balance\": 0.0,\n",
      "    \"internet\": 0.0,\n",
      "    \"messaging\": 0.16,\n",
      "    \"support\": 0.0\n",
      "  },\n",
      "  \"reason\": \"tariffs\"\n",
      "}\n"
     ]
    }
   ],
   "source": [
    "print(reference_results[0])"
   ]
  },
  {
   "cell_type": "code",
   "execution_count": null,
   "metadata": {
    "pycharm": {
     "name": "#%%\n"
    }
   },
   "outputs": [],
   "source": []
  },
  {
   "cell_type": "code",
   "execution_count": 16,
   "metadata": {
    "pycharm": {
     "name": "#%%\n"
    }
   },
   "outputs": [],
   "source": [
    "# simple inference code\n",
    "\n",
    "reference_results = []\n",
    "\n",
    "for sample in samples:\n",
    "    ## 1. extract features from json message\n",
    "    \n",
    "    # 1.1. parse message and get features\n",
    "    mes = json.loads(sample)\n",
    "    features = np.array([mes['traffic'][cls] for cls in classes]).flatten()\n",
    "    \n",
    "    ## 2. make prediction result\n",
    "    \n",
    "    # 2.1 get prediction\n",
    "    pred_vals = bst.predict([features, ])[0]\n",
    "    \n",
    "    # 2.2 normalize scores, get class\n",
    "    try:\n",
    "        scores = pred_vals/pred_vals.sum()\n",
    "    except:\n",
    "        scores = pred_vals\n",
    "    reason = classes[scores.argmax()]\n",
    "    \n",
    "    # 2.3 make and serialize message\n",
    "    scores_dict = {cls: round(scores[i], 2) for i, cls in enumerate(classes)}\n",
    "    res = dict(ts=mes['ts'], uid=mes['uid'], number=mes['number'], classes=scores_dict, reason=reason)\n",
    "    reference_results.append(json.dumps(res, indent=2))\n",
    "    \n",
    "    "
   ]
  },
  {
   "cell_type": "code",
   "execution_count": 17,
   "metadata": {
    "pycharm": {
     "name": "#%%\n"
    }
   },
   "outputs": [],
   "source": [
    "# splitted inference code\n",
    "\n",
    "splitted_results = []\n",
    "\n",
    "\n",
    "\n",
    "feature_msgs = []\n",
    "\n",
    "for sample in samples:\n",
    "    ## 1. extract features from json message\n",
    "    \n",
    "    # 1.1. parse message and get features\n",
    "    mes = json.loads(sample)\n",
    "    features = np.array([mes['traffic'][cls] for cls in classes]).flatten()\n",
    "    \n",
    "    # 1.2. create intermediate message\n",
    "    data = dict(ts=mes['ts'], uid=mes['uid'], number=mes['number'], features=features.tolist())\n",
    "\n",
    "    feature_msgs.append(data)\n",
    "    \n",
    "\n",
    "    \n",
    "## 2. make prediction result\n",
    "\n",
    "\n",
    "features_batch = np.array([data['features'] for data in feature_msgs])\n",
    "\n",
    "# 2.1 get prediction\n",
    "pred_batch = bst.predict(features_batch) # microbatch prediction\n",
    "\n",
    "for i, mes in enumerate(feature_msgs):\n",
    "    scores = pred_batch[i]\n",
    "    \n",
    "    # 2.2 normalize scores, get class\n",
    "    try:\n",
    "        scores = scores / scores.sum() # try to normalize\n",
    "    except:\n",
    "        pass\n",
    "\n",
    "    reason_num = scores.argmax()\n",
    "    reason = classes[reason_num]\n",
    "    \n",
    "    \n",
    "    # 2.3 make and serialize message\n",
    "    scores_dict = {cls: round(scores[i], 2) for i, cls in enumerate(classes)}\n",
    "    res = dict(ts=mes['ts'], uid=mes['uid'], number=mes['number'], classes=scores_dict, reason=reason)\n",
    "    splitted_results.append(json.dumps(res, indent=2))\n",
    "\n",
    "\n",
    "assert set(splitted_results) == set(reference_results)"
   ]
  },
  {
   "cell_type": "code",
   "execution_count": null,
   "metadata": {
    "pycharm": {
     "name": "#%%\n"
    }
   },
   "outputs": [],
   "source": []
  },
  {
   "cell_type": "code",
   "execution_count": null,
   "metadata": {
    "pycharm": {
     "name": "#%%\n"
    }
   },
   "outputs": [],
   "source": []
  }
 ],
 "metadata": {
  "kernelspec": {
   "display_name": "Python 3",
   "language": "python",
   "name": "python3"
  },
  "language_info": {
   "codemirror_mode": {
    "name": "ipython",
    "version": 3
   },
   "file_extension": ".py",
   "mimetype": "text/x-python",
   "name": "python",
   "nbconvert_exporter": "python",
   "pygments_lexer": "ipython3",
   "version": "3.6.9"
  },
  "pycharm": {
   "stem_cell": {
    "cell_type": "raw",
    "metadata": {
     "collapsed": false
    },
    "source": []
   }
  }
 },
 "nbformat": 4,
 "nbformat_minor": 1
}
