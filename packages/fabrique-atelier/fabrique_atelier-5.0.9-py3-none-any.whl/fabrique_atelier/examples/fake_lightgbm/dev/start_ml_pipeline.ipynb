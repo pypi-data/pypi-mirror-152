{
 "cells": [
  {
   "cell_type": "code",
   "execution_count": 1,
   "metadata": {
    "pycharm": {
     "is_executing": false
    }
   },
   "outputs": [
    {
     "name": "stdout",
     "output_type": "stream",
     "text": [
      "\"atelier_fabrique\" ->  \"/home/sk/opencore/atelier/tests/../atelier_fabrique/__init__.py\" spoofed\n"
     ]
    }
   ],
   "source": [
    "import sys\n",
    "import os\n",
    "import json\n",
    "import numpy as np\n",
    "\n",
    "sys.path.append('..')\n",
    "####\n",
    "# sys.path.append('../../../../tests')\n",
    "# import atelier_import_spoofer\n",
    "###\n",
    "import fake_lightgbm as lgb\n",
    "from pipeline import pipeline"
   ]
  },
  {
   "cell_type": "code",
   "execution_count": 6,
   "metadata": {
    "pycharm": {
     "is_executing": false
    }
   },
   "outputs": [],
   "source": [
    "samp_dir = './samples'\n",
    "filenames = [f for f in os.listdir(samp_dir) if os.path.isfile(f'{samp_dir}/{f}')]\n",
    "samples = []\n",
    "for filename in filenames:\n",
    "    with open(f'{samp_dir}/{filename}') as fp:\n",
    "        samples.append(fp.read())\n"
   ]
  },
  {
   "cell_type": "code",
   "execution_count": 3,
   "metadata": {
    "pycharm": {
     "is_executing": false
    }
   },
   "outputs": [
    {
     "name": "stdout",
     "output_type": "stream",
     "text": [
      "pipeline.json is generated in /home/sk/opencore/atelier/atelier_fabrique/examples/fake_lightgbm\n",
      "10.166.48.4:52525/python:3.6-centos-krb5-43\n",
      "Dockerfile is generated in /home/sk/opencore/atelier/atelier_fabrique/examples/fake_lightgbm\n",
      "extractor started\n",
      "extractor stopped\n",
      "model started\n",
      "model stopped\n",
      "metric_collector started\n",
      "metric_collector stopped\n"
     ]
    }
   ],
   "source": [
    "pipeline.start_emulation(sample_gen)"
   ]
  },
  {
   "cell_type": "code",
   "execution_count": 4,
   "metadata": {
    "pycharm": {
     "name": "#%%\n"
    }
   },
   "outputs": [],
   "source": [
    "# load model\n",
    "bst = lgb.Booster(model_file='../model.txt')  # init model\n",
    "classes = [\"about\", \"services\", \"contacts\", \"roaming\", \"tariffs\",\n",
    "           \"simcards\", \"balance\", \"internet\", \"messaging\", \"support\"]"
   ]
  },
  {
   "cell_type": "code",
   "execution_count": 7,
   "metadata": {
    "pycharm": {
     "name": "#%%\n"
    }
   },
   "outputs": [],
   "source": [
    "# simple inference code\n",
    "reference_results = []  # we will use this results for tests\n",
    "for sample in samples:\n",
    "    ## 1. extract features from json message\n",
    "    # 1.1. parse message and get features\n",
    "    mes = json.loads(sample)\n",
    "    features = np.array([mes['traffic'][cls] for cls in classes]).flatten()\n",
    "    ## 2. make prediction result\n",
    "    # 2.1 get prediction\n",
    "    pred_vals = bst.predict([features, ])[0]\n",
    "    # 2.2 normalize scores, get class\n",
    "    try:\n",
    "        scores = pred_vals / pred_vals.sum()\n",
    "    except:\n",
    "        scores = pred_vals\n",
    "    reason = classes[scores.argmax()]\n",
    "    # 2.3 make and serialize message\n",
    "    scores_dict = {cls: round(scores[i], 2) for i, cls in enumerate(classes)}\n",
    "    res = dict(ts=mes['ts'], uid=mes['uid'], number=mes['number'], classes=scores_dict, reason=reason)\n",
    "    reference_results.append(json.dumps(res))"
   ]
  },
  {
   "cell_type": "code",
   "execution_count": 8,
   "metadata": {
    "pycharm": {
     "name": "#%%\n"
    }
   },
   "outputs": [],
   "source": [
    "# load results of emulation\n",
    "result_dir = './out/data'\n",
    "filenames = [f for f in os.listdir(result_dir) if os.path.isfile(f'{result_dir}/{f}')]\n",
    "results = []\n",
    "for filename in filenames:\n",
    "    with open(f'{result_dir}/{filename}') as fp:\n",
    "        results.append(fp.read())"
   ]
  },
  {
   "cell_type": "code",
   "execution_count": 9,
   "metadata": {
    "pycharm": {
     "name": "#%%\n"
    }
   },
   "outputs": [],
   "source": [
    "#check if results are equal\n",
    "assert set(results) == set(reference_results)"
   ]
  },
  {
   "cell_type": "code",
   "execution_count": null,
   "metadata": {},
   "outputs": [],
   "source": []
  }
 ],
 "metadata": {
  "kernelspec": {
   "display_name": "Python 3",
   "language": "python",
   "name": "python3"
  },
  "language_info": {
   "codemirror_mode": {
    "name": "ipython",
    "version": 3
   },
   "file_extension": ".py",
   "mimetype": "text/x-python",
   "name": "python",
   "nbconvert_exporter": "python",
   "pygments_lexer": "ipython3",
   "version": "3.6.9"
  },
  "pycharm": {
   "stem_cell": {
    "cell_type": "raw",
    "source": [],
    "metadata": {
     "collapsed": false
    }
   }
  }
 },
 "nbformat": 4,
 "nbformat_minor": 4
}