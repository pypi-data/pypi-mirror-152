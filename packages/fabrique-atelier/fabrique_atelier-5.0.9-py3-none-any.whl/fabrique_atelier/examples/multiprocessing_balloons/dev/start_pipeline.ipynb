{
 "cells": [
  {
   "cell_type": "code",
   "execution_count": 4,
   "metadata": {},
   "outputs": [],
   "source": [
    "import sys\n",
    "import json\n",
    "\n",
    "sys.path.append('..')\n",
    "\n",
    "from pipeline import pipeline, colors"
   ]
  },
  {
   "cell_type": "code",
   "execution_count": 5,
   "metadata": {},
   "outputs": [
    {
     "name": "stdout",
     "output_type": "stream",
     "text": [
      "balloon_dispatcher started\n",
      "balloon_dispatcher stopped\n",
      "balloon_repainter started\n",
      "balloon_repainter stopped\n"
     ]
    }
   ],
   "source": [
    "\n",
    "binary_messages = [json.dumps({'color': colors[k % len(colors)]}).encode() for k in range(20)]\n",
    "\n",
    "pipeline.start_emulation(binary_messages)"
   ]
  },
  {
   "cell_type": "code",
   "execution_count": null,
   "metadata": {},
   "outputs": [],
   "source": []
  }
 ],
 "metadata": {
  "kernelspec": {
   "display_name": "Python 3",
   "language": "python",
   "name": "python3"
  },
  "language_info": {
   "codemirror_mode": {
    "name": "ipython",
    "version": 3
   },
   "file_extension": ".py",
   "mimetype": "text/x-python",
   "name": "python",
   "nbconvert_exporter": "python",
   "pygments_lexer": "ipython3",
   "version": "3.6.9"
  },
  "pycharm": {
   "stem_cell": {
    "cell_type": "raw",
    "source": [],
    "metadata": {
     "collapsed": false
    }
   }
  }
 },
 "nbformat": 4,
 "nbformat_minor": 4
}