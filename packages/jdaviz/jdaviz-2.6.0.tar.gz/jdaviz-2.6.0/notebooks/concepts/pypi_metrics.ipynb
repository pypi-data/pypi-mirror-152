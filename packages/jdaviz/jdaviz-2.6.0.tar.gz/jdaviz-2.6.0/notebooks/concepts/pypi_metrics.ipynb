{
 "cells": [
  {
   "cell_type": "markdown",
   "id": "477a031f",
   "metadata": {},
   "source": [
    "# Extract jdaviz metrics using pypistats\n",
    "This notebook uses the pypistats api to retrieve information on jdaviz downloads. More can be found here: https://pypistats.org/packages/jdaviz"
   ]
  },
  {
   "cell_type": "code",
   "execution_count": null,
   "id": "08e2316c",
   "metadata": {},
   "outputs": [],
   "source": [
    "import pypistats\n",
    "from datetime import date"
   ]
  },
  {
   "cell_type": "code",
   "execution_count": null,
   "id": "6525299a",
   "metadata": {},
   "outputs": [],
   "source": [
    "package = 'jdaviz'\n",
    "package_metrics = \"\"\n",
    "\n",
    "# last day, last month, last week \n",
    "package_metrics += pypistats.recent(package) + \"\\n\\n\"\n",
    "\n",
    "package_metrics += \"Last 180 days of downloads\\n\" + pypistats.overall(package) + \"\\n\\n\"\n",
    "\n",
    "package_metrics += \"Python version major\\n\" + pypistats.python_major(package) + \"\\n\\n\"\n",
    "\n",
    "package_metrics += \"Python version minor\\n\" + pypistats.python_minor(package) + \"\\n\\n\"\n",
    "\n",
    "package_metrics += \"System\\n\" + pypistats.system(package) + \"\\n\\n\"\n"
   ]
  },
  {
   "cell_type": "code",
   "execution_count": null,
   "id": "b4cb773c",
   "metadata": {},
   "outputs": [],
   "source": [
    "print(package_metrics)"
   ]
  },
  {
   "cell_type": "code",
   "execution_count": null,
   "id": "892852f0",
   "metadata": {},
   "outputs": [],
   "source": [
    "# Show Python 3 downloads over time\n",
    "python_major_data = pypistats.python_major(package, total=True, format=\"pandas\")\n",
    "python_major_data = python_major_data.groupby(\"category\").get_group(3).sort_values(\"date\")\n",
    "\n",
    "chart = python_major_data.plot(x=\"date\", y=\"downloads\", figsize=(10, 2))\n",
    "chart.figure.show()\n",
    "# chart.figure.savefig(\"python3.png\")  # alternatively"
   ]
  },
  {
   "cell_type": "code",
   "execution_count": null,
   "id": "c689286b",
   "metadata": {},
   "outputs": [],
   "source": [
    "python_minor_data = pypistats.python_minor(package, total=True, format=\"pandas\")\n",
    "\n",
    "package_metrics += \"Python version and download date\\n\" + python_minor_data.to_string()"
   ]
  },
  {
   "cell_type": "code",
   "execution_count": null,
   "id": "2e1ab075",
   "metadata": {},
   "outputs": [],
   "source": [
    "today = date.today()\n",
    "write_to_filepath = f\"./jdaviz_metrics_{today}.txt\"\n",
    "metrics_file = open(write_to_filepath, \"w\")\n",
    "\n",
    "result = metrics_file.write(package_metrics)\n",
    "metrics_file.close()"
   ]
  },
  {
   "cell_type": "code",
   "execution_count": null,
   "id": "f1fecbd7",
   "metadata": {},
   "outputs": [],
   "source": []
  }
 ],
 "metadata": {
  "kernelspec": {
   "display_name": "Python 3 (ipykernel)",
   "language": "python",
   "name": "python3"
  },
  "language_info": {
   "codemirror_mode": {
    "name": "ipython",
    "version": 3
   },
   "file_extension": ".py",
   "mimetype": "text/x-python",
   "name": "python",
   "nbconvert_exporter": "python",
   "pygments_lexer": "ipython3",
   "version": "3.8.12"
  }
 },
 "nbformat": 4,
 "nbformat_minor": 5
}
