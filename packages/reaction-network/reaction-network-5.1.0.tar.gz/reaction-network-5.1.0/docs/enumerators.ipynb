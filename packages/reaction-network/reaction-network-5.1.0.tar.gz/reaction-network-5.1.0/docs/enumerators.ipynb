{
 "cells": [
  {
   "cell_type": "markdown",
   "id": "d263f580",
   "metadata": {},
   "source": [
    "# reaction-network (Demo Notebook): Enumerators\n",
    "\n",
    "### Author: Matthew McDermott\n",
    "Last Updated: 12/07/21\n",
    "\n",
    "**If you use this code in your work, please consider citing the following paper:**\n",
    "\n",
    "McDermott, M. J., Dwaraknath, S. S., and Persson, K. A. (2021). A graph-based network for predicting chemical reaction pathways in solid-state materials synthesis. \n",
    "Nature Communications, 12(1). https://doi.org/10.1038/s41467-021-23339-x"
   ]
  },
  {
   "cell_type": "markdown",
   "id": "529c0d4d",
   "metadata": {},
   "source": [
    "### Imports"
   ]
  },
  {
   "cell_type": "code",
   "execution_count": 1,
   "id": "4f283fcf",
   "metadata": {},
   "outputs": [],
   "source": [
    "import logging\n",
    "from pprint import pprint\n",
    "\n",
    "from pymatgen.core.composition import Composition, Element\n",
    "from pymatgen.ext.matproj import MPRester\n",
    "\n",
    "from rxn_network.enumerators.basic import BasicEnumerator, BasicOpenEnumerator\n",
    "from rxn_network.enumerators.minimize import MinimizeGibbsEnumerator, MinimizeGrandPotentialEnumerator\n",
    "from rxn_network.fireworks import EnumeratorFW\n",
    "from rxn_network.costs.softplus import Softplus\n",
    "from rxn_network.entries.entry_set import GibbsEntrySet\n",
    "\n",
    "%load_ext autoreload\n",
    "%autoreload 2"
   ]
  },
  {
   "cell_type": "markdown",
   "id": "7b999074",
   "metadata": {},
   "source": [
    "## Downloading and modifying entries"
   ]
  },
  {
   "cell_type": "markdown",
   "id": "8f5db570",
   "metadata": {},
   "source": [
    "First, we acquire entries for phases in the Y-Mn-O chemical system from the Materials Project (MP), a computed materials database containing calculations for over 130,000 materials."
   ]
  },
  {
   "cell_type": "code",
   "execution_count": 59,
   "id": "7e48b3d9",
   "metadata": {},
   "outputs": [],
   "source": [
    "with MPRester() as mpr:  # insert your Materials Project API key here if it's not stored in .pmgrc.yaml\n",
    "    entries = mpr.get_entries_in_chemsys(\"Y-Mn-O\", inc_structure=\"final\")"
   ]
  },
  {
   "cell_type": "markdown",
   "id": "825b675b",
   "metadata": {},
   "source": [
    "The `GibbsEntrySet` class allows us to automatically convered `ComputedStructureEntry` objects downloaded from the MP database into `GibbsComputedEntry` objects, where DFT-calculated energies have been converted to an AI-estimated equivalent values of the Gibbs free energies of formation, $\\Delta G_f$ for all entries at the specified temperature.\n",
    "\n",
    "For more information, check out the citation in the documentation for `GibbsComputedEntry`."
   ]
  },
  {
   "cell_type": "code",
   "execution_count": 64,
   "id": "2df768d6",
   "metadata": {},
   "outputs": [
    {
     "name": "stderr",
     "output_type": "stream",
     "text": [
      "[autoreload of rxn_network.entries.experimental failed: Traceback (most recent call last):\n",
      "  File \"/Users/mcdermott/opt/miniconda3/envs/rn_dev/lib/python3.9/site-packages/IPython/extensions/autoreload.py\", line 245, in check\n",
      "    superreload(m, reload, self.old_objects)\n",
      "  File \"/Users/mcdermott/opt/miniconda3/envs/rn_dev/lib/python3.9/site-packages/IPython/extensions/autoreload.py\", line 410, in superreload\n",
      "    update_generic(old_obj, new_obj)\n",
      "  File \"/Users/mcdermott/opt/miniconda3/envs/rn_dev/lib/python3.9/site-packages/IPython/extensions/autoreload.py\", line 347, in update_generic\n",
      "    update(a, b)\n",
      "  File \"/Users/mcdermott/opt/miniconda3/envs/rn_dev/lib/python3.9/site-packages/IPython/extensions/autoreload.py\", line 302, in update_class\n",
      "    if update_generic(old_obj, new_obj): continue\n",
      "  File \"/Users/mcdermott/opt/miniconda3/envs/rn_dev/lib/python3.9/site-packages/IPython/extensions/autoreload.py\", line 347, in update_generic\n",
      "    update(a, b)\n",
      "  File \"/Users/mcdermott/opt/miniconda3/envs/rn_dev/lib/python3.9/site-packages/IPython/extensions/autoreload.py\", line 266, in update_function\n",
      "    setattr(old, name, getattr(new, name))\n",
      "ValueError: __init__() requires a code object with 1 free vars, not 0\n",
      "]\n"
     ]
    }
   ],
   "source": [
    "temp = 900  # units: Kelvin\n",
    "gibbs_entries = GibbsEntrySet.from_entries(entries, temp)"
   ]
  },
  {
   "cell_type": "markdown",
   "id": "29089129",
   "metadata": {},
   "source": [
    "We can print the entries by calling `.entries` or `.entries_list`:"
   ]
  },
  {
   "cell_type": "code",
   "execution_count": 61,
   "id": "2aabaca9",
   "metadata": {},
   "outputs": [
    {
     "data": {
      "text/plain": [
       "{GibbsComputedEntry | mp-1062072 | Y1 Mn2 (YMn2)\n",
       " Gibbs Energy (800 K) = 2.2154,\n",
       " GibbsComputedEntry | mp-1086672 | Mn2 O6 (MnO3)\n",
       " Gibbs Energy (800 K) = -2.6940,\n",
       " GibbsComputedEntry | mp-1105767 | Mn6 O12 (MnO2)\n",
       " Gibbs Energy (800 K) = -23.9704,\n",
       " GibbsComputedEntry | mp-1172875 | Mn32 O48 (Mn2O3)\n",
       " Gibbs Energy (800 K) = -125.2360,\n",
       " GibbsComputedEntry | mp-1178684 | Y2 O4 (YO2)\n",
       " Gibbs Energy (800 K) = -15.4520,\n",
       " GibbsComputedEntry | mp-1180876 | Mn12 O16 (Mn3O4)\n",
       " Gibbs Energy (800 K) = -41.8356,\n",
       " GibbsComputedEntry | mp-1187739 | Y3 (Y)\n",
       " Gibbs Energy (800 K) = 0.0000,\n",
       " GibbsComputedEntry | mp-1187855 | Y2 O2 (YO)\n",
       " Gibbs Energy (800 K) = -10.8508,\n",
       " GibbsComputedEntry | mp-1189335 | Y4 O12 (YO3)\n",
       " Gibbs Energy (800 K) = -23.7903,\n",
       " GibbsComputedEntry | mp-1189857 | Mn6 O12 (MnO2)\n",
       " Gibbs Energy (800 K) = -24.3435,\n",
       " GibbsComputedEntry | mp-1203190 | Mn32 O48 (Mn2O3)\n",
       " Gibbs Energy (800 K) = -78.7365,\n",
       " GibbsComputedEntry | mp-1204718 | Mn32 O48 (Mn2O3)\n",
       " Gibbs Energy (800 K) = -117.8349,\n",
       " GibbsComputedEntry | mp-1206099 | Y2 O6 (YO3)\n",
       " Gibbs Energy (800 K) = -12.1336,\n",
       " GibbsComputedEntry | mp-1206610 | Y2 O4 (YO2)\n",
       " Gibbs Energy (800 K) = -15.9405,\n",
       " GibbsComputedEntry | mp-1216050 | Y2 O3 (Y2O3)\n",
       " Gibbs Energy (800 K) = -16.3690,\n",
       " GibbsComputedEntry | mp-1221542 | Mn1 O2 (MnO2)\n",
       " Gibbs Energy (800 K) = -2.6610,\n",
       " GibbsComputedEntry | mp-1221574 | Mn2 O4 (MnO2)\n",
       " Gibbs Energy (800 K) = -0.5470,\n",
       " GibbsComputedEntry | mp-1221594 | Mn2 O8 (MnO4)\n",
       " Gibbs Energy (800 K) = -0.6744,\n",
       " GibbsComputedEntry | mp-1221945 | Mn8 O17 (Mn8O17)\n",
       " Gibbs Energy (800 K) = -28.7646,\n",
       " GibbsComputedEntry | mp-1222372 | Mn20 O43 (Mn20O43)\n",
       " Gibbs Energy (800 K) = -69.2174,\n",
       " GibbsComputedEntry | mp-1244888 | Y40 O60 (Y2O3)\n",
       " Gibbs Energy (800 K) = -329.3517,\n",
       " GibbsComputedEntry | mp-1244949 | Y40 O60 (Y2O3)\n",
       " Gibbs Energy (800 K) = -330.9396,\n",
       " GibbsComputedEntry | mp-1245017 | Y40 O60 (Y2O3)\n",
       " Gibbs Energy (800 K) = -329.7741,\n",
       " GibbsComputedEntry | mp-1245291 | Y40 O60 (Y2O3)\n",
       " Gibbs Energy (800 K) = -327.4390,\n",
       " GibbsComputedEntry | mp-1274793 | Mn4 O8 (MnO2)\n",
       " Gibbs Energy (800 K) = -15.9128,\n",
       " GibbsComputedEntry | mp-1279979 | Mn1 O2 (MnO2)\n",
       " Gibbs Energy (800 K) = -4.0968,\n",
       " GibbsComputedEntry | mp-1281224 | Mn4 O4 (MnO)\n",
       " Gibbs Energy (800 K) = -12.6828,\n",
       " GibbsComputedEntry | mp-1290752 | Y2 Mn4 O8 (YMn2O4)\n",
       " Gibbs Energy (800 K) = -31.4346,\n",
       " GibbsComputedEntry | mp-1295665 | Mn12 O16 (Mn3O4)\n",
       " Gibbs Energy (800 K) = -43.6166,\n",
       " GibbsComputedEntry | mp-12957 | O8 (O2)\n",
       " Gibbs Energy (800 K) = 0.0000,\n",
       " GibbsComputedEntry | mp-1304368 | Mn4 O6 (Mn2O3)\n",
       " Gibbs Energy (800 K) = -14.9586,\n",
       " GibbsComputedEntry | mp-13061 | Y2 O3 (Y2O3)\n",
       " Gibbs Energy (800 K) = -17.2293,\n",
       " GibbsComputedEntry | mp-1306224 | Mn4 O6 (Mn2O3)\n",
       " Gibbs Energy (800 K) = -15.0522,\n",
       " GibbsComputedEntry | mp-1355 | Y6 Mn23 (Y6Mn23)\n",
       " Gibbs Energy (800 K) = 2.8043,\n",
       " GibbsComputedEntry | mp-18759 | Mn6 O8 (Mn3O4)\n",
       " Gibbs Energy (800 K) = -22.7493,\n",
       " GibbsComputedEntry | mp-18831 | Y4 Mn4 O14 (Y2Mn2O7)\n",
       " Gibbs Energy (800 K) = -53.2849,\n",
       " GibbsComputedEntry | mp-18922 | Mn5 O8 (Mn5O8)\n",
       " Gibbs Energy (800 K) = -19.4691,\n",
       " GibbsComputedEntry | mp-19006 | Mn2 O2 (MnO)\n",
       " Gibbs Energy (800 K) = -6.3505,\n",
       " GibbsComputedEntry | mp-19227 | Y2 Mn2 O6 (YMnO3)\n",
       " Gibbs Energy (800 K) = -25.9325,\n",
       " GibbsComputedEntry | mp-19326 | Mn4 O8 (MnO2)\n",
       " Gibbs Energy (800 K) = -15.7214,\n",
       " GibbsComputedEntry | mp-19385 | Y6 Mn6 O18 (YMnO3)\n",
       " Gibbs Energy (800 K) = -67.2898,\n",
       " GibbsComputedEntry | mp-19395 | Mn4 O8 (MnO2)\n",
       " Gibbs Energy (800 K) = -15.9650,\n",
       " GibbsComputedEntry | mp-20141 | Mn12 O16 (Mn3O4)\n",
       " Gibbs Energy (800 K) = -43.6683,\n",
       " GibbsComputedEntry | mp-20699 | Y4 Mn4 O12 (YMnO3)\n",
       " Gibbs Energy (800 K) = -51.6184,\n",
       " GibbsComputedEntry | mp-22508 | Y1 Mn12 (YMn12)\n",
       " Gibbs Energy (800 K) = -0.1268,\n",
       " GibbsComputedEntry | mp-25223 | Mn1 O2 (MnO2)\n",
       " Gibbs Energy (800 K) = -3.9213,\n",
       " GibbsComputedEntry | mp-25275 | Mn4 O8 (MnO2)\n",
       " Gibbs Energy (800 K) = -15.5277,\n",
       " GibbsComputedEntry | mp-25424 | Mn1 O2 (MnO2)\n",
       " Gibbs Energy (800 K) = -4.0549,\n",
       " GibbsComputedEntry | mp-2652 | Y16 O24 (Y2O3)\n",
       " Gibbs Energy (800 K) = -141.2242,\n",
       " GibbsComputedEntry | mp-28338 | Mn16 O56 (Mn2O7)\n",
       " Gibbs Energy (800 K) = -28.4193,\n",
       " GibbsComputedEntry | mp-33009 | Mn4 O8 (MnO2)\n",
       " Gibbs Energy (800 K) = -15.3112,\n",
       " GibbsComputedEntry | mp-35 | Mn29 (Mn)\n",
       " Gibbs Energy (800 K) = 0.0000,\n",
       " GibbsComputedEntry | mp-510408 | Mn4 O8 (MnO2)\n",
       " Gibbs Energy (800 K) = -15.3185,\n",
       " GibbsComputedEntry | mp-510598 | Y4 Mn8 O20 (YMn2O5)\n",
       " Gibbs Energy (800 K) = -70.2802,\n",
       " GibbsComputedEntry | mp-510604 | Mn16 O24 (Mn2O3)\n",
       " Gibbs Energy (800 K) = -62.3493,\n",
       " GibbsComputedEntry | mp-510732 | Mn2 O4 (MnO2)\n",
       " Gibbs Energy (800 K) = -6.8887,\n",
       " GibbsComputedEntry | mp-558 | Y2 Mn4 (YMn2)\n",
       " Gibbs Energy (800 K) = 1.0326,\n",
       " GibbsComputedEntry | mp-558573 | Y6 O9 (Y2O3)\n",
       " Gibbs Energy (800 K) = -52.0785,\n",
       " GibbsComputedEntry | mp-565203 | Mn32 O48 (Mn2O3)\n",
       " Gibbs Energy (800 K) = -125.2159,\n",
       " GibbsComputedEntry | mp-638270 | Mn12 O16 (Mn3O4)\n",
       " Gibbs Energy (800 K) = -40.1167,\n",
       " GibbsComputedEntry | mp-644514 | Mn3 O6 (MnO2)\n",
       " Gibbs Energy (800 K) = -11.6596,\n",
       " GibbsComputedEntry | mp-673247 | Y4 O6 (Y2O3)\n",
       " Gibbs Energy (800 K) = -30.3326,\n",
       " GibbsComputedEntry | mp-705430 | Mn24 O48 (MnO2)\n",
       " Gibbs Energy (800 K) = -88.7886,\n",
       " GibbsComputedEntry | mp-752536 | Mn5 O8 (Mn5O8)\n",
       " Gibbs Energy (800 K) = -18.7406,\n",
       " GibbsComputedEntry | mp-754430 | Mn7 O12 (Mn7O12)\n",
       " Gibbs Energy (800 K) = -26.5192,\n",
       " GibbsComputedEntry | mp-754759 | Y4 O6 (Y2O3)\n",
       " Gibbs Energy (800 K) = -34.7592,\n",
       " GibbsComputedEntry | mp-755489 | Mn8 O16 (MnO2)\n",
       " Gibbs Energy (800 K) = -30.9016,\n",
       " GibbsComputedEntry | mp-755671 | Mn2 O4 (MnO2)\n",
       " Gibbs Energy (800 K) = -6.8925,\n",
       " GibbsComputedEntry | mp-766493 | Mn21 O40 (Mn21O40)\n",
       " Gibbs Energy (800 K) = -80.1994,\n",
       " GibbsComputedEntry | mp-770543 | Mn4 O6 (Mn2O3)\n",
       " Gibbs Energy (800 K) = -14.9750,\n",
       " GibbsComputedEntry | mp-771717 | Mn16 O24 (Mn2O3)\n",
       " Gibbs Energy (800 K) = -59.1509,\n",
       " GibbsComputedEntry | mp-775906 | Y16 O24 (Y2O3)\n",
       " Gibbs Energy (800 K) = -138.4854,\n",
       " GibbsComputedEntry | mp-775907 | Y12 O18 (Y2O3)\n",
       " Gibbs Energy (800 K) = -104.0989,\n",
       " GibbsComputedEntry | mp-776603 | Mn15 O32 (Mn15O32)\n",
       " Gibbs Energy (800 K) = -53.9050,\n",
       " GibbsComputedEntry | mp-777514 | Y8 O12 (Y2O3)\n",
       " Gibbs Energy (800 K) = -68.5894,\n",
       " GibbsComputedEntry | mp-778470 | Mn64 O96 (Mn2O3)\n",
       " Gibbs Energy (800 K) = -239.0234,\n",
       " GibbsComputedEntry | mp-849596 | Mn21 O40 (Mn21O40)\n",
       " Gibbs Energy (800 K) = -80.8130,\n",
       " GibbsComputedEntry | mp-867971 | Mn15 O32 (Mn15O32)\n",
       " Gibbs Energy (800 K) = -53.7499,\n",
       " GibbsComputedEntry | mp-999539 | Mn4 O4 (MnO)\n",
       " Gibbs Energy (800 K) = -12.8711,\n",
       " GibbsComputedEntry | mvc-10183 | Mn12 O24 (MnO2)\n",
       " Gibbs Energy (800 K) = -42.3974,\n",
       " GibbsComputedEntry | mvc-10883 | Y1 Mn1 O3 (YMnO3)\n",
       " Gibbs Energy (800 K) = -11.3882,\n",
       " GibbsComputedEntry | mvc-10942 | Y2 Mn4 O8 (YMn2O4)\n",
       " Gibbs Energy (800 K) = -17.2546,\n",
       " GibbsComputedEntry | mvc-11009 | Y4 Mn6 O18 (Y2Mn3O9)\n",
       " Gibbs Energy (800 K) = -53.8126,\n",
       " GibbsComputedEntry | mvc-11093 | Mn4 O8 (MnO2)\n",
       " Gibbs Energy (800 K) = -11.0116,\n",
       " GibbsComputedEntry | mvc-12162 | Y4 Mn6 O18 (Y2Mn3O9)\n",
       " Gibbs Energy (800 K) = -43.3521,\n",
       " GibbsComputedEntry | mvc-12283 | Mn8 O16 (MnO2)\n",
       " Gibbs Energy (800 K) = -31.0417,\n",
       " GibbsComputedEntry | mvc-14400 | Y8 Mn12 O36 (Y2Mn3O9)\n",
       " Gibbs Energy (800 K) = -115.9168,\n",
       " GibbsComputedEntry | mvc-14931 | Mn4 O8 (MnO2)\n",
       " Gibbs Energy (800 K) = -13.3521,\n",
       " GibbsComputedEntry | mvc-16268 | Y4 Mn12 O24 (YMn3O6)\n",
       " Gibbs Energy (800 K) = -78.5760,\n",
       " GibbsComputedEntry | mvc-2249 | Mn9 O13 (Mn9O13)\n",
       " Gibbs Energy (800 K) = -30.0265,\n",
       " GibbsComputedEntry | mvc-2560 | Mn10 O14 (Mn5O7)\n",
       " Gibbs Energy (800 K) = -32.9682,\n",
       " GibbsComputedEntry | mvc-4601 | Y2 Mn4 O8 (YMn2O4)\n",
       " Gibbs Energy (800 K) = -30.1182,\n",
       " GibbsComputedEntry | mvc-5444 | Mn12 O24 (MnO2)\n",
       " Gibbs Energy (800 K) = -44.2884,\n",
       " GibbsComputedEntry | mvc-6353 | Mn16 O32 (MnO2)\n",
       " Gibbs Energy (800 K) = -51.8953,\n",
       " GibbsComputedEntry | mvc-844 | Mn8 O12 (Mn2O3)\n",
       " Gibbs Energy (800 K) = -26.9408}"
      ]
     },
     "execution_count": 61,
     "metadata": {},
     "output_type": "execute_result"
    }
   ],
   "source": [
    "gibbs_entries.entries"
   ]
  },
  {
   "cell_type": "markdown",
   "id": "5ecbdd74",
   "metadata": {},
   "source": [
    "The `GibbsEntrySet` class has many helpful functions, such as the following `filter_by_stability()` function, which automatically removes entries which are a specified energy per atom above the convex hull of stability:"
   ]
  },
  {
   "cell_type": "code",
   "execution_count": 5,
   "id": "afe4de87",
   "metadata": {},
   "outputs": [],
   "source": [
    "filtered_entries = gibbs_entries.filter_by_stability(0.025)"
   ]
  },
  {
   "cell_type": "markdown",
   "id": "ac4142dd",
   "metadata": {},
   "source": [
    "You should now see a much shorter list of entries within the Y-Mn-O system (< 25 meV/atom below the hull)"
   ]
  },
  {
   "cell_type": "code",
   "execution_count": 6,
   "id": "905bbbea",
   "metadata": {},
   "outputs": [
    {
     "data": {
      "text/plain": [
       "[GibbsComputedEntry | mp-35 | Mn29 (Mn)\n",
       " Gibbs Energy (800 K) = 0.0000,\n",
       " GibbsComputedEntry | mp-1172875 | Mn32 O48 (Mn2O3)\n",
       " Gibbs Energy (800 K) = -125.2360,\n",
       " GibbsComputedEntry | mp-18759 | Mn6 O8 (Mn3O4)\n",
       " Gibbs Energy (800 K) = -22.7493,\n",
       " GibbsComputedEntry | mp-18922 | Mn5 O8 (Mn5O8)\n",
       " Gibbs Energy (800 K) = -19.4691,\n",
       " GibbsComputedEntry | mp-999539 | Mn4 O4 (MnO)\n",
       " Gibbs Energy (800 K) = -12.8711,\n",
       " GibbsComputedEntry | mp-1279979 | Mn1 O2 (MnO2)\n",
       " Gibbs Energy (800 K) = -4.0968,\n",
       " GibbsComputedEntry | mp-12957 | O8 (O2)\n",
       " Gibbs Energy (800 K) = 0.0000,\n",
       " GibbsComputedEntry | mp-1187739 | Y3 (Y)\n",
       " Gibbs Energy (800 K) = 0.0000,\n",
       " GibbsComputedEntry | mp-18831 | Y4 Mn4 O14 (Y2Mn2O7)\n",
       " Gibbs Energy (800 K) = -53.2849,\n",
       " GibbsComputedEntry | mp-2652 | Y16 O24 (Y2O3)\n",
       " Gibbs Energy (800 K) = -141.2242,\n",
       " GibbsComputedEntry | mp-22508 | Y1 Mn12 (YMn12)\n",
       " Gibbs Energy (800 K) = -0.1268,\n",
       " GibbsComputedEntry | mp-510598 | Y4 Mn8 O20 (YMn2O5)\n",
       " Gibbs Energy (800 K) = -70.2802,\n",
       " GibbsComputedEntry | mp-19227 | Y2 Mn2 O6 (YMnO3)\n",
       " Gibbs Energy (800 K) = -25.9325]"
      ]
     },
     "execution_count": 6,
     "metadata": {},
     "output_type": "execute_result"
    }
   ],
   "source": [
    "filtered_entries.entries_list"
   ]
  },
  {
   "cell_type": "markdown",
   "id": "3a810f32",
   "metadata": {},
   "source": [
    "## Running enumerators\n",
    "\n",
    "There are several types of enumerator classes contained within `rxn_network.enumerators`: These are:\n",
    "\n",
    "1. `BasicEnumerator`: use a combinatorial approach to identify all possible (closed) reactions within a set of entries\n",
    "2. `BasicOpenEnumerator`: use a combinatorial approach to identify all **open** reactions within a set of entries and a list of specified open entries/elements\n",
    "3. `MinimizeGibbsEnumerator`: use a thermodynamic approach to identify all reactions within a set of entries that are predicted by minimizing Gibbs free energy between a set of two reacting phases touching at an interface\n",
    "4. `MinimizeGrandPotentialEnumerator`: use a thermodynamic approach to identify all reactions within a set of entries that are predicted by minimizing the grand potential between a set of two reacting phases touching at an interface with an **open** element at a specified chemical potential\n",
    "\n",
    "### Basic enumerators\n",
    "We first create a basic enumerator object by initializing one from the `BasicEnumerator` class:"
   ]
  },
  {
   "cell_type": "code",
   "execution_count": 7,
   "id": "e92e7cb2",
   "metadata": {},
   "outputs": [],
   "source": [
    "be = BasicEnumerator()"
   ]
  },
  {
   "cell_type": "markdown",
   "id": "edcc5636",
   "metadata": {},
   "source": [
    "The `BasicEnumerator` class, as is true for all other enumerator classes, can be provided with several arguments for customizing the enumerator output:\n",
    "\n",
    "- **precursors**: Optional list of precursor formulas; only reactions which contain at least these phases as reactants will be enumerated.\n",
    "- **target**: Optional formula of target; only reactions which include formation of this target will be enumerated.\n",
    "- **calculators**: Optional list of Calculator object names; see calculators module for options (e.g., [\"ChempotDistanceCalculator])\n",
    "- **n**: Maximum reactant/product cardinality; i.e., largest possible number of entries on either side of the reaction. Defaults to 2.\n",
    "- **exclusive_precursors**: Whether to consider only reactions that have reactants which are a subset of the provided list of precursors. Defaults to True.\n",
    "- **exclusive_targets**: Whether to consider only reactions that make the provided target directly (i.e. with no byproducts). Defualts to False.\n",
    "- **remove_unbalanced**: Whether to remove reactions which are unbalanced. Defaults to True.\n",
    "- **remove_changed**: Whether to remove reactions which can only be balanced by removing a reactant/product or having it change sides. Defaults to True.\n",
    "\n",
    "Note that the default arguments are good for generating a list of simple (unconstrained) reactions, as we might build for a reaction network. Run the following cell:"
   ]
  },
  {
   "cell_type": "code",
   "execution_count": 8,
   "id": "102063fc",
   "metadata": {},
   "outputs": [
    {
     "data": {
      "application/vnd.jupyter.widget-view+json": {
       "model_id": "63a1bce22ced4854852749f0c9b989a4",
       "version_major": 2,
       "version_minor": 0
      },
      "text/plain": [
       "BasicEnumerator:   0%|          | 0/4 [00:00<?, ?it/s]"
      ]
     },
     "metadata": {},
     "output_type": "display_data"
    }
   ],
   "source": [
    "all_rxns = be.enumerate(filtered_entries)"
   ]
  },
  {
   "cell_type": "markdown",
   "id": "afc844ff",
   "metadata": {},
   "source": [
    "This should complete somewhat quickly (within a few seconds). As a result, a list of ~800 generated reactions will be stored within the `all_rxns` object:"
   ]
  },
  {
   "cell_type": "code",
   "execution_count": 9,
   "id": "3c67e9ee",
   "metadata": {},
   "outputs": [
    {
     "name": "stdout",
     "output_type": "stream",
     "text": [
      "800\n"
     ]
    }
   ],
   "source": [
    "print(len(all_rxns))"
   ]
  },
  {
   "cell_type": "code",
   "execution_count": 10,
   "id": "0eae80ef",
   "metadata": {},
   "outputs": [
    {
     "name": "stdout",
     "output_type": "stream",
     "text": [
      "[YMnO3 + 13 Mn -> YMn12 + Mn2O3,\n",
      " YMnO3 + 0.5 MnO2 -> 0.5 Y2Mn2O7 + 0.5 MnO,\n",
      " Mn + 0.03865 Y2O3 -> 0.01449 Mn5O8 + 0.07729 YMn12,\n",
      " Y2Mn2O7 + 26.67 Mn -> 2 YMn12 + 2.333 Mn2O3,\n",
      " 0.5 Mn2O3 -> Mn + 0.75 O2,\n",
      " 0.6667 Mn5O8 + Y2O3 -> Y2Mn2O7 + 1.333 MnO,\n",
      " 0.6667 Y2Mn2O7 + 0.3333 Mn -> YMnO3 + 0.3333 YMn2O5,\n",
      " MnO + YMn2O5 -> YMnO3 + Mn2O3,\n",
      " 0.02941 Y2Mn2O7 + 0.07843 YMn12 -> Mn + 0.06863 Y2O3,\n",
      " MnO + 0.02083 Y -> 0.25 Mn3O4 + 0.02083 YMn12]\n"
     ]
    }
   ],
   "source": [
    "pprint(all_rxns[0:10])  # first 10 reactions"
   ]
  },
  {
   "cell_type": "markdown",
   "id": "42e1e246",
   "metadata": {},
   "source": [
    "Looking at the list of reactions above, we see that all reactions are stoichiometrically balanced. If we look at any particular reaction object, we find that the reaction energy and uncertainty can automatically be calculated using the entry energies:"
   ]
  },
  {
   "cell_type": "code",
   "execution_count": 11,
   "id": "138fa836",
   "metadata": {},
   "outputs": [
    {
     "name": "stdout",
     "output_type": "stream",
     "text": [
      "YMnO3 + 13 Mn -> YMn12 + Mn2O3\n",
      "0.27845742189028416 ± 0.05471587667664505 eV/atom\n"
     ]
    }
   ],
   "source": [
    "r = all_rxns[0]\n",
    "print(r)\n",
    "print(r.energy_per_atom, \"±\", r.energy_uncertainty_per_atom, \"eV/atom\")"
   ]
  },
  {
   "cell_type": "markdown",
   "id": "8d74e8bc",
   "metadata": {},
   "source": [
    "If we want to generate only reactions which contain specific precursors, we can supply them when we initialize the `BasicEnumerator` object."
   ]
  },
  {
   "cell_type": "code",
   "execution_count": 12,
   "id": "c0ccf3bc",
   "metadata": {},
   "outputs": [
    {
     "data": {
      "application/vnd.jupyter.widget-view+json": {
       "model_id": "f8c6ef1e94fc45a5ba7f45a6f517c390",
       "version_major": 2,
       "version_minor": 0
      },
      "text/plain": [
       "BasicEnumerator:   0%|          | 0/1 [00:00<?, ?it/s]"
      ]
     },
     "metadata": {},
     "output_type": "display_data"
    }
   ],
   "source": [
    "be_precursors = BasicEnumerator(precursors=[\"Y2O3\"])\n",
    "y2o3_rxns_exclusive = be_precursors.enumerate(filtered_entries)"
   ]
  },
  {
   "cell_type": "code",
   "execution_count": 13,
   "id": "551da08b",
   "metadata": {},
   "outputs": [
    {
     "data": {
      "text/plain": [
       "[0.5 Y2O3 -> Y + 0.75 O2]"
      ]
     },
     "execution_count": 13,
     "metadata": {},
     "output_type": "execute_result"
    }
   ],
   "source": [
    "y2o3_rxns_exclusive"
   ]
  },
  {
   "cell_type": "markdown",
   "id": "1c40612e",
   "metadata": {},
   "source": [
    "Note that by default, this only produces reactions which exclusively have the provided precursor(s). To include reactions that contain this precursor (non-exclusively), set the `exclusive_precursors=False`:"
   ]
  },
  {
   "cell_type": "code",
   "execution_count": 14,
   "id": "d7a90c39",
   "metadata": {},
   "outputs": [
    {
     "data": {
      "application/vnd.jupyter.widget-view+json": {
       "model_id": "998a8274e5d3479e85811de20e741db4",
       "version_major": 2,
       "version_minor": 0
      },
      "text/plain": [
       "BasicEnumerator:   0%|          | 0/4 [00:00<?, ?it/s]"
      ]
     },
     "metadata": {},
     "output_type": "display_data"
    }
   ],
   "source": [
    "be_precursors = BasicEnumerator(precursors=[\"Y2O3\"], exclusive_precursors=False)\n",
    "y2o3_rxns = be_precursors.enumerate(filtered_entries)"
   ]
  },
  {
   "cell_type": "code",
   "execution_count": 15,
   "id": "3254e746",
   "metadata": {},
   "outputs": [
    {
     "data": {
      "text/plain": [
       "[Mn5O8 + 0.2083 Y2O3 -> 0.4167 YMn12 + 4.312 O2,\n",
       " Mn + 0.03922 Y2O3 -> 0.05882 MnO2 + 0.07843 YMn12,\n",
       " Mn + 0.03865 Y2O3 -> 0.01449 Mn5O8 + 0.07729 YMn12,\n",
       " 0.3333 Mn3O4 + 0.2222 Y2O3 -> MnO2 + 0.4444 Y,\n",
       " 0.6667 Mn5O8 + Y2O3 -> Y2Mn2O7 + 1.333 MnO,\n",
       " 1.667 Mn3O4 + 0.4444 Y2O3 -> Mn5O8 + 0.8889 Y,\n",
       " 0.5 Y2O3 + 2.5 Mn2O3 -> Mn3O4 + YMn2O5,\n",
       " Y2O3 + 1.275 Mn2O3 -> 0.975 Y2Mn2O7 + 0.05 YMn12,\n",
       " Y2O3 + 2.25 Mn2O3 -> 0.05 YMn12 + 1.95 YMn2O5,\n",
       " MnO + 0.6667 Y2O3 -> YMnO3 + 0.3333 Y,\n",
       " Mn + Y2O3 -> YMnO3 + Y,\n",
       " Y2O3 + 2 Mn2O3 -> Y2Mn2O7 + 2 MnO,\n",
       " 2 Mn5O8 + 3 Y2O3 -> Y + 5 YMn2O5,\n",
       " Y2O3 + 1.333 Mn2O3 -> Y2Mn2O7 + 0.6667 Mn,\n",
       " 2 Mn5O8 + Y2O3 -> Y2Mn2O7 + 4 Mn2O3,\n",
       " Mn3O4 + 1.069 Y2O3 -> 1.029 Y2Mn2O7 + 0.07843 YMn12,\n",
       " Mn + 0.5 Y2O3 -> Y + 0.5 Mn2O3,\n",
       " Mn5O8 + 2.069 Y2O3 -> 2.029 Y2Mn2O7 + 0.07843 YMn12,\n",
       " Y2O3 + 4 Mn2O3 -> Y2Mn2O7 + 2 Mn3O4,\n",
       " 2 Mn + 2.333 Y2O3 -> Y2Mn2O7 + 2.667 Y,\n",
       " Y2O3 + 2.55 YMn2O5 -> 2.25 Y2Mn2O7 + 0.05 YMn12,\n",
       " Mn5O8 + 1.167 Y2O3 -> 0.03333 YMn12 + 2.3 YMn2O5,\n",
       " Mn3O4 + 0.01932 Y2O3 -> 0.5072 Mn5O8 + 0.03865 YMn12,\n",
       " 2.333 Mn5O8 + 2.667 Y2O3 -> Mn + 5.333 YMn2O5,\n",
       " Mn3O4 + 1.359 Y2O3 -> 2.692 YMnO3 + 0.02564 YMn12,\n",
       " Mn + 0.07692 Y2O3 -> 0.07692 YMnO3 + 0.07692 YMn12,\n",
       " 3 Mn3O4 + 0.5 Y2O3 -> Y + 4.5 Mn2O3,\n",
       " MnO + 0.04167 Y2O3 -> 0.08333 YMn12 + 0.5625 O2,\n",
       " Mn3O4 + 0.125 Y2O3 -> 0.25 YMn12 + 2.187 O2,\n",
       " 0.25 YMn12 + 1.333 Y2O3 -> Mn3O4 + 2.917 Y,\n",
       " 0.4167 YMn12 + 2.667 Y2O3 -> Mn5O8 + 5.75 Y,\n",
       " Mn3O4 + 0.03922 Y2O3 -> 2.059 MnO2 + 0.07843 YMn12,\n",
       " Mn + 0.04167 Y2O3 -> 0.08333 YMn12 + 0.0625 O2,\n",
       " 2 Mn5O8 + 5 Y2O3 -> Y2Mn2O7 + 8 YMnO3,\n",
       " 0.4286 Y2O3 + 1.143 YMn2O5 -> Y2Mn2O7 + 0.2857 Mn,\n",
       " 0.2 Mn5O8 + 0.1333 Y2O3 -> MnO2 + 0.2667 Y,\n",
       " 1.5 MnO + 0.5 Y2O3 -> YMnO3 + 0.5 Mn,\n",
       " 1.5 Y2O3 + 3.5 Mn2O3 -> Mn + 3 YMn2O5,\n",
       " 0.5 Mn5O8 + Y2O3 -> Y2Mn2O7 + 0.5 Mn,\n",
       " 0.5 Mn3O4 + 0.5 Y2O3 -> YMnO3 + 0.5 MnO,\n",
       " Mn + 0.0381 Y2O3 -> 0.02857 Mn3O4 + 0.07619 YMn12,\n",
       " Mn + 0.05556 Y2O3 -> 0.07778 YMn12 + 0.03333 YMn2O5,\n",
       " Mn5O8 + 0.5 Y2O3 -> YMn2O5 + 1.5 Mn2O3,\n",
       " 0.3333 Mn3O4 + 0.5556 Y2O3 -> YMnO3 + 0.1111 Y,\n",
       " 0.25 Y2O3 + 0.5 YMn2O5 -> YMnO3 + 0.125 O2,\n",
       " 0.07692 YMn12 + 0.4615 Y2O3 -> Y + 0.4615 Mn2O3,\n",
       " MnO + 0.3333 Y2O3 -> MnO2 + 0.6667 Y,\n",
       " 2 MnO + 1.667 Y2O3 -> Y2Mn2O7 + 1.333 Y,\n",
       " 0.1667 Y2O3 + 0.5 Mn2O3 -> MnO2 + 0.3333 Y,\n",
       " Mn3O4 + Y2O3 -> Y2Mn2O7 + Mn,\n",
       " 0.5 Y2O3 -> Y + 0.75 O2,\n",
       " 0.2 Mn5O8 + 0.5 Y2O3 -> YMnO3 + 0.05 O2,\n",
       " MnO2 + 0.04167 Y2O3 -> 0.08333 YMn12 + 1.062 O2,\n",
       " 0.2 Y2O3 + 1.6 YMn2O5 -> Y2Mn2O7 + 0.4 Mn3O4,\n",
       " 0.08333 YMn12 + Y2O3 -> YMnO3 + 1.083 Y,\n",
       " 0.1667 YMn12 + 2.333 Y2O3 -> Y2Mn2O7 + 2.833 Y,\n",
       " MnO + 0.359 Y2O3 -> 0.6923 YMnO3 + 0.02564 YMn12,\n",
       " 2 YMnO3 + 0.3333 Y2O3 -> Y2Mn2O7 + 0.6667 Y,\n",
       " 3 MnO + 0.3333 Y2O3 -> Mn3O4 + 0.6667 Y,\n",
       " Y2O3 + Mn2O3 -> 2 YMnO3,\n",
       " MnO + 0.01282 Y2O3 -> 0.02564 YMn12 + 0.3462 Mn2O3,\n",
       " Mn + 0.03704 Y2O3 -> 0.1111 MnO + 0.07407 YMn12,\n",
       " 2 Y2O3 + 3 Mn2O3 -> Y + 3 YMn2O5,\n",
       " 0.08333 YMn12 + 0.6667 Y2O3 -> MnO2 + 1.417 Y,\n",
       " MnO + 0.009524 Y2O3 -> 0.2571 Mn3O4 + 0.01905 YMn12,\n",
       " 2 MnO + Y2O3 -> Y + YMn2O5,\n",
       " 2 Mn3O4 + Y2O3 -> Y2Mn2O7 + 4 MnO,\n",
       " Mn + 0.6667 Y2O3 -> MnO2 + 1.333 Y,\n",
       " MnO + 0.01961 Y2O3 -> 0.5294 MnO2 + 0.03922 YMn12,\n",
       " 5 MnO + Y2O3 -> Mn5O8 + 2 Y,\n",
       " 0.3333 Y2O3 + 1.333 YMn2O5 -> Y2Mn2O7 + 0.6667 MnO,\n",
       " Mn3O4 + 0.6111 Y2O3 -> 0.05556 YMn12 + 1.167 YMn2O5,\n",
       " Y2O3 + 12 Mn2O3 -> 2 YMn12 + 19.5 O2,\n",
       " 0.5 Y2O3 + 1.5 Mn2O3 -> MnO + YMn2O5,\n",
       " Mn5O8 + Y2O3 -> Y2Mn2O7 + Mn3O4,\n",
       " 8 MnO2 + 2 Y2O3 -> O2 + 4 YMn2O5,\n",
       " 0.3333 Mn5O8 + 0.6667 Y2O3 -> YMnO3 + 0.3333 YMn2O5,\n",
       " 0.08333 YMn12 + 0.3333 Y2O3 -> MnO + 0.75 Y,\n",
       " Y2O3 + 207 Mn2O3 -> 78 Mn5O8 + 2 YMn12,\n",
       " 0.25 Mn5O8 + 0.5 Y2O3 -> YMnO3 + 0.25 MnO2,\n",
       " 0.375 Mn3O4 + 0.5 Y2O3 -> YMnO3 + 0.125 Mn,\n",
       " Y2O3 + 51 Mn2O3 -> 78 MnO2 + 2 YMn12,\n",
       " MnO + 0.01449 Y2O3 -> 0.1304 Mn5O8 + 0.02899 YMn12,\n",
       " 4 MnO + Y2O3 -> Y2Mn2O7 + 2 Mn,\n",
       " 1.667 Mn5O8 + 1.333 Y2O3 -> Mn3O4 + 2.667 YMn2O5,\n",
       " 0.1667 Y2O3 + 2.5 Mn2O3 -> Mn5O8 + 0.3333 Y,\n",
       " Mn3O4 + 0.01282 Y2O3 -> 0.02564 YMn12 + 1.346 Mn2O3,\n",
       " MnO + 0.2843 Y2O3 -> 0.2647 Y2Mn2O7 + 0.03922 YMn12,\n",
       " Mn5O8 + 0.03922 Y2O3 -> 4.059 MnO2 + 0.07843 YMn12,\n",
       " 3 Mn + 1.333 Y2O3 -> Mn3O4 + 2.667 Y,\n",
       " 0.6667 Mn3O4 + 1.444 Y2O3 -> Y2Mn2O7 + 0.8889 Y,\n",
       " MnO2 + 0.5 Y2O3 -> 0.5 Y2Mn2O7,\n",
       " 0.6 Mn3O4 + 0.2 Y2O3 -> MnO + 0.4 YMn2O5,\n",
       " Mn5O8 + Y2O3 -> MnO + 2 YMn2O5,\n",
       " 0.6667 Y2O3 + YMn2O5 -> Y2Mn2O7 + 0.3333 Y,\n",
       " MnO2 + 0.5 Y2O3 -> YMnO3 + 0.25 O2,\n",
       " 1.2 Mn3O4 + 1.4 Y2O3 -> Y + 1.8 YMn2O5,\n",
       " 5 Mn + 2.667 Y2O3 -> Mn5O8 + 5.333 Y,\n",
       " MnO + 0.1667 Y2O3 -> 0.03333 YMn12 + 0.3 YMn2O5,\n",
       " 0.4 Mn5O8 + 1.267 Y2O3 -> Y2Mn2O7 + 0.5333 Y,\n",
       " Mn + 0.06863 Y2O3 -> 0.02941 Y2Mn2O7 + 0.07843 YMn12,\n",
       " 1.333 Y2O3 + Mn2O3 -> Y2Mn2O7 + 0.6667 Y,\n",
       " 0.8571 Mn + 0.7143 Y2O3 -> Y + 0.4286 YMn2O5,\n",
       " Y2O3 + 2 YMn2O5 -> Y2Mn2O7 + 2 YMnO3,\n",
       " 3 MnO + 0.5 Y2O3 -> Y + 1.5 Mn2O3,\n",
       " Mn + 0.3333 Y2O3 -> MnO + 0.6667 Y,\n",
       " Mn + 0.03846 Y2O3 -> 0.07692 YMn12 + 0.03846 Mn2O3,\n",
       " 0.06667 YMn12 + 0.6667 Y2O3 -> Y + 0.4 YMn2O5,\n",
       " 2.333 MnO + 0.3333 Y2O3 -> Mn + 0.6667 YMn2O5,\n",
       " 1.4 Mn3O4 + 0.8 Y2O3 -> Mn + 1.6 YMn2O5]"
      ]
     },
     "execution_count": 15,
     "metadata": {},
     "output_type": "execute_result"
    }
   ],
   "source": [
    "y2o3_rxns"
   ]
  },
  {
   "cell_type": "markdown",
   "id": "26eef136",
   "metadata": {},
   "source": [
    "This same approach can be used for the target phase(s) as well.\n",
    "\n",
    "With `exclusive_targets=False`:"
   ]
  },
  {
   "cell_type": "code",
   "execution_count": 16,
   "id": "0e0be703",
   "metadata": {},
   "outputs": [
    {
     "data": {
      "application/vnd.jupyter.widget-view+json": {
       "model_id": "7cccf81d72c748b396712da8a26fc3e3",
       "version_major": 2,
       "version_minor": 0
      },
      "text/plain": [
       "BasicEnumerator:   0%|          | 0/4 [00:00<?, ?it/s]"
      ]
     },
     "metadata": {},
     "output_type": "display_data"
    }
   ],
   "source": [
    "be_target = BasicEnumerator(targets=[\"YMnO3\"])\n",
    "ymno3_rxns = be_target.enumerate(filtered_entries)"
   ]
  },
  {
   "cell_type": "code",
   "execution_count": 17,
   "id": "ede95782",
   "metadata": {},
   "outputs": [
    {
     "data": {
      "text/plain": [
       "[0.02564 YMn12 + 1.359 Mn2O3 -> Mn3O4 + 0.02564 YMnO3,\n",
       " 0.6667 Y2Mn2O7 + 0.3333 Mn -> YMnO3 + 0.3333 YMn2O5,\n",
       " MnO + YMn2O5 -> YMnO3 + Mn2O3,\n",
       " 4.667 Mn5O8 + YMn12 -> YMnO3 + 34.33 MnO,\n",
       " 0.5 Y2Mn2O7 + Mn3O4 -> YMnO3 + 1.5 Mn2O3,\n",
       " Y2Mn2O7 + 0.625 Mn -> 2 YMnO3 + 0.125 Mn5O8,\n",
       " 0.375 Mn5O8 + Y -> YMnO3 + 0.875 Mn,\n",
       " Y + 2 Mn2O3 -> YMnO3 + 3 MnO,\n",
       " MnO + 0.6667 Y2O3 -> YMnO3 + 0.3333 Y,\n",
       " Mn + Y2O3 -> YMnO3 + Y,\n",
       " 2 Mn3O4 + Y -> YMnO3 + 5 MnO,\n",
       " YMn12 + 1.5 O2 -> YMnO3 + 11 Mn,\n",
       " 0.4882 Y2Mn2O7 + 0.0237 YMn12 -> YMnO3 + 0.05213 Mn5O8,\n",
       " 0.5 Y2Mn2O7 + 0.3333 Mn -> YMnO3 + 0.1667 Mn2O3,\n",
       " Mn3O4 + YMn2O5 -> YMnO3 + 2 Mn2O3,\n",
       " Mn5O8 + 2.861 Y -> 2.667 YMnO3 + 0.1944 YMn12,\n",
       " Mn3O4 + 2 YMn2O5 -> 2 YMnO3 + Mn5O8,\n",
       " 0.5 Y2Mn2O7 + 0.5 Mn -> YMnO3 + 0.5 MnO,\n",
       " 0.75 Mn3O4 + YMn12 -> YMnO3 + 13.25 Mn,\n",
       " 0.025 YMn12 + 0.975 YMn2O5 -> YMnO3 + 0.625 Mn2O3,\n",
       " 14 Mn3O4 + YMn12 -> YMnO3 + 53 MnO,\n",
       " 51.5 MnO2 + YMn12 -> YMnO3 + 12.5 Mn5O8,\n",
       " YMn12 + 14 Mn2O3 -> YMnO3 + 39 MnO,\n",
       " 0.4 Y + 0.6 YMn2O5 -> YMnO3 + 0.2 Mn,\n",
       " 0.5 Y2Mn2O7 + 0.25 Mn -> YMnO3 + 0.25 MnO2,\n",
       " Mn3O4 + 1.359 Y2O3 -> 2.692 YMnO3 + 0.02564 YMn12,\n",
       " Mn + YMn2O5 -> YMnO3 + 2 MnO,\n",
       " Mn + 0.07692 Y2O3 -> 0.07692 YMnO3 + 0.07692 YMn12,\n",
       " YMn12 + 7 O2 -> YMnO3 + 11 MnO,\n",
       " Y2Mn2O7 + 1.25 Mn3O4 -> 2 YMnO3 + 0.75 Mn5O8,\n",
       " YMn2O5 -> YMnO3 + MnO2,\n",
       " 0.5146 Mn5O8 + 0.03883 YMn12 -> Mn3O4 + 0.03883 YMnO3,\n",
       " Y2Mn2O7 + 3 MnO -> Mn3O4 + 2 YMnO3,\n",
       " 2 Mn5O8 + 5 Y2O3 -> Y2Mn2O7 + 8 YMnO3,\n",
       " YMn12 + Mn2O3 -> YMnO3 + 13 Mn,\n",
       " 0.6667 Mn5O8 + Y -> YMnO3 + 2.333 MnO,\n",
       " 0.3333 Y + 0.6667 YMn2O5 -> YMnO3 + 0.3333 MnO,\n",
       " 1.5 MnO + 0.5 Y2O3 -> YMnO3 + 0.5 Mn,\n",
       " 39 Mn5O8 + YMn12 -> YMnO3 + 103 Mn2O3,\n",
       " 0.5 Mn3O4 + 0.5 Y2O3 -> YMnO3 + 0.5 MnO,\n",
       " 0.3333 Mn3O4 + 0.5556 Y2O3 -> YMnO3 + 0.1111 Y,\n",
       " 0.25 Y2O3 + 0.5 YMn2O5 -> YMnO3 + 0.125 O2,\n",
       " 0.5 Y2Mn2O7 -> YMnO3 + 0.25 O2,\n",
       " 0.4902 Y2Mn2O7 + 0.01961 YMn12 -> YMnO3 + 0.2157 MnO2,\n",
       " 0.4286 Y2Mn2O7 + 0.1429 YMn12 -> YMnO3 + 1.571 Mn,\n",
       " 4.818 Y2Mn2O7 + 0.2727 YMn12 -> Mn3O4 + 9.909 YMnO3,\n",
       " Y2Mn2O7 + 0.75 Mn -> 0.25 Mn3O4 + 2 YMnO3,\n",
       " 0.2 Mn5O8 + 0.5 Y2O3 -> YMnO3 + 0.05 O2,\n",
       " 0.08333 YMn12 + Y2O3 -> YMnO3 + 1.083 Y,\n",
       " 3 Mn5O8 + Y -> YMnO3 + 7 Mn2O3,\n",
       " MnO + 0.359 Y2O3 -> 0.6923 YMnO3 + 0.02564 YMn12,\n",
       " Y2O3 + Mn2O3 -> 2 YMnO3,\n",
       " 3 MnO + YMn12 -> YMnO3 + 14 Mn,\n",
       " Mn + 3 YMn2O5 -> 3 YMnO3 + 2 Mn2O3,\n",
       " 3 MnO2 + Y -> YMnO3 + Mn2O3,\n",
       " 14 MnO2 + YMn12 -> YMnO3 + 25 MnO,\n",
       " Mn + 2 YMn2O5 -> Mn3O4 + 2 YMnO3,\n",
       " 0.2727 YMn12 + 2.409 O2 -> Mn3O4 + 0.2727 YMnO3,\n",
       " Y + 0.9231 Mn2O3 -> 0.9231 YMnO3 + 0.07692 YMn12,\n",
       " 1.5 MnO2 + YMn12 -> YMnO3 + 12.5 Mn,\n",
       " 2 Y2Mn2O7 + Mn3O4 -> YMnO3 + 3 YMn2O5,\n",
       " 2 MnO2 + Y -> YMnO3 + MnO,\n",
       " MnO2 + 0.2857 Y -> 0.2857 YMnO3 + 0.1429 Mn5O8,\n",
       " 0.01905 YMn12 + 0.981 YMn2O5 -> YMnO3 + 0.2381 Mn5O8,\n",
       " 0.4 YMn12 + 0.6 YMn2O5 -> YMnO3 + 5 Mn,\n",
       " 39 MnO2 + YMn12 -> YMnO3 + 25 Mn2O3,\n",
       " Mn3O4 + 1.472 Y -> 1.333 YMnO3 + 0.1389 YMn12,\n",
       " MnO + 1.5 YMn2O5 -> 1.5 YMnO3 + 0.5 Mn5O8,\n",
       " 0.5 Y2Mn2O7 + MnO -> YMnO3 + 0.5 Mn2O3,\n",
       " YMn12 + 9.75 O2 -> YMnO3 + 5.5 Mn2O3,\n",
       " Y + 3.5 YMn2O5 -> 4.5 YMnO3 + 0.5 Mn5O8,\n",
       " YMn12 + 12.5 O2 -> YMnO3 + 11 MnO2,\n",
       " 0.4875 Y2Mn2O7 + 0.025 YMn12 -> YMnO3 + 0.1375 Mn2O3,\n",
       " 2.12 MnO2 + 0.08 YMn12 -> Mn3O4 + 0.08 YMnO3,\n",
       " 0.3333 Mn5O8 + 0.6667 Y2O3 -> YMnO3 + 0.3333 YMn2O5,\n",
       " Y + 1.44 YMn2O5 -> 2.4 YMnO3 + 0.04 YMn12,\n",
       " MnO2 + 0.4 Y -> 0.2 Mn3O4 + 0.4 YMnO3,\n",
       " YMn2O5 + 2 Mn2O3 -> YMnO3 + Mn5O8,\n",
       " 0.25 Mn5O8 + 0.5 Y2O3 -> YMnO3 + 0.25 MnO2,\n",
       " 0.375 Mn3O4 + 0.5 Y2O3 -> YMnO3 + 0.125 Mn,\n",
       " Y + Mn2O3 -> YMnO3 + Mn,\n",
       " 0.7143 Mn5O8 + 0.5714 Y -> Mn3O4 + 0.5714 YMnO3,\n",
       " MnO + 0.3889 Y -> 0.3333 YMnO3 + 0.05556 YMn12,\n",
       " 1.5 MnO2 + Y -> YMnO3 + 0.5 Mn,\n",
       " 0.75 Mn3O4 + Y -> YMnO3 + 1.25 Mn,\n",
       " Y2Mn2O7 + 0.6667 Y -> 2 YMnO3 + 0.3333 Y2O3,\n",
       " Y + 2.5 YMn2O5 -> 0.5 Mn3O4 + 3.5 YMnO3,\n",
       " 0.06667 YMn12 + 0.9333 YMn2O5 -> YMnO3 + 1.667 MnO,\n",
       " 0.5 Y2Mn2O7 + 0.25 Mn3O4 -> YMnO3 + 0.75 MnO2,\n",
       " 0.4828 Y2Mn2O7 + 0.03448 YMn12 -> YMnO3 + 0.3793 MnO,\n",
       " Y + 5 Mn2O3 -> 3 Mn3O4 + YMnO3,\n",
       " 0.25 Y + 0.75 YMn2O5 -> YMnO3 + 0.25 Mn2O3,\n",
       " Mn + 4 YMn2O5 -> 4 YMnO3 + Mn5O8,\n",
       " Y2Mn2O7 + MnO -> YMnO3 + YMn2O5,\n",
       " 0.625 Y2Mn2O7 + 0.025 YMn12 -> YMnO3 + 0.275 YMn2O5,\n",
       " MnO2 + 0.6944 Y -> 0.6667 YMnO3 + 0.02778 YMn12,\n",
       " MnO2 + 0.5 Y2O3 -> YMnO3 + 0.25 O2,\n",
       " Y2Mn2O7 + 5 Mn2O3 -> 2 YMnO3 + 2 Mn5O8,\n",
       " Y2Mn2O7 + 1.667 MnO -> 2 YMnO3 + 0.3333 Mn5O8,\n",
       " 0.08 YMn12 + 2.12 YMn2O5 -> Mn3O4 + 2.2 YMnO3,\n",
       " Y2O3 + 2 YMn2O5 -> Y2Mn2O7 + 2 YMnO3,\n",
       " 0.5 Y2Mn2O7 + 0.5 MnO -> YMnO3 + 0.5 MnO2,\n",
       " MnO + 0.5 YMn2O5 -> 0.5 Mn3O4 + 0.5 YMnO3,\n",
       " 3 MnO + Y -> YMnO3 + 2 Mn,\n",
       " YMn12 + 10.3 O2 -> YMnO3 + 2.2 Mn5O8,\n",
       " 0.5 Y2Mn2O7 + 0.5 Mn2O3 -> YMnO3 + MnO2,\n",
       " 0.5 Y2Mn2O7 + 0.25 Mn5O8 -> YMnO3 + 1.25 MnO2,\n",
       " 0.375 Mn5O8 + YMn12 -> YMnO3 + 12.87 Mn]"
      ]
     },
     "execution_count": 17,
     "metadata": {},
     "output_type": "execute_result"
    }
   ],
   "source": [
    "ymno3_rxns"
   ]
  },
  {
   "cell_type": "markdown",
   "id": "27452d91",
   "metadata": {},
   "source": [
    "With `exclusive_targets=True`:"
   ]
  },
  {
   "cell_type": "code",
   "execution_count": 18,
   "id": "89dbc356",
   "metadata": {},
   "outputs": [
    {
     "data": {
      "application/vnd.jupyter.widget-view+json": {
       "model_id": "744f34b8d31a4a8fadf821ee408f2d0c",
       "version_major": 2,
       "version_minor": 0
      },
      "text/plain": [
       "BasicEnumerator:   0%|          | 0/1 [00:00<?, ?it/s]"
      ]
     },
     "metadata": {},
     "output_type": "display_data"
    }
   ],
   "source": [
    "be_target = BasicEnumerator(targets=[\"YMnO3\"], exclusive_targets=True)\n",
    "ymno3_rxns = be_target.enumerate(filtered_entries)"
   ]
  },
  {
   "cell_type": "code",
   "execution_count": 19,
   "id": "c6263834",
   "metadata": {},
   "outputs": [
    {
     "data": {
      "text/plain": [
       "[Y2O3 + Mn2O3 -> 2 YMnO3]"
      ]
     },
     "execution_count": 19,
     "metadata": {},
     "output_type": "execute_result"
    }
   ],
   "source": [
    "ymno3_rxns"
   ]
  },
  {
   "cell_type": "markdown",
   "id": "c2aa527e",
   "metadata": {},
   "source": [
    "And finally with multiple targets (e.g., YMnO3 and O2):"
   ]
  },
  {
   "cell_type": "code",
   "execution_count": 20,
   "id": "74d8cd84",
   "metadata": {},
   "outputs": [
    {
     "data": {
      "application/vnd.jupyter.widget-view+json": {
       "model_id": "9d4b09cde843484e8ec8e35a377bdb9a",
       "version_major": 2,
       "version_minor": 0
      },
      "text/plain": [
       "BasicEnumerator:   0%|          | 0/1 [00:00<?, ?it/s]"
      ]
     },
     "metadata": {},
     "output_type": "display_data"
    }
   ],
   "source": [
    "be_targets = BasicEnumerator(targets=[\"YMnO3\", \"O2\"], exclusive_targets=True)\n",
    "ymno3_rxns_o2 = be_targets.enumerate(filtered_entries)"
   ]
  },
  {
   "cell_type": "code",
   "execution_count": 21,
   "id": "7ac11b74",
   "metadata": {},
   "outputs": [
    {
     "data": {
      "text/plain": [
       "[Y2O3 + Mn2O3 -> 2 YMnO3,\n",
       " 0.25 Y2O3 + 0.5 YMn2O5 -> YMnO3 + 0.125 O2,\n",
       " 0.5 Y2Mn2O7 -> YMnO3 + 0.25 O2,\n",
       " 0.2 Mn5O8 + 0.5 Y2O3 -> YMnO3 + 0.05 O2,\n",
       " MnO2 + 0.5 Y2O3 -> YMnO3 + 0.25 O2]"
      ]
     },
     "execution_count": 21,
     "metadata": {},
     "output_type": "execute_result"
    }
   ],
   "source": [
    "ymno3_rxns_o2"
   ]
  },
  {
   "cell_type": "markdown",
   "id": "6c399338",
   "metadata": {},
   "source": [
    "#### Open entries"
   ]
  },
  {
   "cell_type": "markdown",
   "id": "ded84ba9",
   "metadata": {},
   "source": [
    "In the previous cell, we showed that it was possible to specify YMnO3 as a target, along with O2. However, because O2 is a gas, it is often desirable to include it as an **open entry** in addition to the 1-2 possible precursors/targets. For example, we may want to specify a reaction that follows:\n",
    "\n",
    "$$ A + B ~ (+~O_2) \\rightarrow C + D ~ (+~O_2) $$\n",
    "\n",
    "To do this, we use the `BasicOpenEnumerator` class, which is an extension to the previous basic enumerator. All of the lessons learned above also apply to this class, although now a list of open entry formulas must be specified."
   ]
  },
  {
   "cell_type": "code",
   "execution_count": 22,
   "id": "ee20fdee",
   "metadata": {},
   "outputs": [
    {
     "data": {
      "application/vnd.jupyter.widget-view+json": {
       "model_id": "d19072d078d143afa5d41139a6996ecb",
       "version_major": 2,
       "version_minor": 0
      },
      "text/plain": [
       "BasicEnumerator:   0%|          | 0/1 [00:00<?, ?it/s]"
      ]
     },
     "metadata": {},
     "output_type": "display_data"
    }
   ],
   "source": [
    "be_target_open = BasicOpenEnumerator([\"O2\"],targets=[\"YMnO3\"])\n",
    "ymno3_rxns_open = be_target.enumerate(filtered_entries)"
   ]
  },
  {
   "cell_type": "code",
   "execution_count": 23,
   "id": "cf553b1d",
   "metadata": {},
   "outputs": [
    {
     "data": {
      "text/plain": [
       "[Y2O3 + Mn2O3 -> 2 YMnO3]"
      ]
     },
     "execution_count": 23,
     "metadata": {},
     "output_type": "execute_result"
    }
   ],
   "source": [
    "ymno3_rxns_open"
   ]
  },
  {
   "cell_type": "markdown",
   "id": "a012a55e",
   "metadata": {},
   "source": [
    "You will now see that the reactions from before are included in this new list, along with many other open-O2 reactions -- some which even have 3 reactants or 3 products. In other words, the open entry/entries do not count towards the specified $n$ of the reactions.\n",
    "\n",
    "It is even possible to specify multiple open entries, allowing for even more complex reactions (such as ones with 4+ reactants or products). For example, specifiyng Y2O3 and O2 as both being open:"
   ]
  },
  {
   "cell_type": "code",
   "execution_count": 24,
   "id": "364b7e48",
   "metadata": {},
   "outputs": [
    {
     "data": {
      "application/vnd.jupyter.widget-view+json": {
       "model_id": "6c225e9dfed64013a6cbab3c09d91654",
       "version_major": 2,
       "version_minor": 0
      },
      "text/plain": [
       "BasicOpenEnumerator:   0%|          | 0/1 [00:00<?, ?it/s]"
      ]
     },
     "metadata": {},
     "output_type": "display_data"
    }
   ],
   "source": [
    "be_target_open2 = BasicOpenEnumerator([\"Y2O3\", \"O2\"],targets=[\"YMnO3\"])\n",
    "ymno3_rxns_open2 = be_target_open2.enumerate(filtered_entries)"
   ]
  },
  {
   "cell_type": "code",
   "execution_count": 25,
   "id": "cd48333b",
   "metadata": {},
   "outputs": [
    {
     "data": {
      "text/plain": [
       "[Y2Mn2O7 + 4 Mn3O4 + O2 + Y2O3 -> 4 YMnO3 + 2 Mn5O8,\n",
       " 0.4045 MnO2 + 0.3596 YMn2O5 -> 0.04494 YMnO3 + 1.079 Mn + O2 + 0.1573 Y2O3,\n",
       " 3.5 Mn5O8 + 3 Y -> 5.5 Mn3O4 + YMnO3 + Y2O3,\n",
       " 0.4162 Y2Mn2O7 + 0.1675 YMn2O5 -> 0.05584 Mn3O4 + YMnO3 + 0.264 O2,\n",
       " 3 MnO + 3 YMn2O5 -> YMnO3 + Y2O3 + 4 Mn2O3,\n",
       " Mn3O4 + YMn12 + 10 O2 -> YMnO3 + 7 Mn2O3,\n",
       " 4 MnO2 + 1.667 Y -> Mn3O4 + YMnO3 + 0.3333 Y2O3,\n",
       " 0.2857 Y + YMn2O5 -> 1.286 YMnO3 + 0.7143 Mn + 0.5714 O2,\n",
       " YMn12 + 13 O2 + Mn2O3 -> YMnO3 + 13 MnO2,\n",
       " 1.812 MnO + Y2O3 + 0.5454 YMn2O5 -> 2.513 YMnO3 + 0.03247 YMn12,\n",
       " Y2Mn2O7 -> YMnO3 + 0.25 O2 + MnO2 + 0.5 Y2O3,\n",
       " 0.2059 Mn5O8 + 0.1765 YMn2O5 -> 0.1765 YMnO3 + 1.206 Mn + O2,\n",
       " 1.594 Mn3O4 + O2 + Y2O3 + 0.6604 Y -> 2.66 YMnO3 + 0.4245 Mn5O8,\n",
       " 0.625 Y2Mn2O7 + 0.25 Mn3O4 -> YMnO3 + MnO2 + 0.125 Y2O3,\n",
       " 15.17 Y + 6.5 YMn2O5 -> YMnO3 + YMn12 + 9.833 Y2O3,\n",
       " 15 Mn3O4 + YMn12 + Y2O3 -> 3 YMnO3 + 54 MnO,\n",
       " 0.02766 Y2O3 + MnO2 + 0.6645 Y -> 0.6943 YMnO3 + 0.02547 YMn12,\n",
       " 2.5 Y2Mn2O7 + 0.5 Mn2O3 -> YMnO3 + Mn5O8 + O2 + 2 Y2O3,\n",
       " Mn3O4 + O2 + 0.07692 YMn12 + Y2O3 -> 2.077 YMnO3 + 0.9231 Mn2O3,\n",
       " 2 Y2Mn2O7 + 3 Mn3O4 -> YMnO3 + 10 O2 + YMn12 + Y2O3,\n",
       " YMn12 + O2 + 0.5 YMn2O5 -> 1.5 YMnO3 + 11.5 Mn,\n",
       " Y2Mn2O7 + Mn + 0.3 O2 -> 2 YMnO3 + 0.2 Mn5O8,\n",
       " Y2Mn2O7 + 7 O2 + YMn12 + Y2O3 -> 5 YMnO3 + 9 MnO,\n",
       " MnO + 10 O2 + YMn12 + Y2O3 -> 3 YMnO3 + 5 Mn2O3,\n",
       " Y2O3 + 6 MnO + Y -> 3 YMnO3 + 3 Mn,\n",
       " Y2Mn2O7 + 0.3333 Y -> YMnO3 + Mn + O2 + 0.6667 Y2O3,\n",
       " 0.1429 Y + 2.857 YMn2O5 -> 1.571 Mn3O4 + O2 + YMnO3 + Y2O3,\n",
       " 4 MnO2 + Y -> Mn3O4 + YMnO3 + 0.5 O2,\n",
       " Y2Mn2O7 + 5.5 Mn2O3 -> YMnO3 + YMn12 + 10.25 O2,\n",
       " Y2Mn2O7 + YMn2O5 -> YMnO3 + 3 MnO2 + Y2O3,\n",
       " Mn3O4 + O2 + 2 Y -> 2 YMnO3 + Mn,\n",
       " 0.1915 Y2O3 + MnO2 + 0.1915 Y -> 0.1489 YMnO3 + 0.4255 YMn2O5,\n",
       " 3 Y2Mn2O7 + 1.667 Y -> YMnO3 + Mn5O8 + 3.333 Y2O3,\n",
       " Y2Mn2O7 + 0.12 YMn12 + O2 -> 0.8 YMnO3 + 1.32 YMn2O5,\n",
       " O2 + Y + 3 Mn2O3 -> YMnO3 + Mn5O8,\n",
       " Mn5O8 + YMn12 + 13.5 O2 -> YMnO3 + 16 MnO2,\n",
       " 1.625 Mn + O2 + Y2O3 + YMn2O5 -> 3 YMnO3 + 0.125 Mn5O8,\n",
       " Mn5O8 + O2 + YMn2O5 -> YMnO3 + 6 MnO2,\n",
       " O2 + 0.08 YMn12 + Y2O3 + Mn2O3 -> 2.08 YMnO3 + 0.88 MnO2,\n",
       " 5 Mn3O4 + O2 + 8 Y2O3 + YMn2O5 -> 17 YMnO3,\n",
       " 8 Y2Mn2O7 + 3 Mn5O8 -> YMnO3 + O2 + 15 YMn2O5,\n",
       " Mn3O4 + Y2O3 + 0.3333 Y -> 2.333 YMnO3 + 0.6667 Mn,\n",
       " 0.5 Y2Mn2O7 + MnO2 -> YMnO3 + MnO + 0.75 O2,\n",
       " MnO2 + YMn2O5 -> YMnO3 + 2 MnO + O2,\n",
       " 0.5 Mn3O4 + O2 + Y -> 0.5 YMnO3 + 0.5 YMn2O5,\n",
       " Y2Mn2O7 + Mn + 0.6667 Y2O3 -> 3 YMnO3 + 0.3333 Y,\n",
       " MnO2 + O2 + YMn12 + 11.67 Y2O3 -> 13 YMnO3 + 11.33 Y,\n",
       " 0.1875 O2 + 0.4375 Y + 0.5625 YMn2O5 -> YMnO3 + 0.0625 Mn2O3,\n",
       " 13.67 Mn5O8 + 3 YMn12 -> YMnO3 + 103.3 MnO + Y2O3,\n",
       " 4 MnO2 + Y -> YMnO3 + 3 MnO + O2,\n",
       " 0.9048 O2 + Y + 0.5 Mn2O3 -> 0.3095 Y2Mn2O7 + 0.381 YMnO3,\n",
       " MnO2 + O2 + 0.12 YMn12 + Y2O3 -> 1.8 YMnO3 + 0.32 YMn2O5,\n",
       " 13 MnO + 7.333 Y -> YMnO3 + O2 + YMn12 + 2.667 Y2O3,\n",
       " 3 YMn12 + 158 Mn2O3 -> 117 Mn3O4 + YMnO3 + Y2O3,\n",
       " Mn3O4 + YMn2O5 -> YMnO3 + 4 MnO + O2,\n",
       " MnO2 + O2 + 0.1429 YMn12 + Y2O3 -> 2.143 YMnO3 + 0.5714 MnO,\n",
       " Mn3O4 + YMn12 + 6.5 O2 -> YMnO3 + 14 MnO,\n",
       " Y2Mn2O7 + Y2O3 + 2 Mn2O3 -> 2 YMnO3 + 2 YMn2O5,\n",
       " Mn3O4 + Y2O3 + 0.3889 Y -> 2.333 YMnO3 + 0.05556 YMn12,\n",
       " Mn3O4 + O2 + 0.07692 YMn12 + 1.923 Y2O3 -> 3.923 YMnO3,\n",
       " YMn12 + O2 + 0.3333 Mn2O3 -> YMnO3 + 11.67 Mn,\n",
       " 0.5 Y2Mn2O7 + 0.2 Mn5O8 -> YMnO3 + MnO2 + 0.05 O2,\n",
       " Y2Mn2O7 + 11.5 O2 + YMn12 + Y2O3 -> 5 YMnO3 + 9 MnO2,\n",
       " 155 MnO2 + 3 YMn12 -> YMnO3 + 38 Mn5O8 + Y2O3,\n",
       " Mn5O8 + O2 + 0.01162 YMn12 + 2.564 Y2O3 -> 2.273 Y2Mn2O7 + 0.5925 YMnO3,\n",
       " 0.3243 Y2Mn2O7 + 0.6757 YMn2O5 -> YMnO3 + Mn + 1.081 O2 + 0.1622 Y2O3,\n",
       " Mn5O8 + O2 + 3 Y2O3 + YMn2O5 -> 3 Y2Mn2O7 + YMnO3,\n",
       " 2.875 Y2Mn2O7 + 0.075 YMn12 -> YMnO3 + Y2O3 + 2.825 YMn2O5,\n",
       " Y2O3 + O2 + 3 Y + 5 YMn2O5 -> 10 YMnO3,\n",
       " 15 MnO2 + YMn12 + Y2O3 -> 3 YMnO3 + 24 MnO,\n",
       " Mn3O4 + O2 + Y -> YMnO3 + Mn2O3,\n",
       " 3 YMn12 + 164 Mn2O3 -> 121 Mn3O4 + O2 + YMnO3 + Y2O3,\n",
       " 0.5 Y2Mn2O7 + MnO2 -> YMnO3 + Mn + 1.25 O2,\n",
       " 0.5 Y2Mn2O7 + 0.2 Mn5O8 -> YMnO3 + Mn + 1.05 O2,\n",
       " Y2Mn2O7 + Y2O3 + 6 Mn2O3 -> 4 YMnO3 + 2 Mn5O8,\n",
       " MnO2 + O2 + 0.1321 YMn12 + Y2O3 -> 0.1509 Mn3O4 + 2.132 YMnO3,\n",
       " 0.6559 MnO + 1.172 YMn2O5 -> YMnO3 + 0.129 O2 + 0.08602 Y2O3 + Mn2O3,\n",
       " Y2Mn2O7 + YMn12 + O2 -> 3 YMnO3 + 11 Mn,\n",
       " 13 Y + 6.5 Mn2O3 -> YMnO3 + YMn12 + 5.5 Y2O3,\n",
       " Mn3O4 + 1.524 O2 + Y2O3 + Y -> 1.048 Y2Mn2O7 + 0.9048 YMnO3,\n",
       " 0.5 Y2Mn2O7 -> YMnO3 + 0.25 O2,\n",
       " 1.25 Mn3O4 + YMn12 -> YMnO3 + 14.75 Mn + O2,\n",
       " Y2Mn2O7 + O2 + 8 MnO + Y2O3 -> 2 Mn3O4 + 4 YMnO3,\n",
       " Mn3O4 + 2.5 O2 + 3 Y -> 3 YMnO3,\n",
       " 0.1818 O2 + 0.4545 Y + 0.5455 YMn2O5 -> YMnO3 + 0.09091 MnO,\n",
       " 41 MnO2 + 3 YMn12 -> YMnO3 + 76 MnO + Y2O3,\n",
       " 0.075 YMn12 + 2.925 YMn2O5 -> YMnO3 + Y2O3 + 2.875 Mn2O3,\n",
       " 2 Y2Mn2O7 -> Mn3O4 + 1.25 O2 + YMnO3 + 1.5 Y2O3,\n",
       " Y2Mn2O7 + Mn3O4 + Y2O3 -> 3 YMnO3 + YMn2O5,\n",
       " 121 Mn5O8 + 3 YMn12 -> YMnO3 + O2 + Y2O3 + 320 Mn2O3,\n",
       " 0.3333 Mn5O8 + YMn2O5 -> YMnO3 + 2.667 MnO + O2,\n",
       " 4 Y2Mn2O7 + Mn -> 7 YMnO3 + O2 + YMn2O5,\n",
       " MnO2 + O2 + YMn12 + 0.3333 Y2O3 -> 1.667 YMnO3 + 11.33 Mn,\n",
       " 13 MnO2 + 16 Y -> YMnO3 + O2 + YMn12 + 7 Y2O3,\n",
       " O2 + 0.09091 YMn12 + Y2O3 + YMn2O5 -> 0.7273 Y2Mn2O7 + 1.636 YMnO3,\n",
       " 1.083 Mn3O4 + O2 + Y2O3 + 0.9722 Y -> 2.972 YMnO3 + 0.1389 Mn2O3,\n",
       " 4.333 Mn3O4 + 2 Y -> YMnO3 + YMn12 + 7.167 O2,\n",
       " 24 Y2Mn2O7 + YMn12 + Y2O3 -> 42 YMnO3 + 9 YMn2O5,\n",
       " O2 + YMn12 + Y2O3 + 13 YMn2O5 -> 16 YMnO3 + 22 MnO,\n",
       " Mn5O8 + O2 + 1.667 Y -> 1.667 YMnO3 + 1.667 Mn2O3,\n",
       " MnO + YMn12 + O2 -> YMnO3 + 12 Mn,\n",
       " 0.5 Y2Mn2O7 + 0.5 Mn2O3 -> YMnO3 + Mn + O2,\n",
       " Y2Mn2O7 + 2.2 Mn5O8 -> YMnO3 + YMn12 + 10.8 O2,\n",
       " MnO2 + YMn12 + 10.1 O2 -> YMnO3 + 2.4 Mn5O8,\n",
       " 5 Y2Mn2O7 + 5 MnO -> 10 YMnO3 + Mn5O8 + O2,\n",
       " 9 MnO2 + 2 YMn2O5 -> YMnO3 + YMn12 + 12.5 O2,\n",
       " O2 + YMn12 + Y2O3 + 2 YMn2O5 -> 5 YMnO3 + 11 Mn,\n",
       " MnO + YMn12 + 13 O2 -> YMnO3 + 12 MnO2,\n",
       " 3 MnO2 + YMn12 + Y2O3 -> 3 YMnO3 + 12 Mn,\n",
       " MnO2 + YMn12 + 9.5 O2 -> YMnO3 + 6 Mn2O3,\n",
       " Mn3O4 + O2 + 0.1304 Y2O3 + 1.435 Y -> 1.696 YMnO3 + 1.304 MnO,\n",
       " 1.25 Y2Mn2O7 -> YMnO3 + O2 + 1.5 MnO + 0.75 Y2O3,\n",
       " Y2Mn2O7 + 9.7 O2 + YMn12 + Y2O3 -> 5 YMnO3 + 1.8 Mn5O8,\n",
       " Y2Mn2O7 + Mn3O4 -> 1.167 YMnO3 + 0.25 O2 + 0.4167 Y2O3 + 1.917 Mn2O3,\n",
       " YMn12 + O2 + 12 Mn2O3 -> YMnO3 + 35 MnO,\n",
       " O2 + YMn12 + Y2O3 + 24 YMn2O5 -> 11 Mn3O4 + 27 YMnO3,\n",
       " 0.04444 YMn12 + 2.733 YMn2O5 -> YMnO3 + Mn5O8 + 0.8889 Y2O3,\n",
       " Y2Mn2O7 + Mn5O8 + 0.5 O2 -> 2 YMnO3 + 5 MnO2,\n",
       " Y + 4 Mn2O3 -> YMnO3 + 7 MnO + O2,\n",
       " O2 + 1.143 MnO + 0.8571 Y -> 0.8571 YMnO3 + 0.2857 MnO2,\n",
       " 15 Y2Mn2O7 + YMn12 + Y2O3 -> 33 YMnO3 + 9 MnO,\n",
       " MnO + YMn2O5 -> 0.6667 Mn3O4 + YMnO3 + 0.1667 O2,\n",
       " Mn5O8 + 1.5 O2 + Y -> YMnO3 + 4 MnO2,\n",
       " O2 + YMn12 + Y2O3 + 35 YMn2O5 -> 38 YMnO3 + 22 Mn2O3,\n",
       " Mn5O8 + 0.02564 YMn12 + Y2O3 -> 2.026 YMnO3 + 1.641 Mn2O3,\n",
       " 39.5 Mn5O8 + 3 YMn12 -> 77.5 Mn3O4 + YMnO3 + Y2O3,\n",
       " 1.5 Mn3O4 + 3 Y -> YMnO3 + 3.5 Mn + Y2O3,\n",
       " Y2Mn2O7 + 11 MnO2 -> YMnO3 + YMn12 + 13 O2,\n",
       " O2 + YMn2O5 + Y2O3 + 13 Mn2O3 -> 3 YMnO3 + 5 Mn5O8,\n",
       " 19.5 Y2Mn2O7 + YMn12 + Y2O3 -> 42 YMnO3 + 4.5 Mn2O3,\n",
       " Y2O3 + Y + 1.923 Mn2O3 -> 2.923 YMnO3 + 0.07692 YMn12,\n",
       " YMn12 + 16 Mn2O3 -> YMnO3 + 43 MnO + O2,\n",
       " 2.375 Y2Mn2O7 + 1.25 Mn -> YMnO3 + Mn5O8 + 1.875 Y2O3,\n",
       " 4 Mn3O4 + Y -> YMnO3 + 11 MnO + O2,\n",
       " 0.2667 O2 + MnO + 0.02222 Y -> 0.02222 YMnO3 + 0.4889 Mn2O3,\n",
       " 0.01613 Y2Mn2O7 + Mn + 0.7419 O2 + 0.07258 Y2O3 -> 0.1774 YMnO3 + 0.4274 Mn2O3,\n",
       " 18 Y2Mn2O7 + YMn12 + Y2O3 -> 3 Mn3O4 + 39 YMnO3,\n",
       " O2 + YMn12 + 12.33 Y2O3 + Mn2O3 -> 14 YMnO3 + 11.67 Y,\n",
       " 4 Mn + 3 YMn2O5 -> YMnO3 + 9 MnO + Y2O3,\n",
       " Mn5O8 + 4.286 O2 + 5 Y -> 1.571 Y2Mn2O7 + 1.857 YMnO3,\n",
       " YMn12 + O2 + 35 YMn2O5 -> 36 YMnO3 + 23 Mn2O3,\n",
       " 2 Y2Mn2O7 + 3 MnO2 -> YMnO3 + O2 + 3 YMn2O5,\n",
       " 3 Mn + O2 + YMn2O5 -> YMnO3 + 4 MnO,\n",
       " MnO + O2 + YMn12 + 12 Y2O3 -> 13 YMnO3 + 12 Y,\n",
       " 3 YMn2O5 -> Mn3O4 + 3 YMnO3 + O2,\n",
       " 1.5 Y2Mn2O7 + MnO2 -> Mn3O4 + 1.25 O2 + YMnO3 + Y2O3,\n",
       " 22 Y2Mn2O7 + O2 + YMn12 + Y2O3 -> 38 YMnO3 + 9 YMn2O5,\n",
       " Y2Mn2O7 + 2.5 O2 + YMn12 + Y2O3 -> 5 YMnO3 + 9 Mn,\n",
       " Y2Mn2O7 + Mn + 0.25 O2 -> 2 YMnO3 + 0.5 Mn2O3,\n",
       " MnO + YMn12 + 10.6 O2 -> YMnO3 + 2.4 Mn5O8,\n",
       " MnO2 + 0.002324 YMn12 + 0.5128 Y2O3 -> 0.4547 Y2Mn2O7 + 0.1185 YMnO3,\n",
       " 2 Y2Mn2O7 + 0.3333 Y -> Mn3O4 + O2 + YMnO3 + 1.667 Y2O3,\n",
       " 0.4 Mn5O8 + 1.133 Y -> YMnO3 + Mn + 0.06667 Y2O3,\n",
       " 0.6667 Y + YMn2O5 -> YMnO3 + MnO + 0.3333 Y2O3,\n",
       " YMn12 + 59 Mn2O3 -> 43 Mn3O4 + YMnO3 + O2,\n",
       " Y + 2 YMn2O5 -> Mn3O4 + YMnO3 + Y2O3,\n",
       " O2 + 1.2 MnO + 0.8 Y -> 0.4 YMnO3 + 0.4 YMn2O5,\n",
       " Mn + 0.3333 O2 + YMn2O5 -> 0.6667 Mn3O4 + YMnO3,\n",
       " 1.5 Y2Mn2O7 + Mn -> YMnO3 + Y2O3 + 1.5 Mn2O3,\n",
       " YMn2O5 + Mn2O3 -> Mn3O4 + YMnO3 + 0.5 O2,\n",
       " YMn12 + Y2O3 + 54 Mn2O3 -> 39 Mn3O4 + 3 YMnO3,\n",
       " Y2Mn2O7 + 2.25 Mn + 1.25 O2 + Y2O3 -> 3.75 YMnO3 + 0.25 YMn2O5,\n",
       " 0.1224 O2 + 0.449 Y + 0.551 YMn2O5 -> YMnO3 + 0.102 Mn,\n",
       " 13.83 Y + 6.5 YMn2O5 -> YMnO3 + O2 + YMn12 + 9.167 Y2O3,\n",
       " Mn3O4 + O2 + 0.8571 Y -> 0.8571 YMnO3 + 0.4286 Mn5O8,\n",
       " Mn3O4 + O2 + 0.04 YMn12 + Y2O3 -> 0.6 YMnO3 + 1.44 YMn2O5,\n",
       " Mn + O2 + YMn2O5 -> YMnO3 + 2 MnO2,\n",
       " 5 MnO + O2 + YMn2O5 -> YMnO3 + 3 Mn2O3,\n",
       " 2.5 MnO2 + 3 YMn2O5 -> YMnO3 + 1.5 Mn5O8 + O2 + Y2O3,\n",
       " 1.143 O2 + MnO + Y -> 0.2857 Y2Mn2O7 + 0.4286 YMnO3,\n",
       " 3 YMn2O5 + 5 Mn2O3 -> YMnO3 + 3 Mn5O8 + Y2O3,\n",
       " O2 + Y + Mn2O3 -> YMnO3 + MnO2,\n",
       " O2 + 5 MnO + Y2O3 + YMn2O5 -> 3 YMnO3 + 2 Mn2O3,\n",
       " YMn12 + Y2O3 + 27 YMn2O5 -> 12 Mn3O4 + 30 YMnO3,\n",
       " 1.25 Mn3O4 + Y -> YMnO3 + 2.75 Mn + O2,\n",
       " 5 Y2Mn2O7 + 2 Y -> 10 YMnO3 + O2 + Y2O3,\n",
       " 3.5 Y2Mn2O7 -> YMnO3 + O2 + 1.5 Y2O3 + 3 YMn2O5,\n",
       " 5 Mn5O8 + 3 Y -> 8 Mn3O4 + O2 + YMnO3 + Y2O3,\n",
       " Y2Mn2O7 + Mn5O8 + Y2O3 -> YMnO3 + 3 YMn2O5,\n",
       " YMn12 + 1.667 Mn2O3 -> YMnO3 + 14.33 Mn + O2,\n",
       " 2 Mn3O4 + 3 Y -> YMnO3 + 5 Mn + O2 + Y2O3,\n",
       " Y + 11 Mn2O3 -> 7 Mn3O4 + YMnO3 + O2,\n",
       " MnO2 + YMn12 + 12.33 Y2O3 -> 13 YMnO3 + 12.67 Y,\n",
       " 2.5 MnO2 + YMn12 -> YMnO3 + 13.5 Mn + O2,\n",
       " 0.9167 Y2Mn2O7 + 0.6667 MnO2 -> YMnO3 + O2 + 1.5 MnO + 0.4167 Y2O3,\n",
       " YMn12 + 13 Y2O3 + Mn2O3 -> 14 YMnO3 + 13 Y,\n",
       " Y2Mn2O7 + 6 Mn3O4 + O2 + 9 Y2O3 -> 20 YMnO3,\n",
       " Mn5O8 + 2 Y2O3 + YMn2O5 -> 5 YMnO3 + 2 MnO2,\n",
       " Y2Mn2O7 + YMn2O5 -> Mn3O4 + O2 + YMnO3 + Y2O3,\n",
       " Y2O3 + Mn5O8 + 1.667 Y -> 3.667 YMnO3 + 1.333 Mn,\n",
       " 0.3333 Mn3O4 + Y2O3 + YMn2O5 -> 0.3333 Y2Mn2O7 + 2.333 YMnO3,\n",
       " Y2Mn2O7 + O2 + 3 Mn2O3 -> 2 YMnO3 + 6 MnO2,\n",
       " 5 MnO2 + 4 YMn2O5 -> YMnO3 + 12 O2 + YMn12 + Y2O3,\n",
       " 1.5 O2 + 4 MnO + Y -> Mn3O4 + YMnO3,\n",
       " 2 Mn + 3 YMn2O5 -> YMnO3 + O2 + 7 MnO + Y2O3,\n",
       " 3 YMn12 + 2 Mn2O3 -> YMnO3 + 39 Mn + Y2O3,\n",
       " 1.75 Y2Mn2O7 + 0.75 Y -> YMnO3 + Y2O3 + 1.25 YMn2O5,\n",
       " Y2Mn2O7 + YMn12 + 12 O2 -> 3 YMnO3 + 11 MnO2,\n",
       " 7 Mn3O4 + 3 Y -> YMnO3 + O2 + 20 MnO + Y2O3,\n",
       " Mn3O4 + O2 + 0.1429 YMn12 + Y2O3 -> 2.143 YMnO3 + 2.571 MnO,\n",
       " 2 YMn2O5 -> Mn3O4 + 0.75 O2 + YMnO3 + 0.5 Y2O3,\n",
       " 3 Mn5O8 + YMn2O5 -> YMnO3 + O2 + 8 Mn2O3,\n",
       " 43 MnO2 + YMn12 -> YMnO3 + O2 + 27 Mn2O3,\n",
       " 41 Mn5O8 + 3 YMn12 -> 80 Mn3O4 + O2 + YMnO3 + Y2O3,\n",
       " Mn5O8 + 0.0566 YMn12 + Y2O3 -> 1.208 Mn3O4 + 2.057 YMnO3,\n",
       " 0.8571 Mn + 1.571 YMn2O5 -> Mn3O4 + YMnO3 + 0.2857 Y2O3,\n",
       " 2.333 Mn5O8 + 3 Y -> YMnO3 + O2 + 10.67 MnO + Y2O3,\n",
       " 3 Y2Mn2O7 + MnO2 -> YMnO3 + O2 + Y2O3 + 3 YMn2O5,\n",
       " Y2O3 + 2 O2 + 3 MnO + Y -> Y2Mn2O7 + YMnO3,\n",
       " Y2O3 + O2 + Y + 2 Mn2O3 -> 3 YMnO3 + MnO2,\n",
       " MnO2 + Y2O3 + YMn2O5 -> Y2Mn2O7 + YMnO3,\n",
       " MnO2 + O2 + 0.1282 YMn12 + Y2O3 -> 2.128 YMnO3 + 0.2051 Mn2O3,\n",
       " Mn + 0.5 O2 + YMn2O5 -> YMnO3 + Mn2O3,\n",
       " 0.1562 Mn5O8 + 0.2516 YMn2O5 -> 0.08677 YMnO3 + 1.197 Mn + O2 + 0.08243 Y2O3,\n",
       " 6 Y2Mn2O7 + YMn12 + Y2O3 -> 15 YMnO3 + 9 Mn,\n",
       " 3 Y2Mn2O7 -> YMnO3 + Mn5O8 + 1.25 O2 + 2.5 Y2O3,\n",
       " 1.5 Y2Mn2O7 + 0.03448 Y -> YMnO3 + 0.7241 O2 + 1.017 Y2O3 + Mn2O3,\n",
       " Mn3O4 + O2 + YMn12 + 13 Y2O3 -> 15 YMnO3 + 12 Y,\n",
       " 0.5 Y2Mn2O7 + 0.2 Mn5O8 -> YMnO3 + MnO + 0.55 O2,\n",
       " Mn5O8 + 0.5 O2 + Y2O3 + YMn2O5 -> 3 YMnO3 + 4 MnO2,\n",
       " Y2Mn2O7 + YMn12 + 9.25 O2 -> 3 YMnO3 + 5.5 Mn2O3,\n",
       " 13 MnO2 + 2 Y -> YMnO3 + YMn12 + 11.5 O2,\n",
       " Mn5O8 + 0.1429 YMn12 + Y2O3 -> 2.143 YMnO3 + 4.571 MnO,\n",
       " 2.75 Y2Mn2O7 + 0.5 MnO -> YMnO3 + Mn5O8 + O2 + 2.25 Y2O3,\n",
       " 10 MnO2 + 3 Y -> 3 Mn3O4 + O2 + YMnO3 + Y2O3,\n",
       " Y2Mn2O7 + 6 MnO + O2 -> 2 YMnO3 + 3 Mn2O3,\n",
       " 0.4324 Y2Mn2O7 + 0.5676 YMn2O5 -> YMnO3 + 0.1081 O2 + MnO2 + 0.2162 Y2O3,\n",
       " Y2Mn2O7 + 0.3333 Y -> YMnO3 + MnO2 + 0.6667 Y2O3,\n",
       " O2 + 0.08 YMn12 + Y2O3 + Mn2O3 -> 1.2 YMnO3 + 0.88 YMn2O5,\n",
       " Mn + 2 Y2O3 + 3 YMn2O5 -> 7 YMnO3,\n",
       " 4 Y2Mn2O7 + 3 MnO -> YMnO3 + Y2O3 + 5 YMn2O5,\n",
       " 1.917 Y2Mn2O7 + 0.1667 YMn2O5 -> YMnO3 + O2 + 1.5 Y2O3 + 1.583 Mn2O3,\n",
       " 0.5 Y2Mn2O7 + 0.3333 Mn3O4 -> YMnO3 + Mn + 0.9167 O2,\n",
       " 2.5 O2 + 6 MnO + Y -> YMnO3 + Mn5O8,\n",
       " 13 Mn5O8 + 3 Y -> YMnO3 + O2 + Y2O3 + 32 Mn2O3,\n",
       " 0.7765 MnO2 + 1.612 YMn2O5 -> Mn3O4 + 0.8471 O2 + YMnO3 + 0.3059 Y2O3,\n",
       " 1.2 MnO2 + 0.7 YMn2O5 -> 0.5 YMnO3 + O2 + 2.1 MnO + 0.1 Y2O3,\n",
       " 3 Y + 7 Mn2O3 -> YMnO3 + O2 + 13 MnO + Y2O3,\n",
       " 0.1905 Mn5O8 + 1.286 YMn2O5 -> YMnO3 + O2 + 2.524 MnO + 0.1429 Y2O3,\n",
       " YMn2O5 -> YMnO3 + 0.2 Mn5O8 + 0.2 O2,\n",
       " 2 Y + 6.5 Mn2O3 -> YMnO3 + YMn12 + 8.25 O2,\n",
       " 3 YMn12 + 2.667 Mn2O3 -> YMnO3 + 40.33 Mn + O2 + Y2O3,\n",
       " Y2O3 + O2 + Y + 1.5 Mn2O3 -> 0.5 Y2Mn2O7 + 2 YMnO3,\n",
       " Mn3O4 + 0.2 O2 + YMn2O5 -> YMnO3 + 0.8 Mn5O8,\n",
       " MnO2 + O2 + 0.09091 YMn12 + Y2O3 -> 0.7273 Y2Mn2O7 + 0.6364 YMnO3,\n",
       " 82 MnO2 + 3 YMn12 -> 39 Mn3O4 + O2 + YMnO3 + Y2O3,\n",
       " 5 Mn3O4 + O2 + YMn2O5 -> YMnO3 + 8 Mn2O3,\n",
       " 160 MnO2 + 3 YMn12 -> YMnO3 + 39 Mn5O8 + O2 + Y2O3,\n",
       " Y2Mn2O7 + 9 MnO + O2 -> 3 Mn3O4 + 2 YMnO3,\n",
       " Y2Mn2O7 + 11 Mn -> YMnO3 + YMn12 + 2 O2,\n",
       " 0.4 Mn5O8 + O2 + 1.2 Y -> 0.4 YMnO3 + 0.8 YMn2O5,\n",
       " 2 MnO2 + Y -> YMnO3 + Mn + 0.5 O2,\n",
       " 0.5 Y2Mn2O7 + 0.6 Mn5O8 -> Mn3O4 + YMnO3 + 0.65 O2,\n",
       " 2 Y2Mn2O7 + 1.8 Mn5O8 -> YMnO3 + 11.2 O2 + YMn12 + Y2O3,\n",
       " Y2Mn2O7 + 9.25 O2 + YMn12 + Y2O3 -> 5 YMnO3 + 4.5 Mn2O3,\n",
       " 4.273 Y2Mn2O7 + 0.09091 YMn12 -> 7.636 YMnO3 + O2 + YMn2O5,\n",
       " 2.5 Y2Mn2O7 + 2.5 Mn2O3 -> 5 YMnO3 + Mn5O8 + O2,\n",
       " 3 Y + 2 Mn2O3 -> YMnO3 + 3 Mn + Y2O3,\n",
       " 0.1333 YMn12 + 2.867 YMn2O5 -> YMnO3 + O2 + 6.333 MnO + Y2O3,\n",
       " 0.5 Y2Mn2O7 + 5 MnO2 -> YMnO3 + Mn5O8 + 1.25 O2,\n",
       " Mn5O8 + O2 + 3.472 Y -> 3.333 YMnO3 + 0.1389 YMn12,\n",
       " 5 Y2Mn2O7 + 2 Mn -> 10 YMnO3 + O2 + Mn2O3,\n",
       " 0.3333 Mn3O4 + YMn2O5 -> YMnO3 + 0.1667 O2 + Mn2O3,\n",
       " Mn5O8 + 3.5 O2 + 5 Y -> 5 YMnO3,\n",
       " 29.5 MnO2 + YMn12 -> 13.5 Mn3O4 + YMnO3 + O2,\n",
       " 8 MnO + 3 Y -> YMnO3 + 7 Mn + O2 + Y2O3,\n",
       " Y2Mn2O7 + Mn + 0.1667 O2 -> 0.3333 Mn3O4 + 2 YMnO3,\n",
       " O2 + 0.06189 YMn12 + Y2O3 + 0.6596 Mn2O3 -> 0.7931 Y2Mn2O7 + 0.4758 YMnO3,\n",
       " O2 + 0.12 YMn12 + Y2O3 + YMn2O5 -> 3.12 YMnO3 + 0.32 MnO2,\n",
       " 5 MnO + Y -> YMnO3 + 4 Mn + O2,\n",
       " MnO2 + 0.01259 YMn12 + 0.3147 Y2O3 -> 0.133 YMnO3 + 0.509 YMn2O5,\n",
       " 2 Y2Mn2O7 + YMn2O5 -> 5 YMnO3 + MnO2 + O2,\n",
       " Mn3O4 + 1.5 O2 + Y -> YMnO3 + 2 MnO2,\n",
       " 0.8571 Y2Mn2O7 + 1.286 YMn12 -> YMnO3 + 16.14 Mn + Y2O3,\n",
       " Mn3O4 + O2 + YMn12 + Y2O3 -> 3 YMnO3 + 12 Mn,\n",
       " 2 MnO2 + YMn2O5 -> Mn3O4 + YMnO3 + O2,\n",
       " 0.005789 YMn12 + YMn2O5 -> 0.2551 YMnO3 + 0.3629 Mn5O8 + 0.1028 O2 + 0.3753 Y2O3,\n",
       " 117 Mn5O8 + 3 YMn12 -> YMnO3 + Y2O3 + 310 Mn2O3,\n",
       " Y2O3 + O2 + 4 MnO + Y -> 3 YMnO3 + Mn,\n",
       " MnO2 + 3 YMn2O5 -> YMnO3 + O2 + Y2O3 + 3 Mn2O3,\n",
       " 1.1 Y2Mn2O7 + 0.2 YMn2O5 -> YMnO3 + O2 + 1.6 MnO + 0.7 Y2O3,\n",
       " 0.525 Y2Mn2O7 + 0.175 Mn5O8 -> YMnO3 + 0.925 Mn + O2 + 0.025 Y2O3,\n",
       " 1.667 Mn3O4 + 4 YMn2O5 -> YMnO3 + 10.33 O2 + YMn12 + Y2O3,\n",
       " Y2Mn2O7 + O2 + 6 MnO + Y2O3 -> 4 YMnO3 + 2 Mn2O3,\n",
       " 0.8529 Y2Mn2O7 -> YMnO3 + O2 + 0.05882 YMn12 + 0.3235 Y2O3,\n",
       " 5 Y2Mn2O7 + Mn5O8 -> YMnO3 + O2 + Y2O3 + 7 YMn2O5,\n",
       " MnO + YMn12 + 10 O2 -> YMnO3 + 6 Mn2O3,\n",
       " 0.5714 O2 + MnO + Y2O3 + YMn2O5 -> 1.143 Y2Mn2O7 + 0.7143 YMnO3,\n",
       " O2 + YMn2O5 + Y2O3 + 3 Mn2O3 -> 3 YMnO3 + 5 MnO2,\n",
       " 10 Y2Mn2O7 + 5 Mn -> 20 YMnO3 + Mn5O8 + O2,\n",
       " 0.5 O2 + 2 MnO + Y -> YMnO3 + Mn,\n",
       " 0.459 YMn2O5 + 0.1475 Mn2O3 -> 0.03279 YMnO3 + 1.18 Mn + O2 + 0.2131 Y2O3,\n",
       " O2 + YMn12 + 23 Y2O3 + 35 YMn2O5 -> 82 YMnO3,\n",
       " 0.75 Mn5O8 + 3 YMn12 -> YMnO3 + 38.75 Mn + Y2O3,\n",
       " 1.5 Y2Mn2O7 + 6.5 Mn2O3 -> YMnO3 + 3 Mn5O8 + Y2O3,\n",
       " 1.75 Mn + O2 + Y2O3 + YMn2O5 -> 0.25 Mn3O4 + 3 YMnO3,\n",
       " 0.5 Y2Mn2O7 + 3 Mn5O8 -> YMnO3 + O2 + 7.5 Mn2O3,\n",
       " 5.333 Mn5O8 + YMn12 -> YMnO3 + 37.67 MnO + O2,\n",
       " Y2Mn2O7 + YMn2O5 -> 3 YMnO3 + MnO + O2,\n",
       " 3 Y2Mn2O7 + 2 MnO -> 6 YMnO3 + O2 + Mn2O3,\n",
       " 0.5 Y2Mn2O7 + 0.6667 Mn3O4 -> YMnO3 + 0.08333 O2 + Mn2O3,\n",
       " Y2Mn2O7 + Mn + 0.25 O2 + 0.5 Y2O3 -> 3 YMnO3,\n",
       " 0.04348 Y2O3 + MnO2 + 0.4783 Y -> 0.5652 YMnO3 + 0.4348 MnO,\n",
       " 0.3 Mn3O4 + 0.4 YMn2O5 -> 0.4 YMnO3 + 1.3 Mn + O2,\n",
       " 4 Y2Mn2O7 + Y -> 6 YMnO3 + O2 + Y2O3 + YMn2O5,\n",
       " 2.412 Y2Mn2O7 + 0.09804 YMn12 -> YMnO3 + Mn5O8 + 1.961 Y2O3,\n",
       " 0.7692 MnO + 0.2308 YMn2O5 -> 0.2308 YMnO3 + Mn + 0.6154 O2,\n",
       " 0.8824 Y2Mn2O7 + 0.01961 YMn12 -> YMnO3 + MnO2 + 0.3922 Y2O3,\n",
       " 3 Mn3O4 + 2 YMn2O5 -> YMnO3 + YMn12 + 9.5 O2,\n",
       " 0.24 O2 + 0.48 Y + 0.52 YMn2O5 -> YMnO3 + 0.04 MnO2,\n",
       " O2 + 3 MnO2 + 2 Y -> YMnO3 + YMn2O5,\n",
       " MnO + YMn12 + 9 O2 -> 4 Mn3O4 + YMnO3,\n",
       " YMn12 + 10.4 O2 + Mn2O3 -> YMnO3 + 2.6 Mn5O8,\n",
       " O2 + 1.4 Y + Mn2O3 -> 0.2 Mn3O4 + 1.4 YMnO3,\n",
       " Y2Mn2O7 -> YMnO3 + Mn + 1.25 O2 + 0.5 Y2O3,\n",
       " 1.5 Y2Mn2O7 + 0.5 Mn2O3 -> Mn3O4 + O2 + YMnO3 + Y2O3,\n",
       " Y2Mn2O7 + 3 Mn + O2 -> 2 YMnO3 + 3 MnO,\n",
       " 0.4 Mn5O8 + Y -> YMnO3 + Mn + 0.1 O2,\n",
       " Mn5O8 + 0.02564 YMn12 + 2.641 Y2O3 -> 5.308 YMnO3,\n",
       " Y2Mn2O7 + O2 + 6 MnO + 3 Y2O3 -> 8 YMnO3,\n",
       " 0.007874 YMn12 + 0.9921 YMn2O5 -> YMnO3 + 0.1713 O2 + 0.5394 Mn2O3,\n",
       " Y2Mn2O7 + 2 Mn3O4 + O2 + Y2O3 -> 4 YMnO3 + 4 MnO2,\n",
       " Y2O3 + Y + 2 Mn2O3 -> 3 YMnO3 + Mn,\n",
       " 0.4545 Y2Mn2O7 + 0.09091 YMn12 -> YMnO3 + Mn + 0.09091 O2,\n",
       " 1.375 Y2Mn2O7 + 1.25 Mn -> Mn3O4 + YMnO3 + 0.875 Y2O3,\n",
       " 2.882 Y2Mn2O7 + 0.01961 YMn12 -> YMnO3 + Mn5O8 + O2 + 2.392 Y2O3,\n",
       " Mn5O8 + 3 YMn2O5 -> YMnO3 + O2 + Y2O3 + 5 Mn2O3,\n",
       " Y2O3 + O2 + 2.867 MnO + 0.1333 Y -> 1.4 YMnO3 + 0.7333 YMn2O5,\n",
       " YMn2O5 + O2 + 12 Mn2O3 -> YMnO3 + 5 Mn5O8,\n",
       " 9 Mn5O8 + 3 Y -> YMnO3 + Y2O3 + 22 Mn2O3,\n",
       " 4.273 Y2Mn2O7 + 0.09091 YMn12 -> 8.636 YMnO3 + MnO2 + O2,\n",
       " Mn + Y2O3 + 2 YMn2O5 -> 4 YMnO3 + MnO,\n",
       " 7 Mn5O8 + Y -> YMnO3 + O2 + 17 Mn2O3,\n",
       " Mn5O8 + YMn12 + 5.5 O2 -> YMnO3 + 16 MnO,\n",
       " 0.5 Mn3O4 + Y2O3 + YMn2O5 -> 3 YMnO3 + 0.5 MnO2,\n",
       " 4.333 Mn3O4 + 11.56 Y -> YMnO3 + YMn12 + 4.778 Y2O3,\n",
       " O2 + YMn12 + 11.67 Y2O3 + YMn2O5 -> 14 YMnO3 + 11.33 Y,\n",
       " 0.5 Y2Mn2O7 + 3 MnO2 -> YMnO3 + O2 + 1.5 Mn2O3,\n",
       " 0.85 Y2Mn2O7 + 2.55 Mn + O2 + Y2O3 -> 3.65 YMnO3 + 0.05 YMn12,\n",
       " 0.25 MnO + Y2O3 + 1.75 YMn2O5 -> 0.75 Y2Mn2O7 + 2.25 YMnO3,\n",
       " Y2Mn2O7 + 2.467 Mn + O2 + 0.5333 Y2O3 -> 3.067 YMnO3 + 1.4 MnO,\n",
       " O2 + 1.667 Y + Mn2O3 -> 1.667 YMnO3 + 0.3333 Mn,\n",
       " 2 YMn2O5 + 4.5 Mn2O3 -> YMnO3 + YMn12 + 10.25 O2,\n",
       " 2.625 Y2Mn2O7 + 0.25 Mn3O4 -> YMnO3 + Mn5O8 + O2 + 2.125 Y2O3,\n",
       " MnO2 + 0.02564 YMn12 + 0.641 Y2O3 -> 1.308 YMnO3,\n",
       " MnO2 + O2 + 0.1262 YMn12 + Y2O3 -> 2.126 YMnO3 + 0.07767 Mn5O8,\n",
       " Y2O3 + Mn5O8 + 0.6 Y -> 0.8 Mn3O4 + 2.6 YMnO3,\n",
       " Mn3O4 + YMn12 + 13.67 Y2O3 -> 15 YMnO3 + 13.33 Y,\n",
       " O2 + YMn12 + Y2O3 + 48 Mn2O3 -> 35 Mn3O4 + 3 YMnO3,\n",
       " 6 MnO2 + 1.667 Y -> YMnO3 + Mn5O8 + 0.3333 Y2O3,\n",
       " Mn3O4 + O2 + 2 Y2O3 + YMn2O5 -> 2 Y2Mn2O7 + YMnO3,\n",
       " Y2O3 + Mn5O8 + O2 + 1.8 Y -> 0.4 Mn3O4 + 3.8 YMnO3,\n",
       " YMn2O5 + Mn2O3 -> YMnO3 + 3 MnO + O2,\n",
       " 3 YMn2O5 -> YMnO3 + Mn5O8 + 0.5 O2 + Y2O3,\n",
       " O2 + 2 Y + 2 YMn2O5 -> 4 YMnO3,\n",
       " 2.6 Mn5O8 + 13.87 Y -> YMnO3 + YMn12 + 5.933 Y2O3,\n",
       " 2 Y2Mn2O7 + 1.667 Y -> Mn3O4 + YMnO3 + 2.333 Y2O3,\n",
       " YMn12 + O2 + 46.5 YMn2O5 -> 47.5 YMnO3 + 11.5 Mn5O8,\n",
       " YMn2O5 -> YMnO3 + 0.25 O2 + 0.5 Mn2O3,\n",
       " YMn12 + 25 Y2O3 + 39 YMn2O5 -> 90 YMnO3,\n",
       " Y2O3 + Mn5O8 + O2 + Y -> YMnO3 + 2 YMn2O5,\n",
       " Mn3O4 + O2 + 1.5 Y -> 1.5 YMnO3 + 1.5 MnO,\n",
       " 2 Y2Mn2O7 + 9 Mn -> YMnO3 + 4 O2 + YMn12 + Y2O3,\n",
       " 0.5714 Mn + 2.714 YMn2O5 -> YMnO3 + Mn5O8 + 0.8571 Y2O3,\n",
       " 4 YMn2O5 + 2.5 Mn2O3 -> YMnO3 + 10.75 O2 + YMn12 + Y2O3,\n",
       " O2 + YMn12 + Y2O3 + 13 Mn2O3 -> 3 YMnO3 + 35 MnO,\n",
       " 2 Y2Mn2O7 -> YMnO3 + O2 + 1.5 Y2O3 + 1.5 Mn2O3,\n",
       " O2 + 5 MnO + 3 Y2O3 + YMn2O5 -> 7 YMnO3,\n",
       " Y2O3 + 0.592 O2 + Y + 1.589 Mn2O3 -> 2.984 YMnO3 + 0.0162 YMn12,\n",
       " 6.5 YMn2O5 -> YMnO3 + 11.38 O2 + YMn12 + 2.25 Y2O3,\n",
       " 2 Y2Mn2O7 + 9 MnO2 -> YMnO3 + 13 O2 + YMn12 + Y2O3,\n",
       " MnO + O2 + 0.05777 YMn12 + 0.4443 Y2O3 -> 0.1996 YMnO3 + 0.7469 YMn2O5,\n",
       " 0.1606 O2 + 0.4234 Y + 0.5766 YMn2O5 -> 0.05109 Mn3O4 + YMnO3,\n",
       " Y2O3 + Mn5O8 + O2 + 2 Y -> 4 YMnO3 + MnO,\n",
       " 6 MnO + YMn12 + Y2O3 -> 3 YMnO3 + 15 Mn,\n",
       " 0.01818 YMn12 + 2.982 YMn2O5 -> 1.727 Mn3O4 + O2 + YMnO3 + Y2O3,\n",
       " 3 Y + 20 Mn2O3 -> 13 Mn3O4 + O2 + YMnO3 + Y2O3,\n",
       " 2.6 Mn5O8 + 2 Y -> YMnO3 + YMn12 + 8.9 O2,\n",
       " 1.5 Y2Mn2O7 + 3 MnO2 -> YMnO3 + Mn5O8 + 1.25 O2 + Y2O3,\n",
       " 1.5 Mn + O2 + Y2O3 + YMn2O5 -> 3 YMnO3 + 0.5 MnO2,\n",
       " Mn5O8 + O2 + 0.1282 YMn12 + Y2O3 -> 2.128 YMnO3 + 2.205 Mn2O3,\n",
       " Mn5O8 + 3 Y -> YMnO3 + 4 Mn + O2 + Y2O3,\n",
       " 1.5 Y2Mn2O7 + 0.03448 Mn -> YMnO3 + 0.7241 O2 + Y2O3 + 1.017 Mn2O3,\n",
       " YMn12 + Y2O3 + 2 Mn2O3 -> 3 YMnO3 + 13 Mn,\n",
       " Y2Mn2O7 + 3.667 Mn3O4 -> YMnO3 + YMn12 + 9.333 O2,\n",
       " Mn3O4 + YMn12 + 13.5 O2 -> YMnO3 + 14 MnO2,\n",
       " 1.412 Y2Mn2O7 + 0.09804 YMn12 -> Mn3O4 + YMnO3 + 0.9608 Y2O3,\n",
       " Mn3O4 + 2 YMn12 + O2 -> 2 YMnO3 + 25 Mn,\n",
       " 1.125 Y2Mn2O7 + 1.25 Mn3O4 -> YMnO3 + Mn5O8 + 0.625 Y2O3,\n",
       " Mn5O8 + 3 Y2O3 + YMn2O5 -> Y2Mn2O7 + 5 YMnO3,\n",
       " 11.36 Y2Mn2O7 + 0.4545 YMn12 -> 23.18 YMnO3 + Mn5O8 + O2,\n",
       " Mn + Y2O3 + 1.44 YMn2O5 -> 3.4 YMnO3 + 0.04 YMn12,\n",
       " YMn12 + O2 + 47 Mn2O3 -> 35 Mn3O4 + YMnO3,\n",
       " MnO + YMn12 + 12.67 Y2O3 -> 13 YMnO3 + 13.33 Y,\n",
       " Y2Mn2O7 + Mn + 0.5 O2 -> 2 YMnO3 + MnO2,\n",
       " 0.75 Y2Mn2O7 + 0.5 MnO -> YMnO3 + Mn + O2 + 0.25 Y2O3,\n",
       " 8 MnO + 3 YMn12 -> YMnO3 + 43 Mn + O2 + Y2O3,\n",
       " 0.2667 YMn12 + 2.733 YMn2O5 -> YMnO3 + 7.667 MnO + Y2O3,\n",
       " 0.5 Y2Mn2O7 + 0.5 Mn2O3 -> YMnO3 + MnO + 0.5 O2,\n",
       " Y2Mn2O7 + 2 YMn2O5 -> 4 YMnO3 + O2 + Mn2O3,\n",
       " 1.125 Y2Mn2O7 + 0.75 Y -> YMnO3 + Y2O3 + 0.625 Mn2O3,\n",
       " MnO + O2 + 0.04266 YMn12 + 0.7346 Y2O3 -> 0.6682 Y2Mn2O7 + 0.1754 YMnO3,\n",
       " 1.143 Y2Mn2O7 + 0.7143 MnO -> YMnO3 + 0.1429 O2 + 0.1429 Y2O3 + YMn2O5,\n",
       " 1.4 YMn12 + 1.6 YMn2O5 -> YMnO3 + 19 Mn + O2 + Y2O3,\n",
       " 3 Y + 5 Mn2O3 -> YMnO3 + 9 MnO + Y2O3,\n",
       " 2 Y2Mn2O7 + 4.5 Mn2O3 -> YMnO3 + 10.75 O2 + YMn12 + Y2O3,\n",
       " 13 MnO2 + 17.33 Y -> YMnO3 + YMn12 + 7.667 Y2O3,\n",
       " 0.8824 Y2Mn2O7 + 0.01961 YMn12 -> YMnO3 + Mn + O2 + 0.3922 Y2O3,\n",
       " 2 Mn + O2 + Y2O3 + YMn2O5 -> 3 YMnO3 + MnO,\n",
       " 2 MnO2 + 1.667 Y -> YMnO3 + Mn + 0.3333 Y2O3,\n",
       " 0.2857 O2 + Y2O3 + 2 YMn2O5 -> 1.571 Y2Mn2O7 + 0.8571 YMnO3,\n",
       " 0.125 Y + YMn2O5 -> 1.125 YMnO3 + 0.875 MnO + 0.375 O2,\n",
       " Y2Mn2O7 + Mn3O4 + Y2O3 -> 4 YMnO3 + MnO2,\n",
       " 3.333 Y2Mn2O7 + 1.667 Mn3O4 -> 6.667 YMnO3 + Mn5O8 + O2,\n",
       " Mn5O8 + O2 + 0.06295 YMn12 + 1.574 Y2O3 -> 0.6651 YMnO3 + 2.545 YMn2O5,\n",
       " Mn5O8 + O2 + 0.1282 YMn12 + 3.205 Y2O3 -> 6.538 YMnO3,\n",
       " 43 MnO2 + 3 YMn12 -> YMnO3 + O2 + 78 MnO + Y2O3,\n",
       " Y2O3 + 0.4286 Mn5O8 + 0.1429 Y -> 2.143 YMnO3,\n",
       " Y2Mn2O7 + 0.5 Mn2O3 -> YMnO3 + 0.25 O2 + YMn2O5,\n",
       " 3 Y2Mn2O7 + 0.3333 Y -> YMnO3 + Mn5O8 + O2 + 2.667 Y2O3,\n",
       " 13 MnO + 2 Y -> YMnO3 + YMn12 + 5 O2,\n",
       " Y2Mn2O7 + O2 + 15 Mn2O3 -> 2 YMnO3 + 6 Mn5O8,\n",
       " Y2Mn2O7 + YMn12 + 6.5 O2 -> 3 YMnO3 + 11 MnO,\n",
       " Mn5O8 + O2 + 0.1698 YMn12 + Y2O3 -> 1.623 Mn3O4 + 2.17 YMnO3,\n",
       " 0.6667 O2 + MnO2 + Y -> 0.3333 Y2Mn2O7 + 0.3333 YMnO3,\n",
       " Y2O3 + O2 + 2.571 MnO + 0.4286 Y -> 2.429 YMnO3 + 0.1429 MnO2,\n",
       " 7 MnO2 + 3 Y -> YMnO3 + O2 + 6 MnO + Y2O3,\n",
       " 1.5 Y2Mn2O7 + 3 MnO -> YMnO3 + Y2O3 + 2.5 Mn2O3,\n",
       " 9 MnO + 2 YMn2O5 -> YMnO3 + YMn12 + 8 O2,\n",
       " 0.25 Mn + 3 YMn2O5 -> 1.75 Mn3O4 + O2 + YMnO3 + Y2O3,\n",
       " Mn3O4 + O2 + Y2O3 + Y -> 3 YMnO3,\n",
       " 0.4 Mn5O8 + YMn2O5 -> Mn3O4 + YMnO3 + 0.6 O2,\n",
       " MnO + 10.5 O2 + YMn12 + Y2O3 -> 3 YMnO3 + 2 Mn5O8,\n",
       " 14.33 Mn5O8 + 3 YMn12 -> YMnO3 + O2 + 106.7 MnO + Y2O3,\n",
       " 6 MnO + 3 YMn12 -> YMnO3 + 41 Mn + Y2O3,\n",
       " Y2O3 + Mn5O8 + O2 + 1.667 Y -> 3.667 YMnO3 + 0.6667 Mn2O3,\n",
       " 2 Mn3O4 + 3 YMn12 -> YMnO3 + 41 Mn + O2 + Y2O3,\n",
       " YMn2O5 + Y2O3 + 3 Mn2O3 -> 3 YMnO3 + Mn5O8,\n",
       " Mn3O4 + O2 + YMn2O5 -> YMnO3 + 4 MnO2,\n",
       " O2 + 1.111 Y + 0.8889 Mn2O3 -> 0.4444 YMnO3 + 0.6667 YMn2O5,\n",
       " Y2Mn2O7 + O2 + 0.1538 YMn12 + 0.8462 Y2O3 -> 3.846 YMnO3,\n",
       " 1.375 Y2Mn2O7 + 0.25 Mn5O8 -> Mn3O4 + O2 + YMnO3 + 0.875 Y2O3,\n",
       " 51 MnO2 + YMn12 + Y2O3 -> 3 YMnO3 + 12 Mn5O8,\n",
       " 13 MnO + 8.667 Y -> YMnO3 + YMn12 + 3.333 Y2O3,\n",
       " Y2Mn2O7 + Mn5O8 + Y2O3 -> 4 YMnO3 + 3 MnO2,\n",
       " Y2Mn2O7 + 2 MnO + Y2O3 -> 4 YMnO3,\n",
       " 0.6974 Y2Mn2O7 + 0.2368 Mn2O3 -> YMnO3 + 0.8684 Mn + O2 + 0.1974 Y2O3,\n",
       " Y2O3 + O2 + 3.786 MnO + Y -> 2.929 YMnO3 + 0.07143 YMn12,\n",
       " 0.119 Mn + 3 YMn2O5 -> YMnO3 + 1.024 Mn5O8 + 0.4048 O2 + Y2O3,\n",
       " 9 MnO2 + 3 Y -> YMnO3 + Y2O3 + 4 Mn2O3,\n",
       " 1.49 Y2Mn2O7 + 0.02091 YMn12 -> YMnO3 + 0.5409 O2 + Y2O3 + 1.115 Mn2O3,\n",
       " 43 Mn3O4 + 3 YMn12 -> YMnO3 + O2 + 164 MnO + Y2O3,\n",
       " MnO2 + YMn12 + 8.5 O2 -> 4 Mn3O4 + YMnO3,\n",
       " Y2O3 + Mn5O8 + O2 + 2.333 Y -> 4.333 YMnO3 + 0.6667 Mn,\n",
       " 121 MnO2 + 3 YMn12 -> YMnO3 + O2 + Y2O3 + 78 Mn2O3,\n",
       " Y2Mn2O7 + Mn + 0.5 O2 -> YMnO3 + YMn2O5,\n",
       " YMn12 + Y2O3 + 3 YMn2O5 -> 6 YMnO3 + 12 Mn,\n",
       " Y2Mn2O7 + O2 + 4 MnO + Y2O3 -> 4 YMnO3 + 2 MnO2,\n",
       " 0.08333 Y + YMn2O5 -> YMnO3 + 0.08333 YMn12 + O2,\n",
       " 1.4 Y2Mn2O7 + 0.2 Y -> YMnO3 + O2 + 1.8 MnO + Y2O3,\n",
       " Y2Mn2O7 + O2 + Y2O3 + 16 Mn2O3 -> 4 YMnO3 + 6 Mn5O8,\n",
       " Mn5O8 + YMn12 + 8.167 O2 -> 5.333 Mn3O4 + YMnO3,\n",
       " 0.07143 Mn + YMn2O5 -> 0.3571 Mn3O4 + YMnO3 + 0.2857 O2,\n",
       " Y2O3 + 0.5714 O2 + 3 MnO2 + Y -> 1.143 Y2Mn2O7 + 0.7143 YMnO3,\n",
       " O2 + 0.09709 YMn12 + Y2O3 + Mn2O3 -> 2.097 YMnO3 + 0.2136 Mn5O8,\n",
       " 3 Y2Mn2O7 + Mn -> YMnO3 + Y2O3 + 3 YMn2O5,\n",
       " 0.8684 Mn5O8 + 1.211 YMn2O5 -> 1.921 Mn3O4 + O2 + YMnO3 + 0.1053 Y2O3,\n",
       " 1.5 Y2Mn2O7 + 0.5 Mn -> YMnO3 + O2 + 2.5 MnO + Y2O3,\n",
       " 1.75 Y2Mn2O7 + 2.5 MnO -> YMnO3 + Mn5O8 + 1.25 Y2O3,\n",
       " Mn3O4 + O2 + 0.006971 YMn12 + 1.538 Y2O3 -> 1.364 Y2Mn2O7 + 0.3555 YMnO3,\n",
       " 0.75 Y2Mn2O7 + 0.5 MnO2 -> YMnO3 + Mn + 1.25 O2 + 0.25 Y2O3,\n",
       " 0.02703 YMn2O5 + 0.4865 Mn2O3 -> 0.02703 YMnO3 + Mn + 0.7568 O2,\n",
       " 3.273 Y2Mn2O7 + 0.09091 YMn12 -> 6.636 YMnO3 + MnO + O2,\n",
       " 4 Y2Mn2O7 + Mn -> 8 YMnO3 + MnO2 + O2,\n",
       " 4 Y2Mn2O7 + Y -> 7 YMnO3 + O2 + MnO2 + Y2O3,\n",
       " 0.452 Y2Mn2O7 + 0.4544 YMn2O5 -> YMnO3 + O2 + 0.06773 YMn12 + 0.1453 Y2O3,\n",
       " Y2O3 + Y + 6 Mn2O3 -> 3 Mn3O4 + 3 YMnO3,\n",
       " Mn3O4 + Y2O3 + YMn2O5 -> 3 YMnO3 + Mn2O3,\n",
       " Y2Mn2O7 + Y -> YMnO3 + MnO + Y2O3,\n",
       " Mn3O4 + O2 + 0.25 Y2O3 + 1.75 Y -> 2.25 YMnO3 + 0.75 Mn,\n",
       " 0.5 Y2Mn2O7 + 0.3333 Y -> YMnO3 + 0.1667 Y2O3,\n",
       " O2 + 3 MnO + Y2O3 + YMn2O5 -> 3 YMnO3 + 2 MnO2,\n",
       " 43 Mn5O8 + YMn12 -> YMnO3 + O2 + 113 Mn2O3,\n",
       " 3 Y2Mn2O7 + MnO -> 5 YMnO3 + O2 + YMn2O5,\n",
       " 27 MnO2 + YMn12 + Y2O3 -> 12 Mn3O4 + 3 YMnO3,\n",
       " Mn3O4 + O2 + 0.45 Y2O3 + 0.45 Y -> 1.35 YMnO3 + 1.65 MnO2,\n",
       " 4 MnO2 + YMn2O5 -> YMnO3 + Mn5O8 + O2,\n",
       " Mn3O4 + 0.1 O2 + Y2O3 + YMn2O5 -> 3 YMnO3 + 0.4 Mn5O8,\n",
       " Y2O3 + O2 + Y + 3 YMn2O5 -> 2 Y2Mn2O7 + 2 YMnO3,\n",
       " Y2Mn2O7 + 3.75 Mn3O4 + O2 -> 2 YMnO3 + 2.25 Mn5O8,\n",
       " Y2Mn2O7 + 2 Mn3O4 + 3 Y2O3 -> 8 YMnO3,\n",
       " 3 MnO2 + YMn2O5 -> YMnO3 + O2 + 2 Mn2O3,\n",
       " 1.8 Mn5O8 + 2 YMn2O5 -> YMnO3 + YMn12 + 10.7 O2,\n",
       " 9 Mn + 2 YMn2O5 -> YMnO3 + YMn12 + 3.5 O2,\n",
       " Y2O3 + Mn5O8 + 0.3333 Y -> 2.333 YMnO3 + 1.333 Mn2O3,\n",
       " 0.4889 Y2Mn2O7 + 0.02222 YMn2O5 -> YMnO3 + 0.02222 Mn + 0.2667 O2,\n",
       " 1.5 Y2Mn2O7 + 3 Mn3O4 -> YMnO3 + Y2O3 + 5.5 Mn2O3,\n",
       " Mn + 0.6 O2 + YMn2O5 -> YMnO3 + 0.4 Mn5O8,\n",
       " 0.6667 Y + 3 YMn2O5 -> YMnO3 + Mn5O8 + 1.333 Y2O3,\n",
       " MnO + 2.5 O2 + YMn12 + Y2O3 -> 3 YMnO3 + 10 Mn,\n",
       " Y2O3 + 2 YMn2O5 -> Y2Mn2O7 + 2 YMnO3,\n",
       " Mn5O8 + 4 YMn2O5 -> YMnO3 + 11 O2 + YMn12 + Y2O3,\n",
       " Y2O3 + O2 + 5 MnO2 + 3 Y -> 5 YMnO3,\n",
       " 5 Mn3O4 + 3 Y -> YMnO3 + 14 MnO + Y2O3,\n",
       " Mn3O4 + O2 + 0.08297 Y2O3 + 1.993 Y -> 2.083 YMnO3 + 0.07642 YMn12,\n",
       " Y2Mn2O7 + Mn3O4 + 0.5 O2 -> 2 YMnO3 + 3 MnO2,\n",
       " YMn12 + O2 + 12 YMn2O5 -> 13 YMnO3 + 23 MnO,\n",
       " Mn5O8 + O2 + 3.333 Y -> 3.333 YMnO3 + 1.667 Mn,\n",
       " Mn5O8 + O2 + 2.5 Y -> 2.5 YMnO3 + 2.5 MnO,\n",
       " O2 + 4.333 MnO + Y2O3 + YMn2O5 -> 3 YMnO3 + 0.6667 Mn5O8,\n",
       " Mn + Y2O3 + 3.5 YMn2O5 -> 5.5 YMnO3 + 0.5 Mn5O8,\n",
       " 0.625 Mn5O8 + YMn12 -> YMnO3 + 14.13 Mn + O2,\n",
       " 3 MnO2 + 3 YMn12 -> YMnO3 + 38 Mn + Y2O3,\n",
       " Mn5O8 + O2 + YMn12 + 2.333 Y2O3 -> 5.667 YMnO3 + 11.33 Mn,\n",
       " 0.07143 Mn + YMn2O5 -> YMnO3 + 0.2143 Mn5O8 + 0.1429 O2,\n",
       " 0.03031 YMn12 + 0.9697 YMn2O5 -> 0.4344 Mn3O4 + YMnO3 + 0.05548 O2,\n",
       " Mn + O2 + Y2O3 + YMn2O5 -> Y2Mn2O7 + YMnO3,\n",
       " 0.09524 O2 + MnO2 + Y2O3 + YMn2O5 -> 1.19 Y2Mn2O7 + 0.619 YMnO3,\n",
       " 3 YMn12 + 41 Mn2O3 -> YMnO3 + 117 MnO + Y2O3,\n",
       " MnO + O2 + 0.07692 YMn12 + 0.9231 Y2O3 -> 1.923 YMnO3,\n",
       " Y2Mn2O7 + 8.5 O2 + YMn12 + Y2O3 -> 3 Mn3O4 + 5 YMnO3,\n",
       " 0.6667 Y + 2.333 YMn2O5 -> YMnO3 + O2 + 3.667 MnO + Y2O3,\n",
       " Mn5O8 + O2 + 0.04 YMn12 + Y2O3 -> 2.04 YMnO3 + 3.44 MnO2,\n",
       " 16 MnO2 + 3 Y -> YMnO3 + 3 Mn5O8 + O2 + Y2O3,\n",
       " 79 MnO2 + 3 YMn12 -> 38 Mn3O4 + YMnO3 + Y2O3,\n",
       " 39 MnO2 + YMn12 + Y2O3 -> 3 YMnO3 + 24 Mn2O3,\n",
       " 0.9 Y2Mn2O7 + MnO + 0.1 Y2O3 -> 1.2 YMnO3 + 0.8 YMn2O5,\n",
       " 117 MnO2 + 3 YMn12 -> YMnO3 + Y2O3 + 76 Mn2O3,\n",
       " MnO2 + YMn12 + 0.5 O2 -> YMnO3 + 12 Mn,\n",
       " YMn12 + Y2O3 + 15 YMn2O5 -> 18 YMnO3 + 24 MnO,\n",
       " 3 Mn3O4 + 3 YMn2O5 -> YMnO3 + Y2O3 + 7 Mn2O3,\n",
       " 3 Y + 2.667 Mn2O3 -> YMnO3 + 4.333 Mn + O2 + Y2O3,\n",
       " 0.5 Y2Mn2O7 + 3 MnO2 -> Mn3O4 + YMnO3 + 1.25 O2,\n",
       " Mn5O8 + 3.333 YMn12 + O2 -> 3.333 YMnO3 + 41.67 Mn,\n",
       " O2 + 1.5 Y + Mn2O3 -> 1.5 YMnO3 + 0.5 MnO,\n",
       " 11.67 Y + 6.5 Mn2O3 -> YMnO3 + O2 + YMn12 + 4.833 Y2O3,\n",
       " Y2O3 + 0.6 Mn5O8 + O2 + Y -> 0.8 Y2Mn2O7 + 1.4 YMnO3,\n",
       " O2 + 2 MnO2 + 2 Y -> 2 YMnO3,\n",
       " 1.1 YMn2O5 -> YMnO3 + 0.1 YMn12 + 1.25 O2,\n",
       " Y2O3 + O2 + 2.5 MnO + 0.5 Y -> 2.5 YMnO3,\n",
       " Y2Mn2O7 + O2 + Y2O3 + 4 Mn2O3 -> 4 YMnO3 + 6 MnO2,\n",
       " 4 MnO2 + 3 Y -> YMnO3 + 3 Mn + O2 + Y2O3,\n",
       " 1.875 Y2Mn2O7 + 0.25 Mn -> Mn3O4 + O2 + YMnO3 + 1.375 Y2O3,\n",
       " Mn5O8 + O2 + YMn12 + 13.67 Y2O3 -> 17 YMnO3 + 11.33 Y,\n",
       " Y2O3 + Mn5O8 + Y -> 3 YMnO3 + 2 MnO,\n",
       " O2 + YMn12 + Y2O3 + 1.333 Mn2O3 -> 3 YMnO3 + 11.67 Mn,\n",
       " 0.3985 Y2Mn2O7 + 0.2031 YMn2O5 -> YMnO3 + 0.04062 Mn5O8 + 0.2398 O2,\n",
       " Y2Mn2O7 + 3 MnO + O2 -> 2 YMnO3 + 3 MnO2,\n",
       " 6.5 Y2Mn2O7 + 16 Y -> YMnO3 + O2 + YMn12 + 13.5 Y2O3,\n",
       " MnO2 + YMn12 + 6.5 O2 -> YMnO3 + 12 MnO,\n",
       " 1.571 MnO + Y2O3 + 0.7143 YMn2O5 -> 2.714 YMnO3 + 0.2857 Mn,\n",
       " YMn12 + Y2O3 + 15 Mn2O3 -> 3 YMnO3 + 39 MnO,\n",
       " 1.483 Y2Mn2O7 + 0.03448 YMn12 -> YMnO3 + O2 + 2.379 MnO + Y2O3,\n",
       " 4 YMn2O5 -> YMnO3 + O2 + 1.5 Y2O3 + 3.5 Mn2O3,\n",
       " 56.5 MnO2 + YMn12 -> YMnO3 + 13.5 Mn5O8 + O2,\n",
       " 2.412 YMn2O5 + 0.4706 Mn2O3 -> 1.588 Mn3O4 + O2 + YMnO3 + 0.7059 Y2O3,\n",
       " 0.75 Y2Mn2O7 + 2.5 MnO -> Mn3O4 + YMnO3 + 0.25 Y2O3,\n",
       " 0.46 Y2O3 + MnO2 + 0.08 Y -> 0.38 Y2Mn2O7 + 0.24 YMnO3,\n",
       " Y2O3 + O2 + Y + 2 Mn2O3 -> 2 YMnO3 + YMn2O5,\n",
       " 6.5 Y2Mn2O7 + 17.33 Y -> YMnO3 + YMn12 + 14.17 Y2O3,\n",
       " Mn5O8 + YMn12 + 14.33 Y2O3 -> 17 YMnO3 + 12.67 Y,\n",
       " 0.1818 O2 + 0.4242 Y + 0.5758 YMn2O5 -> YMnO3 + 0.0303 Mn5O8,\n",
       " MnO + 9.167 O2 + YMn12 + Y2O3 -> 3.333 Mn3O4 + 3 YMnO3,\n",
       " 1.333 Y + YMn2O5 -> YMnO3 + Mn + 0.6667 Y2O3,\n",
       " YMn12 + Y2O3 + 51 YMn2O5 -> 54 YMnO3 + 12 Mn5O8,\n",
       " 13 MnO2 + 3 Y -> YMnO3 + O2 + Y2O3 + 6 Mn2O3,\n",
       " 2 Y2Mn2O7 + YMn2O5 -> YMnO3 + Mn5O8 + O2 + 2 Y2O3,\n",
       " 0.06667 YMn12 + 1.6 YMn2O5 -> Mn3O4 + YMnO3 + 0.3333 Y2O3,\n",
       " MnO + 12.5 O2 + YMn12 + Y2O3 -> 3 YMnO3 + 10 MnO2,\n",
       " 1.5 Y2Mn2O7 + Mn5O8 -> YMnO3 + O2 + Y2O3 + 3.5 Mn2O3,\n",
       " Y2O3 + Y + 3 Mn2O3 -> 3 YMnO3 + 3 MnO,\n",
       " 1.8 YMn12 + 1.2 YMn2O5 -> YMnO3 + 23 Mn + Y2O3,\n",
       " 2.75 Mn5O8 + Y -> 4.25 Mn3O4 + YMnO3 + O2,\n",
       " 7 MnO + 3 YMn2O5 -> 4 Mn3O4 + YMnO3 + Y2O3,\n",
       " 0.0177 MnO + YMn2O5 -> YMnO3 + 0.2035 Mn5O8 + 0.1947 O2,\n",
       " 1.4 Y + 1.6 YMn2O5 -> YMnO3 + 2.2 Mn + O2 + Y2O3,\n",
       " Mn + 1.333 Y2O3 + YMn2O5 -> 3 YMnO3 + 0.6667 Y,\n",
       " Mn3O4 + O2 + 0.04 YMn12 + Y2O3 -> 2.04 YMnO3 + 1.44 MnO2,\n",
       " Y2O3 + Mn5O8 + O2 + Y -> 3 YMnO3 + 2 MnO2,\n",
       " 4.333 Mn3O4 + 10.22 Y -> YMnO3 + O2 + YMn12 + 4.111 Y2O3,\n",
       " 3 Y2Mn2O7 + 3 MnO -> Mn3O4 + 6 YMnO3 + O2,\n",
       " 3 YMn12 + 43 Mn2O3 -> YMnO3 + O2 + 121 MnO + Y2O3,\n",
       " Y2Mn2O7 + Y2O3 + 2 Mn2O3 -> 4 YMnO3 + 2 MnO2,\n",
       " Y2Mn2O7 + 6 Mn3O4 + O2 + Y2O3 -> 4 YMnO3 + 8 Mn2O3,\n",
       " O2 + 1.333 Y + 0.6667 Mn2O3 -> 1.333 YMnO3,\n",
       " 6.818 Y2Mn2O7 + 0.2727 YMn12 -> Mn3O4 + 13.91 YMnO3 + O2,\n",
       " 1.882 Y2Mn2O7 + 0.01961 YMn12 -> Mn3O4 + O2 + YMnO3 + 1.392 Y2O3,\n",
       " 0.08014 O2 + 0.4434 Y + 0.5679 YMn2O5 -> YMnO3 + 0.01132 YMn12,\n",
       " Mn5O8 + YMn12 + 1.667 Y2O3 -> 4.333 YMnO3 + 12.67 Mn,\n",
       " 1.667 YMn2O5 -> YMnO3 + O2 + 2.333 MnO + 0.3333 Y2O3,\n",
       " Mn3O4 + 2 Y2O3 + YMn2O5 -> 5 YMnO3,\n",
       " 1.857 MnO + 0.1429 Y2O3 + YMn2O5 -> 0.8571 Mn3O4 + 1.286 YMnO3,\n",
       " 0.75 Y + 2.25 YMn2O5 -> YMnO3 + Y2O3 + 1.75 Mn2O3,\n",
       " 16 MnO2 + YMn12 -> YMnO3 + 27 MnO + O2,\n",
       " Y2Mn2O7 + Mn3O4 + 0.2588 O2 + 0.4824 Y2O3 -> 0.9294 YMnO3 + 2.035 YMn2O5,\n",
       " 4 MnO2 + 3 YMn12 -> YMnO3 + 39 Mn + O2 + Y2O3,\n",
       " Y2Mn2O7 + 1.5 Mn3O4 + Y2O3 -> 4 YMnO3 + 0.5 Mn5O8,\n",
       " Mn3O4 + O2 + 0.5745 Y2O3 + 0.5745 Y -> 0.4468 YMnO3 + 1.277 YMn2O5,\n",
       " 20.4 Y2Mn2O7 + YMn12 + Y2O3 -> 43.8 YMnO3 + 1.8 Mn5O8,\n",
       " 0.6471 Y2Mn2O7 + 0.05882 YMn12 -> YMnO3 + MnO + 0.1765 Y2O3,\n",
       " O2 + MnO + Y -> YMnO3,\n",
       " Mn + 0.5 O2 + Y2O3 + YMn2O5 -> 3 YMnO3,\n",
       " 5 MnO2 + 3 Y -> YMnO3 + 4 MnO + Y2O3,\n",
       " Y2O3 + 3 MnO2 + Y -> 3 YMnO3,\n",
       " Y2O3 + Mn5O8 + 1.778 Y -> 3.667 YMnO3 + 0.1111 YMn12,\n",
       " Mn + Y2O3 + 2.5 YMn2O5 -> 0.5 Mn3O4 + 4.5 YMnO3,\n",
       " YMn2O5 + Y2O3 + 0.5 Mn2O3 -> 0.5 Y2Mn2O7 + 2 YMnO3,\n",
       " Y2O3 + 5.357 MnO + Y -> 2.786 YMnO3 + 0.2143 YMn12,\n",
       " Y2O3 + Mn5O8 + O2 + 2.389 Y -> 4.333 YMnO3 + 0.05556 YMn12,\n",
       " O2 + YMn12 + Y2O3 + 46 YMn2O5 -> 49 YMnO3 + 11 Mn5O8,\n",
       " 0.6667 MnO2 + 0.3333 YMn2O5 -> 0.3333 YMnO3 + Mn + O2,\n",
       " YMn2O5 + Y2O3 + Mn2O3 -> 3 YMnO3 + MnO2,\n",
       " 3 Y2Mn2O7 + Mn -> 6 YMnO3 + MnO + O2,\n",
       " Mn5O8 + O2 + 0.2857 YMn12 + Y2O3 -> 2.286 YMnO3 + 6.143 MnO,\n",
       " 0.8 Mn3O4 + 1.8 YMn2O5 -> YMnO3 + Mn5O8 + 0.4 Y2O3,\n",
       " Y2Mn2O7 + 0.05128 YMn12 + 0.2821 Y2O3 -> 2.615 YMnO3,\n",
       " 6 Y2Mn2O7 + 3 Mn -> Mn3O4 + 12 YMnO3 + O2,\n",
       " Mn + 3 YMn2O5 -> YMnO3 + Y2O3 + 3 Mn2O3,\n",
       " 0.8571 Mn3O4 + Y2O3 + 0.1429 YMn2O5 -> 2.143 YMnO3 + 0.7143 MnO,\n",
       " Y2Mn2O7 + O2 + 4 MnO + Y2O3 -> 2 YMnO3 + 2 YMn2O5,\n",
       " 6 MnO2 + Y -> YMnO3 + Mn5O8 + 0.5 O2,\n",
       " 1.5 Y2Mn2O7 + 0.5 Mn2O3 -> YMnO3 + 3 MnO2 + Y2O3,\n",
       " Y2Mn2O7 + 2 Mn3O4 + Y2O3 -> 4 YMnO3 + 2 Mn2O3,\n",
       " 3 YMn2O5 -> YMnO3 + 5 Mn + 4.5 O2 + Y2O3,\n",
       " 0.08621 Y + 1.5 YMn2O5 -> YMnO3 + 0.3103 O2 + 0.2931 Y2O3 + Mn2O3,\n",
       " Y2O3 + Y + 3 YMn2O5 -> 6 YMnO3,\n",
       " MnO + 0.1 O2 + YMn2O5 -> YMnO3 + 0.4 Mn5O8,\n",
       " 2 Y2Mn2O7 + 9 MnO -> YMnO3 + 8.5 O2 + YMn12 + Y2O3,\n",
       " 1.463 Y2Mn2O7 + 0.075 YMn12 -> YMnO3 + Y2O3 + 1.413 Mn2O3,\n",
       " 0.3333 Mn3O4 + O2 + Y -> 0.3333 Y2Mn2O7 + 0.3333 YMnO3,\n",
       " MnO + 0.5 O2 + YMn2O5 -> YMnO3 + 2 MnO2,\n",
       " YMn12 + 12.33 Y2O3 + YMn2O5 -> 14 YMnO3 + 12.67 Y,\n",
       " 0.625 Y2Mn2O7 + 0.75 Mn -> YMnO3 + MnO + 0.125 Y2O3,\n",
       " 1.036 Y2Mn2O7 + 0.9286 MnO -> YMnO3 + 0.2857 O2 + 0.5357 Y2O3 + Mn2O3,\n",
       " 2.5 Y2Mn2O7 + 0.5 Mn2O3 -> 5 YMnO3 + MnO2 + O2,\n",
       " Mn5O8 + O2 + 2 Y -> Mn3O4 + 2 YMnO3,\n",
       " Mn3O4 + O2 + 2.083 Y -> 2 YMnO3 + 0.08333 YMn12,\n",
       " 0.8571 O2 + Y + YMn2O5 -> 0.7143 Y2Mn2O7 + 0.5714 YMnO3,\n",
       " MnO + 3 YMn2O5 -> 2 Mn3O4 + O2 + YMnO3 + Y2O3,\n",
       " Y2Mn2O7 + 0.6667 Mn + 0.3333 Y2O3 -> 2.667 YMnO3,\n",
       " Y2O3 + Mn5O8 + 2 O2 + 3 Y -> 5 YMnO3,\n",
       " 0.3333 O2 + YMn2O5 + Y2O3 + 0.5 Mn2O3 -> 1.167 Y2Mn2O7 + 0.6667 YMnO3,\n",
       " Mn3O4 + O2 + 0.06796 YMn12 + Y2O3 -> 2.068 YMnO3 + 0.3495 Mn5O8,\n",
       " 3 Y + 14 Mn2O3 -> 9 Mn3O4 + YMnO3 + Y2O3,\n",
       " 1.667 Mn + O2 + Y2O3 + YMn2O5 -> 3 YMnO3 + 0.3333 Mn2O3,\n",
       " Y2Mn2O7 + 2 Mn5O8 + O2 + Y2O3 -> 4 YMnO3 + 8 MnO2,\n",
       " YMn2O5 + Mn2O3 -> YMnO3 + 0.6 Mn5O8 + 0.1 O2,\n",
       " 3 Y2Mn2O7 + MnO -> 6 YMnO3 + MnO2 + O2,\n",
       " 1.333 Mn5O8 + Y -> YMnO3 + 5.667 MnO + O2,\n",
       " 0.5 Y2Mn2O7 + 0.3333 Mn3O4 -> YMnO3 + MnO + 0.4167 O2,\n",
       " 1.5 Mn3O4 + 3 YMn12 -> YMnO3 + 39.5 Mn + Y2O3,\n",
       " Y2Mn2O7 + YMn12 + 11.67 Y2O3 -> 14 YMnO3 + 12.33 Y,\n",
       " 41 Mn3O4 + 3 YMn12 -> YMnO3 + 158 MnO + Y2O3,\n",
       " 0.00549 YMn12 + YMn2O5 -> 1.005 YMnO3 + 0.2121 Mn5O8 + 0.1435 O2,\n",
       " MnO2 + O2 + 0.1282 YMn12 + 1.205 Y2O3 -> 2.538 YMnO3,\n",
       " Y2Mn2O7 + Mn + 0.359 Y2O3 -> 2.692 YMnO3 + 0.02564 YMn12,\n",
       " Y2Mn2O7 + YMn12 + 8.333 O2 -> 3.667 Mn3O4 + 3 YMnO3,\n",
       " O2 + 7 MnO + Y2O3 + YMn2O5 -> 2 Mn3O4 + 3 YMnO3,\n",
       " Y2O3 + O2 + Y + 4 Mn2O3 -> 3 YMnO3 + Mn5O8,\n",
       " Mn5O8 + YMn12 + 9.5 O2 -> YMnO3 + 8 Mn2O3,\n",
       " Mn + Y2O3 + 3 YMn2O5 -> 5 YMnO3 + Mn2O3,\n",
       " Mn3O4 + YMn12 + 0.3333 Y2O3 -> 1.667 YMnO3 + 13.33 Mn,\n",
       " Y2Mn2O7 + O2 + 5.333 MnO + Y2O3 -> 4 YMnO3 + 0.6667 Mn5O8,\n",
       " YMn2O5 + O2 + 2 Mn2O3 -> YMnO3 + 5 MnO2,\n",
       " 5 Mn + 4 YMn2O5 -> YMnO3 + 7 O2 + YMn12 + Y2O3,\n",
       " 0.625 Y2Mn2O7 + 0.25 Mn3O4 -> YMnO3 + Mn + O2 + 0.125 Y2O3,\n",
       " Y2Mn2O7 + 11 MnO -> YMnO3 + YMn12 + 7.5 O2,\n",
       " 1.333 MnO + 2.333 YMn2O5 -> YMnO3 + Mn5O8 + 0.6667 Y2O3,\n",
       " 5 Mn3O4 + O2 + Y2O3 + YMn2O5 -> 3 YMnO3 + 7 Mn2O3,\n",
       " Y2Mn2O7 + YMn12 + 9.8 O2 -> 3 YMnO3 + 2.2 Mn5O8,\n",
       " YMn2O5 -> YMnO3 + MnO + 0.5 O2,\n",
       " Mn3O4 + Y2O3 + 1.5 YMn2O5 -> 3.5 YMnO3 + 0.5 Mn5O8,\n",
       " 6 MnO + 3 Y -> YMnO3 + 5 Mn + Y2O3,\n",
       " 1.432 YMn2O5 + 1.568 Mn2O3 -> YMnO3 + Mn5O8 + 0.1081 O2 + 0.2162 Y2O3,\n",
       " Y2Mn2O7 + O2 + YMn12 + 11 Y2O3 -> 14 YMnO3 + 11 Y,\n",
       " Mn3O4 + 0.5 O2 + Y2O3 + YMn2O5 -> 3 YMnO3 + 2 MnO2,\n",
       " 7 MnO2 + Y -> YMnO3 + O2 + 3 Mn2O3,\n",
       " 5 MnO + YMn12 -> YMnO3 + 16 Mn + O2,\n",
       " 2.875 Y2Mn2O7 + 0.25 Mn -> YMnO3 + Mn5O8 + O2 + 2.375 Y2O3,\n",
       " 1.75 Y2Mn2O7 + 0.5 MnO -> Mn3O4 + O2 + YMnO3 + 1.25 Y2O3,\n",
       " 5.545 Y2Mn2O7 + 0.1818 YMn12 -> 11.27 YMnO3 + O2 + Mn2O3,\n",
       " 0.08333 Y2O3 + MnO2 + 0.5833 Y -> 0.75 YMnO3 + 0.25 Mn,\n",
       " Mn5O8 + 3 YMn12 -> YMnO3 + 40 Mn + O2 + Y2O3,\n",
       " O2 + 0.1026 YMn12 + Y2O3 + 0.4359 Mn2O3 -> 2.103 YMnO3,\n",
       " 8 MnO + O2 + YMn2O5 -> 3 Mn3O4 + YMnO3,\n",
       " 2.667 Y2Mn2O7 + 0.3333 Mn3O4 -> 5.333 YMnO3 + MnO2 + O2,\n",
       " Y2Mn2O7 + 1.667 Y -> YMnO3 + Mn + 1.333 Y2O3,\n",
       " 7 Y2Mn2O7 + 3 Mn3O4 -> YMnO3 + Y2O3 + 11 YMn2O5,\n",
       " MnO + Y2O3 + YMn2O5 -> 3 YMnO3,\n",
       " YMn12 + Y2O3 + 39 YMn2O5 -> 42 YMnO3 + 24 Mn2O3,\n",
       " Y + 1.667 Mn2O3 -> YMnO3 + 2.333 Mn + O2,\n",
       " 1.5 Y2Mn2O7 + 0.25 Mn5O8 -> YMnO3 + 3.25 MnO2 + Y2O3,\n",
       " 0.5 Y2Mn2O7 + MnO -> YMnO3 + Mn + 0.75 O2,\n",
       " O2 + 1.694 Y + Mn2O3 -> 1.667 YMnO3 + 0.02778 YMn12,\n",
       " 0.875 Y2Mn2O7 + 0.25 Mn -> YMnO3 + MnO2 + 0.375 Y2O3,\n",
       " Y2Mn2O7 + 0.3333 Mn3O4 -> YMnO3 + 0.1667 O2 + YMn2O5,\n",
       " YMn12 + 12.5 O2 + YMn2O5 -> 2 YMnO3 + 12 MnO2,\n",
       " 0.75 Y2Mn2O7 + 0.5 MnO -> YMnO3 + MnO2 + 0.25 Y2O3,\n",
       " Y2O3 + O2 + 1.333 Y + 1.667 Mn2O3 -> 3.333 YMnO3,\n",
       " Mn3O4 + YMn12 + 10.7 O2 -> YMnO3 + 2.8 Mn5O8,\n",
       " 1.667 Mn5O8 + 3 Y -> YMnO3 + 7.333 MnO + Y2O3,\n",
       " Y2Mn2O7 + 6 Mn3O4 + O2 -> 2 YMnO3 + 9 Mn2O3,\n",
       " 14.75 Mn5O8 + YMn12 -> 28.25 Mn3O4 + YMnO3 + O2,\n",
       " 0.125 Y2Mn2O7 + 0.825 YMn2O5 -> YMnO3 + 0.075 YMn12 + O2,\n",
       " 3 Mn3O4 + Y2O3 + Y -> 3 YMnO3 + 6 MnO,\n",
       " 2.6 Mn5O8 + 12.53 Y -> YMnO3 + O2 + YMn12 + 5.267 Y2O3,\n",
       " 24 Y2Mn2O7 + YMn12 + Y2O3 -> 51 YMnO3 + 9 MnO2,\n",
       " YMn2O5 -> YMnO3 + Mn + O2,\n",
       " 1.5 Y2Mn2O7 + MnO2 -> YMnO3 + O2 + Y2O3 + 1.5 Mn2O3,\n",
       " 5 MnO + 4 YMn2O5 -> YMnO3 + 9.5 O2 + YMn12 + Y2O3,\n",
       " 0.5 Y2Mn2O7 + 1.5 Mn2O3 -> Mn3O4 + YMnO3 + 0.5 O2,\n",
       " 0.08333 Y2O3 + O2 + 1.583 Y + Mn2O3 -> 1.75 YMnO3 + 0.25 Mn,\n",
       " Y2Mn2O7 + 5 MnO + O2 -> 2 YMnO3 + Mn5O8,\n",
       " YMn12 + O2 + 23.5 YMn2O5 -> 11.5 Mn3O4 + 24.5 YMnO3,\n",
       " 16 Mn3O4 + YMn12 -> YMnO3 + 59 MnO + O2]"
      ]
     },
     "execution_count": 25,
     "metadata": {},
     "output_type": "execute_result"
    }
   ],
   "source": [
    "ymno3_rxns_open2"
   ]
  },
  {
   "cell_type": "markdown",
   "id": "48507bd1",
   "metadata": {},
   "source": [
    "This may be useful for systems where more than 1 gaseous, liquid, or molten phases are available to the reacting system, such as $O_2$ and a molten salt (e.g. $LiCl$)"
   ]
  },
  {
   "cell_type": "markdown",
   "id": "677201f1",
   "metadata": {},
   "source": [
    "### Minimize Enumerators\n",
    "\n",
    "The \"minimize\" enumerators produce reactions via a thermodynamic approach, rather than a purely combinatorial one. This means that reactions are produced from a phase diagram approach, where a new convex hull is drawn connecting two compositions within a closed (Gibbs) or open (Grand Potential) system. See the `InterfacialReactivity` class within the _pymatgen_ package for more information.\n",
    "\n",
    "It is **important to note** that reactions produced with the minimize enumerators may overlap some with the basic enumerators, but the minimize enumerators have the restriction that all original reactions produced must have a negative reaction energy and result in a set of product phases which are stable with respect to each other (i.e. they share a facet of the phase diagram).\n",
    "\n",
    "Even though these enumerators also yield the reverse reactions to those described above, it is impossible for them to identify a reaction where both sides of the reaction contain phases that are unstable with respect to each other. In other words, every reaction proudced has either reactants that share a phase diagram facet or products that share a phase diagram facet).\n",
    "\n",
    "The `MinimizeGibbsEnumerator` contains similar arguments as the basic enumerators. See the docstrings for updated information:\n",
    "- **precursors**: Optional formulas of precursors.\n",
    "- **targets**: Optional formulas of targets; only reactions which make these targets\n",
    "    will be enumerated.\n",
    "- **calculators**: Optional list of Calculator object names; see calculators\n",
    "    module for options (e.g., [\"ChempotDistanceCalculator\"])\n",
    "- **exclusive_precursors**: Whether to consider only reactions that have\n",
    "    reactants which are a subset of the provided list of precursors.\n",
    "    Defaults to True.\n",
    "- **exclusive_targets**: Whether to consider only reactions that make the\n",
    "    provided target directly (i.e. with no byproducts). Defualts to False."
   ]
  },
  {
   "cell_type": "code",
   "execution_count": 26,
   "id": "11a5f33d",
   "metadata": {},
   "outputs": [],
   "source": [
    "mge = MinimizeGibbsEnumerator()"
   ]
  },
  {
   "cell_type": "markdown",
   "id": "4d3aa769",
   "metadata": {},
   "source": [
    "The default arguments, as before, help produce all reactions in a set of entries, given minimal constraints."
   ]
  },
  {
   "cell_type": "code",
   "execution_count": 27,
   "id": "194c29f1",
   "metadata": {},
   "outputs": [
    {
     "data": {
      "application/vnd.jupyter.widget-view+json": {
       "model_id": "fcf9cc14b37a4e04b970aff5efca3344",
       "version_major": 2,
       "version_minor": 0
      },
      "text/plain": [
       "MinimizeGibbsEnumerator:   0%|          | 0/4 [00:00<?, ?it/s]"
      ]
     },
     "metadata": {},
     "output_type": "display_data"
    }
   ],
   "source": [
    "rxns = mge.enumerate(filtered_entries)"
   ]
  },
  {
   "cell_type": "code",
   "execution_count": 28,
   "id": "3cb8c511",
   "metadata": {},
   "outputs": [
    {
     "name": "stdout",
     "output_type": "stream",
     "text": [
      "[YMn12 + 53 Mn2O3 -> YMnO3 + 39 Mn3O4,\n",
      " 0.2571 Mn3O4 + 0.01905 YMn12 -> MnO + 0.009524 Y2O3,\n",
      " 0.2 Mn5O8 + 1.067 Y -> Mn + 0.5333 Y2O3,\n",
      " 0.3333 Mn + 0.6667 Y2Mn2O7 -> YMnO3 + 0.3333 YMn2O5,\n",
      " 0.3333 Y + YMnO3 -> MnO + 0.6667 Y2O3,\n",
      " 0.07843 YMn12 + 0.02941 Y2Mn2O7 -> Mn + 0.06863 Y2O3,\n",
      " 2.5 Mn2O3 + 0.5 Y2O3 -> YMn2O5 + Mn3O4,\n",
      " 4.667 Mn5O8 + YMn12 -> YMnO3 + 34.33 MnO,\n",
      " 0.375 Mn5O8 + 0.125 Mn -> Mn2O3,\n",
      " 0.5 Mn + 0.5 MnO2 -> MnO]\n"
     ]
    }
   ],
   "source": [
    "pprint(rxns[0:10])"
   ]
  },
  {
   "cell_type": "markdown",
   "id": "889437d2",
   "metadata": {},
   "source": [
    "And as before, we can specify various combinations of precursors and targets, as well as whether or not they should be \"exclusive\"."
   ]
  },
  {
   "cell_type": "code",
   "execution_count": 29,
   "id": "aee5a933",
   "metadata": {},
   "outputs": [
    {
     "data": {
      "application/vnd.jupyter.widget-view+json": {
       "model_id": "806792abfb2645148968166f05874717",
       "version_major": 2,
       "version_minor": 0
      },
      "text/plain": [
       "MinimizeGibbsEnumerator:   0%|          | 0/4 [00:00<?, ?it/s]"
      ]
     },
     "metadata": {},
     "output_type": "display_data"
    },
    {
     "data": {
      "text/plain": [
       "[0.3333 Mn5O8 + 0.6667 Y2O3 -> YMnO3 + 0.3333 YMn2O5,\n",
       " 0.625 Mn5O8 + 0.5 Y2O3 -> YMn2O5 + 0.375 Mn3O4,\n",
       " 2 MnO2 + Y2O3 -> Y2Mn2O7,\n",
       " 0.5 Mn2O3 + 0.5 Y2O3 -> YMnO3,\n",
       " 0.5 Mn3O4 + 0.5 Y2O3 -> YMnO3 + 0.5 MnO,\n",
       " 0.6667 Mn5O8 + 0.3333 Y2O3 -> Mn2O3 + 0.6667 YMn2O5,\n",
       " 2.5 Mn2O3 + 0.5 Y2O3 -> YMn2O5 + Mn3O4,\n",
       " 2 MnO2 + 0.5 Y2O3 -> YMn2O5 + 0.25 O2]"
      ]
     },
     "execution_count": 29,
     "metadata": {},
     "output_type": "execute_result"
    }
   ],
   "source": [
    "mge_precursors = MinimizeGibbsEnumerator(precursors=[\"Y2O3\"], exclusive_precursors=False)\n",
    "rxns = mge_precursors.enumerate(filtered_entries)\n",
    "rxns"
   ]
  },
  {
   "cell_type": "code",
   "execution_count": 30,
   "id": "c1e26790",
   "metadata": {},
   "outputs": [
    {
     "data": {
      "application/vnd.jupyter.widget-view+json": {
       "model_id": "075d5772e02f4481b275a5b975922470",
       "version_major": 2,
       "version_minor": 0
      },
      "text/plain": [
       "MinimizeGibbsEnumerator:   0%|          | 0/1 [00:00<?, ?it/s]"
      ]
     },
     "metadata": {},
     "output_type": "display_data"
    },
    {
     "data": {
      "text/plain": [
       "[2.5 Mn2O3 + 0.5 Y2O3 -> YMn2O5 + Mn3O4, 0.5 Mn2O3 + 0.5 Y2O3 -> YMnO3]"
      ]
     },
     "execution_count": 30,
     "metadata": {},
     "output_type": "execute_result"
    }
   ],
   "source": [
    "mge_precursors = MinimizeGibbsEnumerator(precursors=[\"Y2O3\", \"Mn2O3\"])\n",
    "rxns = mge_precursors.enumerate(filtered_entries)\n",
    "rxns"
   ]
  },
  {
   "cell_type": "code",
   "execution_count": 31,
   "id": "b61398c4",
   "metadata": {},
   "outputs": [
    {
     "data": {
      "application/vnd.jupyter.widget-view+json": {
       "model_id": "18790884cbbf4131a085b33ff9763fc9",
       "version_major": 2,
       "version_minor": 0
      },
      "text/plain": [
       "MinimizeGibbsEnumerator:   0%|          | 0/1 [00:00<?, ?it/s]"
      ]
     },
     "metadata": {},
     "output_type": "display_data"
    },
    {
     "data": {
      "text/plain": [
       "[0.5 Mn2O3 + 0.5 Y2O3 -> YMnO3]"
      ]
     },
     "execution_count": 31,
     "metadata": {},
     "output_type": "execute_result"
    }
   ],
   "source": [
    "mge_targets = MinimizeGibbsEnumerator(targets=[\"YMnO3\"], exclusive_targets=True)\n",
    "rxns = mge_targets.enumerate(filtered_entries)\n",
    "rxns"
   ]
  },
  {
   "cell_type": "code",
   "execution_count": 32,
   "id": "50cab6a4",
   "metadata": {},
   "outputs": [
    {
     "data": {
      "application/vnd.jupyter.widget-view+json": {
       "model_id": "89c3dd1c77944a5d84015e7ec3258e48",
       "version_major": 2,
       "version_minor": 0
      },
      "text/plain": [
       "MinimizeGibbsEnumerator:   0%|          | 0/4 [00:00<?, ?it/s]"
      ]
     },
     "metadata": {},
     "output_type": "display_data"
    },
    {
     "data": {
      "text/plain": [
       "[YMn12 + 53 Mn2O3 -> YMnO3 + 39 Mn3O4,\n",
       " YMn12 + 14 Mn2O3 -> YMnO3 + 39 MnO,\n",
       " 0.5 Mn2O3 + 0.5 Y2O3 -> YMnO3,\n",
       " 0.3333 Y + 0.5 Y2Mn2O7 -> YMnO3 + 0.1667 Y2O3,\n",
       " 14 MnO2 + YMn12 -> YMnO3 + 25 MnO,\n",
       " 0.06667 YMn12 + 0.9333 YMn2O5 -> YMnO3 + 1.667 MnO,\n",
       " 0.2857 Y + 0.7143 YMn2O5 -> YMnO3 + 0.1429 Mn3O4,\n",
       " 0.5 Mn + YMn2O5 -> YMnO3 + 0.5 Mn3O4,\n",
       " YMn12 + 8.833 O2 -> YMnO3 + 3.667 Mn3O4,\n",
       " 0.3333 Mn + 0.6667 Y2Mn2O7 -> YMnO3 + 0.3333 YMn2O5,\n",
       " Mn3O4 + 2 Y2Mn2O7 -> YMnO3 + 3 YMn2O5,\n",
       " Mn + YMn2O5 -> YMnO3 + 2 MnO,\n",
       " YMn12 + 7 O2 -> YMnO3 + 11 MnO,\n",
       " 4.667 Mn5O8 + YMn12 -> YMnO3 + 34.33 MnO,\n",
       " 2 MnO2 + Y -> YMnO3 + MnO,\n",
       " 0.03448 YMn12 + 0.4828 Y2Mn2O7 -> YMnO3 + 0.3793 MnO,\n",
       " 5 Mn2O3 + Y -> YMnO3 + 3 Mn3O4,\n",
       " 2 Mn2O3 + Y -> YMnO3 + 3 MnO,\n",
       " 13.25 Mn5O8 + YMn12 -> YMnO3 + 25.75 Mn3O4,\n",
       " 1.5 MnO + 0.5 Y2Mn2O7 -> YMnO3 + 0.5 Mn3O4,\n",
       " MnO + Y2Mn2O7 -> YMnO3 + YMn2O5,\n",
       " 0.025 YMn12 + 0.625 Y2Mn2O7 -> YMnO3 + 0.275 YMn2O5,\n",
       " 2 Mn3O4 + Y -> YMnO3 + 5 MnO,\n",
       " 0.6667 Mn5O8 + Y -> YMnO3 + 2.333 MnO,\n",
       " 0.3333 Y + 0.6667 YMn2O5 -> YMnO3 + 0.3333 MnO,\n",
       " 0.5 Mn3O4 + 0.5 Y2O3 -> YMnO3 + 0.5 MnO,\n",
       " 0.5 Mn + 0.5 Y2Mn2O7 -> YMnO3 + 0.5 MnO,\n",
       " 0.03636 YMn12 + 0.9636 YMn2O5 -> YMnO3 + 0.4545 Mn3O4,\n",
       " 26.5 MnO2 + YMn12 -> YMnO3 + 12.5 Mn3O4,\n",
       " 0.3333 Mn5O8 + 0.6667 Y2O3 -> YMnO3 + 0.3333 YMn2O5,\n",
       " 2.5 MnO2 + Y -> YMnO3 + 0.5 Mn3O4,\n",
       " 2 MnO + YMn2O5 -> YMnO3 + Mn3O4,\n",
       " 0.02752 YMn12 + 0.4862 Y2Mn2O7 -> YMnO3 + 0.1009 Mn3O4,\n",
       " 14 Mn3O4 + YMn12 -> YMnO3 + 53 MnO,\n",
       " 0.375 Mn + 0.5 Y2Mn2O7 -> YMnO3 + 0.125 Mn3O4,\n",
       " 1.25 Mn5O8 + Y -> YMnO3 + 1.75 Mn3O4]"
      ]
     },
     "execution_count": 32,
     "metadata": {},
     "output_type": "execute_result"
    }
   ],
   "source": [
    "mge_targets = MinimizeGibbsEnumerator(targets=[\"YMnO3\"], exclusive_targets=False)\n",
    "rxns = mge_targets.enumerate(filtered_entries)\n",
    "rxns"
   ]
  },
  {
   "cell_type": "markdown",
   "id": "c8d2739f",
   "metadata": {},
   "source": [
    "#### Open entries\n",
    "\n",
    "And once again, as before, we can do all the same analysis with open entries. This time, the grand potential is used as the thermodynamic free energy which is minimized:\n",
    "\n",
    "$$ \\Phi = G - \\mu_iN_i $$\n",
    "\n",
    "Where $i$ is the open species with chemical potential $\\mu_i$ with a molar amount $N_i$."
   ]
  },
  {
   "cell_type": "code",
   "execution_count": 33,
   "id": "ed9d72f2",
   "metadata": {},
   "outputs": [
    {
     "data": {
      "application/vnd.jupyter.widget-view+json": {
       "model_id": "0f8125326bb449139925d1160ea57e34",
       "version_major": 2,
       "version_minor": 0
      },
      "text/plain": [
       "MinimizeGrandPotentialEnumerator:   0%|          | 0/3 [00:00<?, ?it/s]"
      ]
     },
     "metadata": {},
     "output_type": "display_data"
    },
    {
     "data": {
      "text/plain": [
       "[YMn12 + 12.5 O2 -> YMn2O5 + 10 MnO2 (mu_O=0),\n",
       " 2 YMnO3 + 0.5 O2 -> Y2Mn2O7 (mu_O=0),\n",
       " 2 Y + 1.5 O2 -> Y2O3 (mu_O=0),\n",
       " Y + YMn2O5 + O2 -> Y2Mn2O7 (mu_O=0),\n",
       " 0.09091 YMn12 + 0.9091 YMnO3 + 1.136 O2 -> YMn2O5 (mu_O=0),\n",
       " 0.5 Mn2O3 + 0.25 O2 -> MnO2 (mu_O=0),\n",
       " 2 MnO2 + 2 Y + 1.5 O2 -> Y2Mn2O7 (mu_O=0),\n",
       " Mn2O3 + Y2O3 + 0.5 O2 -> Y2Mn2O7 (mu_O=0),\n",
       " MnO + YMnO3 + 0.5 O2 -> YMn2O5 (mu_O=0),\n",
       " Mn2O3 + Y + O2 -> YMn2O5 (mu_O=0),\n",
       " Mn + YMnO3 + O2 -> YMn2O5 (mu_O=0),\n",
       " 0.6667 Mn3O4 + 0.5 Y2O3 + 0.4167 O2 -> YMn2O5 (mu_O=0),\n",
       " 2 MnO + 0.5 Y2O3 + 0.75 O2 -> YMn2O5 (mu_O=0),\n",
       " 2 MnO + Y + 1.5 O2 -> YMn2O5 (mu_O=0),\n",
       " 0.1667 YMn12 + 0.9167 Y2O3 + 2.125 O2 -> Y2Mn2O7 (mu_O=0),\n",
       " 0.4 Mn5O8 + 0.5 Y2O3 + 0.15 O2 -> YMn2O5 (mu_O=0),\n",
       " 2 Mn + Y2O3 + 2 O2 -> Y2Mn2O7 (mu_O=0),\n",
       " 0.6667 Mn3O4 + 2 Y + 2.167 O2 -> Y2Mn2O7 (mu_O=0),\n",
       " 0.6667 Mn3O4 + Y2O3 + 0.6667 O2 -> Y2Mn2O7 (mu_O=0),\n",
       " 0.3333 Mn3O4 + YMnO3 + 0.3333 O2 -> YMn2O5 (mu_O=0),\n",
       " 0.4 Mn5O8 + Y2O3 + 0.4 O2 -> Y2Mn2O7 (mu_O=0),\n",
       " 2 MnO + Y2O3 + O2 -> Y2Mn2O7 (mu_O=0),\n",
       " 0.4 Mn5O8 + Y + 0.9 O2 -> YMn2O5 (mu_O=0),\n",
       " 0.2 Mn5O8 + 0.2 O2 -> MnO2 (mu_O=0),\n",
       " 0.5 Mn2O3 + YMnO3 + 0.25 O2 -> YMn2O5 (mu_O=0),\n",
       " 0.3333 Mn3O4 + 0.3333 O2 -> MnO2 (mu_O=0),\n",
       " 0.09091 YMn12 + 0.4545 Y2Mn2O7 + 0.9091 O2 -> YMn2O5 (mu_O=0),\n",
       " 2 MnO + 2 Y + 2.5 O2 -> Y2Mn2O7 (mu_O=0),\n",
       " 0.5 Y2O3 + YMn2O5 + 0.25 O2 -> Y2Mn2O7 (mu_O=0),\n",
       " 0.1667 YMn12 + 0.4167 Y2O3 + 1.875 O2 -> YMn2O5 (mu_O=0),\n",
       " MnO + 0.5 O2 -> MnO2 (mu_O=0),\n",
       " 8 MnO2 + 2 Y2O3 -> O2 + 4 YMn2O5 (mu_O=0),\n",
       " Mn + O2 -> MnO2 (mu_O=0),\n",
       " 0.3333 Mn3O4 + 0.5 Y2Mn2O7 + 0.08333 O2 -> YMn2O5 (mu_O=0),\n",
       " 4 MnO2 + 2 Y2Mn2O7 -> O2 + 4 YMn2O5 (mu_O=0),\n",
       " Mn + 0.5 Y2Mn2O7 + 0.75 O2 -> YMn2O5 (mu_O=0),\n",
       " 2 Mn + 0.5 Y2O3 + 1.75 O2 -> YMn2O5 (mu_O=0),\n",
       " Mn2O3 + 0.5 Y2O3 + 0.25 O2 -> YMn2O5 (mu_O=0),\n",
       " 0.6667 Mn3O4 + Y + 1.167 O2 -> YMn2O5 (mu_O=0),\n",
       " Mn2O3 + 2 Y + 2 O2 -> Y2Mn2O7 (mu_O=0),\n",
       " 2 MnO2 + Y + 0.5 O2 -> YMn2O5 (mu_O=0),\n",
       " 0.4 Mn5O8 + 2 Y + 1.9 O2 -> Y2Mn2O7 (mu_O=0),\n",
       " MnO + 0.5 Y2Mn2O7 + 0.25 O2 -> YMn2O5 (mu_O=0),\n",
       " 0.2 Mn5O8 + YMnO3 + 0.2 O2 -> YMn2O5 (mu_O=0),\n",
       " 4 Mn5O8 + 10 Y2Mn2O7 -> O2 + 20 YMn2O5 (mu_O=0)]"
      ]
     },
     "execution_count": 33,
     "metadata": {},
     "output_type": "execute_result"
    }
   ],
   "source": [
    "mgpe = MinimizeGrandPotentialEnumerator(open_elem=Element(\"O\"), mu=0)\n",
    "open_rxns = mgpe.enumerate(filtered_entries)\n",
    "open_rxns"
   ]
  },
  {
   "cell_type": "markdown",
   "id": "3a487f9d",
   "metadata": {},
   "source": [
    "Note that the reaction objects returned are now of a different type: `OpenComputedReaction`. This class allows for easy specification of reactions where one of the elements is assigned a chemical potential."
   ]
  },
  {
   "cell_type": "code",
   "execution_count": 34,
   "id": "cc8c2fc0",
   "metadata": {},
   "outputs": [
    {
     "name": "stdout",
     "output_type": "stream",
     "text": [
      "OpenComputedReaction\n"
     ]
    }
   ],
   "source": [
    "r = open_rxns[0]\n",
    "print(r.__class__.__name__)"
   ]
  },
  {
   "cell_type": "markdown",
   "id": "8f6ff7b4",
   "metadata": {},
   "source": [
    "We can also, as before, customize which precursors and targets are specified:"
   ]
  },
  {
   "cell_type": "code",
   "execution_count": 35,
   "id": "d28a8606",
   "metadata": {},
   "outputs": [
    {
     "data": {
      "application/vnd.jupyter.widget-view+json": {
       "model_id": "8ef15782ee6c4b949d5dde32e1833c4b",
       "version_major": 2,
       "version_minor": 0
      },
      "text/plain": [
       "MinimizeGrandPotentialEnumerator:   0%|          | 0/3 [00:00<?, ?it/s]"
      ]
     },
     "metadata": {},
     "output_type": "display_data"
    },
    {
     "data": {
      "text/plain": [
       "[0.1667 YMn12 + 0.9167 Y2O3 + 2.125 O2 -> Y2Mn2O7 (mu_O=0),\n",
       " 0.6667 Mn3O4 + 0.5 Y2O3 + 0.4167 O2 -> YMn2O5 (mu_O=0),\n",
       " 2 Mn + 0.5 Y2O3 + 1.75 O2 -> YMn2O5 (mu_O=0),\n",
       " 0.4 Mn5O8 + 0.5 Y2O3 + 0.15 O2 -> YMn2O5 (mu_O=0),\n",
       " 2 Mn + Y2O3 + 2 O2 -> Y2Mn2O7 (mu_O=0),\n",
       " Mn2O3 + 0.5 Y2O3 + 0.25 O2 -> YMn2O5 (mu_O=0),\n",
       " 0.5 Y2O3 + YMn2O5 + 0.25 O2 -> Y2Mn2O7 (mu_O=0),\n",
       " Mn2O3 + Y2O3 + 0.5 O2 -> Y2Mn2O7 (mu_O=0),\n",
       " 0.6667 Mn3O4 + Y2O3 + 0.6667 O2 -> Y2Mn2O7 (mu_O=0),\n",
       " 0.4 Mn5O8 + Y2O3 + 0.4 O2 -> Y2Mn2O7 (mu_O=0),\n",
       " 0.1667 YMn12 + 0.4167 Y2O3 + 1.875 O2 -> YMn2O5 (mu_O=0),\n",
       " 2 MnO + Y2O3 + O2 -> Y2Mn2O7 (mu_O=0),\n",
       " 2 MnO + 0.5 Y2O3 + 0.75 O2 -> YMn2O5 (mu_O=0),\n",
       " 8 MnO2 + 2 Y2O3 -> O2 + 4 YMn2O5 (mu_O=0)]"
      ]
     },
     "execution_count": 35,
     "metadata": {},
     "output_type": "execute_result"
    }
   ],
   "source": [
    "mgpe_precursors = MinimizeGrandPotentialEnumerator(open_elem=Element(\"O\"), mu=0,\n",
    "                                                   precursors=[\"Y2O3\"], exclusive_precursors=False)\n",
    "open_rxns_precursors = mgpe_precursors.enumerate(filtered_entries)\n",
    "open_rxns_precursors"
   ]
  },
  {
   "cell_type": "code",
   "execution_count": 36,
   "id": "f859e421",
   "metadata": {},
   "outputs": [
    {
     "data": {
      "application/vnd.jupyter.widget-view+json": {
       "model_id": "43c9d6011b504832a2cf9ec129a119d1",
       "version_major": 2,
       "version_minor": 0
      },
      "text/plain": [
       "MinimizeGrandPotentialEnumerator:   0%|          | 0/3 [00:00<?, ?it/s]"
      ]
     },
     "metadata": {},
     "output_type": "display_data"
    },
    {
     "data": {
      "text/plain": [
       "[0.1667 YMn12 + 0.9167 Y2O3 + 2.125 O2 -> Y2Mn2O7 (mu_O=0),\n",
       " 2 Mn + Y2O3 + 2 O2 -> Y2Mn2O7 (mu_O=0),\n",
       " 2 YMnO3 + 0.5 O2 -> Y2Mn2O7 (mu_O=0),\n",
       " 0.6667 Mn3O4 + 2 Y + 2.167 O2 -> Y2Mn2O7 (mu_O=0),\n",
       " 0.5 Y2O3 + YMn2O5 + 0.25 O2 -> Y2Mn2O7 (mu_O=0),\n",
       " Mn2O3 + 2 Y + 2 O2 -> Y2Mn2O7 (mu_O=0),\n",
       " 0.4 Mn5O8 + 2 Y + 1.9 O2 -> Y2Mn2O7 (mu_O=0),\n",
       " Y + YMn2O5 + O2 -> Y2Mn2O7 (mu_O=0),\n",
       " 2 MnO2 + 2 Y + 1.5 O2 -> Y2Mn2O7 (mu_O=0),\n",
       " Mn2O3 + Y2O3 + 0.5 O2 -> Y2Mn2O7 (mu_O=0),\n",
       " 2 MnO + 2 Y + 2.5 O2 -> Y2Mn2O7 (mu_O=0),\n",
       " 0.6667 Mn3O4 + Y2O3 + 0.6667 O2 -> Y2Mn2O7 (mu_O=0),\n",
       " 0.4 Mn5O8 + Y2O3 + 0.4 O2 -> Y2Mn2O7 (mu_O=0),\n",
       " 2 MnO + Y2O3 + O2 -> Y2Mn2O7 (mu_O=0)]"
      ]
     },
     "execution_count": 36,
     "metadata": {},
     "output_type": "execute_result"
    }
   ],
   "source": [
    "mgpe_precursors = MinimizeGrandPotentialEnumerator(open_elem=Element(\"O\"), mu=0,\n",
    "                                                   targets=[\"Y2Mn2O7\"])\n",
    "open_rxns_targets = mgpe_precursors.enumerate(filtered_entries)\n",
    "open_rxns_targets"
   ]
  },
  {
   "cell_type": "markdown",
   "id": "a89b08c0",
   "metadata": {},
   "source": [
    "Note that setting the chemical potential to a value outside of the range of stability of the target causes the enumerator to yield no reactions:"
   ]
  },
  {
   "cell_type": "code",
   "execution_count": 37,
   "id": "6faafecf",
   "metadata": {},
   "outputs": [
    {
     "data": {
      "application/vnd.jupyter.widget-view+json": {
       "model_id": "259ddc98dded489899591644e2989278",
       "version_major": 2,
       "version_minor": 0
      },
      "text/plain": [
       "MinimizeGrandPotentialEnumerator:   0%|          | 0/3 [00:00<?, ?it/s]"
      ]
     },
     "metadata": {},
     "output_type": "display_data"
    },
    {
     "data": {
      "text/plain": [
       "[]"
      ]
     },
     "execution_count": 37,
     "metadata": {},
     "output_type": "execute_result"
    }
   ],
   "source": [
    "mgpe_precursors = MinimizeGrandPotentialEnumerator(open_elem=Element(\"O\"), mu=-3,\n",
    "                                                   targets=[\"Y2Mn2O7\"])\n",
    "open_rxns_targets = mgpe_precursors.enumerate(filtered_entries)\n",
    "open_rxns_targets"
   ]
  },
  {
   "cell_type": "markdown",
   "id": "f04bd0fe",
   "metadata": {},
   "source": [
    "## Running enumerators with the Fireworks package\n",
    "\n",
    "A convenient way to run one or more enumerators is to use the `EnumeratorFW`, a wrapper for running enumerators that is written as a `Firework` within the _fireworks_ package. This allows for easy workflow management, such as queue submissions, I/O serialization, tracking of calculations, etc.\n",
    "\n",
    "The `EnumeratorFW` has support for acquiring entries either from a custom entry database (MongoDB), or from the Materials Project using `MPRester` API. To set up the firework, we simply provide a list of enumerators, and any of the optional parameters. If a chemical system is provided, entires for that system will be acquired before running the enumerator(s)."
   ]
  },
  {
   "cell_type": "code",
   "execution_count": 38,
   "id": "eb27b96a",
   "metadata": {},
   "outputs": [],
   "source": [
    "from rxn_network.fireworks import EnumeratorFW\n",
    "from fireworks import Workflow, LaunchPad"
   ]
  },
  {
   "cell_type": "code",
   "execution_count": 42,
   "id": "ba4c338f",
   "metadata": {},
   "outputs": [],
   "source": [
    "be = BasicEnumerator()\n",
    "fw = EnumeratorFW([be], chemsys=\"Y-Mn-O\", entry_set_params={\"e_above_hull\":0})"
   ]
  },
  {
   "cell_type": "markdown",
   "id": "bdb70fc5",
   "metadata": {},
   "source": [
    "The firework is simply a dictionary with a list of FireTasks where 1) entries are acquired, 2) enumerators are run, and 3) reactions are stored in a specified database"
   ]
  },
  {
   "cell_type": "markdown",
   "id": "20c7c143",
   "metadata": {},
   "source": [
    "We then place the firework by itself into a `Workflow` so that it can be added to our fireworks `LaunchPad` (see the fireworks documentation for more info on setting this up):"
   ]
  },
  {
   "cell_type": "code",
   "execution_count": 56,
   "id": "2775e073",
   "metadata": {},
   "outputs": [],
   "source": [
    "wf = Workflow([fw], name=\"Y-Mn-O Enumerator\")"
   ]
  },
  {
   "cell_type": "code",
   "execution_count": 57,
   "id": "a1cc7812",
   "metadata": {},
   "outputs": [
    {
     "name": "stdout",
     "output_type": "stream",
     "text": [
      "2021-12-14 15:55:12,046 INFO Added a workflow. id_map: {3846: 3847}\n"
     ]
    },
    {
     "data": {
      "text/plain": [
       "{3846: 3847}"
      ]
     },
     "execution_count": 57,
     "metadata": {},
     "output_type": "execute_result"
    }
   ],
   "source": [
    "lpad = LaunchPad.auto_load()\n",
    "lpad.add_wf(wf)"
   ]
  },
  {
   "cell_type": "markdown",
   "id": "3b67573a",
   "metadata": {},
   "source": [
    "The workflow can now either be launched through a queue submission (i.e. for supercomputer use) or simply on your local machine, by running `rlaunch singleshot` in your terminal as below. **Note**: this will launch in whatever folder this notebook is in!"
   ]
  },
  {
   "cell_type": "code",
   "execution_count": 58,
   "id": "470d992a",
   "metadata": {},
   "outputs": [
    {
     "name": "stdout",
     "output_type": "stream",
     "text": [
      "2021-12-14 15:55:13,153 INFO Hostname/IP lookup (this will take a few seconds)\n",
      "2021-12-14 15:55:13,154 INFO Launching Rocket\n",
      "2021-12-14 15:55:16,196 INFO RUNNING fw_id: 3847 in directory: /Users/mcdermott/PycharmProjects/reaction-network/notebooks\n",
      "2021-12-14 15:55:16,233 INFO Task started: {{rxn_network.firetasks.build_inputs.EntriesFromDb}}.\n",
      "2021-12-14 15:55:17,552 INFO Task completed: {{rxn_network.firetasks.build_inputs.EntriesFromDb}} \n",
      "2021-12-14 15:55:17,567 INFO Task started: {{rxn_network.firetasks.run_calc.RunEnumerators}}.\n",
      "O-Y: 100%|████████████████████████████████████████| 4/4 [00:01<00:00,  2.84it/s]\n",
      "2021-12-14 15:55:19,219 INFO Task completed: {{rxn_network.firetasks.run_calc.RunEnumerators}} \n",
      "2021-12-14 15:55:19,273 INFO Task started: {{rxn_network.firetasks.parse_outputs.ReactionsToDb}}.\n",
      "2021-12-14 15:55:19,335 INFO rxn_network.utils.database Updating /Users/mcdermott/PycharmProjects/reaction-network/notebooks with taskid = 82\n",
      "2021-12-14 15:55:19,389 INFO Task completed: {{rxn_network.firetasks.parse_outputs.ReactionsToDb}} \n",
      "2021-12-14 15:55:19,541 INFO Rocket finished\n"
     ]
    }
   ],
   "source": [
    "!rlaunch singleshot"
   ]
  },
  {
   "cell_type": "markdown",
   "id": "aa8a228a",
   "metadata": {},
   "source": [
    "If any errors are encountered, please double-check that your Fireworks settings are configured properly. If the error persists, please raise an Issue here: https://github.com/GENESIS-EFRC/reaction-network/issues"
   ]
  }
 ],
 "metadata": {
  "kernelspec": {
   "display_name": "Python 3 (ipykernel)",
   "language": "python",
   "name": "python3"
  },
  "language_info": {
   "codemirror_mode": {
    "name": "ipython",
    "version": 3
   },
   "file_extension": ".py",
   "mimetype": "text/x-python",
   "name": "python",
   "nbconvert_exporter": "python",
   "pygments_lexer": "ipython3",
   "version": "3.9.7"
  }
 },
 "nbformat": 4,
 "nbformat_minor": 5
}
