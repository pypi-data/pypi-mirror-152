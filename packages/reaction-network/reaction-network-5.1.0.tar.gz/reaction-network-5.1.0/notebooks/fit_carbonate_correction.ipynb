{
 "cells": [
  {
   "cell_type": "markdown",
   "id": "3c39eef3",
   "metadata": {},
   "source": [
    "# Fitting a Carbonate Correction for MP-sourced Gibbs free energy of formation data (300 K)\n",
    "\n",
    "Author: Matthew McDermott\n",
    "\n",
    "Date: May 24, 2022"
   ]
  },
  {
   "cell_type": "markdown",
   "id": "18332b60",
   "metadata": {},
   "source": [
    "#### Imports"
   ]
  },
  {
   "cell_type": "code",
   "execution_count": 20,
   "id": "e17d4141",
   "metadata": {},
   "outputs": [
    {
     "name": "stdout",
     "output_type": "stream",
     "text": [
      "The autoreload extension is already loaded. To reload it, use:\n",
      "  %reload_ext autoreload\n"
     ]
    }
   ],
   "source": [
    "from mp_api import MPRester\n",
    "from pymatgen.core.composition import Composition, Element\n",
    "\n",
    "import numpy as np\n",
    "import pandas\n",
    "import plotly.express as px\n",
    "import plotly.graph_objects as go\n",
    "from scipy.optimize import minimize\n",
    "\n",
    "from rxn_network.entries.entry_set import GibbsEntrySet\n",
    "\n",
    "%load_ext autoreload\n",
    "%autoreload 2"
   ]
  },
  {
   "cell_type": "markdown",
   "id": "d7030528",
   "metadata": {},
   "source": [
    "### Chemical systems"
   ]
  },
  {
   "cell_type": "code",
   "execution_count": 2,
   "id": "154b4764",
   "metadata": {},
   "outputs": [],
   "source": [
    "metals = [\"Ag\", \"Ba\", \"Ca\", \"Cd\", \"Cs\", \"Fe\", \"K\", \n",
    "          \"Li\", \"Mg\", \"Mn\", \"Na\", \"Pb\", \"Rb\", \"Sr\", \"Zn\"]  # all metals with carbonate energies available\n",
    "\n",
    "systems = [(m, \"C\", \"O\") for m in metals]"
   ]
  },
  {
   "cell_type": "markdown",
   "id": "a830c805",
   "metadata": {},
   "source": [
    "### Downloading Materials Project (MP) data using API"
   ]
  },
  {
   "cell_type": "code",
   "execution_count": 3,
   "id": "8ecd4040",
   "metadata": {},
   "outputs": [
    {
     "name": "stderr",
     "output_type": "stream",
     "text": [
      "/Users/mcdermott/opt/miniconda3/envs/rn_dev/lib/python3.9/site-packages/mp_api/client.py:138: builtins.UserWarning: Problem loading MPContribs client: Duplicate operationId: download_entries\n"
     ]
    },
    {
     "data": {
      "application/vnd.jupyter.widget-view+json": {
       "model_id": "ce8f7e55b71a459fa1736d455064d87f",
       "version_major": 2,
       "version_minor": 0
      },
      "text/plain": [
       "Retrieving ThermoDoc documents:   0%|          | 0/136 [00:00<?, ?it/s]"
      ]
     },
     "metadata": {},
     "output_type": "display_data"
    },
    {
     "data": {
      "application/vnd.jupyter.widget-view+json": {
       "model_id": "84b21c616b06438681050f97d9e4c548",
       "version_major": 2,
       "version_minor": 0
      },
      "text/plain": [
       "Retrieving ThermoDoc documents:   0%|          | 0/169 [00:00<?, ?it/s]"
      ]
     },
     "metadata": {},
     "output_type": "display_data"
    },
    {
     "data": {
      "application/vnd.jupyter.widget-view+json": {
       "model_id": "0c4455131aae4c0791daf8a645fbc419",
       "version_major": 2,
       "version_minor": 0
      },
      "text/plain": [
       "Retrieving ThermoDoc documents:   0%|          | 0/170 [00:00<?, ?it/s]"
      ]
     },
     "metadata": {},
     "output_type": "display_data"
    },
    {
     "data": {
      "application/vnd.jupyter.widget-view+json": {
       "model_id": "d613b0d79cde4baca3b900c302e63360",
       "version_major": 2,
       "version_minor": 0
      },
      "text/plain": [
       "Retrieving ThermoDoc documents:   0%|          | 0/121 [00:00<?, ?it/s]"
      ]
     },
     "metadata": {},
     "output_type": "display_data"
    },
    {
     "data": {
      "application/vnd.jupyter.widget-view+json": {
       "model_id": "81fd96fea4e544fe9a766efdc0a75516",
       "version_major": 2,
       "version_minor": 0
      },
      "text/plain": [
       "Retrieving ThermoDoc documents:   0%|          | 0/145 [00:00<?, ?it/s]"
      ]
     },
     "metadata": {},
     "output_type": "display_data"
    },
    {
     "data": {
      "application/vnd.jupyter.widget-view+json": {
       "model_id": "6d1775de39444f50a58b55626ab0fa9b",
       "version_major": 2,
       "version_minor": 0
      },
      "text/plain": [
       "Retrieving ThermoDoc documents:   0%|          | 0/285 [00:00<?, ?it/s]"
      ]
     },
     "metadata": {},
     "output_type": "display_data"
    },
    {
     "data": {
      "application/vnd.jupyter.widget-view+json": {
       "model_id": "eef018d93691429797faa7d942ddbcd4",
       "version_major": 2,
       "version_minor": 0
      },
      "text/plain": [
       "Retrieving ThermoDoc documents:   0%|          | 0/180 [00:00<?, ?it/s]"
      ]
     },
     "metadata": {},
     "output_type": "display_data"
    },
    {
     "data": {
      "application/vnd.jupyter.widget-view+json": {
       "model_id": "ea428b1f3eae4ac6a544c92976a82788",
       "version_major": 2,
       "version_minor": 0
      },
      "text/plain": [
       "Retrieving ThermoDoc documents:   0%|          | 0/164 [00:00<?, ?it/s]"
      ]
     },
     "metadata": {},
     "output_type": "display_data"
    },
    {
     "data": {
      "application/vnd.jupyter.widget-view+json": {
       "model_id": "b2cae3cc20a741c386cdc3c47f611778",
       "version_major": 2,
       "version_minor": 0
      },
      "text/plain": [
       "Retrieving ThermoDoc documents:   0%|          | 0/157 [00:00<?, ?it/s]"
      ]
     },
     "metadata": {},
     "output_type": "display_data"
    },
    {
     "data": {
      "application/vnd.jupyter.widget-view+json": {
       "model_id": "db03ff416cea4a789244e5ceee62260b",
       "version_major": 2,
       "version_minor": 0
      },
      "text/plain": [
       "Retrieving ThermoDoc documents:   0%|          | 0/202 [00:00<?, ?it/s]"
      ]
     },
     "metadata": {},
     "output_type": "display_data"
    },
    {
     "data": {
      "application/vnd.jupyter.widget-view+json": {
       "model_id": "501b5fe6bbc348f6aa1ec462c80e0d38",
       "version_major": 2,
       "version_minor": 0
      },
      "text/plain": [
       "Retrieving ThermoDoc documents:   0%|          | 0/174 [00:00<?, ?it/s]"
      ]
     },
     "metadata": {},
     "output_type": "display_data"
    },
    {
     "data": {
      "application/vnd.jupyter.widget-view+json": {
       "model_id": "776f766739a144489cd6829e444f1d7d",
       "version_major": 2,
       "version_minor": 0
      },
      "text/plain": [
       "Retrieving ThermoDoc documents:   0%|          | 0/144 [00:00<?, ?it/s]"
      ]
     },
     "metadata": {},
     "output_type": "display_data"
    },
    {
     "data": {
      "application/vnd.jupyter.widget-view+json": {
       "model_id": "58c34b13429844f584b5e0b3b16a997d",
       "version_major": 2,
       "version_minor": 0
      },
      "text/plain": [
       "Retrieving ThermoDoc documents:   0%|          | 0/170 [00:00<?, ?it/s]"
      ]
     },
     "metadata": {},
     "output_type": "display_data"
    },
    {
     "data": {
      "application/vnd.jupyter.widget-view+json": {
       "model_id": "fc42e52343f24c02a23d67899a89fa90",
       "version_major": 2,
       "version_minor": 0
      },
      "text/plain": [
       "Retrieving ThermoDoc documents:   0%|          | 0/147 [00:00<?, ?it/s]"
      ]
     },
     "metadata": {},
     "output_type": "display_data"
    },
    {
     "data": {
      "application/vnd.jupyter.widget-view+json": {
       "model_id": "8a68d7629e22407d88aeb7400e7ad69a",
       "version_major": 2,
       "version_minor": 0
      },
      "text/plain": [
       "Retrieving ThermoDoc documents:   0%|          | 0/132 [00:00<?, ?it/s]"
      ]
     },
     "metadata": {},
     "output_type": "display_data"
    }
   ],
   "source": [
    "all_entries = {}\n",
    "\n",
    "for system in systems:\n",
    "    with MPRester() as mpr:\n",
    "        entries = mpr.get_entries_in_chemsys(system)\n",
    "        \n",
    "    all_entries[system[0]] = entries"
   ]
  },
  {
   "cell_type": "markdown",
   "id": "8e479a5b",
   "metadata": {},
   "source": [
    "### Acquiring GibbsComputedEntries and corresponding experimental entries"
   ]
  },
  {
   "cell_type": "code",
   "execution_count": 120,
   "id": "97242ec7",
   "metadata": {},
   "outputs": [],
   "source": [
    "mp_entries = []\n",
    "exp_entries = []\n",
    "\n",
    "temp = 300  # Kelvin\n",
    "\n",
    "for m, entries in all_entries.items():\n",
    "    gibbs = GibbsEntrySet.from_entries(entries, temp, include_nist_data=False, apply_carbonate_correction=False)\n",
    "    gibbs_exp = GibbsEntrySet.from_entries(entries, temp, include_nist_data=True, include_freed_data=True, apply_carbonate_correction=False)\n",
    "    \n",
    "    oxidation_states = Element(m).common_oxidation_states\n",
    "    \n",
    "    for os in oxidation_states:\n",
    "        formula = Composition(f\"{m}2(CO3){os}\").reduced_formula\n",
    "\n",
    "        mp_entry = None\n",
    "        exp_entry = None\n",
    "        \n",
    "        try:\n",
    "            mp_entry = gibbs.get_min_entry_by_formula(formula)\n",
    "            exp_entry = gibbs_exp.get_min_entry_by_formula(formula)\n",
    "        except:\n",
    "            continue\n",
    "        \n",
    "        if exp_entry.is_experimental:\n",
    "            mp_entries.append(mp_entry)\n",
    "            exp_entries.append(exp_entry)"
   ]
  },
  {
   "cell_type": "code",
   "execution_count": 121,
   "id": "d0f535a1",
   "metadata": {},
   "outputs": [],
   "source": [
    "energies_calc = []\n",
    "energies_exp = []\n",
    "names = []\n",
    "\n",
    "for e_exp, e_calc in zip(exp_entries, mp_entries):\n",
    "    formula = e_exp.composition.reduced_formula\n",
    "    num_atoms_per_fu = Composition(formula).num_atoms\n",
    "    \n",
    "    energy_exp = e_exp.energy_per_atom * num_atoms_per_fu\n",
    "    energy_calc = e_calc.energy_per_atom * num_atoms_per_fu\n",
    "    name = e_calc.composition.reduced_formula\n",
    "    \n",
    "    energies_exp.append(energy_exp)\n",
    "    energies_calc.append(energy_calc)\n",
    "    names.append(name)"
   ]
  },
  {
   "cell_type": "markdown",
   "id": "21ac6867",
   "metadata": {},
   "source": [
    "### Plot before correction"
   ]
  },
  {
   "cell_type": "code",
   "execution_count": 128,
   "id": "88db5c7d",
   "metadata": {},
   "outputs": [
    {
     "data": {
      "application/vnd.plotly.v1+json": {
       "config": {
        "plotlyServerURL": "https://plot.ly"
       },
       "data": [
        {
         "hovertemplate": "<b>%{hovertext}</b><br><br>name=Ag2CO3<br>x=%{x}<br>y=%{y}<extra></extra>",
         "hovertext": [
          "Ag2CO3"
         ],
         "legendgroup": "Ag2CO3",
         "marker": {
          "color": "#1F77B4",
          "symbol": "circle"
         },
         "mode": "markers",
         "name": "Ag2CO3",
         "orientation": "v",
         "showlegend": true,
         "type": "scatter",
         "x": [
          -4.523490740122578
         ],
         "xaxis": "x",
         "y": [
          -5.714429337915332
         ],
         "yaxis": "y"
        },
        {
         "hovertemplate": "<b>%{hovertext}</b><br><br>name=BaCO3<br>x=%{x}<br>y=%{y}<extra></extra>",
         "hovertext": [
          "BaCO3"
         ],
         "legendgroup": "BaCO3",
         "marker": {
          "color": "#FF7F0E",
          "symbol": "diamond"
         },
         "mode": "markers",
         "name": "BaCO3",
         "orientation": "v",
         "showlegend": true,
         "type": "scatter",
         "x": [
          -11.729310728660675
         ],
         "xaxis": "x",
         "y": [
          -12.61849519107853
         ],
         "yaxis": "y"
        },
        {
         "hovertemplate": "<b>%{hovertext}</b><br><br>name=CaCO3<br>x=%{x}<br>y=%{y}<extra></extra>",
         "hovertext": [
          "CaCO3"
         ],
         "legendgroup": "CaCO3",
         "marker": {
          "color": "#2CA02C",
          "symbol": "square"
         },
         "mode": "markers",
         "name": "CaCO3",
         "orientation": "v",
         "showlegend": true,
         "type": "scatter",
         "x": [
          -11.697022798117317
         ],
         "xaxis": "x",
         "y": [
          -12.629810335831609
         ],
         "yaxis": "y"
        },
        {
         "hovertemplate": "<b>%{hovertext}</b><br><br>name=CdCO3<br>x=%{x}<br>y=%{y}<extra></extra>",
         "hovertext": [
          "CdCO3"
         ],
         "legendgroup": "CdCO3",
         "marker": {
          "color": "#D62728",
          "symbol": "x"
         },
         "mode": "markers",
         "name": "CdCO3",
         "orientation": "v",
         "showlegend": true,
         "type": "scatter",
         "x": [
          -7.018997735710281
         ],
         "xaxis": "x",
         "y": [
          -7.972391847652361
         ],
         "yaxis": "y"
        },
        {
         "hovertemplate": "<b>%{hovertext}</b><br><br>name=Cs2CO3<br>x=%{x}<br>y=%{y}<extra></extra>",
         "hovertext": [
          "Cs2CO3"
         ],
         "legendgroup": "Cs2CO3",
         "marker": {
          "color": "#9467BD",
          "symbol": "cross"
         },
         "mode": "markers",
         "name": "Cs2CO3",
         "orientation": "v",
         "showlegend": true,
         "type": "scatter",
         "x": [
          -10.894131627283759
         ],
         "xaxis": "x",
         "y": [
          -11.467291703165753
         ],
         "yaxis": "y"
        },
        {
         "hovertemplate": "<b>%{hovertext}</b><br><br>name=FeCO3<br>x=%{x}<br>y=%{y}<extra></extra>",
         "hovertext": [
          "FeCO3"
         ],
         "legendgroup": "FeCO3",
         "marker": {
          "color": "#8C564B",
          "symbol": "circle"
         },
         "mode": "markers",
         "name": "FeCO3",
         "orientation": "v",
         "showlegend": true,
         "type": "scatter",
         "x": [
          -6.929197226894303
         ],
         "xaxis": "x",
         "y": [
          -8.130974084845962
         ],
         "yaxis": "y"
        },
        {
         "hovertemplate": "<b>%{hovertext}</b><br><br>name=K2CO3<br>x=%{x}<br>y=%{y}<extra></extra>",
         "hovertext": [
          "K2CO3"
         ],
         "legendgroup": "K2CO3",
         "marker": {
          "color": "#E377C2",
          "symbol": "diamond"
         },
         "mode": "markers",
         "name": "K2CO3",
         "orientation": "v",
         "showlegend": true,
         "type": "scatter",
         "x": [
          -11.028037676944543
         ],
         "xaxis": "x",
         "y": [
          -11.772533129076823
         ],
         "yaxis": "y"
        },
        {
         "hovertemplate": "<b>%{hovertext}</b><br><br>name=Li2CO3<br>x=%{x}<br>y=%{y}<extra></extra>",
         "hovertext": [
          "Li2CO3"
         ],
         "legendgroup": "Li2CO3",
         "marker": {
          "color": "#7F7F7F",
          "symbol": "square"
         },
         "mode": "markers",
         "name": "Li2CO3",
         "orientation": "v",
         "showlegend": true,
         "type": "scatter",
         "x": [
          -11.728638626956926
         ],
         "xaxis": "x",
         "y": [
          -12.556833784996751
         ],
         "yaxis": "y"
        },
        {
         "hovertemplate": "<b>%{hovertext}</b><br><br>name=MgCO3<br>x=%{x}<br>y=%{y}<extra></extra>",
         "hovertext": [
          "MgCO3"
         ],
         "legendgroup": "MgCO3",
         "marker": {
          "color": "#BCBD22",
          "symbol": "x"
         },
         "mode": "markers",
         "name": "MgCO3",
         "orientation": "v",
         "showlegend": true,
         "type": "scatter",
         "x": [
          -10.66327385453301
         ],
         "xaxis": "x",
         "y": [
          -11.374561207371517
         ],
         "yaxis": "y"
        },
        {
         "hovertemplate": "<b>%{hovertext}</b><br><br>name=MnCO3<br>x=%{x}<br>y=%{y}<extra></extra>",
         "hovertext": [
          "MnCO3"
         ],
         "legendgroup": "MnCO3",
         "marker": {
          "color": "#17BECF",
          "symbol": "cross"
         },
         "mode": "markers",
         "name": "MnCO3",
         "orientation": "v",
         "showlegend": true,
         "type": "scatter",
         "x": [
          -8.448687588375233
         ],
         "xaxis": "x",
         "y": [
          -9.247082400302384
         ],
         "yaxis": "y"
        },
        {
         "hovertemplate": "<b>%{hovertext}</b><br><br>name=Na2CO3<br>x=%{x}<br>y=%{y}<extra></extra>",
         "hovertext": [
          "Na2CO3"
         ],
         "legendgroup": "Na2CO3",
         "marker": {
          "color": "#1F77B4",
          "symbol": "circle"
         },
         "mode": "markers",
         "name": "Na2CO3",
         "orientation": "v",
         "showlegend": true,
         "type": "scatter",
         "x": [
          -10.856533778555411
         ],
         "xaxis": "x",
         "y": [
          -11.494933937300312
         ],
         "yaxis": "y"
        },
        {
         "hovertemplate": "<b>%{hovertext}</b><br><br>name=PbCO3<br>x=%{x}<br>y=%{y}<extra></extra>",
         "hovertext": [
          "PbCO3"
         ],
         "legendgroup": "PbCO3",
         "marker": {
          "color": "#FF7F0E",
          "symbol": "diamond"
         },
         "mode": "markers",
         "name": "PbCO3",
         "orientation": "v",
         "showlegend": true,
         "type": "scatter",
         "x": [
          -6.514563134816661
         ],
         "xaxis": "x",
         "y": [
          -8.210034987216986
         ],
         "yaxis": "y"
        },
        {
         "hovertemplate": "<b>%{hovertext}</b><br><br>name=Rb2CO3<br>x=%{x}<br>y=%{y}<extra></extra>",
         "hovertext": [
          "Rb2CO3"
         ],
         "legendgroup": "Rb2CO3",
         "marker": {
          "color": "#2CA02C",
          "symbol": "square"
         },
         "mode": "markers",
         "name": "Rb2CO3",
         "orientation": "v",
         "showlegend": true,
         "type": "scatter",
         "x": [
          -10.97233639890869
         ],
         "xaxis": "x",
         "y": [
          -11.56615708739537
         ],
         "yaxis": "y"
        },
        {
         "hovertemplate": "<b>%{hovertext}</b><br><br>name=SrCO3<br>x=%{x}<br>y=%{y}<extra></extra>",
         "hovertext": [
          "SrCO3"
         ],
         "legendgroup": "SrCO3",
         "marker": {
          "color": "#D62728",
          "symbol": "x"
         },
         "mode": "markers",
         "name": "SrCO3",
         "orientation": "v",
         "showlegend": true,
         "type": "scatter",
         "x": [
          -11.796336838082897
         ],
         "xaxis": "x",
         "y": [
          -12.672609901424458
         ],
         "yaxis": "y"
        },
        {
         "hovertemplate": "<b>%{hovertext}</b><br><br>name=ZnCO3<br>x=%{x}<br>y=%{y}<extra></extra>",
         "hovertext": [
          "ZnCO3"
         ],
         "legendgroup": "ZnCO3",
         "marker": {
          "color": "#9467BD",
          "symbol": "cross"
         },
         "mode": "markers",
         "name": "ZnCO3",
         "orientation": "v",
         "showlegend": true,
         "type": "scatter",
         "x": [
          -7.600479604861418
         ],
         "xaxis": "x",
         "y": [
          -8.24357479335508
         ],
         "yaxis": "y"
        },
        {
         "hovertemplate": "x=%{x}<br>y=%{y}<extra></extra>",
         "legendgroup": "",
         "line": {
          "color": "#1F77B4",
          "dash": "solid"
         },
         "marker": {
          "symbol": "circle"
         },
         "mode": "lines",
         "name": "",
         "orientation": "v",
         "showlegend": false,
         "type": "scatter",
         "x": [
          -12,
          -4
         ],
         "xaxis": "x",
         "y": [
          -12,
          -4
         ],
         "yaxis": "y"
        }
       ],
       "layout": {
        "template": {
         "data": {
          "bar": [
           {
            "error_x": {
             "color": "rgb(36,36,36)"
            },
            "error_y": {
             "color": "rgb(36,36,36)"
            },
            "marker": {
             "line": {
              "color": "white",
              "width": 0.5
             },
             "pattern": {
              "fillmode": "overlay",
              "size": 10,
              "solidity": 0.2
             }
            },
            "type": "bar"
           }
          ],
          "barpolar": [
           {
            "marker": {
             "line": {
              "color": "white",
              "width": 0.5
             },
             "pattern": {
              "fillmode": "overlay",
              "size": 10,
              "solidity": 0.2
             }
            },
            "type": "barpolar"
           }
          ],
          "carpet": [
           {
            "aaxis": {
             "endlinecolor": "rgb(36,36,36)",
             "gridcolor": "white",
             "linecolor": "white",
             "minorgridcolor": "white",
             "startlinecolor": "rgb(36,36,36)"
            },
            "baxis": {
             "endlinecolor": "rgb(36,36,36)",
             "gridcolor": "white",
             "linecolor": "white",
             "minorgridcolor": "white",
             "startlinecolor": "rgb(36,36,36)"
            },
            "type": "carpet"
           }
          ],
          "choropleth": [
           {
            "colorbar": {
             "outlinewidth": 1,
             "tickcolor": "rgb(36,36,36)",
             "ticks": "outside"
            },
            "type": "choropleth"
           }
          ],
          "contour": [
           {
            "colorbar": {
             "outlinewidth": 1,
             "tickcolor": "rgb(36,36,36)",
             "ticks": "outside"
            },
            "colorscale": [
             [
              0,
              "#440154"
             ],
             [
              0.1111111111111111,
              "#482878"
             ],
             [
              0.2222222222222222,
              "#3e4989"
             ],
             [
              0.3333333333333333,
              "#31688e"
             ],
             [
              0.4444444444444444,
              "#26828e"
             ],
             [
              0.5555555555555556,
              "#1f9e89"
             ],
             [
              0.6666666666666666,
              "#35b779"
             ],
             [
              0.7777777777777778,
              "#6ece58"
             ],
             [
              0.8888888888888888,
              "#b5de2b"
             ],
             [
              1,
              "#fde725"
             ]
            ],
            "type": "contour"
           }
          ],
          "contourcarpet": [
           {
            "colorbar": {
             "outlinewidth": 1,
             "tickcolor": "rgb(36,36,36)",
             "ticks": "outside"
            },
            "type": "contourcarpet"
           }
          ],
          "heatmap": [
           {
            "colorbar": {
             "outlinewidth": 1,
             "tickcolor": "rgb(36,36,36)",
             "ticks": "outside"
            },
            "colorscale": [
             [
              0,
              "#440154"
             ],
             [
              0.1111111111111111,
              "#482878"
             ],
             [
              0.2222222222222222,
              "#3e4989"
             ],
             [
              0.3333333333333333,
              "#31688e"
             ],
             [
              0.4444444444444444,
              "#26828e"
             ],
             [
              0.5555555555555556,
              "#1f9e89"
             ],
             [
              0.6666666666666666,
              "#35b779"
             ],
             [
              0.7777777777777778,
              "#6ece58"
             ],
             [
              0.8888888888888888,
              "#b5de2b"
             ],
             [
              1,
              "#fde725"
             ]
            ],
            "type": "heatmap"
           }
          ],
          "heatmapgl": [
           {
            "colorbar": {
             "outlinewidth": 1,
             "tickcolor": "rgb(36,36,36)",
             "ticks": "outside"
            },
            "colorscale": [
             [
              0,
              "#440154"
             ],
             [
              0.1111111111111111,
              "#482878"
             ],
             [
              0.2222222222222222,
              "#3e4989"
             ],
             [
              0.3333333333333333,
              "#31688e"
             ],
             [
              0.4444444444444444,
              "#26828e"
             ],
             [
              0.5555555555555556,
              "#1f9e89"
             ],
             [
              0.6666666666666666,
              "#35b779"
             ],
             [
              0.7777777777777778,
              "#6ece58"
             ],
             [
              0.8888888888888888,
              "#b5de2b"
             ],
             [
              1,
              "#fde725"
             ]
            ],
            "type": "heatmapgl"
           }
          ],
          "histogram": [
           {
            "marker": {
             "line": {
              "color": "white",
              "width": 0.6
             }
            },
            "type": "histogram"
           }
          ],
          "histogram2d": [
           {
            "colorbar": {
             "outlinewidth": 1,
             "tickcolor": "rgb(36,36,36)",
             "ticks": "outside"
            },
            "colorscale": [
             [
              0,
              "#440154"
             ],
             [
              0.1111111111111111,
              "#482878"
             ],
             [
              0.2222222222222222,
              "#3e4989"
             ],
             [
              0.3333333333333333,
              "#31688e"
             ],
             [
              0.4444444444444444,
              "#26828e"
             ],
             [
              0.5555555555555556,
              "#1f9e89"
             ],
             [
              0.6666666666666666,
              "#35b779"
             ],
             [
              0.7777777777777778,
              "#6ece58"
             ],
             [
              0.8888888888888888,
              "#b5de2b"
             ],
             [
              1,
              "#fde725"
             ]
            ],
            "type": "histogram2d"
           }
          ],
          "histogram2dcontour": [
           {
            "colorbar": {
             "outlinewidth": 1,
             "tickcolor": "rgb(36,36,36)",
             "ticks": "outside"
            },
            "colorscale": [
             [
              0,
              "#440154"
             ],
             [
              0.1111111111111111,
              "#482878"
             ],
             [
              0.2222222222222222,
              "#3e4989"
             ],
             [
              0.3333333333333333,
              "#31688e"
             ],
             [
              0.4444444444444444,
              "#26828e"
             ],
             [
              0.5555555555555556,
              "#1f9e89"
             ],
             [
              0.6666666666666666,
              "#35b779"
             ],
             [
              0.7777777777777778,
              "#6ece58"
             ],
             [
              0.8888888888888888,
              "#b5de2b"
             ],
             [
              1,
              "#fde725"
             ]
            ],
            "type": "histogram2dcontour"
           }
          ],
          "mesh3d": [
           {
            "colorbar": {
             "outlinewidth": 1,
             "tickcolor": "rgb(36,36,36)",
             "ticks": "outside"
            },
            "type": "mesh3d"
           }
          ],
          "parcoords": [
           {
            "line": {
             "colorbar": {
              "outlinewidth": 1,
              "tickcolor": "rgb(36,36,36)",
              "ticks": "outside"
             }
            },
            "type": "parcoords"
           }
          ],
          "pie": [
           {
            "automargin": true,
            "type": "pie"
           }
          ],
          "scatter": [
           {
            "marker": {
             "colorbar": {
              "outlinewidth": 1,
              "tickcolor": "rgb(36,36,36)",
              "ticks": "outside"
             }
            },
            "type": "scatter"
           }
          ],
          "scatter3d": [
           {
            "line": {
             "colorbar": {
              "outlinewidth": 1,
              "tickcolor": "rgb(36,36,36)",
              "ticks": "outside"
             }
            },
            "marker": {
             "colorbar": {
              "outlinewidth": 1,
              "tickcolor": "rgb(36,36,36)",
              "ticks": "outside"
             }
            },
            "type": "scatter3d"
           }
          ],
          "scattercarpet": [
           {
            "marker": {
             "colorbar": {
              "outlinewidth": 1,
              "tickcolor": "rgb(36,36,36)",
              "ticks": "outside"
             }
            },
            "type": "scattercarpet"
           }
          ],
          "scattergeo": [
           {
            "marker": {
             "colorbar": {
              "outlinewidth": 1,
              "tickcolor": "rgb(36,36,36)",
              "ticks": "outside"
             }
            },
            "type": "scattergeo"
           }
          ],
          "scattergl": [
           {
            "marker": {
             "colorbar": {
              "outlinewidth": 1,
              "tickcolor": "rgb(36,36,36)",
              "ticks": "outside"
             }
            },
            "type": "scattergl"
           }
          ],
          "scattermapbox": [
           {
            "marker": {
             "colorbar": {
              "outlinewidth": 1,
              "tickcolor": "rgb(36,36,36)",
              "ticks": "outside"
             }
            },
            "type": "scattermapbox"
           }
          ],
          "scatterpolar": [
           {
            "marker": {
             "colorbar": {
              "outlinewidth": 1,
              "tickcolor": "rgb(36,36,36)",
              "ticks": "outside"
             }
            },
            "type": "scatterpolar"
           }
          ],
          "scatterpolargl": [
           {
            "marker": {
             "colorbar": {
              "outlinewidth": 1,
              "tickcolor": "rgb(36,36,36)",
              "ticks": "outside"
             }
            },
            "type": "scatterpolargl"
           }
          ],
          "scatterternary": [
           {
            "marker": {
             "colorbar": {
              "outlinewidth": 1,
              "tickcolor": "rgb(36,36,36)",
              "ticks": "outside"
             }
            },
            "type": "scatterternary"
           }
          ],
          "surface": [
           {
            "colorbar": {
             "outlinewidth": 1,
             "tickcolor": "rgb(36,36,36)",
             "ticks": "outside"
            },
            "colorscale": [
             [
              0,
              "#440154"
             ],
             [
              0.1111111111111111,
              "#482878"
             ],
             [
              0.2222222222222222,
              "#3e4989"
             ],
             [
              0.3333333333333333,
              "#31688e"
             ],
             [
              0.4444444444444444,
              "#26828e"
             ],
             [
              0.5555555555555556,
              "#1f9e89"
             ],
             [
              0.6666666666666666,
              "#35b779"
             ],
             [
              0.7777777777777778,
              "#6ece58"
             ],
             [
              0.8888888888888888,
              "#b5de2b"
             ],
             [
              1,
              "#fde725"
             ]
            ],
            "type": "surface"
           }
          ],
          "table": [
           {
            "cells": {
             "fill": {
              "color": "rgb(237,237,237)"
             },
             "line": {
              "color": "white"
             }
            },
            "header": {
             "fill": {
              "color": "rgb(217,217,217)"
             },
             "line": {
              "color": "white"
             }
            },
            "type": "table"
           }
          ]
         },
         "layout": {
          "annotationdefaults": {
           "arrowhead": 0,
           "arrowwidth": 1
          },
          "autotypenumbers": "strict",
          "coloraxis": {
           "colorbar": {
            "outlinewidth": 1,
            "tickcolor": "rgb(36,36,36)",
            "ticks": "outside"
           }
          },
          "colorscale": {
           "diverging": [
            [
             0,
             "rgb(103,0,31)"
            ],
            [
             0.1,
             "rgb(178,24,43)"
            ],
            [
             0.2,
             "rgb(214,96,77)"
            ],
            [
             0.3,
             "rgb(244,165,130)"
            ],
            [
             0.4,
             "rgb(253,219,199)"
            ],
            [
             0.5,
             "rgb(247,247,247)"
            ],
            [
             0.6,
             "rgb(209,229,240)"
            ],
            [
             0.7,
             "rgb(146,197,222)"
            ],
            [
             0.8,
             "rgb(67,147,195)"
            ],
            [
             0.9,
             "rgb(33,102,172)"
            ],
            [
             1,
             "rgb(5,48,97)"
            ]
           ],
           "sequential": [
            [
             0,
             "#440154"
            ],
            [
             0.1111111111111111,
             "#482878"
            ],
            [
             0.2222222222222222,
             "#3e4989"
            ],
            [
             0.3333333333333333,
             "#31688e"
            ],
            [
             0.4444444444444444,
             "#26828e"
            ],
            [
             0.5555555555555556,
             "#1f9e89"
            ],
            [
             0.6666666666666666,
             "#35b779"
            ],
            [
             0.7777777777777778,
             "#6ece58"
            ],
            [
             0.8888888888888888,
             "#b5de2b"
            ],
            [
             1,
             "#fde725"
            ]
           ],
           "sequentialminus": [
            [
             0,
             "#440154"
            ],
            [
             0.1111111111111111,
             "#482878"
            ],
            [
             0.2222222222222222,
             "#3e4989"
            ],
            [
             0.3333333333333333,
             "#31688e"
            ],
            [
             0.4444444444444444,
             "#26828e"
            ],
            [
             0.5555555555555556,
             "#1f9e89"
            ],
            [
             0.6666666666666666,
             "#35b779"
            ],
            [
             0.7777777777777778,
             "#6ece58"
            ],
            [
             0.8888888888888888,
             "#b5de2b"
            ],
            [
             1,
             "#fde725"
            ]
           ]
          },
          "colorway": [
           "#1F77B4",
           "#FF7F0E",
           "#2CA02C",
           "#D62728",
           "#9467BD",
           "#8C564B",
           "#E377C2",
           "#7F7F7F",
           "#BCBD22",
           "#17BECF"
          ],
          "font": {
           "color": "rgb(36,36,36)"
          },
          "geo": {
           "bgcolor": "white",
           "lakecolor": "white",
           "landcolor": "white",
           "showlakes": true,
           "showland": true,
           "subunitcolor": "white"
          },
          "hoverlabel": {
           "align": "left"
          },
          "hovermode": "closest",
          "mapbox": {
           "style": "light"
          },
          "paper_bgcolor": "white",
          "plot_bgcolor": "white",
          "polar": {
           "angularaxis": {
            "gridcolor": "rgb(232,232,232)",
            "linecolor": "rgb(36,36,36)",
            "showgrid": false,
            "showline": true,
            "ticks": "outside"
           },
           "bgcolor": "white",
           "radialaxis": {
            "gridcolor": "rgb(232,232,232)",
            "linecolor": "rgb(36,36,36)",
            "showgrid": false,
            "showline": true,
            "ticks": "outside"
           }
          },
          "scene": {
           "xaxis": {
            "backgroundcolor": "white",
            "gridcolor": "rgb(232,232,232)",
            "gridwidth": 2,
            "linecolor": "rgb(36,36,36)",
            "showbackground": true,
            "showgrid": false,
            "showline": true,
            "ticks": "outside",
            "zeroline": false,
            "zerolinecolor": "rgb(36,36,36)"
           },
           "yaxis": {
            "backgroundcolor": "white",
            "gridcolor": "rgb(232,232,232)",
            "gridwidth": 2,
            "linecolor": "rgb(36,36,36)",
            "showbackground": true,
            "showgrid": false,
            "showline": true,
            "ticks": "outside",
            "zeroline": false,
            "zerolinecolor": "rgb(36,36,36)"
           },
           "zaxis": {
            "backgroundcolor": "white",
            "gridcolor": "rgb(232,232,232)",
            "gridwidth": 2,
            "linecolor": "rgb(36,36,36)",
            "showbackground": true,
            "showgrid": false,
            "showline": true,
            "ticks": "outside",
            "zeroline": false,
            "zerolinecolor": "rgb(36,36,36)"
           }
          },
          "shapedefaults": {
           "fillcolor": "black",
           "line": {
            "width": 0
           },
           "opacity": 0.3
          },
          "ternary": {
           "aaxis": {
            "gridcolor": "rgb(232,232,232)",
            "linecolor": "rgb(36,36,36)",
            "showgrid": false,
            "showline": true,
            "ticks": "outside"
           },
           "baxis": {
            "gridcolor": "rgb(232,232,232)",
            "linecolor": "rgb(36,36,36)",
            "showgrid": false,
            "showline": true,
            "ticks": "outside"
           },
           "bgcolor": "white",
           "caxis": {
            "gridcolor": "rgb(232,232,232)",
            "linecolor": "rgb(36,36,36)",
            "showgrid": false,
            "showline": true,
            "ticks": "outside"
           }
          },
          "title": {
           "x": 0.05
          },
          "xaxis": {
           "automargin": true,
           "gridcolor": "rgb(232,232,232)",
           "linecolor": "rgb(36,36,36)",
           "showgrid": false,
           "showline": true,
           "ticks": "outside",
           "title": {
            "standoff": 15
           },
           "zeroline": false,
           "zerolinecolor": "rgb(36,36,36)"
          },
          "yaxis": {
           "automargin": true,
           "gridcolor": "rgb(232,232,232)",
           "linecolor": "rgb(36,36,36)",
           "showgrid": false,
           "showline": true,
           "ticks": "outside",
           "title": {
            "standoff": 15
           },
           "zeroline": false,
           "zerolinecolor": "rgb(36,36,36)"
          }
         }
        },
        "title": {
         "text": "Carbonate formation energies"
        },
        "xaxis": {
         "title": {
          "text": "Experimental dGf (eV/f.u.)"
         }
        },
        "yaxis": {
         "title": {
          "text": "Calculated dGf (eV/f.u.)"
         }
        }
       }
      },
      "text/html": [
       "<div>                            <div id=\"7958734f-991d-4c9c-abd3-a6634367e1fd\" class=\"plotly-graph-div\" style=\"height:525px; width:100%;\"></div>            <script type=\"text/javascript\">                require([\"plotly\"], function(Plotly) {                    window.PLOTLYENV=window.PLOTLYENV || {};                                    if (document.getElementById(\"7958734f-991d-4c9c-abd3-a6634367e1fd\")) {                    Plotly.newPlot(                        \"7958734f-991d-4c9c-abd3-a6634367e1fd\",                        [{\"hovertemplate\":\"<b>%{hovertext}</b><br><br>name=Ag2CO3<br>x=%{x}<br>y=%{y}<extra></extra>\",\"hovertext\":[\"Ag2CO3\"],\"legendgroup\":\"Ag2CO3\",\"marker\":{\"color\":\"#1F77B4\",\"symbol\":\"circle\"},\"mode\":\"markers\",\"name\":\"Ag2CO3\",\"orientation\":\"v\",\"showlegend\":true,\"x\":[-4.523490740122578],\"xaxis\":\"x\",\"y\":[-5.714429337915332],\"yaxis\":\"y\",\"type\":\"scatter\"},{\"hovertemplate\":\"<b>%{hovertext}</b><br><br>name=BaCO3<br>x=%{x}<br>y=%{y}<extra></extra>\",\"hovertext\":[\"BaCO3\"],\"legendgroup\":\"BaCO3\",\"marker\":{\"color\":\"#FF7F0E\",\"symbol\":\"diamond\"},\"mode\":\"markers\",\"name\":\"BaCO3\",\"orientation\":\"v\",\"showlegend\":true,\"x\":[-11.729310728660675],\"xaxis\":\"x\",\"y\":[-12.61849519107853],\"yaxis\":\"y\",\"type\":\"scatter\"},{\"hovertemplate\":\"<b>%{hovertext}</b><br><br>name=CaCO3<br>x=%{x}<br>y=%{y}<extra></extra>\",\"hovertext\":[\"CaCO3\"],\"legendgroup\":\"CaCO3\",\"marker\":{\"color\":\"#2CA02C\",\"symbol\":\"square\"},\"mode\":\"markers\",\"name\":\"CaCO3\",\"orientation\":\"v\",\"showlegend\":true,\"x\":[-11.697022798117317],\"xaxis\":\"x\",\"y\":[-12.629810335831609],\"yaxis\":\"y\",\"type\":\"scatter\"},{\"hovertemplate\":\"<b>%{hovertext}</b><br><br>name=CdCO3<br>x=%{x}<br>y=%{y}<extra></extra>\",\"hovertext\":[\"CdCO3\"],\"legendgroup\":\"CdCO3\",\"marker\":{\"color\":\"#D62728\",\"symbol\":\"x\"},\"mode\":\"markers\",\"name\":\"CdCO3\",\"orientation\":\"v\",\"showlegend\":true,\"x\":[-7.018997735710281],\"xaxis\":\"x\",\"y\":[-7.972391847652361],\"yaxis\":\"y\",\"type\":\"scatter\"},{\"hovertemplate\":\"<b>%{hovertext}</b><br><br>name=Cs2CO3<br>x=%{x}<br>y=%{y}<extra></extra>\",\"hovertext\":[\"Cs2CO3\"],\"legendgroup\":\"Cs2CO3\",\"marker\":{\"color\":\"#9467BD\",\"symbol\":\"cross\"},\"mode\":\"markers\",\"name\":\"Cs2CO3\",\"orientation\":\"v\",\"showlegend\":true,\"x\":[-10.894131627283759],\"xaxis\":\"x\",\"y\":[-11.467291703165753],\"yaxis\":\"y\",\"type\":\"scatter\"},{\"hovertemplate\":\"<b>%{hovertext}</b><br><br>name=FeCO3<br>x=%{x}<br>y=%{y}<extra></extra>\",\"hovertext\":[\"FeCO3\"],\"legendgroup\":\"FeCO3\",\"marker\":{\"color\":\"#8C564B\",\"symbol\":\"circle\"},\"mode\":\"markers\",\"name\":\"FeCO3\",\"orientation\":\"v\",\"showlegend\":true,\"x\":[-6.929197226894303],\"xaxis\":\"x\",\"y\":[-8.130974084845962],\"yaxis\":\"y\",\"type\":\"scatter\"},{\"hovertemplate\":\"<b>%{hovertext}</b><br><br>name=K2CO3<br>x=%{x}<br>y=%{y}<extra></extra>\",\"hovertext\":[\"K2CO3\"],\"legendgroup\":\"K2CO3\",\"marker\":{\"color\":\"#E377C2\",\"symbol\":\"diamond\"},\"mode\":\"markers\",\"name\":\"K2CO3\",\"orientation\":\"v\",\"showlegend\":true,\"x\":[-11.028037676944543],\"xaxis\":\"x\",\"y\":[-11.772533129076823],\"yaxis\":\"y\",\"type\":\"scatter\"},{\"hovertemplate\":\"<b>%{hovertext}</b><br><br>name=Li2CO3<br>x=%{x}<br>y=%{y}<extra></extra>\",\"hovertext\":[\"Li2CO3\"],\"legendgroup\":\"Li2CO3\",\"marker\":{\"color\":\"#7F7F7F\",\"symbol\":\"square\"},\"mode\":\"markers\",\"name\":\"Li2CO3\",\"orientation\":\"v\",\"showlegend\":true,\"x\":[-11.728638626956926],\"xaxis\":\"x\",\"y\":[-12.556833784996751],\"yaxis\":\"y\",\"type\":\"scatter\"},{\"hovertemplate\":\"<b>%{hovertext}</b><br><br>name=MgCO3<br>x=%{x}<br>y=%{y}<extra></extra>\",\"hovertext\":[\"MgCO3\"],\"legendgroup\":\"MgCO3\",\"marker\":{\"color\":\"#BCBD22\",\"symbol\":\"x\"},\"mode\":\"markers\",\"name\":\"MgCO3\",\"orientation\":\"v\",\"showlegend\":true,\"x\":[-10.66327385453301],\"xaxis\":\"x\",\"y\":[-11.374561207371517],\"yaxis\":\"y\",\"type\":\"scatter\"},{\"hovertemplate\":\"<b>%{hovertext}</b><br><br>name=MnCO3<br>x=%{x}<br>y=%{y}<extra></extra>\",\"hovertext\":[\"MnCO3\"],\"legendgroup\":\"MnCO3\",\"marker\":{\"color\":\"#17BECF\",\"symbol\":\"cross\"},\"mode\":\"markers\",\"name\":\"MnCO3\",\"orientation\":\"v\",\"showlegend\":true,\"x\":[-8.448687588375233],\"xaxis\":\"x\",\"y\":[-9.247082400302384],\"yaxis\":\"y\",\"type\":\"scatter\"},{\"hovertemplate\":\"<b>%{hovertext}</b><br><br>name=Na2CO3<br>x=%{x}<br>y=%{y}<extra></extra>\",\"hovertext\":[\"Na2CO3\"],\"legendgroup\":\"Na2CO3\",\"marker\":{\"color\":\"#1F77B4\",\"symbol\":\"circle\"},\"mode\":\"markers\",\"name\":\"Na2CO3\",\"orientation\":\"v\",\"showlegend\":true,\"x\":[-10.856533778555411],\"xaxis\":\"x\",\"y\":[-11.494933937300312],\"yaxis\":\"y\",\"type\":\"scatter\"},{\"hovertemplate\":\"<b>%{hovertext}</b><br><br>name=PbCO3<br>x=%{x}<br>y=%{y}<extra></extra>\",\"hovertext\":[\"PbCO3\"],\"legendgroup\":\"PbCO3\",\"marker\":{\"color\":\"#FF7F0E\",\"symbol\":\"diamond\"},\"mode\":\"markers\",\"name\":\"PbCO3\",\"orientation\":\"v\",\"showlegend\":true,\"x\":[-6.514563134816661],\"xaxis\":\"x\",\"y\":[-8.210034987216986],\"yaxis\":\"y\",\"type\":\"scatter\"},{\"hovertemplate\":\"<b>%{hovertext}</b><br><br>name=Rb2CO3<br>x=%{x}<br>y=%{y}<extra></extra>\",\"hovertext\":[\"Rb2CO3\"],\"legendgroup\":\"Rb2CO3\",\"marker\":{\"color\":\"#2CA02C\",\"symbol\":\"square\"},\"mode\":\"markers\",\"name\":\"Rb2CO3\",\"orientation\":\"v\",\"showlegend\":true,\"x\":[-10.97233639890869],\"xaxis\":\"x\",\"y\":[-11.56615708739537],\"yaxis\":\"y\",\"type\":\"scatter\"},{\"hovertemplate\":\"<b>%{hovertext}</b><br><br>name=SrCO3<br>x=%{x}<br>y=%{y}<extra></extra>\",\"hovertext\":[\"SrCO3\"],\"legendgroup\":\"SrCO3\",\"marker\":{\"color\":\"#D62728\",\"symbol\":\"x\"},\"mode\":\"markers\",\"name\":\"SrCO3\",\"orientation\":\"v\",\"showlegend\":true,\"x\":[-11.796336838082897],\"xaxis\":\"x\",\"y\":[-12.672609901424458],\"yaxis\":\"y\",\"type\":\"scatter\"},{\"hovertemplate\":\"<b>%{hovertext}</b><br><br>name=ZnCO3<br>x=%{x}<br>y=%{y}<extra></extra>\",\"hovertext\":[\"ZnCO3\"],\"legendgroup\":\"ZnCO3\",\"marker\":{\"color\":\"#9467BD\",\"symbol\":\"cross\"},\"mode\":\"markers\",\"name\":\"ZnCO3\",\"orientation\":\"v\",\"showlegend\":true,\"x\":[-7.600479604861418],\"xaxis\":\"x\",\"y\":[-8.24357479335508],\"yaxis\":\"y\",\"type\":\"scatter\"},{\"hovertemplate\":\"x=%{x}<br>y=%{y}<extra></extra>\",\"legendgroup\":\"\",\"line\":{\"color\":\"#1F77B4\",\"dash\":\"solid\"},\"marker\":{\"symbol\":\"circle\"},\"mode\":\"lines\",\"name\":\"\",\"orientation\":\"v\",\"showlegend\":false,\"x\":[-12,-4],\"xaxis\":\"x\",\"y\":[-12,-4],\"yaxis\":\"y\",\"type\":\"scatter\"}],                        {\"template\":{\"data\":{\"bar\":[{\"error_x\":{\"color\":\"rgb(36,36,36)\"},\"error_y\":{\"color\":\"rgb(36,36,36)\"},\"marker\":{\"line\":{\"color\":\"white\",\"width\":0.5},\"pattern\":{\"fillmode\":\"overlay\",\"size\":10,\"solidity\":0.2}},\"type\":\"bar\"}],\"barpolar\":[{\"marker\":{\"line\":{\"color\":\"white\",\"width\":0.5},\"pattern\":{\"fillmode\":\"overlay\",\"size\":10,\"solidity\":0.2}},\"type\":\"barpolar\"}],\"carpet\":[{\"aaxis\":{\"endlinecolor\":\"rgb(36,36,36)\",\"gridcolor\":\"white\",\"linecolor\":\"white\",\"minorgridcolor\":\"white\",\"startlinecolor\":\"rgb(36,36,36)\"},\"baxis\":{\"endlinecolor\":\"rgb(36,36,36)\",\"gridcolor\":\"white\",\"linecolor\":\"white\",\"minorgridcolor\":\"white\",\"startlinecolor\":\"rgb(36,36,36)\"},\"type\":\"carpet\"}],\"choropleth\":[{\"colorbar\":{\"outlinewidth\":1,\"tickcolor\":\"rgb(36,36,36)\",\"ticks\":\"outside\"},\"type\":\"choropleth\"}],\"contour\":[{\"colorbar\":{\"outlinewidth\":1,\"tickcolor\":\"rgb(36,36,36)\",\"ticks\":\"outside\"},\"colorscale\":[[0.0,\"#440154\"],[0.1111111111111111,\"#482878\"],[0.2222222222222222,\"#3e4989\"],[0.3333333333333333,\"#31688e\"],[0.4444444444444444,\"#26828e\"],[0.5555555555555556,\"#1f9e89\"],[0.6666666666666666,\"#35b779\"],[0.7777777777777778,\"#6ece58\"],[0.8888888888888888,\"#b5de2b\"],[1.0,\"#fde725\"]],\"type\":\"contour\"}],\"contourcarpet\":[{\"colorbar\":{\"outlinewidth\":1,\"tickcolor\":\"rgb(36,36,36)\",\"ticks\":\"outside\"},\"type\":\"contourcarpet\"}],\"heatmap\":[{\"colorbar\":{\"outlinewidth\":1,\"tickcolor\":\"rgb(36,36,36)\",\"ticks\":\"outside\"},\"colorscale\":[[0.0,\"#440154\"],[0.1111111111111111,\"#482878\"],[0.2222222222222222,\"#3e4989\"],[0.3333333333333333,\"#31688e\"],[0.4444444444444444,\"#26828e\"],[0.5555555555555556,\"#1f9e89\"],[0.6666666666666666,\"#35b779\"],[0.7777777777777778,\"#6ece58\"],[0.8888888888888888,\"#b5de2b\"],[1.0,\"#fde725\"]],\"type\":\"heatmap\"}],\"heatmapgl\":[{\"colorbar\":{\"outlinewidth\":1,\"tickcolor\":\"rgb(36,36,36)\",\"ticks\":\"outside\"},\"colorscale\":[[0.0,\"#440154\"],[0.1111111111111111,\"#482878\"],[0.2222222222222222,\"#3e4989\"],[0.3333333333333333,\"#31688e\"],[0.4444444444444444,\"#26828e\"],[0.5555555555555556,\"#1f9e89\"],[0.6666666666666666,\"#35b779\"],[0.7777777777777778,\"#6ece58\"],[0.8888888888888888,\"#b5de2b\"],[1.0,\"#fde725\"]],\"type\":\"heatmapgl\"}],\"histogram\":[{\"marker\":{\"line\":{\"color\":\"white\",\"width\":0.6}},\"type\":\"histogram\"}],\"histogram2d\":[{\"colorbar\":{\"outlinewidth\":1,\"tickcolor\":\"rgb(36,36,36)\",\"ticks\":\"outside\"},\"colorscale\":[[0.0,\"#440154\"],[0.1111111111111111,\"#482878\"],[0.2222222222222222,\"#3e4989\"],[0.3333333333333333,\"#31688e\"],[0.4444444444444444,\"#26828e\"],[0.5555555555555556,\"#1f9e89\"],[0.6666666666666666,\"#35b779\"],[0.7777777777777778,\"#6ece58\"],[0.8888888888888888,\"#b5de2b\"],[1.0,\"#fde725\"]],\"type\":\"histogram2d\"}],\"histogram2dcontour\":[{\"colorbar\":{\"outlinewidth\":1,\"tickcolor\":\"rgb(36,36,36)\",\"ticks\":\"outside\"},\"colorscale\":[[0.0,\"#440154\"],[0.1111111111111111,\"#482878\"],[0.2222222222222222,\"#3e4989\"],[0.3333333333333333,\"#31688e\"],[0.4444444444444444,\"#26828e\"],[0.5555555555555556,\"#1f9e89\"],[0.6666666666666666,\"#35b779\"],[0.7777777777777778,\"#6ece58\"],[0.8888888888888888,\"#b5de2b\"],[1.0,\"#fde725\"]],\"type\":\"histogram2dcontour\"}],\"mesh3d\":[{\"colorbar\":{\"outlinewidth\":1,\"tickcolor\":\"rgb(36,36,36)\",\"ticks\":\"outside\"},\"type\":\"mesh3d\"}],\"parcoords\":[{\"line\":{\"colorbar\":{\"outlinewidth\":1,\"tickcolor\":\"rgb(36,36,36)\",\"ticks\":\"outside\"}},\"type\":\"parcoords\"}],\"pie\":[{\"automargin\":true,\"type\":\"pie\"}],\"scatter\":[{\"marker\":{\"colorbar\":{\"outlinewidth\":1,\"tickcolor\":\"rgb(36,36,36)\",\"ticks\":\"outside\"}},\"type\":\"scatter\"}],\"scatter3d\":[{\"line\":{\"colorbar\":{\"outlinewidth\":1,\"tickcolor\":\"rgb(36,36,36)\",\"ticks\":\"outside\"}},\"marker\":{\"colorbar\":{\"outlinewidth\":1,\"tickcolor\":\"rgb(36,36,36)\",\"ticks\":\"outside\"}},\"type\":\"scatter3d\"}],\"scattercarpet\":[{\"marker\":{\"colorbar\":{\"outlinewidth\":1,\"tickcolor\":\"rgb(36,36,36)\",\"ticks\":\"outside\"}},\"type\":\"scattercarpet\"}],\"scattergeo\":[{\"marker\":{\"colorbar\":{\"outlinewidth\":1,\"tickcolor\":\"rgb(36,36,36)\",\"ticks\":\"outside\"}},\"type\":\"scattergeo\"}],\"scattergl\":[{\"marker\":{\"colorbar\":{\"outlinewidth\":1,\"tickcolor\":\"rgb(36,36,36)\",\"ticks\":\"outside\"}},\"type\":\"scattergl\"}],\"scattermapbox\":[{\"marker\":{\"colorbar\":{\"outlinewidth\":1,\"tickcolor\":\"rgb(36,36,36)\",\"ticks\":\"outside\"}},\"type\":\"scattermapbox\"}],\"scatterpolar\":[{\"marker\":{\"colorbar\":{\"outlinewidth\":1,\"tickcolor\":\"rgb(36,36,36)\",\"ticks\":\"outside\"}},\"type\":\"scatterpolar\"}],\"scatterpolargl\":[{\"marker\":{\"colorbar\":{\"outlinewidth\":1,\"tickcolor\":\"rgb(36,36,36)\",\"ticks\":\"outside\"}},\"type\":\"scatterpolargl\"}],\"scatterternary\":[{\"marker\":{\"colorbar\":{\"outlinewidth\":1,\"tickcolor\":\"rgb(36,36,36)\",\"ticks\":\"outside\"}},\"type\":\"scatterternary\"}],\"surface\":[{\"colorbar\":{\"outlinewidth\":1,\"tickcolor\":\"rgb(36,36,36)\",\"ticks\":\"outside\"},\"colorscale\":[[0.0,\"#440154\"],[0.1111111111111111,\"#482878\"],[0.2222222222222222,\"#3e4989\"],[0.3333333333333333,\"#31688e\"],[0.4444444444444444,\"#26828e\"],[0.5555555555555556,\"#1f9e89\"],[0.6666666666666666,\"#35b779\"],[0.7777777777777778,\"#6ece58\"],[0.8888888888888888,\"#b5de2b\"],[1.0,\"#fde725\"]],\"type\":\"surface\"}],\"table\":[{\"cells\":{\"fill\":{\"color\":\"rgb(237,237,237)\"},\"line\":{\"color\":\"white\"}},\"header\":{\"fill\":{\"color\":\"rgb(217,217,217)\"},\"line\":{\"color\":\"white\"}},\"type\":\"table\"}]},\"layout\":{\"annotationdefaults\":{\"arrowhead\":0,\"arrowwidth\":1},\"autotypenumbers\":\"strict\",\"coloraxis\":{\"colorbar\":{\"outlinewidth\":1,\"tickcolor\":\"rgb(36,36,36)\",\"ticks\":\"outside\"}},\"colorscale\":{\"diverging\":[[0.0,\"rgb(103,0,31)\"],[0.1,\"rgb(178,24,43)\"],[0.2,\"rgb(214,96,77)\"],[0.3,\"rgb(244,165,130)\"],[0.4,\"rgb(253,219,199)\"],[0.5,\"rgb(247,247,247)\"],[0.6,\"rgb(209,229,240)\"],[0.7,\"rgb(146,197,222)\"],[0.8,\"rgb(67,147,195)\"],[0.9,\"rgb(33,102,172)\"],[1.0,\"rgb(5,48,97)\"]],\"sequential\":[[0.0,\"#440154\"],[0.1111111111111111,\"#482878\"],[0.2222222222222222,\"#3e4989\"],[0.3333333333333333,\"#31688e\"],[0.4444444444444444,\"#26828e\"],[0.5555555555555556,\"#1f9e89\"],[0.6666666666666666,\"#35b779\"],[0.7777777777777778,\"#6ece58\"],[0.8888888888888888,\"#b5de2b\"],[1.0,\"#fde725\"]],\"sequentialminus\":[[0.0,\"#440154\"],[0.1111111111111111,\"#482878\"],[0.2222222222222222,\"#3e4989\"],[0.3333333333333333,\"#31688e\"],[0.4444444444444444,\"#26828e\"],[0.5555555555555556,\"#1f9e89\"],[0.6666666666666666,\"#35b779\"],[0.7777777777777778,\"#6ece58\"],[0.8888888888888888,\"#b5de2b\"],[1.0,\"#fde725\"]]},\"colorway\":[\"#1F77B4\",\"#FF7F0E\",\"#2CA02C\",\"#D62728\",\"#9467BD\",\"#8C564B\",\"#E377C2\",\"#7F7F7F\",\"#BCBD22\",\"#17BECF\"],\"font\":{\"color\":\"rgb(36,36,36)\"},\"geo\":{\"bgcolor\":\"white\",\"lakecolor\":\"white\",\"landcolor\":\"white\",\"showlakes\":true,\"showland\":true,\"subunitcolor\":\"white\"},\"hoverlabel\":{\"align\":\"left\"},\"hovermode\":\"closest\",\"mapbox\":{\"style\":\"light\"},\"paper_bgcolor\":\"white\",\"plot_bgcolor\":\"white\",\"polar\":{\"angularaxis\":{\"gridcolor\":\"rgb(232,232,232)\",\"linecolor\":\"rgb(36,36,36)\",\"showgrid\":false,\"showline\":true,\"ticks\":\"outside\"},\"bgcolor\":\"white\",\"radialaxis\":{\"gridcolor\":\"rgb(232,232,232)\",\"linecolor\":\"rgb(36,36,36)\",\"showgrid\":false,\"showline\":true,\"ticks\":\"outside\"}},\"scene\":{\"xaxis\":{\"backgroundcolor\":\"white\",\"gridcolor\":\"rgb(232,232,232)\",\"gridwidth\":2,\"linecolor\":\"rgb(36,36,36)\",\"showbackground\":true,\"showgrid\":false,\"showline\":true,\"ticks\":\"outside\",\"zeroline\":false,\"zerolinecolor\":\"rgb(36,36,36)\"},\"yaxis\":{\"backgroundcolor\":\"white\",\"gridcolor\":\"rgb(232,232,232)\",\"gridwidth\":2,\"linecolor\":\"rgb(36,36,36)\",\"showbackground\":true,\"showgrid\":false,\"showline\":true,\"ticks\":\"outside\",\"zeroline\":false,\"zerolinecolor\":\"rgb(36,36,36)\"},\"zaxis\":{\"backgroundcolor\":\"white\",\"gridcolor\":\"rgb(232,232,232)\",\"gridwidth\":2,\"linecolor\":\"rgb(36,36,36)\",\"showbackground\":true,\"showgrid\":false,\"showline\":true,\"ticks\":\"outside\",\"zeroline\":false,\"zerolinecolor\":\"rgb(36,36,36)\"}},\"shapedefaults\":{\"fillcolor\":\"black\",\"line\":{\"width\":0},\"opacity\":0.3},\"ternary\":{\"aaxis\":{\"gridcolor\":\"rgb(232,232,232)\",\"linecolor\":\"rgb(36,36,36)\",\"showgrid\":false,\"showline\":true,\"ticks\":\"outside\"},\"baxis\":{\"gridcolor\":\"rgb(232,232,232)\",\"linecolor\":\"rgb(36,36,36)\",\"showgrid\":false,\"showline\":true,\"ticks\":\"outside\"},\"bgcolor\":\"white\",\"caxis\":{\"gridcolor\":\"rgb(232,232,232)\",\"linecolor\":\"rgb(36,36,36)\",\"showgrid\":false,\"showline\":true,\"ticks\":\"outside\"}},\"title\":{\"x\":0.05},\"xaxis\":{\"automargin\":true,\"gridcolor\":\"rgb(232,232,232)\",\"linecolor\":\"rgb(36,36,36)\",\"showgrid\":false,\"showline\":true,\"ticks\":\"outside\",\"title\":{\"standoff\":15},\"zeroline\":false,\"zerolinecolor\":\"rgb(36,36,36)\"},\"yaxis\":{\"automargin\":true,\"gridcolor\":\"rgb(232,232,232)\",\"linecolor\":\"rgb(36,36,36)\",\"showgrid\":false,\"showline\":true,\"ticks\":\"outside\",\"title\":{\"standoff\":15},\"zeroline\":false,\"zerolinecolor\":\"rgb(36,36,36)\"}}},\"title\":{\"text\":\"Carbonate formation energies\"},\"xaxis\":{\"title\":{\"text\":\"Experimental dGf (eV/f.u.)\"}},\"yaxis\":{\"title\":{\"text\":\"Calculated dGf (eV/f.u.)\"}}},                        {\"responsive\": true}                    ).then(function(){\n",
       "                            \n",
       "var gd = document.getElementById('7958734f-991d-4c9c-abd3-a6634367e1fd');\n",
       "var x = new MutationObserver(function (mutations, observer) {{\n",
       "        var display = window.getComputedStyle(gd).display;\n",
       "        if (!display || display === 'none') {{\n",
       "            console.log([gd, 'removed!']);\n",
       "            Plotly.purge(gd);\n",
       "            observer.disconnect();\n",
       "        }}\n",
       "}});\n",
       "\n",
       "// Listen for the removal of the full notebook cells\n",
       "var notebookContainer = gd.closest('#notebook-container');\n",
       "if (notebookContainer) {{\n",
       "    x.observe(notebookContainer, {childList: true});\n",
       "}}\n",
       "\n",
       "// Listen for the clearing of the current output cell\n",
       "var outputEl = gd.closest('.output');\n",
       "if (outputEl) {{\n",
       "    x.observe(outputEl, {childList: true});\n",
       "}}\n",
       "\n",
       "                        })                };                });            </script>        </div>"
      ]
     },
     "metadata": {},
     "output_type": "display_data"
    }
   ],
   "source": [
    "df = pandas.DataFrame({\"x\":energies_exp, \"y\":energies_calc, \"name\":names})\n",
    "\n",
    "scatter = px.scatter(df, x=\"x\", y=\"y\", hover_name=\"name\", symbol=\"name\", color=\"name\")\n",
    "line = px.line(x=[-12, -4], y=[-12, -4])\n",
    "\n",
    "fig = go.Figure(scatter.data + line.data)\n",
    "fig.update_layout({\"title\": \"Carbonate formation energies\",\n",
    "                   \"xaxis_title\":\"Experimental dGf (eV/f.u.)\",\n",
    "                   \"yaxis_title\":\"Calculated dGf (eV/f.u.)\"})\n",
    "fig.show()"
   ]
  },
  {
   "cell_type": "markdown",
   "id": "e5a2cccd",
   "metadata": {},
   "source": [
    "### Fitting correction with scipy.optimize.minimize\n",
    "Minimizing the mean absolute error (MAE) for all corrected phases."
   ]
  },
  {
   "cell_type": "code",
   "execution_count": 124,
   "id": "11917ec8",
   "metadata": {},
   "outputs": [],
   "source": [
    "def func(correction):\n",
    "    return np.mean(np.abs((df[\"y\"] + correction) - df[\"x\"]))  # definition of MAE"
   ]
  },
  {
   "cell_type": "code",
   "execution_count": 125,
   "id": "d2a7cd76",
   "metadata": {},
   "outputs": [],
   "source": [
    "final_correction = minimize(func, 0.25).x[0]"
   ]
  },
  {
   "cell_type": "code",
   "execution_count": 126,
   "id": "81b901ab",
   "metadata": {},
   "outputs": [
    {
     "data": {
      "application/vnd.plotly.v1+json": {
       "config": {
        "plotlyServerURL": "https://plot.ly"
       },
       "data": [
        {
         "hovertemplate": "<b>%{hovertext}</b><br><br>name=Ag2CO3<br>x=%{x}<br>y=%{y}<extra></extra>",
         "hovertext": [
          "Ag2CO3"
         ],
         "legendgroup": "Ag2CO3",
         "marker": {
          "color": "#1F77B4",
          "symbol": "circle"
         },
         "mode": "markers",
         "name": "Ag2CO3",
         "orientation": "v",
         "showlegend": true,
         "type": "scatter",
         "x": [
          -4.523490740122578
         ],
         "xaxis": "x",
         "y": [
          -4.886234187326087
         ],
         "yaxis": "y"
        },
        {
         "hovertemplate": "<b>%{hovertext}</b><br><br>name=BaCO3<br>x=%{x}<br>y=%{y}<extra></extra>",
         "hovertext": [
          "BaCO3"
         ],
         "legendgroup": "BaCO3",
         "marker": {
          "color": "#FF7F0E",
          "symbol": "diamond"
         },
         "mode": "markers",
         "name": "BaCO3",
         "orientation": "v",
         "showlegend": true,
         "type": "scatter",
         "x": [
          -11.729310728660675
         ],
         "xaxis": "x",
         "y": [
          -11.790300040489285
         ],
         "yaxis": "y"
        },
        {
         "hovertemplate": "<b>%{hovertext}</b><br><br>name=CaCO3<br>x=%{x}<br>y=%{y}<extra></extra>",
         "hovertext": [
          "CaCO3"
         ],
         "legendgroup": "CaCO3",
         "marker": {
          "color": "#2CA02C",
          "symbol": "square"
         },
         "mode": "markers",
         "name": "CaCO3",
         "orientation": "v",
         "showlegend": true,
         "type": "scatter",
         "x": [
          -11.697022798117317
         ],
         "xaxis": "x",
         "y": [
          -11.801615185242364
         ],
         "yaxis": "y"
        },
        {
         "hovertemplate": "<b>%{hovertext}</b><br><br>name=CdCO3<br>x=%{x}<br>y=%{y}<extra></extra>",
         "hovertext": [
          "CdCO3"
         ],
         "legendgroup": "CdCO3",
         "marker": {
          "color": "#D62728",
          "symbol": "x"
         },
         "mode": "markers",
         "name": "CdCO3",
         "orientation": "v",
         "showlegend": true,
         "type": "scatter",
         "x": [
          -7.018997735710281
         ],
         "xaxis": "x",
         "y": [
          -7.144196697063116
         ],
         "yaxis": "y"
        },
        {
         "hovertemplate": "<b>%{hovertext}</b><br><br>name=Cs2CO3<br>x=%{x}<br>y=%{y}<extra></extra>",
         "hovertext": [
          "Cs2CO3"
         ],
         "legendgroup": "Cs2CO3",
         "marker": {
          "color": "#9467BD",
          "symbol": "cross"
         },
         "mode": "markers",
         "name": "Cs2CO3",
         "orientation": "v",
         "showlegend": true,
         "type": "scatter",
         "x": [
          -10.894131627283759
         ],
         "xaxis": "x",
         "y": [
          -10.639096552576508
         ],
         "yaxis": "y"
        },
        {
         "hovertemplate": "<b>%{hovertext}</b><br><br>name=FeCO3<br>x=%{x}<br>y=%{y}<extra></extra>",
         "hovertext": [
          "FeCO3"
         ],
         "legendgroup": "FeCO3",
         "marker": {
          "color": "#8C564B",
          "symbol": "circle"
         },
         "mode": "markers",
         "name": "FeCO3",
         "orientation": "v",
         "showlegend": true,
         "type": "scatter",
         "x": [
          -6.929197226894303
         ],
         "xaxis": "x",
         "y": [
          -7.302778934256716
         ],
         "yaxis": "y"
        },
        {
         "hovertemplate": "<b>%{hovertext}</b><br><br>name=K2CO3<br>x=%{x}<br>y=%{y}<extra></extra>",
         "hovertext": [
          "K2CO3"
         ],
         "legendgroup": "K2CO3",
         "marker": {
          "color": "#E377C2",
          "symbol": "diamond"
         },
         "mode": "markers",
         "name": "K2CO3",
         "orientation": "v",
         "showlegend": true,
         "type": "scatter",
         "x": [
          -11.028037676944543
         ],
         "xaxis": "x",
         "y": [
          -10.944337978487578
         ],
         "yaxis": "y"
        },
        {
         "hovertemplate": "<b>%{hovertext}</b><br><br>name=Li2CO3<br>x=%{x}<br>y=%{y}<extra></extra>",
         "hovertext": [
          "Li2CO3"
         ],
         "legendgroup": "Li2CO3",
         "marker": {
          "color": "#7F7F7F",
          "symbol": "square"
         },
         "mode": "markers",
         "name": "Li2CO3",
         "orientation": "v",
         "showlegend": true,
         "type": "scatter",
         "x": [
          -11.728638626956926
         ],
         "xaxis": "x",
         "y": [
          -11.728638634407506
         ],
         "yaxis": "y"
        },
        {
         "hovertemplate": "<b>%{hovertext}</b><br><br>name=MgCO3<br>x=%{x}<br>y=%{y}<extra></extra>",
         "hovertext": [
          "MgCO3"
         ],
         "legendgroup": "MgCO3",
         "marker": {
          "color": "#BCBD22",
          "symbol": "x"
         },
         "mode": "markers",
         "name": "MgCO3",
         "orientation": "v",
         "showlegend": true,
         "type": "scatter",
         "x": [
          -10.66327385453301
         ],
         "xaxis": "x",
         "y": [
          -10.546366056782272
         ],
         "yaxis": "y"
        },
        {
         "hovertemplate": "<b>%{hovertext}</b><br><br>name=MnCO3<br>x=%{x}<br>y=%{y}<extra></extra>",
         "hovertext": [
          "MnCO3"
         ],
         "legendgroup": "MnCO3",
         "marker": {
          "color": "#17BECF",
          "symbol": "cross"
         },
         "mode": "markers",
         "name": "MnCO3",
         "orientation": "v",
         "showlegend": true,
         "type": "scatter",
         "x": [
          -8.448687588375233
         ],
         "xaxis": "x",
         "y": [
          -8.418887249713139
         ],
         "yaxis": "y"
        },
        {
         "hovertemplate": "<b>%{hovertext}</b><br><br>name=Na2CO3<br>x=%{x}<br>y=%{y}<extra></extra>",
         "hovertext": [
          "Na2CO3"
         ],
         "legendgroup": "Na2CO3",
         "marker": {
          "color": "#1F77B4",
          "symbol": "circle"
         },
         "mode": "markers",
         "name": "Na2CO3",
         "orientation": "v",
         "showlegend": true,
         "type": "scatter",
         "x": [
          -10.856533778555411
         ],
         "xaxis": "x",
         "y": [
          -10.666738786711067
         ],
         "yaxis": "y"
        },
        {
         "hovertemplate": "<b>%{hovertext}</b><br><br>name=PbCO3<br>x=%{x}<br>y=%{y}<extra></extra>",
         "hovertext": [
          "PbCO3"
         ],
         "legendgroup": "PbCO3",
         "marker": {
          "color": "#FF7F0E",
          "symbol": "diamond"
         },
         "mode": "markers",
         "name": "PbCO3",
         "orientation": "v",
         "showlegend": true,
         "type": "scatter",
         "x": [
          -6.514563134816661
         ],
         "xaxis": "x",
         "y": [
          -7.381839836627741
         ],
         "yaxis": "y"
        },
        {
         "hovertemplate": "<b>%{hovertext}</b><br><br>name=Rb2CO3<br>x=%{x}<br>y=%{y}<extra></extra>",
         "hovertext": [
          "Rb2CO3"
         ],
         "legendgroup": "Rb2CO3",
         "marker": {
          "color": "#2CA02C",
          "symbol": "square"
         },
         "mode": "markers",
         "name": "Rb2CO3",
         "orientation": "v",
         "showlegend": true,
         "type": "scatter",
         "x": [
          -10.97233639890869
         ],
         "xaxis": "x",
         "y": [
          -10.737961936806125
         ],
         "yaxis": "y"
        },
        {
         "hovertemplate": "<b>%{hovertext}</b><br><br>name=SrCO3<br>x=%{x}<br>y=%{y}<extra></extra>",
         "hovertext": [
          "SrCO3"
         ],
         "legendgroup": "SrCO3",
         "marker": {
          "color": "#D62728",
          "symbol": "x"
         },
         "mode": "markers",
         "name": "SrCO3",
         "orientation": "v",
         "showlegend": true,
         "type": "scatter",
         "x": [
          -11.796336838082897
         ],
         "xaxis": "x",
         "y": [
          -11.844414750835213
         ],
         "yaxis": "y"
        },
        {
         "hovertemplate": "<b>%{hovertext}</b><br><br>name=ZnCO3<br>x=%{x}<br>y=%{y}<extra></extra>",
         "hovertext": [
          "ZnCO3"
         ],
         "legendgroup": "ZnCO3",
         "marker": {
          "color": "#9467BD",
          "symbol": "cross"
         },
         "mode": "markers",
         "name": "ZnCO3",
         "orientation": "v",
         "showlegend": true,
         "type": "scatter",
         "x": [
          -7.600479604861418
         ],
         "xaxis": "x",
         "y": [
          -7.415379642765835
         ],
         "yaxis": "y"
        },
        {
         "hovertemplate": "x=%{x}<br>y=%{y}<extra></extra>",
         "legendgroup": "",
         "line": {
          "color": "#1F77B4",
          "dash": "solid"
         },
         "marker": {
          "symbol": "circle"
         },
         "mode": "lines",
         "name": "",
         "orientation": "v",
         "showlegend": false,
         "type": "scatter",
         "x": [
          -12,
          -4
         ],
         "xaxis": "x",
         "y": [
          -12,
          -4
         ],
         "yaxis": "y"
        }
       ],
       "layout": {
        "template": {
         "data": {
          "bar": [
           {
            "error_x": {
             "color": "rgb(36,36,36)"
            },
            "error_y": {
             "color": "rgb(36,36,36)"
            },
            "marker": {
             "line": {
              "color": "white",
              "width": 0.5
             },
             "pattern": {
              "fillmode": "overlay",
              "size": 10,
              "solidity": 0.2
             }
            },
            "type": "bar"
           }
          ],
          "barpolar": [
           {
            "marker": {
             "line": {
              "color": "white",
              "width": 0.5
             },
             "pattern": {
              "fillmode": "overlay",
              "size": 10,
              "solidity": 0.2
             }
            },
            "type": "barpolar"
           }
          ],
          "carpet": [
           {
            "aaxis": {
             "endlinecolor": "rgb(36,36,36)",
             "gridcolor": "white",
             "linecolor": "white",
             "minorgridcolor": "white",
             "startlinecolor": "rgb(36,36,36)"
            },
            "baxis": {
             "endlinecolor": "rgb(36,36,36)",
             "gridcolor": "white",
             "linecolor": "white",
             "minorgridcolor": "white",
             "startlinecolor": "rgb(36,36,36)"
            },
            "type": "carpet"
           }
          ],
          "choropleth": [
           {
            "colorbar": {
             "outlinewidth": 1,
             "tickcolor": "rgb(36,36,36)",
             "ticks": "outside"
            },
            "type": "choropleth"
           }
          ],
          "contour": [
           {
            "colorbar": {
             "outlinewidth": 1,
             "tickcolor": "rgb(36,36,36)",
             "ticks": "outside"
            },
            "colorscale": [
             [
              0,
              "#440154"
             ],
             [
              0.1111111111111111,
              "#482878"
             ],
             [
              0.2222222222222222,
              "#3e4989"
             ],
             [
              0.3333333333333333,
              "#31688e"
             ],
             [
              0.4444444444444444,
              "#26828e"
             ],
             [
              0.5555555555555556,
              "#1f9e89"
             ],
             [
              0.6666666666666666,
              "#35b779"
             ],
             [
              0.7777777777777778,
              "#6ece58"
             ],
             [
              0.8888888888888888,
              "#b5de2b"
             ],
             [
              1,
              "#fde725"
             ]
            ],
            "type": "contour"
           }
          ],
          "contourcarpet": [
           {
            "colorbar": {
             "outlinewidth": 1,
             "tickcolor": "rgb(36,36,36)",
             "ticks": "outside"
            },
            "type": "contourcarpet"
           }
          ],
          "heatmap": [
           {
            "colorbar": {
             "outlinewidth": 1,
             "tickcolor": "rgb(36,36,36)",
             "ticks": "outside"
            },
            "colorscale": [
             [
              0,
              "#440154"
             ],
             [
              0.1111111111111111,
              "#482878"
             ],
             [
              0.2222222222222222,
              "#3e4989"
             ],
             [
              0.3333333333333333,
              "#31688e"
             ],
             [
              0.4444444444444444,
              "#26828e"
             ],
             [
              0.5555555555555556,
              "#1f9e89"
             ],
             [
              0.6666666666666666,
              "#35b779"
             ],
             [
              0.7777777777777778,
              "#6ece58"
             ],
             [
              0.8888888888888888,
              "#b5de2b"
             ],
             [
              1,
              "#fde725"
             ]
            ],
            "type": "heatmap"
           }
          ],
          "heatmapgl": [
           {
            "colorbar": {
             "outlinewidth": 1,
             "tickcolor": "rgb(36,36,36)",
             "ticks": "outside"
            },
            "colorscale": [
             [
              0,
              "#440154"
             ],
             [
              0.1111111111111111,
              "#482878"
             ],
             [
              0.2222222222222222,
              "#3e4989"
             ],
             [
              0.3333333333333333,
              "#31688e"
             ],
             [
              0.4444444444444444,
              "#26828e"
             ],
             [
              0.5555555555555556,
              "#1f9e89"
             ],
             [
              0.6666666666666666,
              "#35b779"
             ],
             [
              0.7777777777777778,
              "#6ece58"
             ],
             [
              0.8888888888888888,
              "#b5de2b"
             ],
             [
              1,
              "#fde725"
             ]
            ],
            "type": "heatmapgl"
           }
          ],
          "histogram": [
           {
            "marker": {
             "line": {
              "color": "white",
              "width": 0.6
             }
            },
            "type": "histogram"
           }
          ],
          "histogram2d": [
           {
            "colorbar": {
             "outlinewidth": 1,
             "tickcolor": "rgb(36,36,36)",
             "ticks": "outside"
            },
            "colorscale": [
             [
              0,
              "#440154"
             ],
             [
              0.1111111111111111,
              "#482878"
             ],
             [
              0.2222222222222222,
              "#3e4989"
             ],
             [
              0.3333333333333333,
              "#31688e"
             ],
             [
              0.4444444444444444,
              "#26828e"
             ],
             [
              0.5555555555555556,
              "#1f9e89"
             ],
             [
              0.6666666666666666,
              "#35b779"
             ],
             [
              0.7777777777777778,
              "#6ece58"
             ],
             [
              0.8888888888888888,
              "#b5de2b"
             ],
             [
              1,
              "#fde725"
             ]
            ],
            "type": "histogram2d"
           }
          ],
          "histogram2dcontour": [
           {
            "colorbar": {
             "outlinewidth": 1,
             "tickcolor": "rgb(36,36,36)",
             "ticks": "outside"
            },
            "colorscale": [
             [
              0,
              "#440154"
             ],
             [
              0.1111111111111111,
              "#482878"
             ],
             [
              0.2222222222222222,
              "#3e4989"
             ],
             [
              0.3333333333333333,
              "#31688e"
             ],
             [
              0.4444444444444444,
              "#26828e"
             ],
             [
              0.5555555555555556,
              "#1f9e89"
             ],
             [
              0.6666666666666666,
              "#35b779"
             ],
             [
              0.7777777777777778,
              "#6ece58"
             ],
             [
              0.8888888888888888,
              "#b5de2b"
             ],
             [
              1,
              "#fde725"
             ]
            ],
            "type": "histogram2dcontour"
           }
          ],
          "mesh3d": [
           {
            "colorbar": {
             "outlinewidth": 1,
             "tickcolor": "rgb(36,36,36)",
             "ticks": "outside"
            },
            "type": "mesh3d"
           }
          ],
          "parcoords": [
           {
            "line": {
             "colorbar": {
              "outlinewidth": 1,
              "tickcolor": "rgb(36,36,36)",
              "ticks": "outside"
             }
            },
            "type": "parcoords"
           }
          ],
          "pie": [
           {
            "automargin": true,
            "type": "pie"
           }
          ],
          "scatter": [
           {
            "marker": {
             "colorbar": {
              "outlinewidth": 1,
              "tickcolor": "rgb(36,36,36)",
              "ticks": "outside"
             }
            },
            "type": "scatter"
           }
          ],
          "scatter3d": [
           {
            "line": {
             "colorbar": {
              "outlinewidth": 1,
              "tickcolor": "rgb(36,36,36)",
              "ticks": "outside"
             }
            },
            "marker": {
             "colorbar": {
              "outlinewidth": 1,
              "tickcolor": "rgb(36,36,36)",
              "ticks": "outside"
             }
            },
            "type": "scatter3d"
           }
          ],
          "scattercarpet": [
           {
            "marker": {
             "colorbar": {
              "outlinewidth": 1,
              "tickcolor": "rgb(36,36,36)",
              "ticks": "outside"
             }
            },
            "type": "scattercarpet"
           }
          ],
          "scattergeo": [
           {
            "marker": {
             "colorbar": {
              "outlinewidth": 1,
              "tickcolor": "rgb(36,36,36)",
              "ticks": "outside"
             }
            },
            "type": "scattergeo"
           }
          ],
          "scattergl": [
           {
            "marker": {
             "colorbar": {
              "outlinewidth": 1,
              "tickcolor": "rgb(36,36,36)",
              "ticks": "outside"
             }
            },
            "type": "scattergl"
           }
          ],
          "scattermapbox": [
           {
            "marker": {
             "colorbar": {
              "outlinewidth": 1,
              "tickcolor": "rgb(36,36,36)",
              "ticks": "outside"
             }
            },
            "type": "scattermapbox"
           }
          ],
          "scatterpolar": [
           {
            "marker": {
             "colorbar": {
              "outlinewidth": 1,
              "tickcolor": "rgb(36,36,36)",
              "ticks": "outside"
             }
            },
            "type": "scatterpolar"
           }
          ],
          "scatterpolargl": [
           {
            "marker": {
             "colorbar": {
              "outlinewidth": 1,
              "tickcolor": "rgb(36,36,36)",
              "ticks": "outside"
             }
            },
            "type": "scatterpolargl"
           }
          ],
          "scatterternary": [
           {
            "marker": {
             "colorbar": {
              "outlinewidth": 1,
              "tickcolor": "rgb(36,36,36)",
              "ticks": "outside"
             }
            },
            "type": "scatterternary"
           }
          ],
          "surface": [
           {
            "colorbar": {
             "outlinewidth": 1,
             "tickcolor": "rgb(36,36,36)",
             "ticks": "outside"
            },
            "colorscale": [
             [
              0,
              "#440154"
             ],
             [
              0.1111111111111111,
              "#482878"
             ],
             [
              0.2222222222222222,
              "#3e4989"
             ],
             [
              0.3333333333333333,
              "#31688e"
             ],
             [
              0.4444444444444444,
              "#26828e"
             ],
             [
              0.5555555555555556,
              "#1f9e89"
             ],
             [
              0.6666666666666666,
              "#35b779"
             ],
             [
              0.7777777777777778,
              "#6ece58"
             ],
             [
              0.8888888888888888,
              "#b5de2b"
             ],
             [
              1,
              "#fde725"
             ]
            ],
            "type": "surface"
           }
          ],
          "table": [
           {
            "cells": {
             "fill": {
              "color": "rgb(237,237,237)"
             },
             "line": {
              "color": "white"
             }
            },
            "header": {
             "fill": {
              "color": "rgb(217,217,217)"
             },
             "line": {
              "color": "white"
             }
            },
            "type": "table"
           }
          ]
         },
         "layout": {
          "annotationdefaults": {
           "arrowhead": 0,
           "arrowwidth": 1
          },
          "autotypenumbers": "strict",
          "coloraxis": {
           "colorbar": {
            "outlinewidth": 1,
            "tickcolor": "rgb(36,36,36)",
            "ticks": "outside"
           }
          },
          "colorscale": {
           "diverging": [
            [
             0,
             "rgb(103,0,31)"
            ],
            [
             0.1,
             "rgb(178,24,43)"
            ],
            [
             0.2,
             "rgb(214,96,77)"
            ],
            [
             0.3,
             "rgb(244,165,130)"
            ],
            [
             0.4,
             "rgb(253,219,199)"
            ],
            [
             0.5,
             "rgb(247,247,247)"
            ],
            [
             0.6,
             "rgb(209,229,240)"
            ],
            [
             0.7,
             "rgb(146,197,222)"
            ],
            [
             0.8,
             "rgb(67,147,195)"
            ],
            [
             0.9,
             "rgb(33,102,172)"
            ],
            [
             1,
             "rgb(5,48,97)"
            ]
           ],
           "sequential": [
            [
             0,
             "#440154"
            ],
            [
             0.1111111111111111,
             "#482878"
            ],
            [
             0.2222222222222222,
             "#3e4989"
            ],
            [
             0.3333333333333333,
             "#31688e"
            ],
            [
             0.4444444444444444,
             "#26828e"
            ],
            [
             0.5555555555555556,
             "#1f9e89"
            ],
            [
             0.6666666666666666,
             "#35b779"
            ],
            [
             0.7777777777777778,
             "#6ece58"
            ],
            [
             0.8888888888888888,
             "#b5de2b"
            ],
            [
             1,
             "#fde725"
            ]
           ],
           "sequentialminus": [
            [
             0,
             "#440154"
            ],
            [
             0.1111111111111111,
             "#482878"
            ],
            [
             0.2222222222222222,
             "#3e4989"
            ],
            [
             0.3333333333333333,
             "#31688e"
            ],
            [
             0.4444444444444444,
             "#26828e"
            ],
            [
             0.5555555555555556,
             "#1f9e89"
            ],
            [
             0.6666666666666666,
             "#35b779"
            ],
            [
             0.7777777777777778,
             "#6ece58"
            ],
            [
             0.8888888888888888,
             "#b5de2b"
            ],
            [
             1,
             "#fde725"
            ]
           ]
          },
          "colorway": [
           "#1F77B4",
           "#FF7F0E",
           "#2CA02C",
           "#D62728",
           "#9467BD",
           "#8C564B",
           "#E377C2",
           "#7F7F7F",
           "#BCBD22",
           "#17BECF"
          ],
          "font": {
           "color": "rgb(36,36,36)"
          },
          "geo": {
           "bgcolor": "white",
           "lakecolor": "white",
           "landcolor": "white",
           "showlakes": true,
           "showland": true,
           "subunitcolor": "white"
          },
          "hoverlabel": {
           "align": "left"
          },
          "hovermode": "closest",
          "mapbox": {
           "style": "light"
          },
          "paper_bgcolor": "white",
          "plot_bgcolor": "white",
          "polar": {
           "angularaxis": {
            "gridcolor": "rgb(232,232,232)",
            "linecolor": "rgb(36,36,36)",
            "showgrid": false,
            "showline": true,
            "ticks": "outside"
           },
           "bgcolor": "white",
           "radialaxis": {
            "gridcolor": "rgb(232,232,232)",
            "linecolor": "rgb(36,36,36)",
            "showgrid": false,
            "showline": true,
            "ticks": "outside"
           }
          },
          "scene": {
           "xaxis": {
            "backgroundcolor": "white",
            "gridcolor": "rgb(232,232,232)",
            "gridwidth": 2,
            "linecolor": "rgb(36,36,36)",
            "showbackground": true,
            "showgrid": false,
            "showline": true,
            "ticks": "outside",
            "zeroline": false,
            "zerolinecolor": "rgb(36,36,36)"
           },
           "yaxis": {
            "backgroundcolor": "white",
            "gridcolor": "rgb(232,232,232)",
            "gridwidth": 2,
            "linecolor": "rgb(36,36,36)",
            "showbackground": true,
            "showgrid": false,
            "showline": true,
            "ticks": "outside",
            "zeroline": false,
            "zerolinecolor": "rgb(36,36,36)"
           },
           "zaxis": {
            "backgroundcolor": "white",
            "gridcolor": "rgb(232,232,232)",
            "gridwidth": 2,
            "linecolor": "rgb(36,36,36)",
            "showbackground": true,
            "showgrid": false,
            "showline": true,
            "ticks": "outside",
            "zeroline": false,
            "zerolinecolor": "rgb(36,36,36)"
           }
          },
          "shapedefaults": {
           "fillcolor": "black",
           "line": {
            "width": 0
           },
           "opacity": 0.3
          },
          "ternary": {
           "aaxis": {
            "gridcolor": "rgb(232,232,232)",
            "linecolor": "rgb(36,36,36)",
            "showgrid": false,
            "showline": true,
            "ticks": "outside"
           },
           "baxis": {
            "gridcolor": "rgb(232,232,232)",
            "linecolor": "rgb(36,36,36)",
            "showgrid": false,
            "showline": true,
            "ticks": "outside"
           },
           "bgcolor": "white",
           "caxis": {
            "gridcolor": "rgb(232,232,232)",
            "linecolor": "rgb(36,36,36)",
            "showgrid": false,
            "showline": true,
            "ticks": "outside"
           }
          },
          "title": {
           "x": 0.05
          },
          "xaxis": {
           "automargin": true,
           "gridcolor": "rgb(232,232,232)",
           "linecolor": "rgb(36,36,36)",
           "showgrid": false,
           "showline": true,
           "ticks": "outside",
           "title": {
            "standoff": 15
           },
           "zeroline": false,
           "zerolinecolor": "rgb(36,36,36)"
          },
          "yaxis": {
           "automargin": true,
           "gridcolor": "rgb(232,232,232)",
           "linecolor": "rgb(36,36,36)",
           "showgrid": false,
           "showline": true,
           "ticks": "outside",
           "title": {
            "standoff": 15
           },
           "zeroline": false,
           "zerolinecolor": "rgb(36,36,36)"
          }
         }
        },
        "title": {
         "text": "Corrected carbonate formation energies"
        },
        "xaxis": {
         "title": {
          "text": "Experimental dGf (eV/atom)"
         }
        },
        "yaxis": {
         "title": {
          "text": "Calculated dGf (eV/atom)"
         }
        }
       }
      },
      "text/html": [
       "<div>                            <div id=\"ff644403-51f0-45aa-b3a6-6a67b71e0e37\" class=\"plotly-graph-div\" style=\"height:525px; width:100%;\"></div>            <script type=\"text/javascript\">                require([\"plotly\"], function(Plotly) {                    window.PLOTLYENV=window.PLOTLYENV || {};                                    if (document.getElementById(\"ff644403-51f0-45aa-b3a6-6a67b71e0e37\")) {                    Plotly.newPlot(                        \"ff644403-51f0-45aa-b3a6-6a67b71e0e37\",                        [{\"hovertemplate\":\"<b>%{hovertext}</b><br><br>name=Ag2CO3<br>x=%{x}<br>y=%{y}<extra></extra>\",\"hovertext\":[\"Ag2CO3\"],\"legendgroup\":\"Ag2CO3\",\"marker\":{\"color\":\"#1F77B4\",\"symbol\":\"circle\"},\"mode\":\"markers\",\"name\":\"Ag2CO3\",\"orientation\":\"v\",\"showlegend\":true,\"x\":[-4.523490740122578],\"xaxis\":\"x\",\"y\":[-4.886234187326087],\"yaxis\":\"y\",\"type\":\"scatter\"},{\"hovertemplate\":\"<b>%{hovertext}</b><br><br>name=BaCO3<br>x=%{x}<br>y=%{y}<extra></extra>\",\"hovertext\":[\"BaCO3\"],\"legendgroup\":\"BaCO3\",\"marker\":{\"color\":\"#FF7F0E\",\"symbol\":\"diamond\"},\"mode\":\"markers\",\"name\":\"BaCO3\",\"orientation\":\"v\",\"showlegend\":true,\"x\":[-11.729310728660675],\"xaxis\":\"x\",\"y\":[-11.790300040489285],\"yaxis\":\"y\",\"type\":\"scatter\"},{\"hovertemplate\":\"<b>%{hovertext}</b><br><br>name=CaCO3<br>x=%{x}<br>y=%{y}<extra></extra>\",\"hovertext\":[\"CaCO3\"],\"legendgroup\":\"CaCO3\",\"marker\":{\"color\":\"#2CA02C\",\"symbol\":\"square\"},\"mode\":\"markers\",\"name\":\"CaCO3\",\"orientation\":\"v\",\"showlegend\":true,\"x\":[-11.697022798117317],\"xaxis\":\"x\",\"y\":[-11.801615185242364],\"yaxis\":\"y\",\"type\":\"scatter\"},{\"hovertemplate\":\"<b>%{hovertext}</b><br><br>name=CdCO3<br>x=%{x}<br>y=%{y}<extra></extra>\",\"hovertext\":[\"CdCO3\"],\"legendgroup\":\"CdCO3\",\"marker\":{\"color\":\"#D62728\",\"symbol\":\"x\"},\"mode\":\"markers\",\"name\":\"CdCO3\",\"orientation\":\"v\",\"showlegend\":true,\"x\":[-7.018997735710281],\"xaxis\":\"x\",\"y\":[-7.144196697063116],\"yaxis\":\"y\",\"type\":\"scatter\"},{\"hovertemplate\":\"<b>%{hovertext}</b><br><br>name=Cs2CO3<br>x=%{x}<br>y=%{y}<extra></extra>\",\"hovertext\":[\"Cs2CO3\"],\"legendgroup\":\"Cs2CO3\",\"marker\":{\"color\":\"#9467BD\",\"symbol\":\"cross\"},\"mode\":\"markers\",\"name\":\"Cs2CO3\",\"orientation\":\"v\",\"showlegend\":true,\"x\":[-10.894131627283759],\"xaxis\":\"x\",\"y\":[-10.639096552576508],\"yaxis\":\"y\",\"type\":\"scatter\"},{\"hovertemplate\":\"<b>%{hovertext}</b><br><br>name=FeCO3<br>x=%{x}<br>y=%{y}<extra></extra>\",\"hovertext\":[\"FeCO3\"],\"legendgroup\":\"FeCO3\",\"marker\":{\"color\":\"#8C564B\",\"symbol\":\"circle\"},\"mode\":\"markers\",\"name\":\"FeCO3\",\"orientation\":\"v\",\"showlegend\":true,\"x\":[-6.929197226894303],\"xaxis\":\"x\",\"y\":[-7.302778934256716],\"yaxis\":\"y\",\"type\":\"scatter\"},{\"hovertemplate\":\"<b>%{hovertext}</b><br><br>name=K2CO3<br>x=%{x}<br>y=%{y}<extra></extra>\",\"hovertext\":[\"K2CO3\"],\"legendgroup\":\"K2CO3\",\"marker\":{\"color\":\"#E377C2\",\"symbol\":\"diamond\"},\"mode\":\"markers\",\"name\":\"K2CO3\",\"orientation\":\"v\",\"showlegend\":true,\"x\":[-11.028037676944543],\"xaxis\":\"x\",\"y\":[-10.944337978487578],\"yaxis\":\"y\",\"type\":\"scatter\"},{\"hovertemplate\":\"<b>%{hovertext}</b><br><br>name=Li2CO3<br>x=%{x}<br>y=%{y}<extra></extra>\",\"hovertext\":[\"Li2CO3\"],\"legendgroup\":\"Li2CO3\",\"marker\":{\"color\":\"#7F7F7F\",\"symbol\":\"square\"},\"mode\":\"markers\",\"name\":\"Li2CO3\",\"orientation\":\"v\",\"showlegend\":true,\"x\":[-11.728638626956926],\"xaxis\":\"x\",\"y\":[-11.728638634407506],\"yaxis\":\"y\",\"type\":\"scatter\"},{\"hovertemplate\":\"<b>%{hovertext}</b><br><br>name=MgCO3<br>x=%{x}<br>y=%{y}<extra></extra>\",\"hovertext\":[\"MgCO3\"],\"legendgroup\":\"MgCO3\",\"marker\":{\"color\":\"#BCBD22\",\"symbol\":\"x\"},\"mode\":\"markers\",\"name\":\"MgCO3\",\"orientation\":\"v\",\"showlegend\":true,\"x\":[-10.66327385453301],\"xaxis\":\"x\",\"y\":[-10.546366056782272],\"yaxis\":\"y\",\"type\":\"scatter\"},{\"hovertemplate\":\"<b>%{hovertext}</b><br><br>name=MnCO3<br>x=%{x}<br>y=%{y}<extra></extra>\",\"hovertext\":[\"MnCO3\"],\"legendgroup\":\"MnCO3\",\"marker\":{\"color\":\"#17BECF\",\"symbol\":\"cross\"},\"mode\":\"markers\",\"name\":\"MnCO3\",\"orientation\":\"v\",\"showlegend\":true,\"x\":[-8.448687588375233],\"xaxis\":\"x\",\"y\":[-8.418887249713139],\"yaxis\":\"y\",\"type\":\"scatter\"},{\"hovertemplate\":\"<b>%{hovertext}</b><br><br>name=Na2CO3<br>x=%{x}<br>y=%{y}<extra></extra>\",\"hovertext\":[\"Na2CO3\"],\"legendgroup\":\"Na2CO3\",\"marker\":{\"color\":\"#1F77B4\",\"symbol\":\"circle\"},\"mode\":\"markers\",\"name\":\"Na2CO3\",\"orientation\":\"v\",\"showlegend\":true,\"x\":[-10.856533778555411],\"xaxis\":\"x\",\"y\":[-10.666738786711067],\"yaxis\":\"y\",\"type\":\"scatter\"},{\"hovertemplate\":\"<b>%{hovertext}</b><br><br>name=PbCO3<br>x=%{x}<br>y=%{y}<extra></extra>\",\"hovertext\":[\"PbCO3\"],\"legendgroup\":\"PbCO3\",\"marker\":{\"color\":\"#FF7F0E\",\"symbol\":\"diamond\"},\"mode\":\"markers\",\"name\":\"PbCO3\",\"orientation\":\"v\",\"showlegend\":true,\"x\":[-6.514563134816661],\"xaxis\":\"x\",\"y\":[-7.381839836627741],\"yaxis\":\"y\",\"type\":\"scatter\"},{\"hovertemplate\":\"<b>%{hovertext}</b><br><br>name=Rb2CO3<br>x=%{x}<br>y=%{y}<extra></extra>\",\"hovertext\":[\"Rb2CO3\"],\"legendgroup\":\"Rb2CO3\",\"marker\":{\"color\":\"#2CA02C\",\"symbol\":\"square\"},\"mode\":\"markers\",\"name\":\"Rb2CO3\",\"orientation\":\"v\",\"showlegend\":true,\"x\":[-10.97233639890869],\"xaxis\":\"x\",\"y\":[-10.737961936806125],\"yaxis\":\"y\",\"type\":\"scatter\"},{\"hovertemplate\":\"<b>%{hovertext}</b><br><br>name=SrCO3<br>x=%{x}<br>y=%{y}<extra></extra>\",\"hovertext\":[\"SrCO3\"],\"legendgroup\":\"SrCO3\",\"marker\":{\"color\":\"#D62728\",\"symbol\":\"x\"},\"mode\":\"markers\",\"name\":\"SrCO3\",\"orientation\":\"v\",\"showlegend\":true,\"x\":[-11.796336838082897],\"xaxis\":\"x\",\"y\":[-11.844414750835213],\"yaxis\":\"y\",\"type\":\"scatter\"},{\"hovertemplate\":\"<b>%{hovertext}</b><br><br>name=ZnCO3<br>x=%{x}<br>y=%{y}<extra></extra>\",\"hovertext\":[\"ZnCO3\"],\"legendgroup\":\"ZnCO3\",\"marker\":{\"color\":\"#9467BD\",\"symbol\":\"cross\"},\"mode\":\"markers\",\"name\":\"ZnCO3\",\"orientation\":\"v\",\"showlegend\":true,\"x\":[-7.600479604861418],\"xaxis\":\"x\",\"y\":[-7.415379642765835],\"yaxis\":\"y\",\"type\":\"scatter\"},{\"hovertemplate\":\"x=%{x}<br>y=%{y}<extra></extra>\",\"legendgroup\":\"\",\"line\":{\"color\":\"#1F77B4\",\"dash\":\"solid\"},\"marker\":{\"symbol\":\"circle\"},\"mode\":\"lines\",\"name\":\"\",\"orientation\":\"v\",\"showlegend\":false,\"x\":[-12,-4],\"xaxis\":\"x\",\"y\":[-12,-4],\"yaxis\":\"y\",\"type\":\"scatter\"}],                        {\"template\":{\"data\":{\"bar\":[{\"error_x\":{\"color\":\"rgb(36,36,36)\"},\"error_y\":{\"color\":\"rgb(36,36,36)\"},\"marker\":{\"line\":{\"color\":\"white\",\"width\":0.5},\"pattern\":{\"fillmode\":\"overlay\",\"size\":10,\"solidity\":0.2}},\"type\":\"bar\"}],\"barpolar\":[{\"marker\":{\"line\":{\"color\":\"white\",\"width\":0.5},\"pattern\":{\"fillmode\":\"overlay\",\"size\":10,\"solidity\":0.2}},\"type\":\"barpolar\"}],\"carpet\":[{\"aaxis\":{\"endlinecolor\":\"rgb(36,36,36)\",\"gridcolor\":\"white\",\"linecolor\":\"white\",\"minorgridcolor\":\"white\",\"startlinecolor\":\"rgb(36,36,36)\"},\"baxis\":{\"endlinecolor\":\"rgb(36,36,36)\",\"gridcolor\":\"white\",\"linecolor\":\"white\",\"minorgridcolor\":\"white\",\"startlinecolor\":\"rgb(36,36,36)\"},\"type\":\"carpet\"}],\"choropleth\":[{\"colorbar\":{\"outlinewidth\":1,\"tickcolor\":\"rgb(36,36,36)\",\"ticks\":\"outside\"},\"type\":\"choropleth\"}],\"contour\":[{\"colorbar\":{\"outlinewidth\":1,\"tickcolor\":\"rgb(36,36,36)\",\"ticks\":\"outside\"},\"colorscale\":[[0.0,\"#440154\"],[0.1111111111111111,\"#482878\"],[0.2222222222222222,\"#3e4989\"],[0.3333333333333333,\"#31688e\"],[0.4444444444444444,\"#26828e\"],[0.5555555555555556,\"#1f9e89\"],[0.6666666666666666,\"#35b779\"],[0.7777777777777778,\"#6ece58\"],[0.8888888888888888,\"#b5de2b\"],[1.0,\"#fde725\"]],\"type\":\"contour\"}],\"contourcarpet\":[{\"colorbar\":{\"outlinewidth\":1,\"tickcolor\":\"rgb(36,36,36)\",\"ticks\":\"outside\"},\"type\":\"contourcarpet\"}],\"heatmap\":[{\"colorbar\":{\"outlinewidth\":1,\"tickcolor\":\"rgb(36,36,36)\",\"ticks\":\"outside\"},\"colorscale\":[[0.0,\"#440154\"],[0.1111111111111111,\"#482878\"],[0.2222222222222222,\"#3e4989\"],[0.3333333333333333,\"#31688e\"],[0.4444444444444444,\"#26828e\"],[0.5555555555555556,\"#1f9e89\"],[0.6666666666666666,\"#35b779\"],[0.7777777777777778,\"#6ece58\"],[0.8888888888888888,\"#b5de2b\"],[1.0,\"#fde725\"]],\"type\":\"heatmap\"}],\"heatmapgl\":[{\"colorbar\":{\"outlinewidth\":1,\"tickcolor\":\"rgb(36,36,36)\",\"ticks\":\"outside\"},\"colorscale\":[[0.0,\"#440154\"],[0.1111111111111111,\"#482878\"],[0.2222222222222222,\"#3e4989\"],[0.3333333333333333,\"#31688e\"],[0.4444444444444444,\"#26828e\"],[0.5555555555555556,\"#1f9e89\"],[0.6666666666666666,\"#35b779\"],[0.7777777777777778,\"#6ece58\"],[0.8888888888888888,\"#b5de2b\"],[1.0,\"#fde725\"]],\"type\":\"heatmapgl\"}],\"histogram\":[{\"marker\":{\"line\":{\"color\":\"white\",\"width\":0.6}},\"type\":\"histogram\"}],\"histogram2d\":[{\"colorbar\":{\"outlinewidth\":1,\"tickcolor\":\"rgb(36,36,36)\",\"ticks\":\"outside\"},\"colorscale\":[[0.0,\"#440154\"],[0.1111111111111111,\"#482878\"],[0.2222222222222222,\"#3e4989\"],[0.3333333333333333,\"#31688e\"],[0.4444444444444444,\"#26828e\"],[0.5555555555555556,\"#1f9e89\"],[0.6666666666666666,\"#35b779\"],[0.7777777777777778,\"#6ece58\"],[0.8888888888888888,\"#b5de2b\"],[1.0,\"#fde725\"]],\"type\":\"histogram2d\"}],\"histogram2dcontour\":[{\"colorbar\":{\"outlinewidth\":1,\"tickcolor\":\"rgb(36,36,36)\",\"ticks\":\"outside\"},\"colorscale\":[[0.0,\"#440154\"],[0.1111111111111111,\"#482878\"],[0.2222222222222222,\"#3e4989\"],[0.3333333333333333,\"#31688e\"],[0.4444444444444444,\"#26828e\"],[0.5555555555555556,\"#1f9e89\"],[0.6666666666666666,\"#35b779\"],[0.7777777777777778,\"#6ece58\"],[0.8888888888888888,\"#b5de2b\"],[1.0,\"#fde725\"]],\"type\":\"histogram2dcontour\"}],\"mesh3d\":[{\"colorbar\":{\"outlinewidth\":1,\"tickcolor\":\"rgb(36,36,36)\",\"ticks\":\"outside\"},\"type\":\"mesh3d\"}],\"parcoords\":[{\"line\":{\"colorbar\":{\"outlinewidth\":1,\"tickcolor\":\"rgb(36,36,36)\",\"ticks\":\"outside\"}},\"type\":\"parcoords\"}],\"pie\":[{\"automargin\":true,\"type\":\"pie\"}],\"scatter\":[{\"marker\":{\"colorbar\":{\"outlinewidth\":1,\"tickcolor\":\"rgb(36,36,36)\",\"ticks\":\"outside\"}},\"type\":\"scatter\"}],\"scatter3d\":[{\"line\":{\"colorbar\":{\"outlinewidth\":1,\"tickcolor\":\"rgb(36,36,36)\",\"ticks\":\"outside\"}},\"marker\":{\"colorbar\":{\"outlinewidth\":1,\"tickcolor\":\"rgb(36,36,36)\",\"ticks\":\"outside\"}},\"type\":\"scatter3d\"}],\"scattercarpet\":[{\"marker\":{\"colorbar\":{\"outlinewidth\":1,\"tickcolor\":\"rgb(36,36,36)\",\"ticks\":\"outside\"}},\"type\":\"scattercarpet\"}],\"scattergeo\":[{\"marker\":{\"colorbar\":{\"outlinewidth\":1,\"tickcolor\":\"rgb(36,36,36)\",\"ticks\":\"outside\"}},\"type\":\"scattergeo\"}],\"scattergl\":[{\"marker\":{\"colorbar\":{\"outlinewidth\":1,\"tickcolor\":\"rgb(36,36,36)\",\"ticks\":\"outside\"}},\"type\":\"scattergl\"}],\"scattermapbox\":[{\"marker\":{\"colorbar\":{\"outlinewidth\":1,\"tickcolor\":\"rgb(36,36,36)\",\"ticks\":\"outside\"}},\"type\":\"scattermapbox\"}],\"scatterpolar\":[{\"marker\":{\"colorbar\":{\"outlinewidth\":1,\"tickcolor\":\"rgb(36,36,36)\",\"ticks\":\"outside\"}},\"type\":\"scatterpolar\"}],\"scatterpolargl\":[{\"marker\":{\"colorbar\":{\"outlinewidth\":1,\"tickcolor\":\"rgb(36,36,36)\",\"ticks\":\"outside\"}},\"type\":\"scatterpolargl\"}],\"scatterternary\":[{\"marker\":{\"colorbar\":{\"outlinewidth\":1,\"tickcolor\":\"rgb(36,36,36)\",\"ticks\":\"outside\"}},\"type\":\"scatterternary\"}],\"surface\":[{\"colorbar\":{\"outlinewidth\":1,\"tickcolor\":\"rgb(36,36,36)\",\"ticks\":\"outside\"},\"colorscale\":[[0.0,\"#440154\"],[0.1111111111111111,\"#482878\"],[0.2222222222222222,\"#3e4989\"],[0.3333333333333333,\"#31688e\"],[0.4444444444444444,\"#26828e\"],[0.5555555555555556,\"#1f9e89\"],[0.6666666666666666,\"#35b779\"],[0.7777777777777778,\"#6ece58\"],[0.8888888888888888,\"#b5de2b\"],[1.0,\"#fde725\"]],\"type\":\"surface\"}],\"table\":[{\"cells\":{\"fill\":{\"color\":\"rgb(237,237,237)\"},\"line\":{\"color\":\"white\"}},\"header\":{\"fill\":{\"color\":\"rgb(217,217,217)\"},\"line\":{\"color\":\"white\"}},\"type\":\"table\"}]},\"layout\":{\"annotationdefaults\":{\"arrowhead\":0,\"arrowwidth\":1},\"autotypenumbers\":\"strict\",\"coloraxis\":{\"colorbar\":{\"outlinewidth\":1,\"tickcolor\":\"rgb(36,36,36)\",\"ticks\":\"outside\"}},\"colorscale\":{\"diverging\":[[0.0,\"rgb(103,0,31)\"],[0.1,\"rgb(178,24,43)\"],[0.2,\"rgb(214,96,77)\"],[0.3,\"rgb(244,165,130)\"],[0.4,\"rgb(253,219,199)\"],[0.5,\"rgb(247,247,247)\"],[0.6,\"rgb(209,229,240)\"],[0.7,\"rgb(146,197,222)\"],[0.8,\"rgb(67,147,195)\"],[0.9,\"rgb(33,102,172)\"],[1.0,\"rgb(5,48,97)\"]],\"sequential\":[[0.0,\"#440154\"],[0.1111111111111111,\"#482878\"],[0.2222222222222222,\"#3e4989\"],[0.3333333333333333,\"#31688e\"],[0.4444444444444444,\"#26828e\"],[0.5555555555555556,\"#1f9e89\"],[0.6666666666666666,\"#35b779\"],[0.7777777777777778,\"#6ece58\"],[0.8888888888888888,\"#b5de2b\"],[1.0,\"#fde725\"]],\"sequentialminus\":[[0.0,\"#440154\"],[0.1111111111111111,\"#482878\"],[0.2222222222222222,\"#3e4989\"],[0.3333333333333333,\"#31688e\"],[0.4444444444444444,\"#26828e\"],[0.5555555555555556,\"#1f9e89\"],[0.6666666666666666,\"#35b779\"],[0.7777777777777778,\"#6ece58\"],[0.8888888888888888,\"#b5de2b\"],[1.0,\"#fde725\"]]},\"colorway\":[\"#1F77B4\",\"#FF7F0E\",\"#2CA02C\",\"#D62728\",\"#9467BD\",\"#8C564B\",\"#E377C2\",\"#7F7F7F\",\"#BCBD22\",\"#17BECF\"],\"font\":{\"color\":\"rgb(36,36,36)\"},\"geo\":{\"bgcolor\":\"white\",\"lakecolor\":\"white\",\"landcolor\":\"white\",\"showlakes\":true,\"showland\":true,\"subunitcolor\":\"white\"},\"hoverlabel\":{\"align\":\"left\"},\"hovermode\":\"closest\",\"mapbox\":{\"style\":\"light\"},\"paper_bgcolor\":\"white\",\"plot_bgcolor\":\"white\",\"polar\":{\"angularaxis\":{\"gridcolor\":\"rgb(232,232,232)\",\"linecolor\":\"rgb(36,36,36)\",\"showgrid\":false,\"showline\":true,\"ticks\":\"outside\"},\"bgcolor\":\"white\",\"radialaxis\":{\"gridcolor\":\"rgb(232,232,232)\",\"linecolor\":\"rgb(36,36,36)\",\"showgrid\":false,\"showline\":true,\"ticks\":\"outside\"}},\"scene\":{\"xaxis\":{\"backgroundcolor\":\"white\",\"gridcolor\":\"rgb(232,232,232)\",\"gridwidth\":2,\"linecolor\":\"rgb(36,36,36)\",\"showbackground\":true,\"showgrid\":false,\"showline\":true,\"ticks\":\"outside\",\"zeroline\":false,\"zerolinecolor\":\"rgb(36,36,36)\"},\"yaxis\":{\"backgroundcolor\":\"white\",\"gridcolor\":\"rgb(232,232,232)\",\"gridwidth\":2,\"linecolor\":\"rgb(36,36,36)\",\"showbackground\":true,\"showgrid\":false,\"showline\":true,\"ticks\":\"outside\",\"zeroline\":false,\"zerolinecolor\":\"rgb(36,36,36)\"},\"zaxis\":{\"backgroundcolor\":\"white\",\"gridcolor\":\"rgb(232,232,232)\",\"gridwidth\":2,\"linecolor\":\"rgb(36,36,36)\",\"showbackground\":true,\"showgrid\":false,\"showline\":true,\"ticks\":\"outside\",\"zeroline\":false,\"zerolinecolor\":\"rgb(36,36,36)\"}},\"shapedefaults\":{\"fillcolor\":\"black\",\"line\":{\"width\":0},\"opacity\":0.3},\"ternary\":{\"aaxis\":{\"gridcolor\":\"rgb(232,232,232)\",\"linecolor\":\"rgb(36,36,36)\",\"showgrid\":false,\"showline\":true,\"ticks\":\"outside\"},\"baxis\":{\"gridcolor\":\"rgb(232,232,232)\",\"linecolor\":\"rgb(36,36,36)\",\"showgrid\":false,\"showline\":true,\"ticks\":\"outside\"},\"bgcolor\":\"white\",\"caxis\":{\"gridcolor\":\"rgb(232,232,232)\",\"linecolor\":\"rgb(36,36,36)\",\"showgrid\":false,\"showline\":true,\"ticks\":\"outside\"}},\"title\":{\"x\":0.05},\"xaxis\":{\"automargin\":true,\"gridcolor\":\"rgb(232,232,232)\",\"linecolor\":\"rgb(36,36,36)\",\"showgrid\":false,\"showline\":true,\"ticks\":\"outside\",\"title\":{\"standoff\":15},\"zeroline\":false,\"zerolinecolor\":\"rgb(36,36,36)\"},\"yaxis\":{\"automargin\":true,\"gridcolor\":\"rgb(232,232,232)\",\"linecolor\":\"rgb(36,36,36)\",\"showgrid\":false,\"showline\":true,\"ticks\":\"outside\",\"title\":{\"standoff\":15},\"zeroline\":false,\"zerolinecolor\":\"rgb(36,36,36)\"}}},\"title\":{\"text\":\"Corrected carbonate formation energies\"},\"xaxis\":{\"title\":{\"text\":\"Experimental dGf (eV/atom)\"}},\"yaxis\":{\"title\":{\"text\":\"Calculated dGf (eV/atom)\"}}},                        {\"responsive\": true}                    ).then(function(){\n",
       "                            \n",
       "var gd = document.getElementById('ff644403-51f0-45aa-b3a6-6a67b71e0e37');\n",
       "var x = new MutationObserver(function (mutations, observer) {{\n",
       "        var display = window.getComputedStyle(gd).display;\n",
       "        if (!display || display === 'none') {{\n",
       "            console.log([gd, 'removed!']);\n",
       "            Plotly.purge(gd);\n",
       "            observer.disconnect();\n",
       "        }}\n",
       "}});\n",
       "\n",
       "// Listen for the removal of the full notebook cells\n",
       "var notebookContainer = gd.closest('#notebook-container');\n",
       "if (notebookContainer) {{\n",
       "    x.observe(notebookContainer, {childList: true});\n",
       "}}\n",
       "\n",
       "// Listen for the clearing of the current output cell\n",
       "var outputEl = gd.closest('.output');\n",
       "if (outputEl) {{\n",
       "    x.observe(outputEl, {childList: true});\n",
       "}}\n",
       "\n",
       "                        })                };                });            </script>        </div>"
      ]
     },
     "metadata": {},
     "output_type": "display_data"
    }
   ],
   "source": [
    "df_new = df.copy()\n",
    "df_new[\"y\"] = df_new[\"y\"] + final_correction\n",
    "\n",
    "scatter_new = px.scatter(df_new, x=\"x\", y=\"y\", hover_name=\"name\", symbol=\"name\", color=\"name\")\n",
    "line_new = px.line(x=[-12, -4], y=[-12, -4])\n",
    "\n",
    "fig_new = go.Figure(scatter_new.data + line_new.data)\n",
    "fig_new.update_layout({\"title\": \"Corrected carbonate formation energies\",\n",
    "                   \"xaxis_title\":\"Experimental dGf (eV/f.u.)\",\n",
    "                   \"yaxis_title\":\"Calculated dGf (eV/f.u.)\"})\n",
    "fig_new.show()"
   ]
  },
  {
   "cell_type": "markdown",
   "id": "35b2b820",
   "metadata": {},
   "source": [
    "## Final correction value (eV per CO$_3^{2-}$):"
   ]
  },
  {
   "cell_type": "code",
   "execution_count": 127,
   "id": "4f2a442a",
   "metadata": {},
   "outputs": [
    {
     "name": "stdout",
     "output_type": "stream",
     "text": [
      "0.8281951505892449\n"
     ]
    }
   ],
   "source": [
    "print(final_correction)"
   ]
  },
  {
   "cell_type": "markdown",
   "id": "39b56af6",
   "metadata": {},
   "source": [
    "### Test carbonate correction class"
   ]
  },
  {
   "cell_type": "code",
   "execution_count": 105,
   "id": "30b5ab5e",
   "metadata": {},
   "outputs": [],
   "source": [
    "li_entries = GibbsEntrySet.from_entries(all_entries[\"Li\"], 300, include_nist_data=False)"
   ]
  },
  {
   "cell_type": "code",
   "execution_count": 111,
   "id": "8fe53b5e",
   "metadata": {},
   "outputs": [
    {
     "data": {
      "text/plain": [
       "[ConstantEnergyAdjustment:\n",
       "   Name: Gibbs SISSO Correction\n",
       "   Value: 1.868 eV\n",
       "   Uncertainty: 0.600 eV\n",
       "   Description: Gibbs correction: dGf(300 K) - dHf (298 K) (1.868 eV)\n",
       "   Generated by: None,\n",
       " CarbonateCorrection:\n",
       "   Name: Carbonate Correction\n",
       "   Value: 1.656 eV\n",
       "   Uncertainty: nan eV\n",
       "   Description: Correction for dGf with (CO3)2- anion, as fit to MP data (300 K). (0.828 eV/atom x 2.0 atoms)\n",
       "   Generated by: None]"
      ]
     },
     "execution_count": 111,
     "metadata": {},
     "output_type": "execute_result"
    }
   ],
   "source": [
    "li2co3 = li_entries.get_min_entry_by_formula(\"Li2CO3\")\n",
    "li2co3.energy_adjustments"
   ]
  },
  {
   "cell_type": "code",
   "execution_count": 135,
   "id": "46ab833d",
   "metadata": {},
   "outputs": [],
   "source": [
    "mp_entries = []\n",
    "exp_entries = []\n",
    "\n",
    "temp = 300  # Kelvin\n",
    "\n",
    "for m, entries in all_entries.items():\n",
    "    gibbs = GibbsEntrySet.from_entries(entries, temp, include_nist_data=False, apply_carbonate_correction=True)\n",
    "    gibbs_exp = GibbsEntrySet.from_entries(entries, temp, include_nist_data=True, include_freed_data=True, apply_carbonate_correction=False)\n",
    "    \n",
    "    oxidation_states = Element(m).common_oxidation_states\n",
    "    \n",
    "    for os in oxidation_states:\n",
    "        formula = Composition(f\"{m}2(CO3){os}\").reduced_formula\n",
    "\n",
    "        mp_entry = None\n",
    "        exp_entry = None\n",
    "        \n",
    "        try:\n",
    "            mp_entry = gibbs.get_min_entry_by_formula(formula)\n",
    "            exp_entry = gibbs_exp.get_min_entry_by_formula(formula)\n",
    "        except:\n",
    "            continue\n",
    "        \n",
    "        if exp_entry.is_experimental:\n",
    "            mp_entries.append(mp_entry)\n",
    "            exp_entries.append(exp_entry)"
   ]
  },
  {
   "cell_type": "code",
   "execution_count": 136,
   "id": "391c9d5c",
   "metadata": {},
   "outputs": [
    {
     "data": {
      "application/vnd.plotly.v1+json": {
       "config": {
        "plotlyServerURL": "https://plot.ly"
       },
       "data": [
        {
         "hovertemplate": "<b>%{hovertext}</b><br><br>name=Ag2CO3<br>x=%{x}<br>y=%{y}<extra></extra>",
         "hovertext": [
          "Ag2CO3"
         ],
         "legendgroup": "Ag2CO3",
         "marker": {
          "color": "#1F77B4",
          "symbol": "circle"
         },
         "mode": "markers",
         "name": "Ag2CO3",
         "orientation": "v",
         "showlegend": true,
         "type": "scatter",
         "x": [
          -0.753915123353763
         ],
         "xaxis": "x",
         "y": [
          -0.8143715563192221
         ],
         "yaxis": "y"
        },
        {
         "hovertemplate": "<b>%{hovertext}</b><br><br>name=BaCO3<br>x=%{x}<br>y=%{y}<extra></extra>",
         "hovertext": [
          "BaCO3"
         ],
         "legendgroup": "BaCO3",
         "marker": {
          "color": "#FF7F0E",
          "symbol": "diamond"
         },
         "mode": "markers",
         "name": "BaCO3",
         "orientation": "v",
         "showlegend": true,
         "type": "scatter",
         "x": [
          -2.345862145732135
         ],
         "xaxis": "x",
         "y": [
          -2.3580590382157056
         ],
         "yaxis": "y"
        },
        {
         "hovertemplate": "<b>%{hovertext}</b><br><br>name=CaCO3<br>x=%{x}<br>y=%{y}<extra></extra>",
         "hovertext": [
          "CaCO3"
         ],
         "legendgroup": "CaCO3",
         "marker": {
          "color": "#2CA02C",
          "symbol": "square"
         },
         "mode": "markers",
         "name": "CaCO3",
         "orientation": "v",
         "showlegend": true,
         "type": "scatter",
         "x": [
          -2.339404559623463
         ],
         "xaxis": "x",
         "y": [
          -2.360322067166322
         ],
         "yaxis": "y"
        },
        {
         "hovertemplate": "<b>%{hovertext}</b><br><br>name=CdCO3<br>x=%{x}<br>y=%{y}<extra></extra>",
         "hovertext": [
          "CdCO3"
         ],
         "legendgroup": "CdCO3",
         "marker": {
          "color": "#D62728",
          "symbol": "x"
         },
         "mode": "markers",
         "name": "CdCO3",
         "orientation": "v",
         "showlegend": true,
         "type": "scatter",
         "x": [
          -1.4037995471420561
         ],
         "xaxis": "x",
         "y": [
          -1.428838369530472
         ],
         "yaxis": "y"
        },
        {
         "hovertemplate": "<b>%{hovertext}</b><br><br>name=Cs2CO3<br>x=%{x}<br>y=%{y}<extra></extra>",
         "hovertext": [
          "Cs2CO3"
         ],
         "legendgroup": "Cs2CO3",
         "marker": {
          "color": "#9467BD",
          "symbol": "cross"
         },
         "mode": "markers",
         "name": "Cs2CO3",
         "orientation": "v",
         "showlegend": true,
         "type": "scatter",
         "x": [
          -1.815688604547293
         ],
         "xaxis": "x",
         "y": [
          -1.7731819505276256
         ],
         "yaxis": "y"
        },
        {
         "hovertemplate": "<b>%{hovertext}</b><br><br>name=FeCO3<br>x=%{x}<br>y=%{y}<extra></extra>",
         "hovertext": [
          "FeCO3"
         ],
         "legendgroup": "FeCO3",
         "marker": {
          "color": "#8C564B",
          "symbol": "circle"
         },
         "mode": "markers",
         "name": "FeCO3",
         "orientation": "v",
         "showlegend": true,
         "type": "scatter",
         "x": [
          -1.3858394453788605
         ],
         "xaxis": "x",
         "y": [
          -1.4605548169691922
         ],
         "yaxis": "y"
        },
        {
         "hovertemplate": "<b>%{hovertext}</b><br><br>name=K2CO3<br>x=%{x}<br>y=%{y}<extra></extra>",
         "hovertext": [
          "K2CO3"
         ],
         "legendgroup": "K2CO3",
         "marker": {
          "color": "#E377C2",
          "symbol": "diamond"
         },
         "mode": "markers",
         "name": "K2CO3",
         "orientation": "v",
         "showlegend": true,
         "type": "scatter",
         "x": [
          -1.838006279490757
         ],
         "xaxis": "x",
         "y": [
          -1.8240555215128038
         ],
         "yaxis": "y"
        },
        {
         "hovertemplate": "<b>%{hovertext}</b><br><br>name=Li2CO3<br>x=%{x}<br>y=%{y}<extra></extra>",
         "hovertext": [
          "Li2CO3"
         ],
         "legendgroup": "Li2CO3",
         "marker": {
          "color": "#7F7F7F",
          "symbol": "square"
         },
         "mode": "markers",
         "name": "Li2CO3",
         "orientation": "v",
         "showlegend": true,
         "type": "scatter",
         "x": [
          -1.954773104492821
         ],
         "xaxis": "x",
         "y": [
          -1.9547722974994588
         ],
         "yaxis": "y"
        },
        {
         "hovertemplate": "<b>%{hovertext}</b><br><br>name=MgCO3<br>x=%{x}<br>y=%{y}<extra></extra>",
         "hovertext": [
          "MgCO3"
         ],
         "legendgroup": "MgCO3",
         "marker": {
          "color": "#BCBD22",
          "symbol": "x"
         },
         "mode": "markers",
         "name": "MgCO3",
         "orientation": "v",
         "showlegend": true,
         "type": "scatter",
         "x": [
          -2.132654770906602
         ],
         "xaxis": "x",
         "y": [
          -2.109272241474303
         ],
         "yaxis": "y"
        },
        {
         "hovertemplate": "<b>%{hovertext}</b><br><br>name=MnCO3<br>x=%{x}<br>y=%{y}<extra></extra>",
         "hovertext": [
          "MnCO3"
         ],
         "legendgroup": "MnCO3",
         "marker": {
          "color": "#17BECF",
          "symbol": "cross"
         },
         "mode": "markers",
         "name": "MnCO3",
         "orientation": "v",
         "showlegend": true,
         "type": "scatter",
         "x": [
          -1.6897375176750464
         ],
         "xaxis": "x",
         "y": [
          -1.683776480060477
         ],
         "yaxis": "y"
        },
        {
         "hovertemplate": "<b>%{hovertext}</b><br><br>name=Na2CO3<br>x=%{x}<br>y=%{y}<extra></extra>",
         "hovertext": [
          "Na2CO3"
         ],
         "legendgroup": "Na2CO3",
         "marker": {
          "color": "#1F77B4",
          "symbol": "circle"
         },
         "mode": "markers",
         "name": "Na2CO3",
         "orientation": "v",
         "showlegend": true,
         "type": "scatter",
         "x": [
          -1.809422296425902
         ],
         "xaxis": "x",
         "y": [
          -1.777788989550052
         ],
         "yaxis": "y"
        },
        {
         "hovertemplate": "<b>%{hovertext}</b><br><br>name=PbCO3<br>x=%{x}<br>y=%{y}<extra></extra>",
         "hovertext": [
          "PbCO3"
         ],
         "legendgroup": "PbCO3",
         "marker": {
          "color": "#FF7F0E",
          "symbol": "diamond"
         },
         "mode": "markers",
         "name": "PbCO3",
         "orientation": "v",
         "showlegend": true,
         "type": "scatter",
         "x": [
          -1.3029126269633322
         ],
         "xaxis": "x",
         "y": [
          -1.476366997443397
         ],
         "yaxis": "y"
        },
        {
         "hovertemplate": "<b>%{hovertext}</b><br><br>name=Rb2CO3<br>x=%{x}<br>y=%{y}<extra></extra>",
         "hovertext": [
          "Rb2CO3"
         ],
         "legendgroup": "Rb2CO3",
         "marker": {
          "color": "#2CA02C",
          "symbol": "square"
         },
         "mode": "markers",
         "name": "Rb2CO3",
         "orientation": "v",
         "showlegend": true,
         "type": "scatter",
         "x": [
          -1.8287227331514482
         ],
         "xaxis": "x",
         "y": [
          -1.789659514565895
         ],
         "yaxis": "y"
        },
        {
         "hovertemplate": "<b>%{hovertext}</b><br><br>name=SrCO3<br>x=%{x}<br>y=%{y}<extra></extra>",
         "hovertext": [
          "SrCO3"
         ],
         "legendgroup": "SrCO3",
         "marker": {
          "color": "#D62728",
          "symbol": "x"
         },
         "mode": "markers",
         "name": "SrCO3",
         "orientation": "v",
         "showlegend": true,
         "type": "scatter",
         "x": [
          -2.3592673676165794
         ],
         "xaxis": "x",
         "y": [
          -2.3688819802848915
         ],
         "yaxis": "y"
        },
        {
         "hovertemplate": "<b>%{hovertext}</b><br><br>name=ZnCO3<br>x=%{x}<br>y=%{y}<extra></extra>",
         "hovertext": [
          "ZnCO3"
         ],
         "legendgroup": "ZnCO3",
         "marker": {
          "color": "#9467BD",
          "symbol": "cross"
         },
         "mode": "markers",
         "name": "ZnCO3",
         "orientation": "v",
         "showlegend": true,
         "type": "scatter",
         "x": [
          -1.5200959209722835
         ],
         "xaxis": "x",
         "y": [
          -1.4830749586710161
         ],
         "yaxis": "y"
        },
        {
         "hovertemplate": "x=%{x}<br>y=%{y}<extra></extra>",
         "legendgroup": "",
         "line": {
          "color": "#1F77B4",
          "dash": "solid"
         },
         "marker": {
          "symbol": "circle"
         },
         "mode": "lines",
         "name": "",
         "orientation": "v",
         "showlegend": false,
         "type": "scatter",
         "x": [
          -2.75,
          -0.75
         ],
         "xaxis": "x",
         "y": [
          -2.75,
          -0.75
         ],
         "yaxis": "y"
        }
       ],
       "layout": {
        "template": {
         "data": {
          "bar": [
           {
            "error_x": {
             "color": "rgb(36,36,36)"
            },
            "error_y": {
             "color": "rgb(36,36,36)"
            },
            "marker": {
             "line": {
              "color": "white",
              "width": 0.5
             },
             "pattern": {
              "fillmode": "overlay",
              "size": 10,
              "solidity": 0.2
             }
            },
            "type": "bar"
           }
          ],
          "barpolar": [
           {
            "marker": {
             "line": {
              "color": "white",
              "width": 0.5
             },
             "pattern": {
              "fillmode": "overlay",
              "size": 10,
              "solidity": 0.2
             }
            },
            "type": "barpolar"
           }
          ],
          "carpet": [
           {
            "aaxis": {
             "endlinecolor": "rgb(36,36,36)",
             "gridcolor": "white",
             "linecolor": "white",
             "minorgridcolor": "white",
             "startlinecolor": "rgb(36,36,36)"
            },
            "baxis": {
             "endlinecolor": "rgb(36,36,36)",
             "gridcolor": "white",
             "linecolor": "white",
             "minorgridcolor": "white",
             "startlinecolor": "rgb(36,36,36)"
            },
            "type": "carpet"
           }
          ],
          "choropleth": [
           {
            "colorbar": {
             "outlinewidth": 1,
             "tickcolor": "rgb(36,36,36)",
             "ticks": "outside"
            },
            "type": "choropleth"
           }
          ],
          "contour": [
           {
            "colorbar": {
             "outlinewidth": 1,
             "tickcolor": "rgb(36,36,36)",
             "ticks": "outside"
            },
            "colorscale": [
             [
              0,
              "#440154"
             ],
             [
              0.1111111111111111,
              "#482878"
             ],
             [
              0.2222222222222222,
              "#3e4989"
             ],
             [
              0.3333333333333333,
              "#31688e"
             ],
             [
              0.4444444444444444,
              "#26828e"
             ],
             [
              0.5555555555555556,
              "#1f9e89"
             ],
             [
              0.6666666666666666,
              "#35b779"
             ],
             [
              0.7777777777777778,
              "#6ece58"
             ],
             [
              0.8888888888888888,
              "#b5de2b"
             ],
             [
              1,
              "#fde725"
             ]
            ],
            "type": "contour"
           }
          ],
          "contourcarpet": [
           {
            "colorbar": {
             "outlinewidth": 1,
             "tickcolor": "rgb(36,36,36)",
             "ticks": "outside"
            },
            "type": "contourcarpet"
           }
          ],
          "heatmap": [
           {
            "colorbar": {
             "outlinewidth": 1,
             "tickcolor": "rgb(36,36,36)",
             "ticks": "outside"
            },
            "colorscale": [
             [
              0,
              "#440154"
             ],
             [
              0.1111111111111111,
              "#482878"
             ],
             [
              0.2222222222222222,
              "#3e4989"
             ],
             [
              0.3333333333333333,
              "#31688e"
             ],
             [
              0.4444444444444444,
              "#26828e"
             ],
             [
              0.5555555555555556,
              "#1f9e89"
             ],
             [
              0.6666666666666666,
              "#35b779"
             ],
             [
              0.7777777777777778,
              "#6ece58"
             ],
             [
              0.8888888888888888,
              "#b5de2b"
             ],
             [
              1,
              "#fde725"
             ]
            ],
            "type": "heatmap"
           }
          ],
          "heatmapgl": [
           {
            "colorbar": {
             "outlinewidth": 1,
             "tickcolor": "rgb(36,36,36)",
             "ticks": "outside"
            },
            "colorscale": [
             [
              0,
              "#440154"
             ],
             [
              0.1111111111111111,
              "#482878"
             ],
             [
              0.2222222222222222,
              "#3e4989"
             ],
             [
              0.3333333333333333,
              "#31688e"
             ],
             [
              0.4444444444444444,
              "#26828e"
             ],
             [
              0.5555555555555556,
              "#1f9e89"
             ],
             [
              0.6666666666666666,
              "#35b779"
             ],
             [
              0.7777777777777778,
              "#6ece58"
             ],
             [
              0.8888888888888888,
              "#b5de2b"
             ],
             [
              1,
              "#fde725"
             ]
            ],
            "type": "heatmapgl"
           }
          ],
          "histogram": [
           {
            "marker": {
             "line": {
              "color": "white",
              "width": 0.6
             }
            },
            "type": "histogram"
           }
          ],
          "histogram2d": [
           {
            "colorbar": {
             "outlinewidth": 1,
             "tickcolor": "rgb(36,36,36)",
             "ticks": "outside"
            },
            "colorscale": [
             [
              0,
              "#440154"
             ],
             [
              0.1111111111111111,
              "#482878"
             ],
             [
              0.2222222222222222,
              "#3e4989"
             ],
             [
              0.3333333333333333,
              "#31688e"
             ],
             [
              0.4444444444444444,
              "#26828e"
             ],
             [
              0.5555555555555556,
              "#1f9e89"
             ],
             [
              0.6666666666666666,
              "#35b779"
             ],
             [
              0.7777777777777778,
              "#6ece58"
             ],
             [
              0.8888888888888888,
              "#b5de2b"
             ],
             [
              1,
              "#fde725"
             ]
            ],
            "type": "histogram2d"
           }
          ],
          "histogram2dcontour": [
           {
            "colorbar": {
             "outlinewidth": 1,
             "tickcolor": "rgb(36,36,36)",
             "ticks": "outside"
            },
            "colorscale": [
             [
              0,
              "#440154"
             ],
             [
              0.1111111111111111,
              "#482878"
             ],
             [
              0.2222222222222222,
              "#3e4989"
             ],
             [
              0.3333333333333333,
              "#31688e"
             ],
             [
              0.4444444444444444,
              "#26828e"
             ],
             [
              0.5555555555555556,
              "#1f9e89"
             ],
             [
              0.6666666666666666,
              "#35b779"
             ],
             [
              0.7777777777777778,
              "#6ece58"
             ],
             [
              0.8888888888888888,
              "#b5de2b"
             ],
             [
              1,
              "#fde725"
             ]
            ],
            "type": "histogram2dcontour"
           }
          ],
          "mesh3d": [
           {
            "colorbar": {
             "outlinewidth": 1,
             "tickcolor": "rgb(36,36,36)",
             "ticks": "outside"
            },
            "type": "mesh3d"
           }
          ],
          "parcoords": [
           {
            "line": {
             "colorbar": {
              "outlinewidth": 1,
              "tickcolor": "rgb(36,36,36)",
              "ticks": "outside"
             }
            },
            "type": "parcoords"
           }
          ],
          "pie": [
           {
            "automargin": true,
            "type": "pie"
           }
          ],
          "scatter": [
           {
            "marker": {
             "colorbar": {
              "outlinewidth": 1,
              "tickcolor": "rgb(36,36,36)",
              "ticks": "outside"
             }
            },
            "type": "scatter"
           }
          ],
          "scatter3d": [
           {
            "line": {
             "colorbar": {
              "outlinewidth": 1,
              "tickcolor": "rgb(36,36,36)",
              "ticks": "outside"
             }
            },
            "marker": {
             "colorbar": {
              "outlinewidth": 1,
              "tickcolor": "rgb(36,36,36)",
              "ticks": "outside"
             }
            },
            "type": "scatter3d"
           }
          ],
          "scattercarpet": [
           {
            "marker": {
             "colorbar": {
              "outlinewidth": 1,
              "tickcolor": "rgb(36,36,36)",
              "ticks": "outside"
             }
            },
            "type": "scattercarpet"
           }
          ],
          "scattergeo": [
           {
            "marker": {
             "colorbar": {
              "outlinewidth": 1,
              "tickcolor": "rgb(36,36,36)",
              "ticks": "outside"
             }
            },
            "type": "scattergeo"
           }
          ],
          "scattergl": [
           {
            "marker": {
             "colorbar": {
              "outlinewidth": 1,
              "tickcolor": "rgb(36,36,36)",
              "ticks": "outside"
             }
            },
            "type": "scattergl"
           }
          ],
          "scattermapbox": [
           {
            "marker": {
             "colorbar": {
              "outlinewidth": 1,
              "tickcolor": "rgb(36,36,36)",
              "ticks": "outside"
             }
            },
            "type": "scattermapbox"
           }
          ],
          "scatterpolar": [
           {
            "marker": {
             "colorbar": {
              "outlinewidth": 1,
              "tickcolor": "rgb(36,36,36)",
              "ticks": "outside"
             }
            },
            "type": "scatterpolar"
           }
          ],
          "scatterpolargl": [
           {
            "marker": {
             "colorbar": {
              "outlinewidth": 1,
              "tickcolor": "rgb(36,36,36)",
              "ticks": "outside"
             }
            },
            "type": "scatterpolargl"
           }
          ],
          "scatterternary": [
           {
            "marker": {
             "colorbar": {
              "outlinewidth": 1,
              "tickcolor": "rgb(36,36,36)",
              "ticks": "outside"
             }
            },
            "type": "scatterternary"
           }
          ],
          "surface": [
           {
            "colorbar": {
             "outlinewidth": 1,
             "tickcolor": "rgb(36,36,36)",
             "ticks": "outside"
            },
            "colorscale": [
             [
              0,
              "#440154"
             ],
             [
              0.1111111111111111,
              "#482878"
             ],
             [
              0.2222222222222222,
              "#3e4989"
             ],
             [
              0.3333333333333333,
              "#31688e"
             ],
             [
              0.4444444444444444,
              "#26828e"
             ],
             [
              0.5555555555555556,
              "#1f9e89"
             ],
             [
              0.6666666666666666,
              "#35b779"
             ],
             [
              0.7777777777777778,
              "#6ece58"
             ],
             [
              0.8888888888888888,
              "#b5de2b"
             ],
             [
              1,
              "#fde725"
             ]
            ],
            "type": "surface"
           }
          ],
          "table": [
           {
            "cells": {
             "fill": {
              "color": "rgb(237,237,237)"
             },
             "line": {
              "color": "white"
             }
            },
            "header": {
             "fill": {
              "color": "rgb(217,217,217)"
             },
             "line": {
              "color": "white"
             }
            },
            "type": "table"
           }
          ]
         },
         "layout": {
          "annotationdefaults": {
           "arrowhead": 0,
           "arrowwidth": 1
          },
          "autotypenumbers": "strict",
          "coloraxis": {
           "colorbar": {
            "outlinewidth": 1,
            "tickcolor": "rgb(36,36,36)",
            "ticks": "outside"
           }
          },
          "colorscale": {
           "diverging": [
            [
             0,
             "rgb(103,0,31)"
            ],
            [
             0.1,
             "rgb(178,24,43)"
            ],
            [
             0.2,
             "rgb(214,96,77)"
            ],
            [
             0.3,
             "rgb(244,165,130)"
            ],
            [
             0.4,
             "rgb(253,219,199)"
            ],
            [
             0.5,
             "rgb(247,247,247)"
            ],
            [
             0.6,
             "rgb(209,229,240)"
            ],
            [
             0.7,
             "rgb(146,197,222)"
            ],
            [
             0.8,
             "rgb(67,147,195)"
            ],
            [
             0.9,
             "rgb(33,102,172)"
            ],
            [
             1,
             "rgb(5,48,97)"
            ]
           ],
           "sequential": [
            [
             0,
             "#440154"
            ],
            [
             0.1111111111111111,
             "#482878"
            ],
            [
             0.2222222222222222,
             "#3e4989"
            ],
            [
             0.3333333333333333,
             "#31688e"
            ],
            [
             0.4444444444444444,
             "#26828e"
            ],
            [
             0.5555555555555556,
             "#1f9e89"
            ],
            [
             0.6666666666666666,
             "#35b779"
            ],
            [
             0.7777777777777778,
             "#6ece58"
            ],
            [
             0.8888888888888888,
             "#b5de2b"
            ],
            [
             1,
             "#fde725"
            ]
           ],
           "sequentialminus": [
            [
             0,
             "#440154"
            ],
            [
             0.1111111111111111,
             "#482878"
            ],
            [
             0.2222222222222222,
             "#3e4989"
            ],
            [
             0.3333333333333333,
             "#31688e"
            ],
            [
             0.4444444444444444,
             "#26828e"
            ],
            [
             0.5555555555555556,
             "#1f9e89"
            ],
            [
             0.6666666666666666,
             "#35b779"
            ],
            [
             0.7777777777777778,
             "#6ece58"
            ],
            [
             0.8888888888888888,
             "#b5de2b"
            ],
            [
             1,
             "#fde725"
            ]
           ]
          },
          "colorway": [
           "#1F77B4",
           "#FF7F0E",
           "#2CA02C",
           "#D62728",
           "#9467BD",
           "#8C564B",
           "#E377C2",
           "#7F7F7F",
           "#BCBD22",
           "#17BECF"
          ],
          "font": {
           "color": "rgb(36,36,36)"
          },
          "geo": {
           "bgcolor": "white",
           "lakecolor": "white",
           "landcolor": "white",
           "showlakes": true,
           "showland": true,
           "subunitcolor": "white"
          },
          "hoverlabel": {
           "align": "left"
          },
          "hovermode": "closest",
          "mapbox": {
           "style": "light"
          },
          "paper_bgcolor": "white",
          "plot_bgcolor": "white",
          "polar": {
           "angularaxis": {
            "gridcolor": "rgb(232,232,232)",
            "linecolor": "rgb(36,36,36)",
            "showgrid": false,
            "showline": true,
            "ticks": "outside"
           },
           "bgcolor": "white",
           "radialaxis": {
            "gridcolor": "rgb(232,232,232)",
            "linecolor": "rgb(36,36,36)",
            "showgrid": false,
            "showline": true,
            "ticks": "outside"
           }
          },
          "scene": {
           "xaxis": {
            "backgroundcolor": "white",
            "gridcolor": "rgb(232,232,232)",
            "gridwidth": 2,
            "linecolor": "rgb(36,36,36)",
            "showbackground": true,
            "showgrid": false,
            "showline": true,
            "ticks": "outside",
            "zeroline": false,
            "zerolinecolor": "rgb(36,36,36)"
           },
           "yaxis": {
            "backgroundcolor": "white",
            "gridcolor": "rgb(232,232,232)",
            "gridwidth": 2,
            "linecolor": "rgb(36,36,36)",
            "showbackground": true,
            "showgrid": false,
            "showline": true,
            "ticks": "outside",
            "zeroline": false,
            "zerolinecolor": "rgb(36,36,36)"
           },
           "zaxis": {
            "backgroundcolor": "white",
            "gridcolor": "rgb(232,232,232)",
            "gridwidth": 2,
            "linecolor": "rgb(36,36,36)",
            "showbackground": true,
            "showgrid": false,
            "showline": true,
            "ticks": "outside",
            "zeroline": false,
            "zerolinecolor": "rgb(36,36,36)"
           }
          },
          "shapedefaults": {
           "fillcolor": "black",
           "line": {
            "width": 0
           },
           "opacity": 0.3
          },
          "ternary": {
           "aaxis": {
            "gridcolor": "rgb(232,232,232)",
            "linecolor": "rgb(36,36,36)",
            "showgrid": false,
            "showline": true,
            "ticks": "outside"
           },
           "baxis": {
            "gridcolor": "rgb(232,232,232)",
            "linecolor": "rgb(36,36,36)",
            "showgrid": false,
            "showline": true,
            "ticks": "outside"
           },
           "bgcolor": "white",
           "caxis": {
            "gridcolor": "rgb(232,232,232)",
            "linecolor": "rgb(36,36,36)",
            "showgrid": false,
            "showline": true,
            "ticks": "outside"
           }
          },
          "title": {
           "x": 0.05
          },
          "xaxis": {
           "automargin": true,
           "gridcolor": "rgb(232,232,232)",
           "linecolor": "rgb(36,36,36)",
           "showgrid": false,
           "showline": true,
           "ticks": "outside",
           "title": {
            "standoff": 15
           },
           "zeroline": false,
           "zerolinecolor": "rgb(36,36,36)"
          },
          "yaxis": {
           "automargin": true,
           "gridcolor": "rgb(232,232,232)",
           "linecolor": "rgb(36,36,36)",
           "showgrid": false,
           "showline": true,
           "ticks": "outside",
           "title": {
            "standoff": 15
           },
           "zeroline": false,
           "zerolinecolor": "rgb(36,36,36)"
          }
         }
        },
        "title": {
         "text": "Test of Carbonate Correction"
        },
        "xaxis": {
         "title": {
          "text": "Experimental dGf (eV/atom)"
         }
        },
        "yaxis": {
         "title": {
          "text": "Calculated dGf (eV/atom)"
         }
        }
       }
      },
      "text/html": [
       "<div>                            <div id=\"15897e47-599b-43ad-81f1-4ed9f0feb802\" class=\"plotly-graph-div\" style=\"height:525px; width:100%;\"></div>            <script type=\"text/javascript\">                require([\"plotly\"], function(Plotly) {                    window.PLOTLYENV=window.PLOTLYENV || {};                                    if (document.getElementById(\"15897e47-599b-43ad-81f1-4ed9f0feb802\")) {                    Plotly.newPlot(                        \"15897e47-599b-43ad-81f1-4ed9f0feb802\",                        [{\"hovertemplate\":\"<b>%{hovertext}</b><br><br>name=Ag2CO3<br>x=%{x}<br>y=%{y}<extra></extra>\",\"hovertext\":[\"Ag2CO3\"],\"legendgroup\":\"Ag2CO3\",\"marker\":{\"color\":\"#1F77B4\",\"symbol\":\"circle\"},\"mode\":\"markers\",\"name\":\"Ag2CO3\",\"orientation\":\"v\",\"showlegend\":true,\"x\":[-0.753915123353763],\"xaxis\":\"x\",\"y\":[-0.8143715563192221],\"yaxis\":\"y\",\"type\":\"scatter\"},{\"hovertemplate\":\"<b>%{hovertext}</b><br><br>name=BaCO3<br>x=%{x}<br>y=%{y}<extra></extra>\",\"hovertext\":[\"BaCO3\"],\"legendgroup\":\"BaCO3\",\"marker\":{\"color\":\"#FF7F0E\",\"symbol\":\"diamond\"},\"mode\":\"markers\",\"name\":\"BaCO3\",\"orientation\":\"v\",\"showlegend\":true,\"x\":[-2.345862145732135],\"xaxis\":\"x\",\"y\":[-2.3580590382157056],\"yaxis\":\"y\",\"type\":\"scatter\"},{\"hovertemplate\":\"<b>%{hovertext}</b><br><br>name=CaCO3<br>x=%{x}<br>y=%{y}<extra></extra>\",\"hovertext\":[\"CaCO3\"],\"legendgroup\":\"CaCO3\",\"marker\":{\"color\":\"#2CA02C\",\"symbol\":\"square\"},\"mode\":\"markers\",\"name\":\"CaCO3\",\"orientation\":\"v\",\"showlegend\":true,\"x\":[-2.339404559623463],\"xaxis\":\"x\",\"y\":[-2.360322067166322],\"yaxis\":\"y\",\"type\":\"scatter\"},{\"hovertemplate\":\"<b>%{hovertext}</b><br><br>name=CdCO3<br>x=%{x}<br>y=%{y}<extra></extra>\",\"hovertext\":[\"CdCO3\"],\"legendgroup\":\"CdCO3\",\"marker\":{\"color\":\"#D62728\",\"symbol\":\"x\"},\"mode\":\"markers\",\"name\":\"CdCO3\",\"orientation\":\"v\",\"showlegend\":true,\"x\":[-1.4037995471420561],\"xaxis\":\"x\",\"y\":[-1.428838369530472],\"yaxis\":\"y\",\"type\":\"scatter\"},{\"hovertemplate\":\"<b>%{hovertext}</b><br><br>name=Cs2CO3<br>x=%{x}<br>y=%{y}<extra></extra>\",\"hovertext\":[\"Cs2CO3\"],\"legendgroup\":\"Cs2CO3\",\"marker\":{\"color\":\"#9467BD\",\"symbol\":\"cross\"},\"mode\":\"markers\",\"name\":\"Cs2CO3\",\"orientation\":\"v\",\"showlegend\":true,\"x\":[-1.815688604547293],\"xaxis\":\"x\",\"y\":[-1.7731819505276256],\"yaxis\":\"y\",\"type\":\"scatter\"},{\"hovertemplate\":\"<b>%{hovertext}</b><br><br>name=FeCO3<br>x=%{x}<br>y=%{y}<extra></extra>\",\"hovertext\":[\"FeCO3\"],\"legendgroup\":\"FeCO3\",\"marker\":{\"color\":\"#8C564B\",\"symbol\":\"circle\"},\"mode\":\"markers\",\"name\":\"FeCO3\",\"orientation\":\"v\",\"showlegend\":true,\"x\":[-1.3858394453788605],\"xaxis\":\"x\",\"y\":[-1.4605548169691922],\"yaxis\":\"y\",\"type\":\"scatter\"},{\"hovertemplate\":\"<b>%{hovertext}</b><br><br>name=K2CO3<br>x=%{x}<br>y=%{y}<extra></extra>\",\"hovertext\":[\"K2CO3\"],\"legendgroup\":\"K2CO3\",\"marker\":{\"color\":\"#E377C2\",\"symbol\":\"diamond\"},\"mode\":\"markers\",\"name\":\"K2CO3\",\"orientation\":\"v\",\"showlegend\":true,\"x\":[-1.838006279490757],\"xaxis\":\"x\",\"y\":[-1.8240555215128038],\"yaxis\":\"y\",\"type\":\"scatter\"},{\"hovertemplate\":\"<b>%{hovertext}</b><br><br>name=Li2CO3<br>x=%{x}<br>y=%{y}<extra></extra>\",\"hovertext\":[\"Li2CO3\"],\"legendgroup\":\"Li2CO3\",\"marker\":{\"color\":\"#7F7F7F\",\"symbol\":\"square\"},\"mode\":\"markers\",\"name\":\"Li2CO3\",\"orientation\":\"v\",\"showlegend\":true,\"x\":[-1.954773104492821],\"xaxis\":\"x\",\"y\":[-1.9547722974994588],\"yaxis\":\"y\",\"type\":\"scatter\"},{\"hovertemplate\":\"<b>%{hovertext}</b><br><br>name=MgCO3<br>x=%{x}<br>y=%{y}<extra></extra>\",\"hovertext\":[\"MgCO3\"],\"legendgroup\":\"MgCO3\",\"marker\":{\"color\":\"#BCBD22\",\"symbol\":\"x\"},\"mode\":\"markers\",\"name\":\"MgCO3\",\"orientation\":\"v\",\"showlegend\":true,\"x\":[-2.132654770906602],\"xaxis\":\"x\",\"y\":[-2.109272241474303],\"yaxis\":\"y\",\"type\":\"scatter\"},{\"hovertemplate\":\"<b>%{hovertext}</b><br><br>name=MnCO3<br>x=%{x}<br>y=%{y}<extra></extra>\",\"hovertext\":[\"MnCO3\"],\"legendgroup\":\"MnCO3\",\"marker\":{\"color\":\"#17BECF\",\"symbol\":\"cross\"},\"mode\":\"markers\",\"name\":\"MnCO3\",\"orientation\":\"v\",\"showlegend\":true,\"x\":[-1.6897375176750464],\"xaxis\":\"x\",\"y\":[-1.683776480060477],\"yaxis\":\"y\",\"type\":\"scatter\"},{\"hovertemplate\":\"<b>%{hovertext}</b><br><br>name=Na2CO3<br>x=%{x}<br>y=%{y}<extra></extra>\",\"hovertext\":[\"Na2CO3\"],\"legendgroup\":\"Na2CO3\",\"marker\":{\"color\":\"#1F77B4\",\"symbol\":\"circle\"},\"mode\":\"markers\",\"name\":\"Na2CO3\",\"orientation\":\"v\",\"showlegend\":true,\"x\":[-1.809422296425902],\"xaxis\":\"x\",\"y\":[-1.777788989550052],\"yaxis\":\"y\",\"type\":\"scatter\"},{\"hovertemplate\":\"<b>%{hovertext}</b><br><br>name=PbCO3<br>x=%{x}<br>y=%{y}<extra></extra>\",\"hovertext\":[\"PbCO3\"],\"legendgroup\":\"PbCO3\",\"marker\":{\"color\":\"#FF7F0E\",\"symbol\":\"diamond\"},\"mode\":\"markers\",\"name\":\"PbCO3\",\"orientation\":\"v\",\"showlegend\":true,\"x\":[-1.3029126269633322],\"xaxis\":\"x\",\"y\":[-1.476366997443397],\"yaxis\":\"y\",\"type\":\"scatter\"},{\"hovertemplate\":\"<b>%{hovertext}</b><br><br>name=Rb2CO3<br>x=%{x}<br>y=%{y}<extra></extra>\",\"hovertext\":[\"Rb2CO3\"],\"legendgroup\":\"Rb2CO3\",\"marker\":{\"color\":\"#2CA02C\",\"symbol\":\"square\"},\"mode\":\"markers\",\"name\":\"Rb2CO3\",\"orientation\":\"v\",\"showlegend\":true,\"x\":[-1.8287227331514482],\"xaxis\":\"x\",\"y\":[-1.789659514565895],\"yaxis\":\"y\",\"type\":\"scatter\"},{\"hovertemplate\":\"<b>%{hovertext}</b><br><br>name=SrCO3<br>x=%{x}<br>y=%{y}<extra></extra>\",\"hovertext\":[\"SrCO3\"],\"legendgroup\":\"SrCO3\",\"marker\":{\"color\":\"#D62728\",\"symbol\":\"x\"},\"mode\":\"markers\",\"name\":\"SrCO3\",\"orientation\":\"v\",\"showlegend\":true,\"x\":[-2.3592673676165794],\"xaxis\":\"x\",\"y\":[-2.3688819802848915],\"yaxis\":\"y\",\"type\":\"scatter\"},{\"hovertemplate\":\"<b>%{hovertext}</b><br><br>name=ZnCO3<br>x=%{x}<br>y=%{y}<extra></extra>\",\"hovertext\":[\"ZnCO3\"],\"legendgroup\":\"ZnCO3\",\"marker\":{\"color\":\"#9467BD\",\"symbol\":\"cross\"},\"mode\":\"markers\",\"name\":\"ZnCO3\",\"orientation\":\"v\",\"showlegend\":true,\"x\":[-1.5200959209722835],\"xaxis\":\"x\",\"y\":[-1.4830749586710161],\"yaxis\":\"y\",\"type\":\"scatter\"},{\"hovertemplate\":\"x=%{x}<br>y=%{y}<extra></extra>\",\"legendgroup\":\"\",\"line\":{\"color\":\"#1F77B4\",\"dash\":\"solid\"},\"marker\":{\"symbol\":\"circle\"},\"mode\":\"lines\",\"name\":\"\",\"orientation\":\"v\",\"showlegend\":false,\"x\":[-2.75,-0.75],\"xaxis\":\"x\",\"y\":[-2.75,-0.75],\"yaxis\":\"y\",\"type\":\"scatter\"}],                        {\"template\":{\"data\":{\"bar\":[{\"error_x\":{\"color\":\"rgb(36,36,36)\"},\"error_y\":{\"color\":\"rgb(36,36,36)\"},\"marker\":{\"line\":{\"color\":\"white\",\"width\":0.5},\"pattern\":{\"fillmode\":\"overlay\",\"size\":10,\"solidity\":0.2}},\"type\":\"bar\"}],\"barpolar\":[{\"marker\":{\"line\":{\"color\":\"white\",\"width\":0.5},\"pattern\":{\"fillmode\":\"overlay\",\"size\":10,\"solidity\":0.2}},\"type\":\"barpolar\"}],\"carpet\":[{\"aaxis\":{\"endlinecolor\":\"rgb(36,36,36)\",\"gridcolor\":\"white\",\"linecolor\":\"white\",\"minorgridcolor\":\"white\",\"startlinecolor\":\"rgb(36,36,36)\"},\"baxis\":{\"endlinecolor\":\"rgb(36,36,36)\",\"gridcolor\":\"white\",\"linecolor\":\"white\",\"minorgridcolor\":\"white\",\"startlinecolor\":\"rgb(36,36,36)\"},\"type\":\"carpet\"}],\"choropleth\":[{\"colorbar\":{\"outlinewidth\":1,\"tickcolor\":\"rgb(36,36,36)\",\"ticks\":\"outside\"},\"type\":\"choropleth\"}],\"contour\":[{\"colorbar\":{\"outlinewidth\":1,\"tickcolor\":\"rgb(36,36,36)\",\"ticks\":\"outside\"},\"colorscale\":[[0.0,\"#440154\"],[0.1111111111111111,\"#482878\"],[0.2222222222222222,\"#3e4989\"],[0.3333333333333333,\"#31688e\"],[0.4444444444444444,\"#26828e\"],[0.5555555555555556,\"#1f9e89\"],[0.6666666666666666,\"#35b779\"],[0.7777777777777778,\"#6ece58\"],[0.8888888888888888,\"#b5de2b\"],[1.0,\"#fde725\"]],\"type\":\"contour\"}],\"contourcarpet\":[{\"colorbar\":{\"outlinewidth\":1,\"tickcolor\":\"rgb(36,36,36)\",\"ticks\":\"outside\"},\"type\":\"contourcarpet\"}],\"heatmap\":[{\"colorbar\":{\"outlinewidth\":1,\"tickcolor\":\"rgb(36,36,36)\",\"ticks\":\"outside\"},\"colorscale\":[[0.0,\"#440154\"],[0.1111111111111111,\"#482878\"],[0.2222222222222222,\"#3e4989\"],[0.3333333333333333,\"#31688e\"],[0.4444444444444444,\"#26828e\"],[0.5555555555555556,\"#1f9e89\"],[0.6666666666666666,\"#35b779\"],[0.7777777777777778,\"#6ece58\"],[0.8888888888888888,\"#b5de2b\"],[1.0,\"#fde725\"]],\"type\":\"heatmap\"}],\"heatmapgl\":[{\"colorbar\":{\"outlinewidth\":1,\"tickcolor\":\"rgb(36,36,36)\",\"ticks\":\"outside\"},\"colorscale\":[[0.0,\"#440154\"],[0.1111111111111111,\"#482878\"],[0.2222222222222222,\"#3e4989\"],[0.3333333333333333,\"#31688e\"],[0.4444444444444444,\"#26828e\"],[0.5555555555555556,\"#1f9e89\"],[0.6666666666666666,\"#35b779\"],[0.7777777777777778,\"#6ece58\"],[0.8888888888888888,\"#b5de2b\"],[1.0,\"#fde725\"]],\"type\":\"heatmapgl\"}],\"histogram\":[{\"marker\":{\"line\":{\"color\":\"white\",\"width\":0.6}},\"type\":\"histogram\"}],\"histogram2d\":[{\"colorbar\":{\"outlinewidth\":1,\"tickcolor\":\"rgb(36,36,36)\",\"ticks\":\"outside\"},\"colorscale\":[[0.0,\"#440154\"],[0.1111111111111111,\"#482878\"],[0.2222222222222222,\"#3e4989\"],[0.3333333333333333,\"#31688e\"],[0.4444444444444444,\"#26828e\"],[0.5555555555555556,\"#1f9e89\"],[0.6666666666666666,\"#35b779\"],[0.7777777777777778,\"#6ece58\"],[0.8888888888888888,\"#b5de2b\"],[1.0,\"#fde725\"]],\"type\":\"histogram2d\"}],\"histogram2dcontour\":[{\"colorbar\":{\"outlinewidth\":1,\"tickcolor\":\"rgb(36,36,36)\",\"ticks\":\"outside\"},\"colorscale\":[[0.0,\"#440154\"],[0.1111111111111111,\"#482878\"],[0.2222222222222222,\"#3e4989\"],[0.3333333333333333,\"#31688e\"],[0.4444444444444444,\"#26828e\"],[0.5555555555555556,\"#1f9e89\"],[0.6666666666666666,\"#35b779\"],[0.7777777777777778,\"#6ece58\"],[0.8888888888888888,\"#b5de2b\"],[1.0,\"#fde725\"]],\"type\":\"histogram2dcontour\"}],\"mesh3d\":[{\"colorbar\":{\"outlinewidth\":1,\"tickcolor\":\"rgb(36,36,36)\",\"ticks\":\"outside\"},\"type\":\"mesh3d\"}],\"parcoords\":[{\"line\":{\"colorbar\":{\"outlinewidth\":1,\"tickcolor\":\"rgb(36,36,36)\",\"ticks\":\"outside\"}},\"type\":\"parcoords\"}],\"pie\":[{\"automargin\":true,\"type\":\"pie\"}],\"scatter\":[{\"marker\":{\"colorbar\":{\"outlinewidth\":1,\"tickcolor\":\"rgb(36,36,36)\",\"ticks\":\"outside\"}},\"type\":\"scatter\"}],\"scatter3d\":[{\"line\":{\"colorbar\":{\"outlinewidth\":1,\"tickcolor\":\"rgb(36,36,36)\",\"ticks\":\"outside\"}},\"marker\":{\"colorbar\":{\"outlinewidth\":1,\"tickcolor\":\"rgb(36,36,36)\",\"ticks\":\"outside\"}},\"type\":\"scatter3d\"}],\"scattercarpet\":[{\"marker\":{\"colorbar\":{\"outlinewidth\":1,\"tickcolor\":\"rgb(36,36,36)\",\"ticks\":\"outside\"}},\"type\":\"scattercarpet\"}],\"scattergeo\":[{\"marker\":{\"colorbar\":{\"outlinewidth\":1,\"tickcolor\":\"rgb(36,36,36)\",\"ticks\":\"outside\"}},\"type\":\"scattergeo\"}],\"scattergl\":[{\"marker\":{\"colorbar\":{\"outlinewidth\":1,\"tickcolor\":\"rgb(36,36,36)\",\"ticks\":\"outside\"}},\"type\":\"scattergl\"}],\"scattermapbox\":[{\"marker\":{\"colorbar\":{\"outlinewidth\":1,\"tickcolor\":\"rgb(36,36,36)\",\"ticks\":\"outside\"}},\"type\":\"scattermapbox\"}],\"scatterpolar\":[{\"marker\":{\"colorbar\":{\"outlinewidth\":1,\"tickcolor\":\"rgb(36,36,36)\",\"ticks\":\"outside\"}},\"type\":\"scatterpolar\"}],\"scatterpolargl\":[{\"marker\":{\"colorbar\":{\"outlinewidth\":1,\"tickcolor\":\"rgb(36,36,36)\",\"ticks\":\"outside\"}},\"type\":\"scatterpolargl\"}],\"scatterternary\":[{\"marker\":{\"colorbar\":{\"outlinewidth\":1,\"tickcolor\":\"rgb(36,36,36)\",\"ticks\":\"outside\"}},\"type\":\"scatterternary\"}],\"surface\":[{\"colorbar\":{\"outlinewidth\":1,\"tickcolor\":\"rgb(36,36,36)\",\"ticks\":\"outside\"},\"colorscale\":[[0.0,\"#440154\"],[0.1111111111111111,\"#482878\"],[0.2222222222222222,\"#3e4989\"],[0.3333333333333333,\"#31688e\"],[0.4444444444444444,\"#26828e\"],[0.5555555555555556,\"#1f9e89\"],[0.6666666666666666,\"#35b779\"],[0.7777777777777778,\"#6ece58\"],[0.8888888888888888,\"#b5de2b\"],[1.0,\"#fde725\"]],\"type\":\"surface\"}],\"table\":[{\"cells\":{\"fill\":{\"color\":\"rgb(237,237,237)\"},\"line\":{\"color\":\"white\"}},\"header\":{\"fill\":{\"color\":\"rgb(217,217,217)\"},\"line\":{\"color\":\"white\"}},\"type\":\"table\"}]},\"layout\":{\"annotationdefaults\":{\"arrowhead\":0,\"arrowwidth\":1},\"autotypenumbers\":\"strict\",\"coloraxis\":{\"colorbar\":{\"outlinewidth\":1,\"tickcolor\":\"rgb(36,36,36)\",\"ticks\":\"outside\"}},\"colorscale\":{\"diverging\":[[0.0,\"rgb(103,0,31)\"],[0.1,\"rgb(178,24,43)\"],[0.2,\"rgb(214,96,77)\"],[0.3,\"rgb(244,165,130)\"],[0.4,\"rgb(253,219,199)\"],[0.5,\"rgb(247,247,247)\"],[0.6,\"rgb(209,229,240)\"],[0.7,\"rgb(146,197,222)\"],[0.8,\"rgb(67,147,195)\"],[0.9,\"rgb(33,102,172)\"],[1.0,\"rgb(5,48,97)\"]],\"sequential\":[[0.0,\"#440154\"],[0.1111111111111111,\"#482878\"],[0.2222222222222222,\"#3e4989\"],[0.3333333333333333,\"#31688e\"],[0.4444444444444444,\"#26828e\"],[0.5555555555555556,\"#1f9e89\"],[0.6666666666666666,\"#35b779\"],[0.7777777777777778,\"#6ece58\"],[0.8888888888888888,\"#b5de2b\"],[1.0,\"#fde725\"]],\"sequentialminus\":[[0.0,\"#440154\"],[0.1111111111111111,\"#482878\"],[0.2222222222222222,\"#3e4989\"],[0.3333333333333333,\"#31688e\"],[0.4444444444444444,\"#26828e\"],[0.5555555555555556,\"#1f9e89\"],[0.6666666666666666,\"#35b779\"],[0.7777777777777778,\"#6ece58\"],[0.8888888888888888,\"#b5de2b\"],[1.0,\"#fde725\"]]},\"colorway\":[\"#1F77B4\",\"#FF7F0E\",\"#2CA02C\",\"#D62728\",\"#9467BD\",\"#8C564B\",\"#E377C2\",\"#7F7F7F\",\"#BCBD22\",\"#17BECF\"],\"font\":{\"color\":\"rgb(36,36,36)\"},\"geo\":{\"bgcolor\":\"white\",\"lakecolor\":\"white\",\"landcolor\":\"white\",\"showlakes\":true,\"showland\":true,\"subunitcolor\":\"white\"},\"hoverlabel\":{\"align\":\"left\"},\"hovermode\":\"closest\",\"mapbox\":{\"style\":\"light\"},\"paper_bgcolor\":\"white\",\"plot_bgcolor\":\"white\",\"polar\":{\"angularaxis\":{\"gridcolor\":\"rgb(232,232,232)\",\"linecolor\":\"rgb(36,36,36)\",\"showgrid\":false,\"showline\":true,\"ticks\":\"outside\"},\"bgcolor\":\"white\",\"radialaxis\":{\"gridcolor\":\"rgb(232,232,232)\",\"linecolor\":\"rgb(36,36,36)\",\"showgrid\":false,\"showline\":true,\"ticks\":\"outside\"}},\"scene\":{\"xaxis\":{\"backgroundcolor\":\"white\",\"gridcolor\":\"rgb(232,232,232)\",\"gridwidth\":2,\"linecolor\":\"rgb(36,36,36)\",\"showbackground\":true,\"showgrid\":false,\"showline\":true,\"ticks\":\"outside\",\"zeroline\":false,\"zerolinecolor\":\"rgb(36,36,36)\"},\"yaxis\":{\"backgroundcolor\":\"white\",\"gridcolor\":\"rgb(232,232,232)\",\"gridwidth\":2,\"linecolor\":\"rgb(36,36,36)\",\"showbackground\":true,\"showgrid\":false,\"showline\":true,\"ticks\":\"outside\",\"zeroline\":false,\"zerolinecolor\":\"rgb(36,36,36)\"},\"zaxis\":{\"backgroundcolor\":\"white\",\"gridcolor\":\"rgb(232,232,232)\",\"gridwidth\":2,\"linecolor\":\"rgb(36,36,36)\",\"showbackground\":true,\"showgrid\":false,\"showline\":true,\"ticks\":\"outside\",\"zeroline\":false,\"zerolinecolor\":\"rgb(36,36,36)\"}},\"shapedefaults\":{\"fillcolor\":\"black\",\"line\":{\"width\":0},\"opacity\":0.3},\"ternary\":{\"aaxis\":{\"gridcolor\":\"rgb(232,232,232)\",\"linecolor\":\"rgb(36,36,36)\",\"showgrid\":false,\"showline\":true,\"ticks\":\"outside\"},\"baxis\":{\"gridcolor\":\"rgb(232,232,232)\",\"linecolor\":\"rgb(36,36,36)\",\"showgrid\":false,\"showline\":true,\"ticks\":\"outside\"},\"bgcolor\":\"white\",\"caxis\":{\"gridcolor\":\"rgb(232,232,232)\",\"linecolor\":\"rgb(36,36,36)\",\"showgrid\":false,\"showline\":true,\"ticks\":\"outside\"}},\"title\":{\"x\":0.05},\"xaxis\":{\"automargin\":true,\"gridcolor\":\"rgb(232,232,232)\",\"linecolor\":\"rgb(36,36,36)\",\"showgrid\":false,\"showline\":true,\"ticks\":\"outside\",\"title\":{\"standoff\":15},\"zeroline\":false,\"zerolinecolor\":\"rgb(36,36,36)\"},\"yaxis\":{\"automargin\":true,\"gridcolor\":\"rgb(232,232,232)\",\"linecolor\":\"rgb(36,36,36)\",\"showgrid\":false,\"showline\":true,\"ticks\":\"outside\",\"title\":{\"standoff\":15},\"zeroline\":false,\"zerolinecolor\":\"rgb(36,36,36)\"}}},\"title\":{\"text\":\"Test of Carbonate Correction\"},\"xaxis\":{\"title\":{\"text\":\"Experimental dGf (eV/atom)\"}},\"yaxis\":{\"title\":{\"text\":\"Calculated dGf (eV/atom)\"}}},                        {\"responsive\": true}                    ).then(function(){\n",
       "                            \n",
       "var gd = document.getElementById('15897e47-599b-43ad-81f1-4ed9f0feb802');\n",
       "var x = new MutationObserver(function (mutations, observer) {{\n",
       "        var display = window.getComputedStyle(gd).display;\n",
       "        if (!display || display === 'none') {{\n",
       "            console.log([gd, 'removed!']);\n",
       "            Plotly.purge(gd);\n",
       "            observer.disconnect();\n",
       "        }}\n",
       "}});\n",
       "\n",
       "// Listen for the removal of the full notebook cells\n",
       "var notebookContainer = gd.closest('#notebook-container');\n",
       "if (notebookContainer) {{\n",
       "    x.observe(notebookContainer, {childList: true});\n",
       "}}\n",
       "\n",
       "// Listen for the clearing of the current output cell\n",
       "var outputEl = gd.closest('.output');\n",
       "if (outputEl) {{\n",
       "    x.observe(outputEl, {childList: true});\n",
       "}}\n",
       "\n",
       "                        })                };                });            </script>        </div>"
      ]
     },
     "metadata": {},
     "output_type": "display_data"
    }
   ],
   "source": [
    "energies_calc = []\n",
    "energies_exp = []\n",
    "names = []\n",
    "\n",
    "for e_exp, e_calc in zip(exp_entries, mp_entries):\n",
    "    energy_exp = e_exp.energy_per_atom\n",
    "    energy_calc = e_calc.energy_per_atom\n",
    "    name = e_calc.composition.reduced_formula\n",
    "    \n",
    "    energies_exp.append(energy_exp)\n",
    "    energies_calc.append(energy_calc)\n",
    "    names.append(name)\n",
    "    \n",
    "df = pandas.DataFrame({\"x\":energies_exp, \"y\":energies_calc, \"name\":names})\n",
    "\n",
    "scatter = px.scatter(df, x=\"x\", y=\"y\", hover_name=\"name\", symbol=\"name\", color=\"name\")\n",
    "line = px.line(x=[-2.75, -0.75], y=[-2.75, -0.75])\n",
    "\n",
    "fig = go.Figure(scatter.data + line.data)\n",
    "fig.update_layout({\"title\": \"Test of Carbonate Correction\",\n",
    "                   \"xaxis_title\":\"Experimental dGf (eV/atom)\",\n",
    "                   \"yaxis_title\":\"Calculated dGf (eV/atom)\"})\n",
    "fig.show()"
   ]
  }
 ],
 "metadata": {
  "kernelspec": {
   "display_name": "Python 3 (ipykernel)",
   "language": "python",
   "name": "python3"
  },
  "language_info": {
   "codemirror_mode": {
    "name": "ipython",
    "version": 3
   },
   "file_extension": ".py",
   "mimetype": "text/x-python",
   "name": "python",
   "nbconvert_exporter": "python",
   "pygments_lexer": "ipython3",
   "version": "3.9.10"
  }
 },
 "nbformat": 4,
 "nbformat_minor": 5
}
