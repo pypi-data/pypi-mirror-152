{
 "cells": [
  {
   "cell_type": "markdown",
   "id": "8bb1cfc6",
   "metadata": {},
   "source": [
    "# Roman ETC Tools\n",
    "\n",
    "This notebook is to demonstrate options for streamlining the use of the exposure-time calculator (ETC) written for the *Nancy Grace Roman Space Telescope* (Roman) called ```pandeia``` (see [pandeia homepage](https://jwst-docs.stsci.edu/jwst-exposure-time-calculator-overview/jwst-etc-pandeia-engine-tutorial)).  The primary code ```pandeia.engine``` primarly takes two inputs: (1) an instrumental set up and (2) a scene of astronomical sources and produces an output dictionary (see [pandeia reports](https://jwst-docs.stsci.edu/jwst-exposure-time-calculator-overview/jwst-etc-pandeia-engine-tutorial/pandeia-reports)). Importantly, the output dictionary contains the best estimate for several key predictions: the signal-to-noise (S/N), exposure time, and expected flux (in e-/s).  However, some users may find that computing S/N is not quite what is needed, but rather would prefer to tweak the properties of the instrumental set up and/or astronomical scene for a specified S/N.\n",
    "\n",
    "\n",
    "\n",
    "**Author:** Russell Ryan  \n",
    "**Date:** May 23, 2022  \n",
    "**Editor:** Sebastian Gomez, Tyler Desjardins, Andreea Petric\n",
    "\n",
    "This notebook was written with these key packages and version numbers:\n",
    "\n",
    "| package        | version |\n",
    "| -------------- | ------- |\n",
    "| pandeia.engine | 1.7.1   |\n",
    "| scipy          | 1.7.1   |\n",
    "| numpy          | 1.21.1  |\n"
   ]
  },
  {
   "cell_type": "markdown",
   "id": "ed1284f1",
   "metadata": {},
   "source": [
    "\n",
    "## Primary Functions\n",
    "\n",
    "As eluded to above, there are three relevant \"quantities\" in an ETC (something that emulates exposure time, source brightness, and signal-to-noise), and the point of this suite is to compute any one of these quantities, given the other two.  As such, there are primarily three functions that users will likely use:\n",
    "\n",
    "1. ```soc_roman_tools.utilities.pandeia_notebook.compute_sn```\n",
    "2. ```soc_roman_tools.utilities.pandeia_notebook.compute_mag```\n",
    "3. ```soc_roman_tools.utilities.pandeia_notebook.compute_nexp```\n",
    "\n",
    "**An Aside on Roman/WFI Exposure Times:** The Roman/WFI employs a non-destrcutive, up-the-ramp sampling method, wherein the exposure time is determined from the combination of the readout pattern and number of groups and exposures.  For the purposes of this notebook, we hold the number of groups defaulted as ```ngroup```=10, therefore the number of exposures ```nexp``` is the tunable parameter that govens exposure time.  \n",
    "\n",
    "\n",
    "\n",
    "\n",
    "\n",
    "## Function Inputs\n",
    "\n",
    "The inputs to every function are largely the same, parameter(s) governing the instrumental setup and astronomical sources.  Full details of these functions are included in the ```soc_roman_tools.utilities.pandeia_notebook.py``` file, but in brief they are:\n",
    "\n",
    "### Instrumental Setup\n",
    "\n",
    "- **background:** low sky background, see [Pandeia Backgrounds](https://jwst-docs.stsci.edu/jwst-exposure-time-calculator-overview/jwst-etc-pandeia-engine-tutorial/pandeia-backgrounds) for more information on the background models and fiducial levels.\n",
    "- **measurement aperture:** $r=0.2''$ with sky annulus of $0.6''<r<0.8''$\n",
    "- **detector readout:** the current expectation for running the Roman/WFI is that there will be a single integration (hence ```nint```=1), and the user is free to alter the value of ```ngroup``` (but is defaulted to 10).  However, one should not reduce ```ngroup``` below ~4 as the assumptions on the first-frame property and readnoise become dominant.  For more information on the detector readouts, please see the [Understanding Exposure Times](https://jwst-docs.stsci.edu/understanding-exposure-times) article in the JWST documentation.\n",
    "\n",
    "Therefore, the key tunable parameter is taken to be ```nexp```, which must always be an integer.\n",
    "\n",
    "\n",
    "### Astronomical Scene\n",
    "\n",
    "- **spatial morphology:** point source\n",
    "- **spectral morphology:** $f_\\nu = $ constant\n",
    "- **magnitude system:** AB \n",
    "\n",
    "With that, there is only one tunable parameter: the normalization constant of the spectrum, which is set as an AB magnitude normalization.  Therefore, the wavelength and \"type\" of normalization does not matter, but are defaulted as 2.0 $\\mu$m and ```at_lambda```, respectively.  Therefore, the AB magnitude as ```norm_flux``` is the parameter that governs the astronomical scene.\n",
    "\n",
    "\n",
    "## Function Outputs\n",
    "\n",
    "Each of the primary three functions returns two quantities: (1) the quantity of interest and (2) the output dictionary from ```pandeia.engine``` (the details of this dictionary are given in the [pandeia reports](https://jwst-docs.stsci.edu/jwst-exposure-time-calculator-overview/jwst-etc-pandeia-engine-tutorial/pandeia-reports)).  This notebook will not delve into this dictionary, but rather use only the quantities of interest.\n"
   ]
  },
  {
   "cell_type": "code",
   "execution_count": null,
   "id": "36269219",
   "metadata": {},
   "outputs": [],
   "source": [
    "# load the important modules\n",
    "import os\n",
    "from soc_roman_tools.utilities import pandeia_notebook\n",
    "\n",
    "# print the version of the reference data and code base:\n",
    "\n",
    "print('path to reference files: '+os.environ['pandeia_refdata'])\n",
    "for k,v in pandeia_notebook.pandeia_version().items():\n",
    "    print(f'{k:>23}:',v)"
   ]
  },
  {
   "cell_type": "markdown",
   "id": "6b4b6e31",
   "metadata": {},
   "source": [
    "## Set the Filter\n",
    "This notebook works for the imaging modes, and so the options for the filter are: ```f062```, ```f087```, ```f106```, ```f129```, ```f146```, ```f158```, ```f184```, ```f213``` \n",
    "\n"
   ]
  },
  {
   "cell_type": "code",
   "execution_count": null,
   "id": "c2f86693",
   "metadata": {},
   "outputs": [],
   "source": [
    "# show the valid filters:\n",
    "print(pandeia_notebook.VALID_FILTERS)\n",
    "\n",
    "# set the global variable for the filter name (change to any valid filter)\n",
    "FILTER = 'f129'"
   ]
  },
  {
   "cell_type": "markdown",
   "id": "e875a615",
   "metadata": {},
   "source": [
    "## Option 1: Compute S/N\n",
    "\n",
    "This is largely the standard way of running ```pandeia```, where the properties of the instrumental set up and astronomical scene are specified.  ***This step may generate a WARNING from synphot that the spectrum is extrapolated, which can be safely ignored.***\n"
   ]
  },
  {
   "cell_type": "code",
   "execution_count": null,
   "id": "d6761056",
   "metadata": {},
   "outputs": [],
   "source": [
    "mag = 25.0    # assumed magnitude\n",
    "nexp = 3      # number of exposures\n",
    "sn, etc = pandeia_notebook.compute_sn(FILTER, mag, nexp)\n",
    "print(f'Estimated S/N: {sn:.2f}')"
   ]
  },
  {
   "cell_type": "markdown",
   "id": "440f2d48",
   "metadata": {},
   "source": [
    "## Option 2: Compute magnitude\n",
    "In this example, we assume one has a required signal-to-noise and a fixed number of exposures (hence exposure time), and is interested in knowing what magnitude limit they can achieve with this setup."
   ]
  },
  {
   "cell_type": "code",
   "execution_count": null,
   "id": "753de9ff",
   "metadata": {},
   "outputs": [],
   "source": [
    "sn = 5.     # required S/N\n",
    "nexp = 10   # number of exposures to simulate\n",
    "mag, etc = pandeia_notebook.compute_mag(FILTER, sn, nexp)\n",
    "print(f'Estimated magnitude: {mag:.2f}')"
   ]
  },
  {
   "cell_type": "markdown",
   "id": "cbec562f",
   "metadata": {},
   "source": [
    "## Option 3: Compute Nexp\n",
    "In this example, we assume one has a required signal-to-noise and desired magnitude limit, and wishes to know the number of exposures required to achieve this setup. ***This step may generate a WARNING from synphot that the spectrum is extrapolated, which can be safely ignored. There may be an additional WARNING that the S/N for a single exposure is larger than what was requested, which can be ignored.***\n",
    "\n",
    "*Nota bene: Since nexp must be an integer, the actual S/N will be at least the required value. This is most pronounced for when the infered nexp is small (ie. bright sources and/or very high S/N).  These effects will be demonstrated.*"
   ]
  },
  {
   "cell_type": "code",
   "execution_count": null,
   "id": "c27a4d1f",
   "metadata": {},
   "outputs": [],
   "source": [
    "# first consider a bright source with high S/N\n",
    "mag = 24.\n",
    "sn = 20.\n",
    "nexp, etc = pandeia_notebook.compute_nexp(FILTER, sn, mag)\n",
    "\n",
    "# Given this setup, only 1 exposure will be needed.  But looking in the etc report, we see that the \n",
    "# actual S/N achieved by this exceeds the required amount.\n",
    "print(f'number of exposures: {nexp}')\n",
    "print(f'actual S/N reached: {etc[\"scalar\"][\"sn\"]:.2f}')"
   ]
  },
  {
   "cell_type": "code",
   "execution_count": null,
   "id": "0535a94f",
   "metadata": {},
   "outputs": [],
   "source": [
    "# do it again, but now with a setting that will require multiple nexp\n",
    "# this will now be much slower than the previous, as it requires iteration.  the pervious example\n",
    "# short circuits the calculation by first testing if >1 exposure is needed.\n",
    "mag = 28.\n",
    "sn = 6.\n",
    "nexp, etc = pandeia_notebook.compute_nexp(FILTER, sn, mag)\n",
    "print(f'number of exposures: {nexp}')\n",
    "print(f'actual S/N reached: {etc[\"scalar\"][\"sn\"]:.2f}')"
   ]
  },
  {
   "cell_type": "markdown",
   "id": "92a897ad",
   "metadata": {},
   "source": [
    "## Other Examples\n",
    "\n"
   ]
  },
  {
   "cell_type": "markdown",
   "id": "daaa6654",
   "metadata": {},
   "source": [
    "### Round-Trip Example\n",
    "In the preceeding, we showed how there are (essentially) three relevant quantities in the ETC (magnitude, signal-to-noise, and number of exposures), and given any two of these the third can be inferred.  Here we show that these calculations can be done in a *round-trip* fashion, so that the package is self consistent."
   ]
  },
  {
   "cell_type": "code",
   "execution_count": null,
   "id": "cb834be1",
   "metadata": {},
   "outputs": [],
   "source": [
    "# first assume option 1 and compute signal-to-noise\n",
    "mag0 = 24.\n",
    "nexp0 = 10\n",
    "sn, etc = pandeia_notebook.compute_sn(FILTER,mag0,nexp0)\n",
    "\n",
    "# now take that S/N and nexp to compute the magnitude, which should be equal to mag0 (by construction)\n",
    "mag1, etc = pandeia_notebook.compute_mag(FILTER,sn,nexp0)\n",
    "\n",
    "# final step, take this magnitude and previously inferred S/N and compute number of exposures, which again, \n",
    "# should be equal to the nexp0 (by construction)\n",
    "nexp1, etc = pandeia_notebook.compute_nexp(FILTER,sn,mag1)\n",
    "\n",
    "print(f'Input magnitude: {mag0:.2f}')\n",
    "print(f'Inferred magnitude: {mag1:.2f}')\n",
    "print(f'Input nexp: {nexp0}')\n",
    "print(f'Inferred nexp: {nexp1}')"
   ]
  },
  {
   "cell_type": "markdown",
   "id": "4d1f19f8",
   "metadata": {},
   "source": [
    "### Change Defaults to Pandeia\n",
    "\n",
    "Above, we assumed a default setting in the ```pandeia_notebook.DEFAULTS```, but these can be set as optional arguments to any of the three primary functions in ```pandeia_notebook```."
   ]
  },
  {
   "cell_type": "code",
   "execution_count": null,
   "id": "7b654a2d",
   "metadata": {},
   "outputs": [],
   "source": [
    "# show the defaults:\n",
    "for k,v in pandeia_notebook.DEFAULTS.items():\n",
    "    print(f'{k:>28}: {v}')"
   ]
  },
  {
   "cell_type": "code",
   "execution_count": null,
   "id": "9b6c404b",
   "metadata": {},
   "outputs": [],
   "source": [
    "# let's change one of the inputs to see how Pandeia reacts\n",
    "mag = 25.0    # assumed magnitude\n",
    "nexp = 3      # number of exposures\n",
    "sn_def, etc = pandeia_notebook.compute_sn(FILTER, mag, nexp)\n",
    "sn_new, etc = pandeia_notebook.compute_sn(FILTER, mag, nexp,ngroup=4)\n",
    "\n",
    "# now the new S/N should be a lesser value than the original, as reducing the number of groups leads to \n",
    "# less exposure time and hence lower S/N\n",
    "print(f'Default ngroup S/N: {sn_def:.2f}')\n",
    "print(f'Reduced ngroup S/N: {sn_new:.2f}')"
   ]
  },
  {
   "cell_type": "code",
   "execution_count": null,
   "id": "8ff2997a",
   "metadata": {},
   "outputs": [],
   "source": [
    "# perhaps another change the aperture\n",
    "sn_new, etc = pandeia_notebook.compute_sn(FILTER, mag, nexp,aperture_size=0.4)\n",
    "print(f'Larger source aperture S/N: {sn_new:.2f}')\n",
    "\n",
    "# perhaps increase the sky background\n",
    "sn_new, etc = pandeia_notebook.compute_sn(FILTER, mag, nexp,background_level='high')\n",
    "print(f'Increased sky background S/N: {sn_new:.2f}')"
   ]
  }
 ],
 "metadata": {
  "kernelspec": {
   "display_name": "Python 3 (ipykernel)",
   "language": "python",
   "name": "python3"
  },
  "language_info": {
   "codemirror_mode": {
    "name": "ipython",
    "version": 3
   },
   "file_extension": ".py",
   "mimetype": "text/x-python",
   "name": "python",
   "nbconvert_exporter": "python",
   "pygments_lexer": "ipython3",
   "version": "3.9.12"
  }
 },
 "nbformat": 4,
 "nbformat_minor": 5
}
