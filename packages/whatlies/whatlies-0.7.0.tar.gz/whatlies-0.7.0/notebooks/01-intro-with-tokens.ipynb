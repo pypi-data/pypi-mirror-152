{
 "cells": [
  {
   "cell_type": "markdown",
   "metadata": {},
   "source": [
    "In this document we hope to demonstrate some of the basic plotting techniques. It helps to explain everything in 2d first, so this document will limit itself to that."
   ]
  },
  {
   "cell_type": "code",
   "execution_count": null,
   "metadata": {},
   "outputs": [],
   "source": [
    "%load_ext autoreload\n",
    "%autoreload 2"
   ]
  },
  {
   "cell_type": "code",
   "execution_count": null,
   "metadata": {},
   "outputs": [],
   "source": [
    "import matplotlib.pylab as plt\n",
    "plt.rcParams[\"figure.figsize\"] = (6, 6)"
   ]
  },
  {
   "cell_type": "markdown",
   "metadata": {},
   "source": [
    "## Imaginary Tokens\n",
    "\n",
    "Let's make a few word-embeddings. The basic object for this is a `Token` object."
   ]
  },
  {
   "cell_type": "code",
   "execution_count": null,
   "metadata": {},
   "outputs": [],
   "source": [
    "from whatlies import Embedding\n",
    "\n",
    "foo = Embedding(\"foo\", [0.5, 0.1]) \n",
    "bar = Embedding(\"bar\", [0.1, 0.2])\n",
    "buz = Embedding(\"buz\", [0.3, 0.3])"
   ]
  },
  {
   "cell_type": "markdown",
   "metadata": {},
   "source": [
    "We can combine these wordembeddings."
   ]
  },
  {
   "cell_type": "markdown",
   "metadata": {},
   "source": [
    "These tokens have a representation."
   ]
  },
  {
   "cell_type": "code",
   "execution_count": null,
   "metadata": {},
   "outputs": [],
   "source": [
    "foo"
   ]
  },
  {
   "cell_type": "markdown",
   "metadata": {},
   "source": [
    "But this representation changes when we apply operations to it."
   ]
  },
  {
   "cell_type": "code",
   "execution_count": null,
   "metadata": {},
   "outputs": [],
   "source": [
    "foo | (bar - buz)"
   ]
  },
  {
   "cell_type": "markdown",
   "metadata": {},
   "source": [
    "The internal vector also changes."
   ]
  },
  {
   "cell_type": "code",
   "execution_count": null,
   "metadata": {},
   "outputs": [],
   "source": [
    "foo.vector, (foo | (bar - buz)).vector"
   ]
  },
  {
   "cell_type": "markdown",
   "metadata": {},
   "source": [
    "But why read text when we can plot?"
   ]
  },
  {
   "cell_type": "code",
   "execution_count": null,
   "metadata": {},
   "outputs": [],
   "source": [
    "for t in [foo, bar, buz]:\n",
    "    t.plot(kind=\"scatter\").plot(kind=\"text\");"
   ]
  },
  {
   "cell_type": "markdown",
   "metadata": {},
   "source": [
    "## Meaning\n",
    "\n",
    "Let's come up with imaginary embeddings for `man`, `woman`, `king` and `queen`. \n",
    "\n",
    "We will plot them using the `arrow` plotting type."
   ]
  },
  {
   "cell_type": "code",
   "execution_count": null,
   "metadata": {},
   "outputs": [],
   "source": [
    "man   = Embedding(\"man\", [0.5, 0.1])\n",
    "woman = Embedding(\"woman\", [0.5, 0.6])\n",
    "king  = Embedding(\"king\", [0.7, 0.33])\n",
    "queen = Embedding(\"queen\", [0.7, 0.9])\n",
    "\n",
    "man.plot(kind=\"arrow\", color=\"blue\")\n",
    "woman.plot(kind=\"arrow\", color=\"red\")\n",
    "king.plot(kind=\"arrow\", color=\"blue\")\n",
    "queen.plot(kind=\"arrow\", color=\"red\")\n",
    "plt.axis('off');"
   ]
  },
  {
   "cell_type": "markdown",
   "metadata": {},
   "source": [
    "### King - Man + Woman\n",
    "\n",
    "We can confirm the classic approximation that everybody likes to mention."
   ]
  },
  {
   "cell_type": "code",
   "execution_count": null,
   "metadata": {},
   "outputs": [],
   "source": [
    "man.plot(kind=\"arrow\", color=\"blue\")\n",
    "woman.plot(kind=\"arrow\", color=\"red\")\n",
    "king.plot(kind=\"arrow\", color=\"blue\")\n",
    "queen.plot(kind=\"arrow\", color=\"red\")\n",
    "\n",
    "(king - man + woman).plot(kind=\"arrow\", color=\"pink\")\n",
    "\n",
    "plt.axis('off');"
   ]
  },
  {
   "cell_type": "markdown",
   "metadata": {},
   "source": [
    "### King - Queen\n",
    "\n",
    "But maybe I am interested in the vector that spans between `queen` and `king`. I'll use the `-` operator here to indicate the connection between the two tokens. \n",
    "\n",
    "> Notice the poetry there... "
   ]
  },
  {
   "cell_type": "code",
   "execution_count": null,
   "metadata": {},
   "outputs": [],
   "source": [
    "man.plot(kind=\"arrow\", color=\"blue\")\n",
    "woman.plot(kind=\"arrow\", color=\"red\")\n",
    "king.plot(kind=\"arrow\", color=\"blue\")\n",
    "queen.plot(kind=\"arrow\", color=\"red\")\n",
    "(queen - king).plot(kind=\"arrow\", color=\"pink\", show_ops=True)\n",
    "plt.axis('off');"
   ]
  },
  {
   "cell_type": "markdown",
   "metadata": {},
   "source": [
    "### Man | (Queen - King)\n",
    "\n",
    "But that space `queen-king` ... we can also filter all that information out of our words. Linear algebra would call this \"making it orthogonal\". The `|` operator makes sense here."
   ]
  },
  {
   "cell_type": "code",
   "execution_count": null,
   "metadata": {},
   "outputs": [],
   "source": [
    "man.plot(kind=\"arrow\", color=\"blue\")\n",
    "woman.plot(kind=\"arrow\", color=\"red\")\n",
    "king.plot(kind=\"arrow\", color=\"blue\")\n",
    "queen.plot(kind=\"arrow\", color=\"red\")\n",
    "\n",
    "(queen - king).plot(kind=\"arrow\", color=\"pink\", show_ops=True)\n",
    "(man | (queen - king)).plot(kind=\"arrow\", color=\"pink\", show_ops=True)\n",
    "plt.axis('off');"
   ]
  },
  {
   "cell_type": "markdown",
   "metadata": {},
   "source": [
    "## Token Mathmatics"
   ]
  },
  {
   "cell_type": "markdown",
   "metadata": {},
   "source": [
    "This is interesting. We have our original tokens and can filter away the `(man-woman)` axis. By doing this we get \"new\" embeddings with different properties. Numerically we can confirm in our example that this new space maps `Token(man)` to be very similar to `Token(woman)`."
   ]
  },
  {
   "cell_type": "code",
   "execution_count": null,
   "metadata": {},
   "outputs": [],
   "source": [
    "(man | (queen - king)).vector, (woman | (queen - king)).vector"
   ]
  },
  {
   "cell_type": "markdown",
   "metadata": {},
   "source": [
    "Same for `Token(queen)` and `Token(king)` if we filter away the `(man-woman)` axis."
   ]
  },
  {
   "cell_type": "code",
   "execution_count": null,
   "metadata": {},
   "outputs": [],
   "source": [
    "(queen | (man - woman)).vector, (king | (man - woman)).vector"
   ]
  },
  {
   "cell_type": "markdown",
   "metadata": {},
   "source": [
    "But tokens are messy to handle, can't we do this for embeddings in general? "
   ]
  }
 ],
 "metadata": {
  "kernelspec": {
   "display_name": "Python 3",
   "language": "python",
   "name": "python3"
  },
  "language_info": {
   "codemirror_mode": {
    "name": "ipython",
    "version": 3
   },
   "file_extension": ".py",
   "mimetype": "text/x-python",
   "name": "python",
   "nbconvert_exporter": "python",
   "pygments_lexer": "ipython3",
   "version": "3.7.3"
  }
 },
 "nbformat": 4,
 "nbformat_minor": 4
}
