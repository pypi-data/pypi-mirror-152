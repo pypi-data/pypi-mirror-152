{
 "cells": [
  {
   "cell_type": "code",
   "execution_count": null,
   "metadata": {},
   "outputs": [],
   "source": [
    "%load_ext autoreload\n",
    "%autoreload 2"
   ]
  },
  {
   "cell_type": "code",
   "execution_count": null,
   "metadata": {},
   "outputs": [],
   "source": [
    "from whatlies import Embedding, EmbeddingSet\n",
    "from whatlies.transformers import Pca, Umap\n",
    "import spacy "
   ]
  },
  {
   "cell_type": "markdown",
   "metadata": {},
   "source": [
    "## Making Plots ... More Cool \n",
    "\n",
    "The `Embedding` object merely has support for matplotlib, but the `EmbeddingSet` has support for Altair too! You can plot this interactively by just passing the names of the tokens you'd like to see."
   ]
  },
  {
   "cell_type": "code",
   "execution_count": null,
   "metadata": {},
   "outputs": [],
   "source": [
    "nlp = spacy.load(\"en_core_web_sm\")\n",
    "words = [\"prince\", \"princess\", \"nurse\", \"doctor\", \"banker\", \"man\", \"woman\", \n",
    "         \"cousin\", \"neice\", \"king\", \"queen\", \"dude\", \"guy\", \"gal\", \"fire\", \n",
    "         \"dog\", \"cat\", \"mouse\", \"red\", \"bluee\", \"green\", \"yellow\", \"water\", \n",
    "         \"person\", \"family\", \"brother\", \"sister\"]\n",
    "emb = EmbeddingSet({t.text: Embedding(t.text, t.vector) for t in nlp.pipe(words)})"
   ]
  },
  {
   "cell_type": "code",
   "execution_count": null,
   "metadata": {},
   "outputs": [],
   "source": [
    "orig_chart = emb.plot_interactive('man', 'woman')\n",
    "orig_chart"
   ]
  },
  {
   "cell_type": "code",
   "execution_count": null,
   "metadata": {},
   "outputs": [],
   "source": [
    "new_ts = emb | (emb['king'] - emb['queen'])\n",
    "new_chart = new_ts.plot_interactive('man', 'woman')"
   ]
  },
  {
   "cell_type": "markdown",
   "metadata": {},
   "source": [
    "Note that altair has a convenient syntax for plotting two charts next to eachother. This is really cool when you want to compare. Feel free to zoom in and play as well!"
   ]
  },
  {
   "cell_type": "code",
   "execution_count": null,
   "metadata": {},
   "outputs": [],
   "source": [
    "orig_chart | new_chart"
   ]
  },
  {
   "cell_type": "markdown",
   "metadata": {},
   "source": [
    "The charts that we output here are from the Altair library. This means that you can, among other things, customise the size if you prefer."
   ]
  },
  {
   "cell_type": "code",
   "execution_count": null,
   "metadata": {},
   "outputs": [],
   "source": [
    "s = 250\n",
    "(orig_chart.properties(width=s, height=s) | new_chart.properties(width=s, height=s))"
   ]
  },
  {
   "cell_type": "markdown",
   "metadata": {},
   "source": [
    "This idea of adding steps as a pipeline is pretty neat tho. You can also add operators from before. "
   ]
  },
  {
   "cell_type": "code",
   "execution_count": null,
   "metadata": {},
   "outputs": [],
   "source": [
    "emb.transform(lambda e: e | (e[\"man\"] - e[\"woman\"])).transform(Pca(2))"
   ]
  },
  {
   "cell_type": "markdown",
   "metadata": {},
   "source": [
    "## Transformations\n",
    "\n",
    "There's something extra too. Sofar we're been mapping vectors unto other ones in order to plot them. But theoretically we could go a step further."
   ]
  },
  {
   "cell_type": "code",
   "execution_count": null,
   "metadata": {},
   "outputs": [],
   "source": [
    "orig_chart = emb.plot_interactive('man', 'woman')\n",
    "pca_emb = emb.transform(Pca(2))\n",
    "umap_emb = emb.transform(Umap(2))\n",
    "\n",
    "pca_emb.plot_interactive('pca_0', 'pca_1') | umap_emb.plot_interactive('umap_0', 'umap_1')"
   ]
  },
  {
   "cell_type": "markdown",
   "metadata": {},
   "source": [
    "Note that we can increase the number of components and still only plot a few. "
   ]
  },
  {
   "cell_type": "code",
   "execution_count": null,
   "metadata": {},
   "outputs": [],
   "source": [
    "pca_emb = emb.transform(Pca(3))\n",
    "\n",
    "pca_emb.plot_interactive('pca_0', 'pca_1').properties(width=s, height=s) | pca_emb.plot_interactive('pca_2', 'pca_1').properties(width=s, height=s)"
   ]
  },
  {
   "cell_type": "markdown",
   "metadata": {},
   "source": [
    "But why go with only two plots when you can have an entire matrix? "
   ]
  },
  {
   "cell_type": "code",
   "execution_count": null,
   "metadata": {},
   "outputs": [],
   "source": [
    "pca_emb.plot_interactive_matrix('pca_0', 'pca_1', 'pca_2')"
   ]
  },
  {
   "cell_type": "markdown",
   "metadata": {},
   "source": [
    "What is particularily interesting here is the pca axes. They seem to encode information and can we attempt an understanding by glancing at it.\n",
    "\n",
    "But the overlap makes it hard to read. So let's apply one more transformation here."
   ]
  },
  {
   "cell_type": "code",
   "execution_count": null,
   "metadata": {},
   "outputs": [],
   "source": [
    "from whatlies.transformers import Noise \n",
    "\n",
    "(emb\n",
    " .transform(Pca(3))\n",
    " .transform(Noise(2))\n",
    " .plot_interactive_matrix('king', 'queen', 'man', 'woman', annot=True, width=200, height=200))"
   ]
  },
  {
   "cell_type": "markdown",
   "metadata": {},
   "source": [
    "Note that we also offer the ability to add a few random embeddings. This can be a useful sanity check."
   ]
  },
  {
   "cell_type": "code",
   "execution_count": null,
   "metadata": {},
   "outputs": [],
   "source": [
    "from whatlies.transformers import AddRandom\n",
    "\n",
    "(emb\n",
    " .transform(AddRandom(n=10, sigma=0.1))\n",
    " .transform(Pca(2))\n",
    " .plot_interactive_matrix('pca_0', 'pca_1', annot=True, width=200, height=200))"
   ]
  }
 ],
 "metadata": {
  "kernelspec": {
   "display_name": "Python 3",
   "language": "python",
   "name": "python3"
  },
  "language_info": {
   "codemirror_mode": {
    "name": "ipython",
    "version": 3
   },
   "file_extension": ".py",
   "mimetype": "text/x-python",
   "name": "python",
   "nbconvert_exporter": "python",
   "pygments_lexer": "ipython3",
   "version": "3.7.3"
  }
 },
 "nbformat": 4,
 "nbformat_minor": 4
}
