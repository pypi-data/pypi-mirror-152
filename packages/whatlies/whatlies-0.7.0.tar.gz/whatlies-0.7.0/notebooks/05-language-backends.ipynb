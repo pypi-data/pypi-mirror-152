{
 "cells": [
  {
   "cell_type": "markdown",
   "metadata": {},
   "source": [
    "This is a placeholder on how to select backends.\n",
    "\n",
    "We'd like to have a `Language` object that behaves like a lazy-`EmbeddingSet`. It might have features like \"select closest\" but it should also allow you to easily select different models. \n",
    "\n",
    "Think; \n",
    "\n",
    "```\n",
    "Language.from_spacy(\"en\")\n",
    "Language.from_spacy(\"en_trf_robertabase_lg\") <- transformer style! \n",
    "Language.from_gensim(\"glove\")\n",
    "Language.from_rasa_model(\"<path-to-model>\")\n",
    "```"
   ]
  },
  {
   "cell_type": "code",
   "execution_count": null,
   "metadata": {},
   "outputs": [],
   "source": [
    "%load_ext autoreload\n",
    "%autoreload 2"
   ]
  },
  {
   "cell_type": "code",
   "execution_count": null,
   "metadata": {},
   "outputs": [],
   "source": [
    "from whatlies.language import Sense2VecLanguage"
   ]
  },
  {
   "cell_type": "code",
   "execution_count": null,
   "metadata": {},
   "outputs": [],
   "source": [
    "lang = Sense2VecLanguage(\"../s2v_old/\")"
   ]
  },
  {
   "cell_type": "code",
   "execution_count": null,
   "metadata": {},
   "outputs": [],
   "source": [
    "emb1 = lang.embset_similar(\"bank|VERB\")\n",
    "emb2 = lang.embset_similar(\"bank|NOUN\")"
   ]
  },
  {
   "cell_type": "code",
   "execution_count": null,
   "metadata": {},
   "outputs": [],
   "source": [
    "lang.embset_similar(\"bank|NOUN\")"
   ]
  },
  {
   "cell_type": "code",
   "execution_count": null,
   "metadata": {},
   "outputs": [],
   "source": [
    "from whatlies.transformers import pca, umap\n",
    "\n",
    "words = [\"bank|NOUN\", \"bank|VERB\", \"duck|NOUN\", \"duck|VERB\", \"dog|NOUN\", \"cat|NOUN\", \"jump|VERB\", \"run|VERB\"]"
   ]
  },
  {
   "cell_type": "code",
   "execution_count": null,
   "metadata": {},
   "outputs": [],
   "source": [
    "words = [\"bank|NOUN\", \"bank|VERB\", \"duck|NOUN\", \"duck|VERB\", \n",
    "         \"dog|NOUN\", \"cat|NOUN\", \"jump|VERB\", \"run|VERB\", \n",
    "         \"chicken|NOUN\", \"puppy|NOUN\", \"kitten|NOUN\", \"carrot|NOUN\"]\n",
    "\n",
    "emb = lang[words]"
   ]
  },
  {
   "cell_type": "code",
   "execution_count": null,
   "metadata": {},
   "outputs": [],
   "source": [
    "from whatlies.embeddingset import EmbeddingSet\n",
    "\n",
    "(emb\n",
    " .merge(lang.embset_similar(\"bank|VERB\"))\n",
    " .merge(lang.embset_similar(\"bank|NOUN\"))\n",
    " .transform(pca(2))\n",
    " .plot_interactive(\"pca_0\", \"pca_1\"))"
   ]
  },
  {
   "cell_type": "code",
   "execution_count": null,
   "metadata": {},
   "outputs": [],
   "source": [
    "s = 200\n",
    "p1 = emb.plot_interactive(emb[\"dog|NOUN\"], emb[\"jump|VERB\"]).properties(width=s, height=s)\n",
    "p2 = emb.transform(pca(2)).plot_interactive(\"pca_0\", \"pca_1\").properties(width=s, height=s)\n",
    "p1 | p2"
   ]
  },
  {
   "cell_type": "code",
   "execution_count": null,
   "metadata": {},
   "outputs": [],
   "source": [
    "lang.embset_similar(\"bank|VERB\")"
   ]
  },
  {
   "cell_type": "code",
   "execution_count": null,
   "metadata": {},
   "outputs": [],
   "source": [
    "lang.score_similar(\"rhcp|NOUN\")"
   ]
  }
 ],
 "metadata": {
  "kernelspec": {
   "display_name": "Python 3",
   "language": "python",
   "name": "python3"
  },
  "language_info": {
   "codemirror_mode": {
    "name": "ipython",
    "version": 3
   },
   "file_extension": ".py",
   "mimetype": "text/x-python",
   "name": "python",
   "nbconvert_exporter": "python",
   "pygments_lexer": "ipython3",
   "version": "3.7.3"
  }
 },
 "nbformat": 4,
 "nbformat_minor": 4
}
