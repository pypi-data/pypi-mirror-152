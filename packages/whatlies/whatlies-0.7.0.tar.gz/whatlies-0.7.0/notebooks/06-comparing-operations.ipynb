{
 "cells": [
  {
   "cell_type": "code",
   "execution_count": null,
   "metadata": {},
   "outputs": [],
   "source": [
    "%load_ext autoreload\n",
    "%autoreload 2"
   ]
  },
  {
   "cell_type": "code",
   "execution_count": null,
   "metadata": {},
   "outputs": [],
   "source": [
    "from whatlies import Embedding, EmbeddingSet\n",
    "from whatlies.language import SpacyLanguage"
   ]
  },
  {
   "cell_type": "code",
   "execution_count": null,
   "metadata": {},
   "outputs": [],
   "source": [
    "lang = SpacyLanguage('en_core_web_sm')\n",
    "\n",
    "words1 = [\"dog\", \"cat\", \"mouse\", \"deer\", \"elephant\", \"zebra\", \"fish\", \"rabbit\", \"rat\", \n",
    "          \"tomato\", \"banana\", \"coffee\", \"tea\", \"apple\", \"union\"]\n",
    "\n",
    "words2 = [\"run\", \"swim\", \"dance\", \"sit\", \"eat\", \"hear\", \"look\", \"run\", \"stand\"]"
   ]
  },
  {
   "cell_type": "markdown",
   "metadata": {},
   "source": [
    "## Stateful Transformations\n",
    "\n",
    "Many transformations that we offer carry state. The first time they are applied they learn from the data that they see, but they can be re-used afterwards.\n",
    "\n",
    "Let's show a quick example below."
   ]
  },
  {
   "cell_type": "code",
   "execution_count": null,
   "metadata": {},
   "outputs": [],
   "source": [
    "from whatlies.transformers import Pca, Umap"
   ]
  },
  {
   "cell_type": "code",
   "execution_count": null,
   "metadata": {},
   "outputs": [],
   "source": [
    "pca = Pca(2)\n",
    "\n",
    "emb1 = lang[words1].transform(pca)\n",
    "emb2 = lang[words2].transform(pca)\n",
    "\n",
    "p1 = emb1.plot_interactive('pca_0', 'pca_1', )\n",
    "p2 = emb2.plot_interactive('pca_0', 'pca_1', )\n",
    "\n",
    "p1 | p2"
   ]
  },
  {
   "cell_type": "markdown",
   "metadata": {},
   "source": [
    "### Out of Scope Detection\n",
    "\n",
    "We can improve this flow of working though. We can add properties to embeddings that can be used for plotting.\n",
    "\n",
    "To demonstrate this we're going to train UMAP on one set and then we'll apply it on another one. \n",
    "\n",
    "A clearer example might be to demonstrate `Umap`. We will train it on one set but apply it on both. "
   ]
  },
  {
   "cell_type": "code",
   "execution_count": null,
   "metadata": {},
   "outputs": [],
   "source": [
    "umap = Umap(2)\n",
    "\n",
    "emb1 = lang[words1].transform(umap).add_property('set', lambda d: 'set-one')\n",
    "emb2 = lang[words2].transform(umap).add_property('set', lambda d: 'set-two')\n",
    "both = emb1.merge(emb2)\n",
    "\n",
    "both.plot_interactive('umap_0', 'umap_1', color='set').properties(width=400, height=400)"
   ]
  },
  {
   "cell_type": "code",
   "execution_count": null,
   "metadata": {},
   "outputs": [],
   "source": [
    "# import pathlib"
   ]
  },
  {
   "cell_type": "code",
   "execution_count": null,
   "metadata": {},
   "outputs": [],
   "source": [
    "# texts = [t.lower() for t in pathlib.Path(\"untitled.txt\").read_text().split(\"\\n\")]"
   ]
  },
  {
   "cell_type": "markdown",
   "metadata": {},
   "source": [
    "The plot demonstrates a tendency to place words that are out of scope on the outside."
   ]
  },
  {
   "cell_type": "code",
   "execution_count": null,
   "metadata": {},
   "outputs": [],
   "source": [
    "# emb = lang[texts]"
   ]
  },
  {
   "cell_type": "code",
   "execution_count": null,
   "metadata": {},
   "outputs": [],
   "source": [
    "# umap = Umap(2)\n",
    "\n",
    "# emb_sara = emb.transform(umap).add_property('set', lambda d: 'set-sara')\n",
    "# emb_other = lang[words1 + words2].transform(umap).add_property('set', lambda d: 'set-other')\n",
    "\n",
    "# together = emb_sara.merge(emb_other)\n",
    "# together.plot_interactive('umap_0', 'umap_1', color='set', annot=False).properties(width=700, height=700)"
   ]
  },
  {
   "cell_type": "code",
   "execution_count": null,
   "metadata": {},
   "outputs": [],
   "source": []
  }
 ],
 "metadata": {
  "kernelspec": {
   "display_name": "Python 3",
   "language": "python",
   "name": "python3"
  },
  "language_info": {
   "codemirror_mode": {
    "name": "ipython",
    "version": 3
   },
   "file_extension": ".py",
   "mimetype": "text/x-python",
   "name": "python",
   "nbconvert_exporter": "python",
   "pygments_lexer": "ipython3",
   "version": "3.7.3"
  }
 },
 "nbformat": 4,
 "nbformat_minor": 4
}
