{
 "cells": [
  {
   "cell_type": "code",
   "execution_count": 1,
   "id": "1e52cf73-acd0-4973-914b-2a14a33cba74",
   "metadata": {},
   "outputs": [],
   "source": [
    "\"\"\"main wrapper for IPC safety stock reset\"\"\"\n",
    "import sys\n",
    "import datetime\n",
    "import time\n",
    "import re\n",
    "import os"
   ]
  },
  {
   "cell_type": "code",
   "execution_count": 2,
   "id": "9263ecc3-e726-4f14-bad1-69c468dbbcfd",
   "metadata": {},
   "outputs": [],
   "source": [
    "# To add path so that we can improt zeno_etl_libs from local folder\n",
    "sys.path.append('../../../..')"
   ]
  },
  {
   "cell_type": "code",
   "execution_count": 3,
   "id": "f3777bed-f191-4d5d-9b6d-bfbfa9af162f",
   "metadata": {},
   "outputs": [],
   "source": [
    "from zeno_etl_libs.helper.run_notebook import run_notebook"
   ]
  },
  {
   "cell_type": "code",
   "execution_count": 4,
   "id": "967b79bd-db31-445d-bfdc-4cb664a9419e",
   "metadata": {},
   "outputs": [],
   "source": [
    "base = \"/\".join(os.getcwd().split(\"/\")[:-2])"
   ]
  },
  {
   "cell_type": "code",
   "execution_count": 5,
   "id": "5d16f837-0283-48a6-8730-9d84b5499276",
   "metadata": {},
   "outputs": [],
   "source": [
    "output_path = base + \"/run/logs\""
   ]
  },
  {
   "cell_type": "code",
   "execution_count": 20,
   "id": "f2155d94-1f7f-471e-9519-24a917c0891f",
   "metadata": {},
   "outputs": [
    {
     "data": {
      "text/plain": [
       "'./drug_std_info-2022-05-26-12-30-42.ipynb'"
      ]
     },
     "execution_count": 20,
     "metadata": {},
     "output_type": "execute_result"
    }
   ],
   "source": [
    "run_notebook.download_notebook(job_name=\"prod-drug-std-info-2022-05-26-12-30-42\")"
   ]
  },
  {
   "cell_type": "code",
   "execution_count": null,
   "id": "9d0b01e2-a54c-4a2d-88ed-2a4ccec8f7ea",
   "metadata": {},
   "outputs": [],
   "source": []
  }
 ],
 "metadata": {
  "kernelspec": {
   "display_name": "Python 3 (ipykernel)",
   "language": "python",
   "name": "python3"
  },
  "language_info": {
   "codemirror_mode": {
    "name": "ipython",
    "version": 3
   },
   "file_extension": ".py",
   "mimetype": "text/x-python",
   "name": "python",
   "nbconvert_exporter": "python",
   "pygments_lexer": "ipython3",
   "version": "3.8.13"
  }
 },
 "nbformat": 4,
 "nbformat_minor": 5
}
